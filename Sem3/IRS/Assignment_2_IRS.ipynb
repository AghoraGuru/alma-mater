{
  "cells": [
    {
      "cell_type": "markdown",
      "id": "c3a2e26b",
      "metadata": {
        "id": "c3a2e26b"
      },
      "source": [
        "Question 1"
      ]
    },
    {
      "cell_type": "code",
      "execution_count": 2,
      "id": "mInGeXFMjKI5",
      "metadata": {
        "colab": {
          "base_uri": "https://localhost:8080/"
        },
        "id": "mInGeXFMjKI5",
        "outputId": "59d6a712-c7a2-4829-c3a0-c58bf0a0e146"
      },
      "outputs": [
        {
          "name": "stdout",
          "output_type": "stream",
          "text": [
            "Looking in indexes: https://pypi.org/simple, https://us-python.pkg.dev/colab-wheels/public/simple/\n",
            "Collecting roboticstoolbox-python\n",
            "  Downloading roboticstoolbox_python-1.0.3-cp38-cp38-manylinux_2_17_x86_64.manylinux2014_x86_64.whl (13.0 MB)\n",
            "\u001b[2K     \u001b[90m━━━━━━━━━━━━━━━━━━━━━━━━━━━━━━━━━━━━━━━━\u001b[0m \u001b[32m13.0/13.0 MB\u001b[0m \u001b[31m6.4 MB/s\u001b[0m eta \u001b[36m0:00:00\u001b[0m\n",
            "\u001b[?25hCollecting ansitable\n",
            "  Downloading ansitable-0.9.7-py3-none-any.whl (14 kB)\n",
            "Requirement already satisfied: numpy>=1.17.4 in /usr/local/lib/python3.8/dist-packages (from roboticstoolbox-python) (1.21.6)\n",
            "Collecting spatialgeometry~=1.0.0\n",
            "  Downloading spatialgeometry-1.0.3-cp38-cp38-manylinux_2_5_x86_64.manylinux1_x86_64.manylinux_2_17_x86_64.manylinux2014_x86_64.whl (1.5 MB)\n",
            "\u001b[2K     \u001b[90m━━━━━━━━━━━━━━━━━━━━━━━━━━━━━━━━━━━━━━━━\u001b[0m \u001b[32m1.5/1.5 MB\u001b[0m \u001b[31m4.7 MB/s\u001b[0m eta \u001b[36m0:00:00\u001b[0m\n",
            "\u001b[?25hRequirement already satisfied: matplotlib in /usr/local/lib/python3.8/dist-packages (from roboticstoolbox-python) (3.2.2)\n",
            "Collecting swift-sim~=1.0.0\n",
            "  Downloading swift_sim-1.0.1-cp38-cp38-manylinux_2_5_x86_64.manylinux1_x86_64.manylinux_2_17_x86_64.manylinux2014_x86_64.whl (11.9 MB)\n",
            "\u001b[2K     \u001b[90m━━━━━━━━━━━━━━━━━━━━━━━━━━━━━━━━━━━━━━━━\u001b[0m \u001b[32m11.9/11.9 MB\u001b[0m \u001b[31m11.6 MB/s\u001b[0m eta \u001b[36m0:00:00\u001b[0m\n",
            "\u001b[?25hCollecting spatialmath-python~=1.0.0\n",
            "  Downloading spatialmath_python-1.0.3-py3-none-any.whl (183 kB)\n",
            "\u001b[2K     \u001b[90m━━━━━━━━━━━━━━━━━━━━━━━━━━━━━━━━━━━━━━\u001b[0m \u001b[32m183.2/183.2 KB\u001b[0m \u001b[31m20.4 MB/s\u001b[0m eta \u001b[36m0:00:00\u001b[0m\n",
            "\u001b[?25hCollecting pgraph-python\n",
            "  Downloading pgraph-python-0.6.1.tar.gz (16 kB)\n",
            "  Preparing metadata (setup.py) ... \u001b[?25l\u001b[?25hdone\n",
            "Requirement already satisfied: scipy in /usr/local/lib/python3.8/dist-packages (from roboticstoolbox-python) (1.7.3)\n",
            "Collecting progress\n",
            "  Downloading progress-1.6.tar.gz (7.8 kB)\n",
            "  Preparing metadata (setup.py) ... \u001b[?25l\u001b[?25hdone\n",
            "Collecting rtb-data\n",
            "  Downloading rtb_data-1.0.0-py3-none-any.whl (112.2 MB)\n",
            "\u001b[2K     \u001b[90m━━━━━━━━━━━━━━━━━━━━━━━━━━━━━━━━━━━━━━━\u001b[0m \u001b[32m112.2/112.2 MB\u001b[0m \u001b[31m5.8 MB/s\u001b[0m eta \u001b[36m0:00:00\u001b[0m\n",
            "\u001b[?25hCollecting colored\n",
            "  Downloading colored-1.4.4.tar.gz (36 kB)\n",
            "  Preparing metadata (setup.py) ... \u001b[?25l\u001b[?25hdone\n",
            "Collecting websockets\n",
            "  Downloading websockets-10.4-cp38-cp38-manylinux_2_5_x86_64.manylinux1_x86_64.manylinux_2_17_x86_64.manylinux2014_x86_64.whl (106 kB)\n",
            "\u001b[2K     \u001b[90m━━━━━━━━━━━━━━━━━━━━━━━━━━━━━━━━━━━━━━\u001b[0m \u001b[32m107.0/107.0 KB\u001b[0m \u001b[31m13.1 MB/s\u001b[0m eta \u001b[36m0:00:00\u001b[0m\n",
            "\u001b[?25hRequirement already satisfied: cycler>=0.10 in /usr/local/lib/python3.8/dist-packages (from matplotlib->roboticstoolbox-python) (0.11.0)\n",
            "Requirement already satisfied: kiwisolver>=1.0.1 in /usr/local/lib/python3.8/dist-packages (from matplotlib->roboticstoolbox-python) (1.4.4)\n",
            "Requirement already satisfied: pyparsing!=2.0.4,!=2.1.2,!=2.1.6,>=2.0.1 in /usr/local/lib/python3.8/dist-packages (from matplotlib->roboticstoolbox-python) (3.0.9)\n",
            "Requirement already satisfied: python-dateutil>=2.1 in /usr/local/lib/python3.8/dist-packages (from matplotlib->roboticstoolbox-python) (2.8.2)\n",
            "Requirement already satisfied: six>=1.5 in /usr/local/lib/python3.8/dist-packages (from python-dateutil>=2.1->matplotlib->roboticstoolbox-python) (1.15.0)\n",
            "Building wheels for collected packages: pgraph-python, progress, colored\n",
            "  Building wheel for pgraph-python (setup.py) ... \u001b[?25l\u001b[?25hdone\n",
            "  Created wheel for pgraph-python: filename=pgraph_python-0.6.1-py3-none-any.whl size=11482 sha256=65257a833431165cb972f5039c23d15c570d7c5cd96bce8d6248c735f5f75c58\n",
            "  Stored in directory: /root/.cache/pip/wheels/02/ab/22/a497260f57b322aeb116203276d6ed9c3d6cb96369599f531b\n",
            "  Building wheel for progress (setup.py) ... \u001b[?25l\u001b[?25hdone\n",
            "  Created wheel for progress: filename=progress-1.6-py3-none-any.whl size=9630 sha256=4ac2f0b9823376b62638aed39059d997b98bb00808f77ddafb80e088254541e5\n",
            "  Stored in directory: /root/.cache/pip/wheels/bb/01/5a/c916509df9b12c6465864251dbe826def8e31a16fa7da54f08\n",
            "  Building wheel for colored (setup.py) ... \u001b[?25l\u001b[?25hdone\n",
            "  Created wheel for colored: filename=colored-1.4.4-py3-none-any.whl size=14269 sha256=ffaa2ea44958ad2782c8a569ae51d913335dc47d634f98b50f67b9747653a308\n",
            "  Stored in directory: /root/.cache/pip/wheels/6b/1d/d8/57b7135b55f8edab11eef771777a2ca4665f922f012f71c77b\n",
            "Successfully built pgraph-python progress colored\n",
            "Installing collected packages: rtb-data, progress, colored, websockets, ansitable, spatialmath-python, pgraph-python, spatialgeometry, swift-sim, roboticstoolbox-python\n",
            "Successfully installed ansitable-0.9.7 colored-1.4.4 pgraph-python-0.6.1 progress-1.6 roboticstoolbox-python-1.0.3 rtb-data-1.0.0 spatialgeometry-1.0.3 spatialmath-python-1.0.3 swift-sim-1.0.1 websockets-10.4\n"
          ]
        }
      ],
      "source": [
        "pip install roboticstoolbox-python\n"
      ]
    },
    {
      "cell_type": "code",
      "execution_count": 3,
      "id": "h5IEzCZwjYLQ",
      "metadata": {
        "colab": {
          "base_uri": "https://localhost:8080/"
        },
        "id": "h5IEzCZwjYLQ",
        "outputId": "16bc3008-d7c7-4106-aa10-fba04c0f7529"
      },
      "outputs": [
        {
          "name": "stdout",
          "output_type": "stream",
          "text": [
            "Looking in indexes: https://pypi.org/simple, https://us-python.pkg.dev/colab-wheels/public/simple/\n",
            "Requirement already satisfied: spatialmath-python in /usr/local/lib/python3.8/dist-packages (1.0.3)\n",
            "Requirement already satisfied: matplotlib in /usr/local/lib/python3.8/dist-packages (from spatialmath-python) (3.2.2)\n",
            "Requirement already satisfied: ansitable in /usr/local/lib/python3.8/dist-packages (from spatialmath-python) (0.9.7)\n",
            "Requirement already satisfied: scipy in /usr/local/lib/python3.8/dist-packages (from spatialmath-python) (1.7.3)\n",
            "Requirement already satisfied: numpy in /usr/local/lib/python3.8/dist-packages (from spatialmath-python) (1.21.6)\n",
            "Requirement already satisfied: colored in /usr/local/lib/python3.8/dist-packages (from spatialmath-python) (1.4.4)\n",
            "Requirement already satisfied: kiwisolver>=1.0.1 in /usr/local/lib/python3.8/dist-packages (from matplotlib->spatialmath-python) (1.4.4)\n",
            "Requirement already satisfied: cycler>=0.10 in /usr/local/lib/python3.8/dist-packages (from matplotlib->spatialmath-python) (0.11.0)\n",
            "Requirement already satisfied: pyparsing!=2.0.4,!=2.1.2,!=2.1.6,>=2.0.1 in /usr/local/lib/python3.8/dist-packages (from matplotlib->spatialmath-python) (3.0.9)\n",
            "Requirement already satisfied: python-dateutil>=2.1 in /usr/local/lib/python3.8/dist-packages (from matplotlib->spatialmath-python) (2.8.2)\n",
            "Requirement already satisfied: six>=1.5 in /usr/local/lib/python3.8/dist-packages (from python-dateutil>=2.1->matplotlib->spatialmath-python) (1.15.0)\n"
          ]
        }
      ],
      "source": [
        "pip install spatialmath-python"
      ]
    },
    {
      "cell_type": "code",
      "execution_count": 5,
      "id": "a1f9cb87",
      "metadata": {
        "colab": {
          "base_uri": "https://localhost:8080/"
        },
        "id": "a1f9cb87",
        "outputId": "b55930e9-eca8-4f06-c5d5-6938ebfd403c"
      },
      "outputs": [
        {
          "name": "stdout",
          "output_type": "stream",
          "text": [
            "DHRobot: Puma 560 (by Unimation), 6 joints (RRRRRR), dynamics, geometry, standard DH parameters\n",
            "┌────┬────────┬────────┬────────┬─────────┬────────┐\n",
            "│θⱼ  │   dⱼ   │   aⱼ   │   ⍺ⱼ   │   q⁻    │   q⁺   │\n",
            "├────┼────────┼────────┼────────┼─────────┼────────┤\n",
            "│ q1 │ 0.6718 │      0 │  90.0° │ -160.0° │ 160.0° │\n",
            "│ q2 │      0 │ 0.4318 │   0.0° │ -110.0° │ 110.0° │\n",
            "│ q3 │   0.15 │ 0.0203 │ -90.0° │ -135.0° │ 135.0° │\n",
            "│ q4 │ 0.4318 │      0 │  90.0° │ -266.0° │ 266.0° │\n",
            "│ q5 │      0 │      0 │ -90.0° │ -100.0° │ 100.0° │\n",
            "│ q6 │      0 │      0 │   0.0° │ -266.0° │ 266.0° │\n",
            "└────┴────────┴────────┴────────┴─────────┴────────┘\n",
            "\n",
            "┌─┬──┐\n",
            "└─┴──┘\n",
            "\n",
            "┌─────┬─────┬──────┬───────┬─────┬──────┬─────┐\n",
            "│name │ q0  │ q1   │ q2    │ q3  │ q4   │ q5  │\n",
            "├─────┼─────┼──────┼───────┼─────┼──────┼─────┤\n",
            "│  qr │  0° │  90° │ -90°  │  0° │  0°  │  0° │\n",
            "│  qz │  0° │  0°  │  0°   │  0° │  0°  │  0° │\n",
            "│  qn │  0° │  45° │  180° │  0° │  45° │  0° │\n",
            "│  qs │  0° │  0°  │ -90°  │  0° │  0°  │  0° │\n",
            "└─────┴─────┴──────┴───────┴─────┴──────┴─────┘\n",
            "\n",
            "   0        -1         0        -0.1501    \n",
            "  -0.1289    0         0.9917    0.00051   \n",
            "  -0.9917    0        -0.1289    0.6871    \n",
            "   0         0         0         1         \n",
            "\n",
            "theta1 = -90.000 deg\n",
            "theta2 = -177.310 deg\n",
            "theta3 = 94.716 deg\n",
            "theta4 = 180.000 deg\n",
            "theta5 = -180.000 deg\n",
            "theta6 = -0.000 deg\n"
          ]
        }
      ],
      "source": [
        "import numpy as np\n",
        "import spatialmath as sm\n",
        "import roboticstoolbox as rtb\n",
        "\n",
        "# Define the DH parameters\n",
        "alpha = [np.pi/2, 0, 0, np.pi/2, np.pi/2, 0]\n",
        "a = [0, 0.432, 0, 0, 0, 0]\n",
        "d = [0.0825, 0, 0.4318, 0.0203, 0, 0]\n",
        "\n",
        "# Define the end-effector transformation matrix\n",
        "T = np.array([[0, -1, 0, 0.1662],\n",
        "              [0, 0, -1, 0.0033],\n",
        "              [1, 0, 0, 0.7073],\n",
        "              [0, 0, 0, 1]])\n",
        "\n",
        "# Define the robot using the DH parameters\n",
        "robot = rtb.models.DH.Puma560()\n",
        "print(robot)\n",
        "\n",
        "# Compute the joint angles using Pieper's solution\n",
        "theta1 = np.arctan2(T[1,2], T[0,2])\n",
        "theta3 = np.arctan2(np.sqrt(T[0,2]**2 + T[1,2]**2), T[2,2] - d[0])\n",
        "c3 = np.cos(theta3)\n",
        "s3 = np.sin(theta3)\n",
        "theta2 = np.arctan2(T[2,2] - d[0], -T[0,2]/c3) - np.arctan2(a[1], d[3])\n",
        "c2 = np.cos(theta2)\n",
        "s2 = np.sin(theta2)\n",
        "theta4 = np.arctan2(-T[2,1]/c2, T[2,0]/c2)\n",
        "c4 = np.cos(theta4)\n",
        "theta5 = np.arctan2(-T[1,1]/(c2*c4), T[0,1]/(c2*c4))\n",
        "theta6 = np.arctan2(-T[1,0]/(c2*c4), T[0,0]/(c2*c4))\n",
        "\n",
        "# Compute the end-effector transformation matrix using the joint angles\n",
        "T_ee = robot.fkine(np.array([theta1, theta2, theta3, theta4, theta5, theta6]))\n",
        "\n",
        "# Print the end-effector transformation matrix\n",
        "print(T_ee)\n",
        "\n",
        "# Print the joint angles\n",
        "print(\"theta1 = {:.3f} deg\".format(np.rad2deg(theta1)))\n",
        "print(\"theta2 = {:.3f} deg\".format(np.rad2deg(theta2)))\n",
        "print(\"theta3 = {:.3f} deg\".format(np.rad2deg(theta3)))\n",
        "print(\"theta4 = {:.3f} deg\".format(np.rad2deg(theta4)))\n",
        "print(\"theta5 = {:.3f} deg\".format(np.rad2deg(theta5)))\n",
        "print(\"theta6 = {:.3f} deg\".format(np.rad2deg(theta6)))"
      ]
    },
    {
      "cell_type": "raw",
      "id": "5cdb7a0a",
      "metadata": {
        "id": "5cdb7a0a"
      },
      "source": []
    },
    {
      "cell_type": "markdown",
      "id": "e462d21e",
      "metadata": {
        "id": "e462d21e"
      },
      "source": [
        "Question 3"
      ]
    },
    {
      "cell_type": "code",
      "execution_count": 3,
      "id": "b0031bc8",
      "metadata": {
        "colab": {
          "base_uri": "https://localhost:8080/",
          "height": 235
        },
        "id": "b0031bc8",
        "outputId": "00e68ca2-dad2-42c9-cf9a-094ebea0468e"
      },
      "outputs": [
        {
          "ename": "ValueError",
          "evalue": "shapes (6,6) and (4,) not aligned: 6 (dim 1) != 4 (dim 0)",
          "output_type": "error",
          "traceback": [
            "\u001b[0;31m---------------------------------------------------------------------------\u001b[0m",
            "\u001b[0;31mValueError\u001b[0m                                Traceback (most recent call last)",
            "Cell \u001b[0;32mIn [3], line 53\u001b[0m\n\u001b[1;32m     49\u001b[0m robot \u001b[39m=\u001b[39m rtb\u001b[39m.\u001b[39mmodels\u001b[39m.\u001b[39mDH\u001b[39m.\u001b[39mPuma560()\n\u001b[1;32m     52\u001b[0m \u001b[39m#q = inverse_kinematics(T, q0, robot)\u001b[39;00m\n\u001b[0;32m---> 53\u001b[0m q \u001b[39m=\u001b[39m inverse_kinematics_newton_raphson(T, q0, robot)\n\u001b[1;32m     56\u001b[0m \u001b[39mprint\u001b[39m(q)\n",
            "Cell \u001b[0;32mIn [3], line 29\u001b[0m, in \u001b[0;36minverse_kinematics_newton_raphson\u001b[0;34m(T, q0, robot, tol, max_iter)\u001b[0m\n\u001b[1;32m     27\u001b[0m dT \u001b[39m=\u001b[39m np\u001b[39m.\u001b[39mdot(T_ee\u001b[39m.\u001b[39minv(), T)\n\u001b[1;32m     28\u001b[0m \u001b[39m# compute joint angle increments\u001b[39;00m\n\u001b[0;32m---> 29\u001b[0m dq \u001b[39m=\u001b[39m np\u001b[39m.\u001b[39;49mdot(np\u001b[39m.\u001b[39;49mlinalg\u001b[39m.\u001b[39;49mpinv(J), dT[:\u001b[39m6\u001b[39;49m,\u001b[39m3\u001b[39;49m])\n\u001b[1;32m     30\u001b[0m \u001b[39m# update joint angles\u001b[39;00m\n\u001b[1;32m     31\u001b[0m q \u001b[39m=\u001b[39m q \u001b[39m+\u001b[39m dq\n",
            "File \u001b[0;32m<__array_function__ internals>:180\u001b[0m, in \u001b[0;36mdot\u001b[0;34m(*args, **kwargs)\u001b[0m\n",
            "\u001b[0;31mValueError\u001b[0m: shapes (6,6) and (4,) not aligned: 6 (dim 1) != 4 (dim 0)"
          ]
        }
      ],
      "source": [
        "import numpy as np\n",
        "import roboticstoolbox as rtb\n",
        "import spatialmath as sm\n",
        "\n",
        "def inverse_kinematics_newton_raphson(T, q0, robot, tol=1e-9, max_iter=100):\n",
        "    \"\"\"\n",
        "    Solve the inverse kinematics problem using the Newton-Raphson method.\n",
        "    \n",
        "    Parameters:\n",
        "    - T: desired end-effector transformation matrix (4x4 numpy array)\n",
        "    - q0: initial guess for the joint angles (numpy array of shape (n,))\n",
        "    - robot: robotic manipulator object with fkine and jacob0 methods\n",
        "    - tol: tolerance for convergence (float)\n",
        "    - max_iter: maximum number of iterations (int)\n",
        "    \n",
        "    Returns:\n",
        "    - q: joint angles that result in the desired end-effector transformation matrix (numpy array of shape (n,))\n",
        "    \"\"\"\n",
        "    # initialize joint angles\n",
        "    q = q0\n",
        "    for i in range(max_iter):\n",
        "        # compute forward kinematics\n",
        "        T_ee = robot.fkine(q)\n",
        "        # compute Jacobian\n",
        "        J = robot.jacob0(q)\n",
        "        # compute difference between current and desired end-effector pose\n",
        "        dT = np.dot(T_ee.inv(), T)\n",
        "        # compute joint angle increments\n",
        "        dq = np.dot(np.linalg.pinv(J), dT[:6,3])\n",
        "        # update joint angles\n",
        "        q = q + dq\n",
        "        # check for convergence\n",
        "        if np.linalg.norm(dq) < tol:\n",
        "            break\n",
        "    return q\n",
        "\n",
        "\n",
        "\n",
        "\n",
        "T = np.array([[0, -1, 0, 0.1662],\n",
        "              [0, 0, -1, 0.0033],\n",
        "              [1, 0, 0, 0.7073],\n",
        "              [0, 0, 0, 1]])\n",
        "\n",
        "\n",
        "q0 = np.array([0, 0, 0, 0, 0, 0])\n",
        "\n",
        "\n",
        "robot = rtb.models.DH.Puma560()\n",
        "\n",
        "\n",
        "#q = inverse_kinematics(T, q0, robot)\n",
        "q = inverse_kinematics_newton_raphson(T, q0, robot)\n",
        "\n",
        "\n",
        "print(q)\n"
      ]
    },
    {
      "cell_type": "markdown",
      "id": "5061a3dc",
      "metadata": {
        "id": "5061a3dc"
      },
      "source": [
        "question 2"
      ]
    },
    {
      "cell_type": "code",
      "execution_count": 4,
      "id": "a0c8c04f",
      "metadata": {
        "colab": {
          "base_uri": "https://localhost:8080/"
        },
        "id": "a0c8c04f",
        "outputId": "c004656d-406a-4279-9fb0-566cf5ee6aab"
      },
      "outputs": [
        {
          "name": "stdout",
          "output_type": "stream",
          "text": [
            "DHRobot: Puma 560 (by Unimation), 6 joints (RRRRRR), dynamics, geometry, standard DH parameters\n",
            "┌────┬────────┬────────┬────────┬─────────┬────────┐\n",
            "│θⱼ  │   dⱼ   │   aⱼ   │   ⍺ⱼ   │   q⁻    │   q⁺   │\n",
            "├────┼────────┼────────┼────────┼─────────┼────────┤\n",
            "│ q1 │ 0.6718 │      0 │  90.0° │ -160.0° │ 160.0° │\n",
            "│ q2 │      0 │ 0.4318 │   0.0° │ -110.0° │ 110.0° │\n",
            "│ q3 │   0.15 │ 0.0203 │ -90.0° │ -135.0° │ 135.0° │\n",
            "│ q4 │ 0.4318 │      0 │  90.0° │ -266.0° │ 266.0° │\n",
            "│ q5 │      0 │      0 │ -90.0° │ -100.0° │ 100.0° │\n",
            "│ q6 │      0 │      0 │   0.0° │ -266.0° │ 266.0° │\n",
            "└────┴────────┴────────┴────────┴─────────┴────────┘\n",
            "\n",
            "┌─┬──┐\n",
            "└─┴──┘\n",
            "\n",
            "┌─────┬─────┬──────┬───────┬─────┬──────┬─────┐\n",
            "│name │ q0  │ q1   │ q2    │ q3  │ q4   │ q5  │\n",
            "├─────┼─────┼──────┼───────┼─────┼──────┼─────┤\n",
            "│  qr │  0° │  90° │ -90°  │  0° │  0°  │  0° │\n",
            "│  qz │  0° │  0°  │  0°   │  0° │  0°  │  0° │\n",
            "│  qn │  0° │  45° │  180° │  0° │  45° │  0° │\n",
            "│  qs │  0° │  0°  │ -90°  │  0° │  0°  │  0° │\n",
            "└─────┴─────┴──────┴───────┴─────┴──────┴─────┘\n",
            "\n",
            "   0        -1         0        -0.1501    \n",
            "  -0.1289    0         0.9917    0.00051   \n",
            "  -0.9917    0        -0.1289    0.6871    \n",
            "   0         0         0         1         \n",
            "\n",
            "theta1 = {:.3f} deg\n"
          ]
        }
      ],
      "source": [
        "import numpy as np\n",
        "import roboticstoolbox as rtb\n",
        "\n",
        "# Define the DH parameters\n",
        "alpha = [np.pi/2, 0, 0, np.pi/2, np.pi/2, 0]\n",
        "a = [0, 0.432, 0, 0, 0, 0]\n",
        "d = [0.0825, 0, 0.4318, 0.0203, 0, 0]\n",
        "\n",
        "# Define the end-effector transformation matrix\n",
        "T = np.array([[0, -1, 0, 0.1662],\n",
        "              [0, 0, -1, 0.0033],\n",
        "              [1, 0, 0, 0.7073],\n",
        "              [0, 0, 0, 1]])\n",
        "\n",
        "# Define the robot using the DH parameters\n",
        "robot = rtb.models.DH.Puma560()\n",
        "print(robot)\n",
        "\n",
        "# Compute the joint angles using Pieper's solution\n",
        "theta1 = np.arctan2(T[1,2], T[0,2])\n",
        "theta3 = np.arctan2(np.sqrt(T[0,2]**2 + T[1,2]**2), T[2,2] - d[0])\n",
        "c3 = np.cos(theta3)\n",
        "s3 = np.sin(theta3)\n",
        "theta2 = np.arctan2(T[2,2] - d[0], -T[0,2]/c3) - np.arctan2(a[1], d[3])\n",
        "c2 = np.cos(theta2)\n",
        "s2 = np.sin(theta2)\n",
        "theta4 = np.arctan2(-T[2,1]/c2, T[2,0]/c2)\n",
        "c4 = np.cos(theta4)\n",
        "theta5 = np.arctan2(-T[1,1]/(c2*c4), T[0,1]/(c2*c4))\n",
        "theta6 = np.arctan2(-T[1,0]/(c2*c4), T[0,0]/(c2*c4))\n",
        "\n",
        "# Compute the end-effector transformation matrix using the joint angles\n",
        "T_ee = robot.fkine(np.array([theta1, theta2, theta3, theta4, theta5, theta6]))\n",
        "\n",
        "# Print the end-effector transformation matrix\n",
        "print(T_ee)\n",
        "\n",
        "# Print the joint angles\n",
        "print(\"theta1 = {:.3f} deg\")\n"
      ]
    },
    {
      "cell_type": "code",
      "execution_count": null,
      "id": "UWhJGXlMjdP7",
      "metadata": {
        "id": "UWhJGXlMjdP7"
      },
      "outputs": [],
      "source": []
    }
  ],
  "metadata": {
    "colab": {
      "provenance": []
    },
    "kernelspec": {
      "display_name": "Python 3",
      "language": "python",
      "name": "python3"
    },
    "language_info": {
      "codemirror_mode": {
        "name": "ipython",
        "version": 3
      },
      "file_extension": ".py",
      "mimetype": "text/x-python",
      "name": "python",
      "nbconvert_exporter": "python",
      "pygments_lexer": "ipython3",
      "version": "3.10.8"
    },
    "vscode": {
      "interpreter": {
        "hash": "e7370f93d1d0cde622a1f8e1c04877d8463912d04d973331ad4851f04de6915a"
      }
    }
  },
  "nbformat": 4,
  "nbformat_minor": 5
}
