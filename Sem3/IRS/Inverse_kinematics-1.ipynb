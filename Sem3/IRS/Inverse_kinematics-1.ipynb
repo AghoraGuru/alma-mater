{
 "cells": [
  {
   "cell_type": "code",
   "execution_count": 24,
   "id": "181f78b0-5fc0-499a-a651-e87ac480a818",
   "metadata": {},
   "outputs": [],
   "source": [
    "from spatialmath import *\n",
    "from spatialmath.base import *\n",
    "import spatialmath.base.symbolic as sym\n",
    "import roboticstoolbox as rtb\n",
    "import numpy as np"
   ]
  },
  {
   "cell_type": "code",
   "execution_count": 25,
   "id": "5f752fd4-40af-4831-9d80-7ef7c19f7e7b",
   "metadata": {},
   "outputs": [],
   "source": [
    "theta1 = sym.symbol('theta1')\n",
    "theta2 = sym.symbol('theta2')\n",
    "L1 = sym.symbol('L1')\n",
    "L2 = sym.symbol('L2')\n",
    "x = sym.symbol('x')\n",
    "y = sym.symbol('y')"
   ]
  },
  {
   "cell_type": "code",
   "execution_count": 26,
   "id": "7aaa6111-0c9d-4efa-bfce-e282e3c44a64",
   "metadata": {},
   "outputs": [],
   "source": [
    "class Planar2R(rtb.DHRobot):\n",
    "    \n",
    "    def __init__(self):\n",
    "        super().__init__(\n",
    "            [\n",
    "             rtb.RevoluteMDH(),\n",
    "             rtb.RevoluteMDH(a=1),\n",
    "             rtb.RevoluteMDH(a=1) \n",
    "            ]\n",
    "        )"
   ]
  },
  {
   "cell_type": "code",
   "execution_count": 27,
   "id": "ef5c98a6-517f-4bed-98a2-95bd116dc4fd",
   "metadata": {},
   "outputs": [],
   "source": [
    "planar2r = Planar2R()"
   ]
  },
  {
   "cell_type": "code",
   "execution_count": 28,
   "id": "1a9a319b-2120-4b9c-aa28-beb6f5a7eb22",
   "metadata": {},
   "outputs": [
    {
     "name": "stdout",
     "output_type": "stream",
     "text": [
      "DHRobot: noname, 3 joints (RRR), dynamics, modified DH parameters\n",
      "┏━━━━━┳━━━━━━┳━━━━━┳━━━━━┓\n",
      "┃aⱼ₋₁ ┃ ⍺ⱼ₋₁ ┃ θⱼ  ┃ dⱼ  ┃\n",
      "┣━━━━━╋━━━━━━╋━━━━━╋━━━━━┫\n",
      "┃ 0.0\u001b[0m ┃ 0.0°\u001b[0m ┃  q1\u001b[0m ┃ 0.0\u001b[0m ┃\n",
      "┃   1\u001b[0m ┃ 0.0°\u001b[0m ┃  q2\u001b[0m ┃ 0.0\u001b[0m ┃\n",
      "┃   1\u001b[0m ┃ 0.0°\u001b[0m ┃  q3\u001b[0m ┃ 0.0\u001b[0m ┃\n",
      "┗━━━━━┻━━━━━━┻━━━━━┻━━━━━┛\n",
      "\n"
     ]
    }
   ],
   "source": [
    "print(planar2r)"
   ]
  },
  {
   "cell_type": "code",
   "execution_count": 29,
   "id": "add7ae5a-66ac-4222-bb3e-8889dc56a2f6",
   "metadata": {},
   "outputs": [],
   "source": [
    "T = planar2r.fkine([theta1,theta2,0])"
   ]
  },
  {
   "cell_type": "code",
   "execution_count": 30,
   "id": "1782b4df-b676-4c1b-8eb3-6f7010b8d07e",
   "metadata": {},
   "outputs": [
    {
     "data": {
      "text/latex": [
       "$\\displaystyle \\left[\\begin{matrix}1.0 \\cos{\\left(\\theta_{1} + \\theta_{2} \\right)} & - 1.0 \\sin{\\left(\\theta_{1} + \\theta_{2} \\right)} & 0 & 1.0 \\cos{\\left(\\theta_{1} \\right)} + 1.0 \\cos{\\left(\\theta_{1} + \\theta_{2} \\right)}\\\\1.0 \\sin{\\left(\\theta_{1} + \\theta_{2} \\right)} & 1.0 \\cos{\\left(\\theta_{1} + \\theta_{2} \\right)} & 0 & 1.0 \\sin{\\left(\\theta_{1} \\right)} + 1.0 \\sin{\\left(\\theta_{1} + \\theta_{2} \\right)}\\\\0 & 0 & 1.0 & 0\\\\0 & 0 & 0 & 1.0\\end{matrix}\\right]$"
      ],
      "text/plain": [
       "[[1.0*cos(theta1 + theta2), -1.0*sin(theta1 + theta2), 0, 1.0*cos(theta1) + 1.0*cos(theta1 + theta2)], [1.0*sin(theta1 + theta2), 1.0*cos(theta1 + theta2), 0, 1.0*sin(theta1) + 1.0*sin(theta1 + theta2)], [0, 0, 1.0, 0], [0, 0, 0, 1.0]]"
      ]
     },
     "execution_count": 30,
     "metadata": {},
     "output_type": "execute_result"
    }
   ],
   "source": [
    "sym.simplify(T.data[0])"
   ]
  },
  {
   "cell_type": "code",
   "execution_count": 31,
   "id": "8e4e1045-bb71-4263-9c86-77c0661f95df",
   "metadata": {
    "tags": []
   },
   "outputs": [],
   "source": [
    "x = T.t[0]\n",
    "y = T.t[1]"
   ]
  },
  {
   "cell_type": "code",
   "execution_count": 32,
   "id": "6c972a9f-f37e-490f-afdd-d515450f2e83",
   "metadata": {
    "tags": []
   },
   "outputs": [],
   "source": [
    "from math import cos,sin\n",
    "import scipy.optimize\n",
    "def fun(p):\n",
    "    x1,x2 = p\n",
    "    return (cos(x1)+cos(x1+x2), sin(x1)+sin(x1+x2))\n",
    "x1,x2 = scipy.optimize.fsolve(fun,(1,1))"
   ]
  },
  {
   "cell_type": "code",
   "execution_count": 33,
   "id": "34e2ab17-4d91-4171-ad8f-e8220ac5d530",
   "metadata": {
    "tags": []
   },
   "outputs": [
    {
     "name": "stdout",
     "output_type": "stream",
     "text": [
      "-0.07079631107590591 3.141592653589793\n"
     ]
    }
   ],
   "source": [
    "print(x1,x2)"
   ]
  },
  {
   "cell_type": "code",
   "execution_count": 34,
   "id": "a94bef21-9161-4529-9f90-909c1ab92060",
   "metadata": {},
   "outputs": [],
   "source": [
    "puma = rtb.models.DH.Puma560()"
   ]
  },
  {
   "cell_type": "code",
   "execution_count": 35,
   "id": "1bc5d2e8-0707-4667-94f8-4839a91a6987",
   "metadata": {},
   "outputs": [
    {
     "name": "stdout",
     "output_type": "stream",
     "text": [
      "DHRobot: Puma 560 (by Unimation), 6 joints (RRRRRR), dynamics, geometry, standard DH parameters\n",
      "┏━━━━┳━━━━━━━━┳━━━━━━━━┳━━━━━━━━┳━━━━━━━━━┳━━━━━━━━┓\n",
      "┃θⱼ  ┃   dⱼ   ┃   aⱼ   ┃   ⍺ⱼ   ┃   q⁻    ┃   q⁺   ┃\n",
      "┣━━━━╋━━━━━━━━╋━━━━━━━━╋━━━━━━━━╋━━━━━━━━━╋━━━━━━━━┫\n",
      "┃ q1\u001b[0m ┃ 0.6718\u001b[0m ┃      0\u001b[0m ┃  90.0°\u001b[0m ┃ -160.0°\u001b[0m ┃ 160.0°\u001b[0m ┃\n",
      "┃ q2\u001b[0m ┃      0\u001b[0m ┃ 0.4318\u001b[0m ┃   0.0°\u001b[0m ┃ -110.0°\u001b[0m ┃ 110.0°\u001b[0m ┃\n",
      "┃ q3\u001b[0m ┃   0.15\u001b[0m ┃ 0.0203\u001b[0m ┃ -90.0°\u001b[0m ┃ -135.0°\u001b[0m ┃ 135.0°\u001b[0m ┃\n",
      "┃ q4\u001b[0m ┃ 0.4318\u001b[0m ┃      0\u001b[0m ┃  90.0°\u001b[0m ┃ -266.0°\u001b[0m ┃ 266.0°\u001b[0m ┃\n",
      "┃ q5\u001b[0m ┃      0\u001b[0m ┃      0\u001b[0m ┃ -90.0°\u001b[0m ┃ -100.0°\u001b[0m ┃ 100.0°\u001b[0m ┃\n",
      "┃ q6\u001b[0m ┃      0\u001b[0m ┃      0\u001b[0m ┃   0.0°\u001b[0m ┃ -266.0°\u001b[0m ┃ 266.0°\u001b[0m ┃\n",
      "┗━━━━┻━━━━━━━━┻━━━━━━━━┻━━━━━━━━┻━━━━━━━━━┻━━━━━━━━┛\n",
      "\n",
      "┌─────┬─────┬──────┬───────┬─────┬──────┬─────┐\n",
      "│name │ q0  │ q1   │ q2    │ q3  │ q4   │ q5  │\n",
      "├─────┼─────┼──────┼───────┼─────┼──────┼─────┤\n",
      "│  qz\u001b[0m │  0°\u001b[0m │  0°\u001b[0m  │  0°\u001b[0m   │  0°\u001b[0m │  0°\u001b[0m  │  0°\u001b[0m │\n",
      "│  qr\u001b[0m │  0°\u001b[0m │  90°\u001b[0m │ -90°\u001b[0m  │  0°\u001b[0m │  0°\u001b[0m  │  0°\u001b[0m │\n",
      "│  qs\u001b[0m │  0°\u001b[0m │  0°\u001b[0m  │ -90°\u001b[0m  │  0°\u001b[0m │  0°\u001b[0m  │  0°\u001b[0m │\n",
      "│  qn\u001b[0m │  0°\u001b[0m │  45°\u001b[0m │  180°\u001b[0m │  0°\u001b[0m │  45°\u001b[0m │  0°\u001b[0m │\n",
      "└─────┴─────┴──────┴───────┴─────┴──────┴─────┘\n",
      "\n"
     ]
    }
   ],
   "source": [
    "print(puma)"
   ]
  },
  {
   "cell_type": "code",
   "execution_count": 36,
   "id": "3230b434-b105-4e73-a0a8-db8036d6b458",
   "metadata": {},
   "outputs": [],
   "source": [
    "T = puma.fkine([0,0,0,0,0,0])"
   ]
  },
  {
   "cell_type": "code",
   "execution_count": 37,
   "id": "f027bb27-79ad-4d36-954b-7ead52b6a257",
   "metadata": {},
   "outputs": [
    {
     "data": {
      "text/latex": [
       "$\\displaystyle \\left[\\begin{matrix}1.0 & 0 & 0 & 0.4521\\\\0 & 1.0 & 0 & -0.15005\\\\0 & 0 & 1.0 & 1.10363\\\\0 & 0 & 0 & 1.0\\end{matrix}\\right]$"
      ],
      "text/plain": [
       "[[1.0, 0, 0, 0.4521], [0, 1.0, 0, -0.15005], [0, 0, 1.0, 1.10363], [0, 0, 0, 1.0]]"
      ]
     },
     "execution_count": 37,
     "metadata": {},
     "output_type": "execute_result"
    }
   ],
   "source": [
    "sym.simplify(T.data[0])"
   ]
  },
  {
   "cell_type": "code",
   "execution_count": 38,
   "id": "32cb8d57-1ba1-4150-9d88-c9656c4238b6",
   "metadata": {},
   "outputs": [],
   "source": [
    "sol = puma.ikine_a(T)"
   ]
  },
  {
   "cell_type": "code",
   "execution_count": 40,
   "id": "a17dd7c5-f595-43d2-b59d-52d1e9b32294",
   "metadata": {},
   "outputs": [
    {
     "data": {
      "text/latex": [
       "$\\displaystyle \\left[\\begin{matrix}2.50068058308209 & 1.61672105134223 & 4.44089209850063 \\cdot 10^{-16} & -6.41110256941313 \\cdot 10^{-17} & -1.61672105134223 & -2.50068058308209\\end{matrix}\\right]$"
      ],
      "text/plain": [
       "[2.50068058308209, 1.61672105134223, 4.44089209850063e-16, -6.41110256941313e-17, -1.61672105134223, -2.50068058308209]"
      ]
     },
     "execution_count": 40,
     "metadata": {},
     "output_type": "execute_result"
    }
   ],
   "source": [
    "sym.simplify(sol[0])"
   ]
  },
  {
   "cell_type": "code",
   "execution_count": 23,
   "id": "e0ffc94f-89bf-4d50-bbf2-026cfd912ed3",
   "metadata": {},
   "outputs": [
    {
     "data": {
      "text/plain": [
       "  \u001b[38;5;1m 1       \u001b[0m \u001b[38;5;1m 0       \u001b[0m \u001b[38;5;1m 0       \u001b[0m \u001b[38;5;4m 0.4521  \u001b[0m  \u001b[0m\n",
       "  \u001b[38;5;1m 0       \u001b[0m \u001b[38;5;1m 1       \u001b[0m \u001b[38;5;1m 0       \u001b[0m \u001b[38;5;4m-0.15    \u001b[0m  \u001b[0m\n",
       "  \u001b[38;5;1m 0       \u001b[0m \u001b[38;5;1m 0       \u001b[0m \u001b[38;5;1m 1       \u001b[0m \u001b[38;5;4m 1.104   \u001b[0m  \u001b[0m\n",
       "  \u001b[38;5;244m 0       \u001b[0m \u001b[38;5;244m 0       \u001b[0m \u001b[38;5;244m 0       \u001b[0m \u001b[38;5;244m 1       \u001b[0m  \u001b[0m\n"
      ]
     },
     "execution_count": 23,
     "metadata": {},
     "output_type": "execute_result"
    }
   ],
   "source": [
    "puma.fkine(sol[0])"
   ]
  },
  {
   "cell_type": "markdown",
   "id": "d3279c2b-0903-4416-ad9a-242c07d8662c",
   "metadata": {},
   "source": [
    "![alt text](Puma_multi_solns.png \"Puma_ikine\")"
   ]
  },
  {
   "cell_type": "markdown",
   "id": "7454c6fe-7a10-4c35-b533-de5e645d11a3",
   "metadata": {},
   "source": [
    "Please explore the commands used for inverse kinematic solutions used in robotic toolbox by python and matlab (ikine_xx is python and ikinexx in matlab)."
   ]
  },
  {
   "cell_type": "code",
   "execution_count": null,
   "id": "8bb02a0b-0a0b-4d6c-95e2-7a6da73701ee",
   "metadata": {},
   "outputs": [],
   "source": []
  }
 ],
 "metadata": {
  "kernelspec": {
   "display_name": "Python 3",
   "language": "python",
   "name": "python3"
  },
  "language_info": {
   "codemirror_mode": {
    "name": "ipython",
    "version": 3
   },
   "file_extension": ".py",
   "mimetype": "text/x-python",
   "name": "python",
   "nbconvert_exporter": "python",
   "pygments_lexer": "ipython3",
   "version": "3.8.8"
  }
 },
 "nbformat": 4,
 "nbformat_minor": 5
}
