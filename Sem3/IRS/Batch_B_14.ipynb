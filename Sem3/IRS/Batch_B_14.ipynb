{
 "cells": [
  {
   "cell_type": "markdown",
   "metadata": {},
   "source": [
    "# Part 1"
   ]
  },
  {
   "cell_type": "code",
   "execution_count": 55,
   "metadata": {},
   "outputs": [],
   "source": [
    "import spatialmath\n",
    "from spatialmath import *\n",
    "from spatialmath.base import *\n",
    "from spatialmath.base import symbolic as sym\n",
    "import numpy as np\n",
    "from matplotlib import pyplot as plt"
   ]
  },
  {
   "cell_type": "code",
   "execution_count": 56,
   "metadata": {},
   "outputs": [
    {
     "name": "stdout",
     "output_type": "stream",
     "text": [
      "Rx\n",
      " [[ 1.         0.         0.       ]\n",
      " [ 0.         0.8660254 -0.5      ]\n",
      " [ 0.         0.5        0.8660254]]\n",
      "Rz\n",
      " [[ 0.70710678 -0.70710678  0.        ]\n",
      " [ 0.70710678  0.70710678  0.        ]\n",
      " [ 0.          0.          1.        ]]\n",
      "R\n",
      " [[ 0.70710678 -0.61237244  0.35355339]\n",
      " [ 0.70710678  0.61237244 -0.35355339]\n",
      " [ 0.          0.5         0.8660254 ]]\n",
      "\n",
      "Bp\n",
      " [[-5]\n",
      " [ 5]\n",
      " [ 5]]\n",
      "\n",
      "Ap\n",
      " [[-4.82962913]\n",
      " [-2.24143868]\n",
      " [ 6.83012702]]\n"
     ]
    }
   ],
   "source": [
    "#Q1\n",
    "\n",
    "R_x = rotx(30,unit='deg')\n",
    "print(\"Rx\\n\",R_x)\n",
    "\n",
    "R_z = rotz(45, unit='deg')\n",
    "print(\"Rz\\n\",R_z)\n",
    "\n",
    "R = R_z@R_x \n",
    "print(\"R\\n\",R)\n",
    "print()\n",
    "\n",
    "Bp =np.array([[-5],[5],[5]])\n",
    "print(\"Bp\\n\",Bp)\n",
    "\n",
    "Ap = R@Bp\n",
    "print()\n",
    "print(\"Ap\\n\",Ap)"
   ]
  },
  {
   "cell_type": "code",
   "execution_count": 57,
   "metadata": {},
   "outputs": [
    {
     "name": "stdout",
     "output_type": "stream",
     "text": [
      "   0.866     0         0.5       \n",
      "   0.25      0.866    -0.433     \n",
      "  -0.433     0.5       0.75      \n",
      "\n",
      "[[ 0.8660254  0.25      -0.4330127]\n",
      " [ 0.         0.8660254  0.5      ]\n",
      " [ 0.5       -0.4330127  0.75     ]]\n",
      "[[2.54903811]\n",
      " [5.83012702]\n",
      " [1.58493649]]\n"
     ]
    }
   ],
   "source": [
    "#Q2\n",
    "\n",
    "R_y = SO3.Ry(30,unit='deg')\n",
    "R_x = SO3.Rx(30, unit='deg')\n",
    "\n",
    "R=R_x @ R_y\n",
    "print(R)\n",
    "Rt = np.transpose(R)\n",
    "print(Rt)\n",
    "\n",
    "Ap = np.array([[3],[5],[3]])\n",
    "Bp = Rt @ Ap\n",
    "print(Bp)"
   ]
  },
  {
   "cell_type": "code",
   "execution_count": 58,
   "metadata": {},
   "outputs": [
    {
     "name": "stdout",
     "output_type": "stream",
     "text": [
      "[[ 0.5        -0.8660254   0.        ]\n",
      " [ 0.61237244  0.35355339 -0.70710678]\n",
      " [ 0.61237244  0.35355339  0.70710678]]\n"
     ]
    },
    {
     "data": {
      "text/plain": [
       "array([[-13.66025404],\n",
       "       [ -9.65925826],\n",
       "       [  4.48287736]])"
      ]
     },
     "execution_count": 58,
     "metadata": {},
     "output_type": "execute_result"
    }
   ],
   "source": [
    "#Q3\n",
    "\n",
    "R_x = rotx(45,unit='deg')\n",
    "R_z = rotz(60, unit='deg')\n",
    "R = R_x@R_z\n",
    "print(R)\n",
    "\n",
    "Bp =np.array([[-10],[10],[10]])\n",
    "Ap = R@Bp\n",
    "Ap"
   ]
  },
  {
   "cell_type": "code",
   "execution_count": 59,
   "metadata": {},
   "outputs": [
    {
     "name": "stdout",
     "output_type": "stream",
     "text": [
      "\n",
      "[[5.46410162]\n",
      " [0.23205081]\n",
      " [3.33012702]]\n"
     ]
    }
   ],
   "source": [
    "#Q4\n",
    "\n",
    "R_z = SO3.Rz(60,unit='deg')\n",
    "R_x = SO3.Rx(30, unit='deg')\n",
    "R = R_z @ R_x\n",
    "\n",
    "Rt = np.linalg.inv(R)\n",
    "\n",
    "print()\n",
    "Ap = np.array([[4],[4],[3]])\n",
    "Bp =Rt@Ap\n",
    "print(Bp)"
   ]
  },
  {
   "cell_type": "code",
   "execution_count": 60,
   "metadata": {},
   "outputs": [
    {
     "name": "stdout",
     "output_type": "stream",
     "text": [
      "[[ 0.4330127  -0.25        0.8660254  -3.        ]\n",
      " [ 0.88388348  0.30618622 -0.35355339  3.        ]\n",
      " [-0.1767767   0.91855865  0.35355339  6.        ]\n",
      " [ 0.          0.          0.          1.        ]]\n",
      "\n",
      "[[-0.29195215]\n",
      " [-7.17991057]\n",
      " [ 1.53741604]]\n",
      "\n",
      "[[ 0.4330127   0.88388348 -0.1767767  -0.29195215]\n",
      " [-0.25        0.30618622  0.91855865 -7.17991057]\n",
      " [ 0.8660254  -0.35355339  0.35355339  1.53741604]\n",
      " [ 0.          0.          0.          1.        ]]\n"
     ]
    }
   ],
   "source": [
    "#Q5\n",
    "\n",
    "R_x = rotx(45,unit='deg')  \n",
    "R_y = roty(60,unit='deg') \n",
    "R_z = rotz(30, unit='deg')\n",
    "q = np.array([[-3],[3],[6]])\n",
    "\n",
    "R = R_x @ R_y @ R_z\n",
    "t = np.c_[R, q]\n",
    "T = np.r_[t, [np.array([0,0,0,1])]] \n",
    "print(T)\n",
    "print()\n",
    "\n",
    "#now for the inverse homogenous transformation matrix\n",
    "RT = np.transpose(R)\n",
    "a = -RT @ q\n",
    "print(a)\n",
    "print()\n",
    "\n",
    "T = np.c_[RT, -RT @ q]\n",
    "T = np.r_[T, [np.array([0,0,0,1])]] \n",
    "print(T)"
   ]
  },
  {
   "cell_type": "code",
   "execution_count": 61,
   "metadata": {},
   "outputs": [
    {
     "name": "stdout",
     "output_type": "stream",
     "text": [
      "  -0.1268   -0.3536    0.9268    \n",
      "   0.6124    0.7071    0.3536    \n",
      "  -0.7803    0.6124    0.1268    \n",
      "\n",
      "\n",
      "[[-0.12682648 -0.35355339  0.9267767   1.        ]\n",
      " [ 0.61237244  0.70710678  0.35355339  2.        ]\n",
      " [-0.78033009  0.61237244  0.12682648 -3.        ]\n",
      " [ 0.          0.          0.          1.        ]]\n",
      "\n",
      "[[ 1.09284343]\n",
      " [ 4.38013939]\n",
      " [-2.42875873]]\n"
     ]
    }
   ],
   "source": [
    "#Q6\n",
    "\n",
    "R_Y = SO3.Ry(60,unit='deg')  \n",
    "R_y = SO3.Ry(30,unit='deg') \n",
    "R_z = SO3.Rz(45, unit='deg')\n",
    "q = np.array([[1],[2],[-3]])\n",
    "R = R_Y @ R_z @ R_y\n",
    "print(R)\n",
    "print()\n",
    "\n",
    "T = np.c_[R, q]\n",
    "T = np.r_[T, [np.array([0,0,0,1])]] \n",
    "print(T)\n",
    "print()\n",
    "\n",
    "Bp =np.array([[1],[2],[1],[1]])\n",
    "Ap = T@Bp\n",
    "print(Ap[:3])"
   ]
  },
  {
   "cell_type": "code",
   "execution_count": 62,
   "metadata": {},
   "outputs": [
    {
     "name": "stdout",
     "output_type": "stream",
     "text": [
      "   0.7071    0         0.7071    \n",
      "   0.7071    0        -0.7071    \n",
      "   0         1         0         \n",
      "\n",
      "\n",
      "[[ 7.07106781e-01 -4.32978028e-17  7.07106781e-01  2.00000000e+00]\n",
      " [ 7.07106781e-01  4.32978028e-17 -7.07106781e-01  3.00000000e+00]\n",
      " [ 0.00000000e+00  1.00000000e+00  6.12323400e-17  1.00000000e+00]\n",
      " [ 0.00000000e+00  0.00000000e+00  0.00000000e+00  1.00000000e+00]]\n",
      "\n",
      "[[-0.70710678]\n",
      " [ 2.        ]\n",
      " [ 0.70710678]]\n"
     ]
    }
   ],
   "source": [
    "#Q7\n",
    "\n",
    "R_x = SO3.Rx(90,unit='deg') \n",
    "R_z = SO3.Rz(45, unit='deg')\n",
    "q = np.array([[2],[3],[1]])\n",
    "R = R_z @ R_x           \n",
    "print(R)\n",
    "print()\n",
    "    \n",
    "t = np.c_[R, q]\n",
    "T = np.r_[t, [np.array([0,0,0,1])]]\n",
    "print(T)\n",
    "print()\n",
    "\n",
    "Ap = np.array([[2],[2],[3],[1]])\n",
    "Bp = np.linalg.inv(T)@Ap\n",
    "print(Bp[:3])"
   ]
  },
  {
   "cell_type": "code",
   "execution_count": 63,
   "metadata": {},
   "outputs": [
    {
     "name": "stdout",
     "output_type": "stream",
     "text": [
      "[[ 0.4330127 -0.25       0.8660254]\n",
      " [ 0.5        0.8660254  0.       ]\n",
      " [-0.75       0.4330127  0.5      ]]\n",
      "\n",
      "[[ 0.4330127 -0.25       0.8660254 -3.       ]\n",
      " [ 0.5        0.8660254  0.         3.       ]\n",
      " [-0.75       0.4330127  0.5       -1.       ]\n",
      " [ 0.         0.         0.         1.       ]]\n",
      "\n",
      "[[ 0.16506351]\n",
      " [-1.25      ]\n",
      " [ 5.33012702]]\n"
     ]
    }
   ],
   "source": [
    "#Q8\n",
    "\n",
    "R_y = roty(60,unit='deg') \n",
    "R_z = rotz(30, unit='deg')\n",
    "q = np.array([[-3],[3],[-1]])\n",
    "R = R_y @ R_z\n",
    "print(R)\n",
    "print()\n",
    "\n",
    "T = np.c_[R, q]\n",
    "T = np.r_[T, [np.array([0,0,0,1])]]\n",
    "print(T)\n",
    "print()\n",
    "\n",
    "Ap = np.array([[2],[2],[1],[1]])\n",
    "Bp = np.linalg.inv(T)@Ap\n",
    "print(Bp[:3])"
   ]
  },
  {
   "cell_type": "code",
   "execution_count": 64,
   "metadata": {},
   "outputs": [
    {
     "data": {
      "text/latex": [
       "$\\displaystyle \\left[\\begin{matrix}0.707106781186548 + 0.707106781186547 i & 0.707106781186548 - 0.707106781186547 i\\end{matrix}\\right]$"
      ],
      "text/plain": [
       "[0.707106781186548 + 0.707106781186547*I, 0.707106781186548 - 0.707106781186547*I]"
      ]
     },
     "execution_count": 64,
     "metadata": {},
     "output_type": "execute_result"
    }
   ],
   "source": [
    "#Q9\n",
    "\n",
    "sym.simplify(np.linalg.eigvals(SO2(45,unit='deg')))"
   ]
  },
  {
   "cell_type": "code",
   "execution_count": 65,
   "metadata": {},
   "outputs": [
    {
     "data": {
      "text/latex": [
       "$\\displaystyle \\left[\\begin{matrix}0.866025403784439 + 0.5 i & 0.866025403784439 - 0.5 i & 1.0\\end{matrix}\\right]$"
      ],
      "text/plain": [
       "[0.866025403784439 + 0.5*I, 0.866025403784439 - 0.5*I, 1.0]"
      ]
     },
     "execution_count": 65,
     "metadata": {},
     "output_type": "execute_result"
    }
   ],
   "source": [
    "#Q10\n",
    "\n",
    "sym.simplify(np.linalg.eigvals(rotx(30,unit='deg'))) "
   ]
  },
  {
   "cell_type": "markdown",
   "metadata": {},
   "source": [
    "# Part 2"
   ]
  },
  {
   "cell_type": "markdown",
   "metadata": {},
   "source": [
    "#### Q1 Finding Alpha,Beta,Gamma"
   ]
  },
  {
   "cell_type": "code",
   "execution_count": 66,
   "metadata": {},
   "outputs": [
    {
     "name": "stdout",
     "output_type": "stream",
     "text": [
      "{-sqrt((cos(θ) - 1)*(cos(θ) + 1)) + cos(θ): 1, sqrt((cos(θ) - 1)*(cos(θ) + 1)) + cos(θ): 1}\n",
      "\n",
      "\n",
      "[0.70710678+0.70710678j 0.70710678-0.70710678j]\n",
      "((0.7071067811865476+0.7071067811865475j), (0.7071067811865476-0.7071067811865475j))\n",
      "θ = 30 degrees\n",
      "[(0.8660254037844387+0.4999999999999999j), (0.8660254037844387-0.4999999999999999j), (1+0j)]\n"
     ]
    }
   ],
   "source": [
    "import numpy as np\n",
    "import spatialmath.base.symbolic as sym\n",
    "from numpy import linalg as ln\n",
    "from spatialmath.base import *\n",
    "from spatialmath import *\n",
    "from sympy import *\n",
    "\n",
    "T = Symbol('θ') # theta is a symbolic variable\n",
    "r = Matrix(rot2(T)).eigenvals()\n",
    "print(r)\n",
    "\n",
    "r= rot2(45, 'deg')\n",
    "\n",
    "e,v = np.linalg.eig(r)\n",
    "\n",
    "print('\\n')\n",
    "print(e)\n",
    "\n",
    "T = Symbol('θ')\n",
    "r = Matrix(rotx(T)).eigenvals()\n",
    "print(tuple(e))\n",
    "\n",
    "R = rotx(30,'deg')\n",
    "e,v = np.linalg.eig(R)\n",
    "print('θ = 30 degrees')\n",
    "print(list(e))"
   ]
  },
  {
   "cell_type": "markdown",
   "metadata": {},
   "source": [
    "### Question 2"
   ]
  },
  {
   "cell_type": "code",
   "execution_count": 67,
   "metadata": {},
   "outputs": [
    {
     "name": "stdout",
     "output_type": "stream",
     "text": [
      "[[6.12323399573677e-17*cos(0.0174532925199433*γ)\n",
      "  -1.0*sin(0.0174532925199433*α)*cos(0.0174532925199433*γ) - 1.0*sin(0.0174532925199433*γ)*cos(0.0174532925199433*α)\n",
      "  1.0*sin(0.0174532925199433*α)*sin(0.0174532925199433*γ) - 1.0*cos(0.0174532925199433*α)*cos(0.0174532925199433*γ)]\n",
      " [6.12323399573677e-17*sin(0.0174532925199433*γ)\n",
      "  -1.0*sin(0.0174532925199433*α)*sin(0.0174532925199433*γ) + 1.0*cos(0.0174532925199433*α)*cos(0.0174532925199433*γ)\n",
      "  -1.0*sin(0.0174532925199433*α)*cos(0.0174532925199433*γ) - 1.0*sin(0.0174532925199433*γ)*cos(0.0174532925199433*α)]\n",
      " [1.0 6.12323399573677e-17*sin(0.0174532925199433*α)\n",
      "  6.12323399573677e-17*cos(0.0174532925199433*α)]]\n"
     ]
    }
   ],
   "source": [
    "a = sym.symbol('α')\n",
    "b = sym.symbol('β')\n",
    "c = sym.symbol('γ')\n",
    "\n",
    "#More of a formula view\n",
    "rpy_matrix = np.matrix(rpy2r(a,b,c))\n",
    "#print(rpy_matrix)\n",
    "\n",
    "#input with actual values\n",
    "\n",
    "rpy_matrix = np.matrix(rpy2r(a,-90,c,unit='deg'))\n",
    "print(rpy_matrix)\n"
   ]
  },
  {
   "cell_type": "markdown",
   "metadata": {},
   "source": [
    "### Question 3"
   ]
  },
  {
   "cell_type": "code",
   "execution_count": 68,
   "metadata": {},
   "outputs": [
    {
     "name": "stdout",
     "output_type": "stream",
     "text": [
      "  6.12323399573677e-17*cos(γ) 1.0*sin(α)*cos(γ) - 1.0*sin(γ)*cos(α) 1.0*sin(α)*sin(γ) + 1.0*cos(α)*cos(γ)  \n",
      "  6.12323399573677e-17*sin(γ) 1.0*sin(α)*sin(γ) + 1.0*cos(α)*cos(γ) -1.0*sin(α)*cos(γ) + 1.0*sin(γ)*cos(α)  \n",
      "  -1        6.12323399573677e-17*sin(α) 6.12323399573677e-17*cos(α)  \n",
      "\n",
      "\n",
      "  -1.0*sin(α)*sin(γ) + 6.12323399573677e-17*cos(α)*cos(γ) -1.0*sin(α)*cos(γ) - 6.12323399573677e-17*sin(γ)*cos(α) 1.0*cos(α)    \n",
      "  6.12323399573677e-17*sin(α)*cos(γ) + 1.0*sin(γ)*cos(α) -6.12323399573677e-17*sin(α)*sin(γ) + 1.0*cos(α)*cos(γ) 1.0*sin(α)    \n",
      "  -1.0*cos(γ)  1.0*sin(γ)    0         \n",
      "\n"
     ]
    }
   ],
   "source": [
    "a = sym.symbol('α')\n",
    "b = sym.symbol('β')\n",
    "c = sym.symbol('γ')\n",
    "\n",
    "rpy_zyx = SO3.RPY(a,np.pi/2,c)\n",
    "print(rpy_zyx)\n",
    "print()\n",
    "\n",
    "rpy_zyz = SO3.Rz(a)*SO3.Ry(np.pi/2)*SO3.Rz(c)\n",
    "print(rpy_zyz)"
   ]
  },
  {
   "cell_type": "markdown",
   "metadata": {},
   "source": [
    "### Question 5"
   ]
  },
  {
   "cell_type": "code",
   "execution_count": 69,
   "metadata": {},
   "outputs": [
    {
     "name": "stdout",
     "output_type": "stream",
     "text": [
      " 0.7992 << -0.2506, -0.1938, -0.5109 >>\n",
      " 0.8660 << -0.1280, -0.1715, -0.4520 >>\n"
     ]
    }
   ],
   "source": [
    "theta = sym.symbol('theta')\n",
    "v1 = sym.symbol('v1')\n",
    "v2 = sym.symbol('v2')\n",
    "v3 = sym.symbol('v3')\n",
    "\n",
    "a = sym.cos(theta/2)\n",
    "b = v1*sym.sin(theta/2)\n",
    "c = v2*sym.sin(theta/2)\n",
    "d = v3*sym.sin(theta/2)\n",
    "\n",
    "q1 = UnitQuaternion([np.cos(-45*np.pi/180),0.256*np.sin(-60*np.pi/180),0.343*np.sin(-30*np.pi/180),0.904*np.sin(-30*np.pi/180)])\n",
    "print(q1)\n",
    "\n",
    "q2 = UnitQuaternion([np.cos(150*np.pi/180),0.256*np.sin(150*np.pi/180),0.343*np.sin(150*np.pi/180),0.904*np.sin(150*np.pi/180)])\n",
    "print(q2)\n",
    "\n",
    "if q1 == q2:\n",
    "    print(\"Q1 and q2 are equal and obeys equality\")\n"
   ]
  },
  {
   "cell_type": "markdown",
   "metadata": {},
   "source": [
    "### Question 6"
   ]
  },
  {
   "cell_type": "code",
   "execution_count": 70,
   "metadata": {},
   "outputs": [
    {
     "name": "stdout",
     "output_type": "stream",
     "text": [
      "The Hamiltonian product is :\n",
      "   1         0         0         \n",
      "   0         0.866    -0.5       \n",
      "   0         0.5       0.866     \n",
      "\n",
      "The Quaternion multiplication is : \n",
      "[ 5.          1.56217783 11.29422863]\n"
     ]
    }
   ],
   "source": [
    "v = [5 , 7 ,9]\n",
    "ham_prod = SO3.Rx(30,unit='deg')\n",
    "print(\"The Hamiltonian product is :\")\n",
    "print(ham_prod)\n",
    "q_mul = UnitQuaternion.Rx(30,\"deg\")*v\n",
    "print(\"The Quaternion multiplication is : \")\n",
    "print(q_mul)"
   ]
  },
  {
   "cell_type": "markdown",
   "metadata": {},
   "source": [
    "##### Part B"
   ]
  },
  {
   "cell_type": "markdown",
   "metadata": {},
   "source": [
    "### Question 1"
   ]
  },
  {
   "cell_type": "code",
   "execution_count": 95,
   "metadata": {},
   "outputs": [
    {
     "name": "stdout",
     "output_type": "stream",
     "text": [
      "[[0.4 x x]\n",
      " [0.138 x x]\n",
      " [-0.906 0.224 0.358]]\n",
      "\n",
      "[0.55910132 1.13386475 0.33221355]\n",
      "\n",
      "[[ 0.400024    0.17783971  0.899085  ]\n",
      " [ 0.13800828  0.95811947 -0.25091989]\n",
      " [-0.90605436  0.22445515  0.35872743]]\n"
     ]
    }
   ],
   "source": [
    "x = sym.symbol('x')\n",
    "\n",
    "rpy_matrix = np.matrix([[0.4,x,x],[0.138,x,x],[-0.906,0.224,0.358]])\n",
    "print(rpy_matrix)\n",
    "print()\n",
    "\n",
    "transform_matrix_2_rpy_angles = tr2rpy(rpy_matrix)\n",
    "print(transform_matrix_2_rpy_angles)\n",
    "print()\n",
    "\n",
    "new_rpy_matrix = rpy2r(transform_matrix_2_rpy_angles)\n",
    "print(new_rpy_matrix)"
   ]
  },
  {
   "cell_type": "markdown",
   "metadata": {},
   "source": [
    "### Question 2"
   ]
  },
  {
   "cell_type": "code",
   "execution_count": 72,
   "metadata": {},
   "outputs": [
    {
     "name": "stdout",
     "output_type": "stream",
     "text": [
      "[[-0.82 y 0]\n",
      " [y y y]\n",
      " [y y -1]]\n",
      "\n",
      "  1.0*cos(b)*cos(r) -1.0*sin(r)*cos(b) 1.0*sin(b)    \n",
      "  1.0*sin(r)   1.0*cos(r)   0             \n",
      "  -1.0*sin(b)*cos(r) 1.0*sin(b)*sin(r) 1.0*cos(b)    \n",
      "\n"
     ]
    },
    {
     "data": {
      "text/plain": [
       "array([[-8.20219435e-01, -5.72047526e-01,  1.30632653e-03],\n",
       "       [-5.72046800e-01,  8.20220475e-01,  9.11073160e-04],\n",
       "       [-1.59265292e-03,  0.00000000e+00, -9.99998732e-01]])"
      ]
     },
     "execution_count": 72,
     "metadata": {},
     "output_type": "execute_result"
    }
   ],
   "source": [
    "y = sym.symbol('y')\n",
    "b = sym.symbol('b')\n",
    "c = sym.symbol('r')\n",
    "\n",
    "R = np.matrix([[-0.82,y,0],[y,y,y],[y,y,-1]])\n",
    "print(R)\n",
    "print()\n",
    "R1 = SO3.Rz(0,unit='deg')*SO3.Ry(b)*SO3.Rz(c)\n",
    "print(R1)\n",
    "rpy2r(0,3.14,0.609)\n"
   ]
  },
  {
   "cell_type": "markdown",
   "metadata": {},
   "source": [
    "### Question 3"
   ]
  },
  {
   "cell_type": "code",
   "execution_count": 73,
   "metadata": {},
   "outputs": [
    {
     "name": "stdout",
     "output_type": "stream",
     "text": [
      "[ 0.75113617+0.86384182j  0.75113617-0.86384182j -0.50267233+0.j        ]\n",
      "\n",
      "[[ 0.63274431+0.j          0.63274431-0.j          0.45224126+0.j        ]\n",
      " [ 0.32270043+0.46145198j  0.32270043-0.46145198j -0.59338508+0.j        ]\n",
      " [-0.12012297+0.51781427j -0.12012297-0.51781427j  0.66586184+0.j        ]]\n",
      "\n",
      "1.57099632679623\n",
      "\n",
      " 0.7071 << -0.0001,  0.7071, -0.0001 >>\n"
     ]
    }
   ],
   "source": [
    "import math\n",
    "\n",
    "R = np.matrix([[0.333,0.9107,0.2440],\n",
    "                [-0.2440,0.3333,0.9107],\n",
    "                [-0.9107,0.2440,0.3333]])\n",
    "\n",
    "[x,e] = np.linalg.eig(R)\n",
    "print(x)\n",
    "print()\n",
    "print(e)\n",
    "print()\n",
    "\n",
    "axis_angle = math.acos((np.trace(R)-1)/2)\n",
    "print(axis_angle)\n",
    "print()\n",
    "\n",
    "q = UnitQuaternion(rpy2r(axis_angle,axis_angle,axis_angle))\n",
    "print(q)"
   ]
  },
  {
   "cell_type": "markdown",
   "metadata": {},
   "source": [
    "### Question 4"
   ]
  },
  {
   "cell_type": "code",
   "execution_count": 94,
   "metadata": {},
   "outputs": [
    {
     "name": "stdout",
     "output_type": "stream",
     "text": [
      "Position of the vertex F before rotation is :\n",
      "[[1.]\n",
      " [0.]\n",
      " [0.]]\n",
      "\n",
      "Rotation Matrix is :\n",
      "[[-0.44807362 -0.89399666  0.        ]\n",
      " [ 0.89399666 -0.44807362  0.        ]\n",
      " [ 0.          0.          1.        ]]\n",
      "\n",
      "Position of the vertex F after rotation is :\n",
      "[[-0.44807362]\n",
      " [-0.89399666]\n",
      " [ 0.        ]]\n",
      "Position of the vertex F after doing elementry rotations is :\n",
      "[[1.]\n",
      " [0.]\n",
      " [0.]]\n"
     ]
    }
   ],
   "source": [
    "\n",
    "#globally coordinates of the vertex F\n",
    "F = np.matrix([[1.0000],\n",
    "                [0.0000],\n",
    "                [0.0000]])\n",
    "\n",
    "print(\"Position of the vertex F before rotation is :\")\n",
    "print(F)\n",
    "print()\n",
    "\n",
    "#rotation matrix corresponding to rotation of the cube about its solid diagonal All by 90° in the counterclockwise direction\n",
    "R = np.matrix([[np.cos(90),-np.sin(90),0.0000],\n",
    "                [np.sin(90),np.cos(90),0.0000],\n",
    "                [0.0000,0.0000,1.0000]])\n",
    "print(\"Rotation Matrix is :\")\n",
    "print(R)\n",
    "print()\n",
    "\n",
    "#global coordinates of the vertex F after the rotation\n",
    "#f1 = inverse of R * F\n",
    "F1 = R.I*F\n",
    "print(\"Position of the vertex F after rotation is :\")\n",
    "print(F1)\n",
    "\n",
    "#rotation about the x-axis by 90° in the counterclockwise direction\n",
    "R1 = np.matrix([[1.0000,0.0000,0.0000],\n",
    "                [0.0000,0.0000,-1.0000],\n",
    "                [0.0000,1.0000,0.0000]])\n",
    "\n",
    "#rotation about the y-axis by 90° in the counterclockwise direction\n",
    "R2 = np.matrix([[0.0000,0.0000,1.0000],\n",
    "                [0.0000,1.0000,0.0000],\n",
    "                [-1.0000,0.0000,0.0000]])\n",
    "\n",
    "#rotation about the z-axis by 90° in the counterclockwise direction\n",
    "R3 = np.matrix([[0.0000,-1.0000,0.0000],\n",
    "                [1.0000,0.0000,0.0000],\n",
    "                [0.0000,0.0000,1.0000]])\n",
    "\n",
    "#making z axis rotation in clockwise direction to set F in the same place\n",
    "R4 = np.matrix([[0.0000,1.0000,0.0000],\n",
    "                [-1.0000,0.0000,0.0000],\n",
    "                [0.0000,0.0000,1.0000]])\n",
    "                \n",
    "R5 = np.matrix([[0.0000,0.0000,-1.0000],\n",
    "                [0.0000,1.0000,0.0000],\n",
    "                [1.0000,0.0000,0.0000]])\n",
    "\n",
    "#rotating in axis in such a way that the F comes to the same place\n",
    "F2 = R1*R2*R3*R4*R5*F\n",
    "\n",
    "print(\"Position of the vertex F after doing elementry rotations is :\")\n",
    "print(F2)"
   ]
  }
 ],
 "metadata": {
  "kernelspec": {
   "display_name": "Python 3.10.8 64-bit",
   "language": "python",
   "name": "python3"
  },
  "language_info": {
   "codemirror_mode": {
    "name": "ipython",
    "version": 3
   },
   "file_extension": ".py",
   "mimetype": "text/x-python",
   "name": "python",
   "nbconvert_exporter": "python",
   "pygments_lexer": "ipython3",
   "version": "3.10.8"
  },
  "orig_nbformat": 4,
  "vscode": {
   "interpreter": {
    "hash": "e7370f93d1d0cde622a1f8e1c04877d8463912d04d973331ad4851f04de6915a"
   }
  }
 },
 "nbformat": 4,
 "nbformat_minor": 2
}
