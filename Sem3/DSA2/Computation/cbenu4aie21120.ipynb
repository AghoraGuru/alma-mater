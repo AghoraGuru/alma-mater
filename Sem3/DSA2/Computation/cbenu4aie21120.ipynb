{
 "cells": [
  {
   "cell_type": "code",
   "execution_count": 6,
   "metadata": {},
   "outputs": [
    {
     "name": "stdout",
     "output_type": "stream",
     "text": [
      "BFS with Recurssion\n",
      "2 0 1 3 \n",
      "\n",
      "BFS Without Recurssion\n",
      "2 0 3 1 "
     ]
    }
   ],
   "source": [
    "#bfs using recurssion\n",
    "\n",
    "def bfsrec(graph,start,visited):\n",
    "    visited[start] = True\n",
    "    print(start,end=\" \")\n",
    "    for i in graph[start]:\n",
    "        if visited[i] == False:\n",
    "            bfsrec(graph,i,visited)\n",
    "\n",
    "graph = {0:[1,2],1:[2],2:[0,3],3:[3]}\n",
    "visited = [False]*len(graph)\n",
    "\n",
    "print(\"BFS with Recurssion\")\n",
    "bfsrec(graph,2,visited)\n",
    "\n",
    "#bfs without recurssion\n",
    "\n",
    "def bfs(graph,start,visited):\n",
    "    queue = []\n",
    "    queue.append(start)\n",
    "    visited[start] = True\n",
    "    while queue:\n",
    "        s = queue.pop(0)\n",
    "        print(s,end=\" \")\n",
    "        for i in graph[s]:\n",
    "            if visited[i] == False:\n",
    "                queue.append(i)\n",
    "                visited[i] = True\n",
    "graph = {0:[1,2],1:[2],2:[0,3],3:[3]}\n",
    "visited = [False]*len(graph)\n",
    "print(\"\\n\")\n",
    "print(\"BFS Without Recurssion\")\n",
    "bfs(graph,2,visited)"
   ]
  }
 ],
 "metadata": {
  "kernelspec": {
   "display_name": "Python 3",
   "language": "python",
   "name": "python3"
  },
  "language_info": {
   "codemirror_mode": {
    "name": "ipython",
    "version": 3
   },
   "file_extension": ".py",
   "mimetype": "text/x-python",
   "name": "python",
   "nbconvert_exporter": "python",
   "pygments_lexer": "ipython3",
   "version": "3.10.8 (main, Nov  1 2022, 14:18:21) [GCC 12.2.0]"
  },
  "orig_nbformat": 4,
  "vscode": {
   "interpreter": {
    "hash": "e7370f93d1d0cde622a1f8e1c04877d8463912d04d973331ad4851f04de6915a"
   }
  }
 },
 "nbformat": 4,
 "nbformat_minor": 2
}
