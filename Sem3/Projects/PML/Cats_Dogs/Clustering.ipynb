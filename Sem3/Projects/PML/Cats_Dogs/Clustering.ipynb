{
 "cells": [
  {
   "cell_type": "code",
   "execution_count": 1,
   "metadata": {},
   "outputs": [],
   "source": [
    "\n",
    "import numpy as np\n",
    "import pandas as pd\n",
    "import matplotlib.pyplot as plt\n",
    "import seaborn as sns\n",
    "import os\n",
    "import cv2"
   ]
  },
  {
   "cell_type": "code",
   "execution_count": 2,
   "metadata": {},
   "outputs": [
    {
     "name": "stdout",
     "output_type": "stream",
     "text": [
      "Total training cat images: 4000\n",
      "Total training dog images: 4000\n",
      "Total test cat images: 1000\n",
      "Total test dog images: 1000\n"
     ]
    }
   ],
   "source": [
    "#importing the data\n",
    "data_dir = '/home/kalyan/DataSets/DogsandCats/'\n",
    "train_dir = os.path.join(data_dir, 'training_set/training_set/')\n",
    "test_dir = os.path.join(data_dir, 'test_set/test_set')\n",
    "train_cats_dir = os.path.join(train_dir, 'cats')\n",
    "train_dogs_dir = os.path.join(train_dir, 'dogs')\n",
    "test_cats_dir = os.path.join(test_dir, 'cats')\n",
    "test_dogs_dir = os.path.join(test_dir, 'dogs')\n",
    "\n",
    "#checking the number of images in each folder\n",
    "print('Total training cat images:', len(os.listdir(train_cats_dir)))\n",
    "print('Total training dog images:', len(os.listdir(train_dogs_dir)))\n",
    "print('Total test cat images:', len(os.listdir(test_cats_dir)))\n",
    "print('Total test dog images:', len(os.listdir(test_dogs_dir)))\n"
   ]
  },
  {
   "cell_type": "code",
   "execution_count": 3,
   "metadata": {},
   "outputs": [],
   "source": [
    "#taking svd of the images and to truncatate first 10 features of the images as it is most contributing to the images\n",
    "\n",
    "def svd_truncate(img, n):\n",
    "    #converting images to grayscale\n",
    "    img = img.mean(axis=2)\n",
    "    U, s, V = np.linalg.svd(img)\n",
    "    U = U[:, :n]\n",
    "    s = s[:n]\n",
    "    us = np.dot(U, np.diag(s))\n",
    "    return us"
   ]
  },
  {
   "cell_type": "code",
   "execution_count": 4,
   "metadata": {},
   "outputs": [],
   "source": [
    "#getting svd of all images\n",
    "def get_svd_images(img_dir, n):\n",
    "    img_files = os.listdir(img_dir)\n",
    "    img_files = [os.path.join(img_dir, f) for f in img_files]\n",
    "    #img_files = [plt.imread(f) for f in img_files]\n",
    "    # read images from file, resize them into 100x100, store in single array\n",
    "    img_files = [cv2.resize(plt.imread(f), (100, 100)) for f in img_files]\n",
    "    svd_images = [svd_truncate(img, n) for img in img_files]\n",
    "    return svd_images"
   ]
  },
  {
   "cell_type": "code",
   "execution_count": 5,
   "metadata": {},
   "outputs": [],
   "source": [
    "cat_images = get_svd_images(train_cats_dir, 5)\n",
    "cat_images = np.array(cat_images)"
   ]
  },
  {
   "cell_type": "code",
   "execution_count": 6,
   "metadata": {},
   "outputs": [
    {
     "data": {
      "text/plain": [
       "(100, 5)"
      ]
     },
     "execution_count": 6,
     "metadata": {},
     "output_type": "execute_result"
    }
   ],
   "source": [
    "cat_images[0].shape"
   ]
  },
  {
   "cell_type": "code",
   "execution_count": 7,
   "metadata": {},
   "outputs": [],
   "source": [
    "dog_images = get_svd_images(train_dogs_dir, 5)\n",
    "dog_images = np.array(dog_images)"
   ]
  },
  {
   "cell_type": "code",
   "execution_count": 8,
   "metadata": {},
   "outputs": [
    {
     "name": "stdout",
     "output_type": "stream",
     "text": [
      "(8000, 100, 5)\n"
     ]
    }
   ],
   "source": [
    "#concatenating the images\n",
    "images = np.concatenate((cat_images, dog_images), axis=0)\n",
    "print(images.shape)"
   ]
  },
  {
   "cell_type": "code",
   "execution_count": 9,
   "metadata": {},
   "outputs": [
    {
     "name": "stdout",
     "output_type": "stream",
     "text": [
      "(8000,)\n"
     ]
    }
   ],
   "source": [
    "#creating labels for the images\n",
    "labels = np.concatenate((np.zeros(cat_images.shape[0]), np.ones(dog_images.shape[0])), axis=0)\n",
    "print(labels.shape)"
   ]
  },
  {
   "cell_type": "code",
   "execution_count": 10,
   "metadata": {},
   "outputs": [
    {
     "name": "stdout",
     "output_type": "stream",
     "text": [
      "(8000,)\n"
     ]
    }
   ],
   "source": [
    "#to solve this only size-1 arrays can be converted to Python scalars\n",
    "labels = labels.astype(int)\n",
    "print(labels.shape)"
   ]
  },
  {
   "cell_type": "code",
   "execution_count": 14,
   "metadata": {},
   "outputs": [
    {
     "name": "stdout",
     "output_type": "stream",
     "text": [
      "(1000, 100, 5)\n"
     ]
    }
   ],
   "source": [
    "test_cat_images = get_svd_images(test_cats_dir, 5)\n",
    "test_cat_images = np.array(test_cat_images)\n",
    "#test_cat_images = test_cat_images.reshape(test_cat_images.shape[0])\n",
    "print(test_cat_images.shape)"
   ]
  },
  {
   "cell_type": "code",
   "execution_count": 15,
   "metadata": {},
   "outputs": [
    {
     "name": "stdout",
     "output_type": "stream",
     "text": [
      "(1000, 100, 5)\n"
     ]
    }
   ],
   "source": [
    "#test for dogs\n",
    "test_dog_images = get_svd_images(test_dogs_dir, 5)\n",
    "test_dog_images = np.array(test_dog_images)\n",
    "#test_dog_images = test_dog_images.reshape(test_dog_images.shape[0], -1)\n",
    "print(test_dog_images.shape)\n"
   ]
  },
  {
   "cell_type": "code",
   "execution_count": 16,
   "metadata": {},
   "outputs": [
    {
     "name": "stdout",
     "output_type": "stream",
     "text": [
      "(2000, 100, 5)\n"
     ]
    }
   ],
   "source": [
    "#concatenating the test images\n",
    "test_images = np.concatenate((test_cat_images, test_dog_images), axis=0)\n",
    "print(test_images.shape)"
   ]
  },
  {
   "cell_type": "code",
   "execution_count": 17,
   "metadata": {},
   "outputs": [
    {
     "data": {
      "text/plain": [
       "array([0, 0, 0, ..., 1, 1, 1])"
      ]
     },
     "execution_count": 17,
     "metadata": {},
     "output_type": "execute_result"
    }
   ],
   "source": [
    "labels"
   ]
  },
  {
   "cell_type": "code",
   "execution_count": 18,
   "metadata": {},
   "outputs": [
    {
     "data": {
      "text/plain": [
       "(8000, 100, 5)"
      ]
     },
     "execution_count": 18,
     "metadata": {},
     "output_type": "execute_result"
    }
   ],
   "source": [
    "images.shape"
   ]
  },
  {
   "cell_type": "code",
   "execution_count": 21,
   "metadata": {},
   "outputs": [
    {
     "data": {
      "text/plain": [
       "array([[-5.29549600e+02],\n",
       "       [ 3.86837197e+00],\n",
       "       [ 1.90808671e+01],\n",
       "       [ 5.83913154e+01],\n",
       "       [ 4.21477638e+01],\n",
       "       [-5.33229614e+02],\n",
       "       [-2.68250376e+00],\n",
       "       [ 1.21026953e+01],\n",
       "       [ 5.69986941e+01],\n",
       "       [ 2.65860748e+01],\n",
       "       [-5.33121446e+02],\n",
       "       [-1.69054529e+01],\n",
       "       [ 9.91779418e+00],\n",
       "       [ 5.06062240e+01],\n",
       "       [ 3.77445302e+01],\n",
       "       [-5.37611881e+02],\n",
       "       [-1.42606084e+01],\n",
       "       [ 9.74183523e+00],\n",
       "       [ 4.16418599e+01],\n",
       "       [ 2.66550124e+01],\n",
       "       [-5.29219357e+02],\n",
       "       [-2.08882444e+01],\n",
       "       [ 6.01507976e+00],\n",
       "       [ 3.96861996e+01],\n",
       "       [ 2.17370240e+01],\n",
       "       [-5.20790642e+02],\n",
       "       [-2.40269818e+01],\n",
       "       [ 8.69824652e+00],\n",
       "       [ 3.40812479e+01],\n",
       "       [ 1.45612484e+01],\n",
       "       [-5.21436139e+02],\n",
       "       [-3.60398903e+01],\n",
       "       [ 4.85693720e+00],\n",
       "       [ 1.94946625e+01],\n",
       "       [ 4.03872853e+00],\n",
       "       [-5.83770900e+02],\n",
       "       [-1.07894135e+02],\n",
       "       [ 2.29361822e+01],\n",
       "       [-4.12054891e+00],\n",
       "       [ 1.13244026e+01],\n",
       "       [-6.15072800e+02],\n",
       "       [-1.32863481e+02],\n",
       "       [ 2.21426912e+01],\n",
       "       [-3.39291193e+01],\n",
       "       [ 1.12040614e+01],\n",
       "       [-6.45868257e+02],\n",
       "       [-1.25602779e+02],\n",
       "       [ 8.71625554e+00],\n",
       "       [-4.51729497e+01],\n",
       "       [ 2.93060594e+01],\n",
       "       [-6.66695346e+02],\n",
       "       [-1.36782772e+02],\n",
       "       [-7.57602722e-01],\n",
       "       [-5.24739748e+01],\n",
       "       [ 3.85279715e+01],\n",
       "       [-7.03596520e+02],\n",
       "       [-1.52290499e+02],\n",
       "       [-3.19960106e-01],\n",
       "       [-5.22419928e+01],\n",
       "       [ 2.48860470e+01],\n",
       "       [-7.42521455e+02],\n",
       "       [-2.08198810e+02],\n",
       "       [ 4.33689064e+01],\n",
       "       [-3.25106672e+01],\n",
       "       [-6.12585127e+00],\n",
       "       [-8.08183119e+02],\n",
       "       [-2.73921962e+02],\n",
       "       [ 8.67134389e+01],\n",
       "       [-2.02794152e+01],\n",
       "       [-9.52213538e+01],\n",
       "       [-8.38676951e+02],\n",
       "       [-3.11733348e+02],\n",
       "       [ 9.15050576e+01],\n",
       "       [-1.30281326e+01],\n",
       "       [-1.10166852e+02],\n",
       "       [-8.69387646e+02],\n",
       "       [-3.42484004e+02],\n",
       "       [ 5.98719662e+01],\n",
       "       [-3.62258238e+01],\n",
       "       [-1.24291290e+02],\n",
       "       [-8.86065663e+02],\n",
       "       [-3.52938615e+02],\n",
       "       [ 5.43485872e+01],\n",
       "       [-3.05142435e+01],\n",
       "       [-1.16870457e+02],\n",
       "       [-9.22149904e+02],\n",
       "       [-3.64982592e+02],\n",
       "       [ 4.90056878e+01],\n",
       "       [-2.38787444e+00],\n",
       "       [-1.02522412e+02],\n",
       "       [-9.40615125e+02],\n",
       "       [-3.75617736e+02],\n",
       "       [ 4.20162797e+01],\n",
       "       [ 1.47104239e+01],\n",
       "       [-9.30897966e+01],\n",
       "       [-9.52734314e+02],\n",
       "       [-3.96284567e+02],\n",
       "       [ 2.44278335e+01],\n",
       "       [ 1.02980994e+01],\n",
       "       [-8.45455905e+01],\n",
       "       [-9.51331575e+02],\n",
       "       [-4.16604744e+02],\n",
       "       [ 2.47683952e+01],\n",
       "       [ 1.03983177e+01],\n",
       "       [-6.79121694e+01],\n",
       "       [-9.27942772e+02],\n",
       "       [-4.24200673e+02],\n",
       "       [ 2.49922312e+01],\n",
       "       [ 3.08510808e+01],\n",
       "       [-3.71308261e+01],\n",
       "       [-9.48488517e+02],\n",
       "       [-3.88906046e+02],\n",
       "       [-1.98108938e+01],\n",
       "       [ 3.26889025e+01],\n",
       "       [-3.98584316e+01],\n",
       "       [-9.39994114e+02],\n",
       "       [-3.45960099e+02],\n",
       "       [-2.47264209e+01],\n",
       "       [ 3.61283993e+01],\n",
       "       [-6.36078499e+01],\n",
       "       [-9.36446459e+02],\n",
       "       [-3.35454976e+02],\n",
       "       [-1.49970256e+01],\n",
       "       [ 4.07094159e+01],\n",
       "       [-5.57324741e+01],\n",
       "       [-8.98687180e+02],\n",
       "       [-3.21950347e+02],\n",
       "       [-3.53904498e+01],\n",
       "       [ 3.87274715e+01],\n",
       "       [-1.65778557e+01],\n",
       "       [-8.27512459e+02],\n",
       "       [-2.96151665e+02],\n",
       "       [-4.01507741e+01],\n",
       "       [ 2.92145155e+01],\n",
       "       [-2.99835737e+01],\n",
       "       [-8.01942345e+02],\n",
       "       [-2.71103892e+02],\n",
       "       [-5.93479894e+01],\n",
       "       [-3.99153491e+00],\n",
       "       [-5.94706491e+01],\n",
       "       [-8.36353914e+02],\n",
       "       [-2.01811119e+02],\n",
       "       [-9.59535001e+01],\n",
       "       [-2.65024941e+00],\n",
       "       [-9.41007864e+01],\n",
       "       [-8.46786157e+02],\n",
       "       [-1.78965398e+02],\n",
       "       [-1.08475820e+02],\n",
       "       [ 1.64413772e+01],\n",
       "       [-4.47453607e+01],\n",
       "       [-8.39563591e+02],\n",
       "       [-1.61799551e+02],\n",
       "       [-1.16982297e+02],\n",
       "       [ 1.14667546e+01],\n",
       "       [-4.17405497e+00],\n",
       "       [-9.08037085e+02],\n",
       "       [-8.55617375e+01],\n",
       "       [-1.84669455e+02],\n",
       "       [-5.85849335e+00],\n",
       "       [-7.91864025e+00],\n",
       "       [-8.88191012e+02],\n",
       "       [ 2.47258789e+01],\n",
       "       [-2.17868786e+02],\n",
       "       [ 9.29981697e+00],\n",
       "       [ 2.98358423e+00],\n",
       "       [-9.23122697e+02],\n",
       "       [ 4.73038173e+01],\n",
       "       [-2.48523703e+02],\n",
       "       [-6.85420475e-01],\n",
       "       [-2.69448837e+01],\n",
       "       [-9.69762761e+02],\n",
       "       [ 7.31839264e+01],\n",
       "       [-2.92200681e+02],\n",
       "       [-2.58918775e+01],\n",
       "       [-4.06594516e+00],\n",
       "       [-9.90342377e+02],\n",
       "       [ 7.11294101e+01],\n",
       "       [-3.03757675e+02],\n",
       "       [-1.51812461e+01],\n",
       "       [ 1.85973491e+01],\n",
       "       [-9.91214053e+02],\n",
       "       [ 1.04295658e+02],\n",
       "       [-2.91323900e+02],\n",
       "       [ 1.88028197e+01],\n",
       "       [ 6.42163576e+01],\n",
       "       [-9.45721347e+02],\n",
       "       [ 8.87038178e+01],\n",
       "       [-2.52421045e+02],\n",
       "       [ 3.95740140e+01],\n",
       "       [ 1.04552154e+02],\n",
       "       [-9.83386755e+02],\n",
       "       [ 3.78885517e+01],\n",
       "       [-2.32589157e+02],\n",
       "       [ 2.31403709e+01],\n",
       "       [ 3.67146822e+01],\n",
       "       [-9.25317660e+02],\n",
       "       [ 7.36929636e+01],\n",
       "       [-2.38455050e+02],\n",
       "       [-5.20749923e+00],\n",
       "       [ 7.26601438e+01],\n",
       "       [-8.72286237e+02],\n",
       "       [ 1.00948315e+02],\n",
       "       [-2.12237751e+02],\n",
       "       [ 1.12359607e+01],\n",
       "       [ 7.70237770e+01],\n",
       "       [-8.82914506e+02],\n",
       "       [ 7.71263837e+01],\n",
       "       [-1.55899525e+02],\n",
       "       [ 2.82093353e+01],\n",
       "       [ 7.76967410e+01],\n",
       "       [-9.34896993e+02],\n",
       "       [ 2.58953328e+01],\n",
       "       [-1.30209615e+02],\n",
       "       [-3.14929814e+01],\n",
       "       [ 7.94323505e+01],\n",
       "       [-1.00595407e+03],\n",
       "       [ 2.30168390e+01],\n",
       "       [-1.33575447e+02],\n",
       "       [-6.26811275e+01],\n",
       "       [ 7.14837635e+01],\n",
       "       [-1.04977165e+03],\n",
       "       [ 1.51575544e+01],\n",
       "       [-1.41829006e+02],\n",
       "       [-7.14648311e+01],\n",
       "       [ 8.51393119e+01],\n",
       "       [-1.06776923e+03],\n",
       "       [ 3.32916109e+01],\n",
       "       [-1.40015413e+02],\n",
       "       [-7.13170788e+01],\n",
       "       [ 8.27995319e+01],\n",
       "       [-1.20852576e+03],\n",
       "       [ 2.03973402e+01],\n",
       "       [-2.07178671e+02],\n",
       "       [-3.79377018e+01],\n",
       "       [ 1.29044659e+02],\n",
       "       [-1.23059603e+03],\n",
       "       [ 1.21047395e+02],\n",
       "       [-2.04234822e+02],\n",
       "       [-2.58646864e+01],\n",
       "       [ 1.14598044e+02],\n",
       "       [-1.22940904e+03],\n",
       "       [ 9.14851004e+01],\n",
       "       [-2.19008237e+02],\n",
       "       [-3.41168073e+01],\n",
       "       [ 1.41645767e+02],\n",
       "       [-1.15830794e+03],\n",
       "       [ 8.32622958e+01],\n",
       "       [-1.08565768e+02],\n",
       "       [-2.89954981e+01],\n",
       "       [ 6.63280672e+01],\n",
       "       [-1.14996210e+03],\n",
       "       [ 1.70143536e+02],\n",
       "       [-1.33419622e+02],\n",
       "       [-7.12586399e+01],\n",
       "       [ 3.21455482e+01],\n",
       "       [-1.12102989e+03],\n",
       "       [ 1.82739143e+02],\n",
       "       [-9.94613909e+01],\n",
       "       [-1.07153118e+02],\n",
       "       [ 4.36449006e+01],\n",
       "       [-1.12442761e+03],\n",
       "       [ 1.88889859e+02],\n",
       "       [ 6.79747778e+01],\n",
       "       [-1.92509331e+02],\n",
       "       [ 2.55449922e+01],\n",
       "       [-1.04832685e+03],\n",
       "       [ 1.85112539e+02],\n",
       "       [ 1.73829620e+02],\n",
       "       [-2.91580934e+02],\n",
       "       [ 3.70013139e+01],\n",
       "       [-1.06097666e+03],\n",
       "       [ 1.73573432e+02],\n",
       "       [ 2.20795786e+02],\n",
       "       [-2.60045331e+02],\n",
       "       [ 4.64781990e+01],\n",
       "       [-1.10274198e+03],\n",
       "       [ 1.57850900e+02],\n",
       "       [ 2.31485983e+02],\n",
       "       [-2.63759603e+02],\n",
       "       [ 5.53117501e+01],\n",
       "       [-1.12189435e+03],\n",
       "       [ 1.57201493e+02],\n",
       "       [ 2.52130516e+02],\n",
       "       [-2.15879625e+02],\n",
       "       [ 3.93098366e+01],\n",
       "       [-1.15220117e+03],\n",
       "       [ 1.26366022e+02],\n",
       "       [ 2.60870682e+02],\n",
       "       [-1.90346268e+02],\n",
       "       [ 1.76450329e+00],\n",
       "       [-1.18280823e+03],\n",
       "       [ 1.07266790e+02],\n",
       "       [ 2.49517511e+02],\n",
       "       [-1.58309386e+02],\n",
       "       [ 1.14160333e+01],\n",
       "       [-1.18424830e+03],\n",
       "       [ 1.08897021e+02],\n",
       "       [ 1.87011477e+02],\n",
       "       [-1.56726976e+02],\n",
       "       [-8.99865828e+00],\n",
       "       [-1.21145281e+03],\n",
       "       [ 1.22238808e+02],\n",
       "       [ 1.87194894e+02],\n",
       "       [-1.63755634e+02],\n",
       "       [-4.01359775e+01],\n",
       "       [-1.19086926e+03],\n",
       "       [ 1.26632228e+02],\n",
       "       [ 1.55626142e+02],\n",
       "       [-1.42307268e+02],\n",
       "       [-2.23401891e+00],\n",
       "       [-1.16350510e+03],\n",
       "       [ 6.80793511e+01],\n",
       "       [ 6.43462445e+01],\n",
       "       [-1.31331866e+02],\n",
       "       [ 1.55103145e+01],\n",
       "       [-1.10634448e+03],\n",
       "       [ 7.35004922e+01],\n",
       "       [ 5.69520137e+01],\n",
       "       [-1.21204589e+02],\n",
       "       [ 3.58176030e+01],\n",
       "       [-1.08789206e+03],\n",
       "       [ 5.78225043e+01],\n",
       "       [ 6.37556098e+01],\n",
       "       [-1.04686995e+02],\n",
       "       [ 4.84618218e+01],\n",
       "       [-1.08681502e+03],\n",
       "       [ 6.92404958e+01],\n",
       "       [ 7.46979510e+01],\n",
       "       [-9.87505876e+01],\n",
       "       [-5.20341141e+00],\n",
       "       [-1.08067814e+03],\n",
       "       [ 4.97338011e+01],\n",
       "       [ 6.19807046e+01],\n",
       "       [-9.11911763e+01],\n",
       "       [-2.72091788e+01],\n",
       "       [-1.05575297e+03],\n",
       "       [ 8.39642088e+01],\n",
       "       [ 6.88855209e+01],\n",
       "       [-5.74927925e+01],\n",
       "       [-3.89072554e+01],\n",
       "       [-1.06688952e+03],\n",
       "       [ 6.43668207e+01],\n",
       "       [ 1.18601187e+02],\n",
       "       [ 3.33728341e+00],\n",
       "       [ 2.73998289e+01],\n",
       "       [-1.08876597e+03],\n",
       "       [ 5.71780298e+01],\n",
       "       [ 1.65723794e+02],\n",
       "       [ 3.13622893e+00],\n",
       "       [ 5.26543580e+01],\n",
       "       [-1.08505682e+03],\n",
       "       [ 1.09225383e+01],\n",
       "       [ 1.76830003e+02],\n",
       "       [ 6.10371488e+01],\n",
       "       [ 9.27222332e+01],\n",
       "       [-1.06748225e+03],\n",
       "       [-6.78801498e+01],\n",
       "       [ 1.97022609e+02],\n",
       "       [ 1.50426708e+02],\n",
       "       [ 1.27038564e+02],\n",
       "       [-1.06695023e+03],\n",
       "       [-5.06799250e+01],\n",
       "       [ 1.43517995e+02],\n",
       "       [ 2.46642364e+02],\n",
       "       [ 1.49469246e+02],\n",
       "       [-1.01901767e+03],\n",
       "       [-6.65291590e+01],\n",
       "       [ 1.85747314e+02],\n",
       "       [ 3.14497839e+02],\n",
       "       [ 1.61023142e+02],\n",
       "       [-9.58477580e+02],\n",
       "       [-3.23482654e+00],\n",
       "       [ 1.39535629e+02],\n",
       "       [ 3.46667361e+02],\n",
       "       [ 1.78665368e+02],\n",
       "       [-9.42986946e+02],\n",
       "       [ 9.79346019e+01],\n",
       "       [ 1.34484761e+02],\n",
       "       [ 3.85895732e+02],\n",
       "       [ 1.63995021e+02],\n",
       "       [-8.63046690e+02],\n",
       "       [ 1.26784686e+02],\n",
       "       [ 1.04933912e+02],\n",
       "       [ 3.41775726e+02],\n",
       "       [ 1.50950347e+02],\n",
       "       [-8.07273560e+02],\n",
       "       [ 1.58024202e+02],\n",
       "       [ 8.71757585e+01],\n",
       "       [ 3.19539734e+02],\n",
       "       [ 7.37924192e+01],\n",
       "       [-7.74183487e+02],\n",
       "       [ 1.99098184e+02],\n",
       "       [ 7.82587582e+01],\n",
       "       [ 2.98399749e+02],\n",
       "       [-3.91968142e+01],\n",
       "       [-7.48834487e+02],\n",
       "       [ 2.08525031e+02],\n",
       "       [ 9.70872075e+01],\n",
       "       [ 2.81386270e+02],\n",
       "       [-9.72692517e+01],\n",
       "       [-7.49178605e+02],\n",
       "       [ 1.88380764e+02],\n",
       "       [ 9.22698046e+01],\n",
       "       [ 2.30784815e+02],\n",
       "       [-1.39982720e+02],\n",
       "       [-7.32961328e+02],\n",
       "       [ 1.97216655e+02],\n",
       "       [ 8.93579211e+01],\n",
       "       [ 1.77359456e+02],\n",
       "       [-1.73680708e+02],\n",
       "       [-7.14630471e+02],\n",
       "       [ 2.17291133e+02],\n",
       "       [ 5.71294542e+01],\n",
       "       [ 1.55247589e+02],\n",
       "       [-2.11212958e+02],\n",
       "       [-7.35985438e+02],\n",
       "       [ 2.20958016e+02],\n",
       "       [ 4.78770841e+01],\n",
       "       [ 1.14394725e+02],\n",
       "       [-2.58135096e+02],\n",
       "       [-7.15579584e+02],\n",
       "       [ 2.33292272e+02],\n",
       "       [ 7.49188983e+00],\n",
       "       [ 9.27639834e+01],\n",
       "       [-2.66553803e+02],\n",
       "       [-6.89559590e+02],\n",
       "       [ 2.43846772e+02],\n",
       "       [-2.07593736e+01],\n",
       "       [ 6.82525092e+01],\n",
       "       [-2.61083664e+02],\n",
       "       [-6.74787157e+02],\n",
       "       [ 2.25421427e+02],\n",
       "       [-5.35988828e+01],\n",
       "       [ 4.99697135e+01],\n",
       "       [-2.35240961e+02],\n",
       "       [-7.00758465e+02],\n",
       "       [ 2.28498478e+02],\n",
       "       [-5.05814770e+01],\n",
       "       [ 5.18309313e+01],\n",
       "       [-2.44463041e+02],\n",
       "       [-6.82183991e+02],\n",
       "       [ 2.39839710e+02],\n",
       "       [-1.00872047e+02],\n",
       "       [ 3.11658661e+01],\n",
       "       [-2.06950492e+02],\n",
       "       [-5.83926534e+02],\n",
       "       [ 1.62551257e+02],\n",
       "       [-8.08123263e+01],\n",
       "       [ 2.45763045e+01],\n",
       "       [-1.71842287e+02],\n",
       "       [-5.16141756e+02],\n",
       "       [ 9.30255074e+01],\n",
       "       [-1.12275009e+02],\n",
       "       [-3.30512581e+00],\n",
       "       [-1.26321818e+02],\n",
       "       [-4.91475558e+02],\n",
       "       [ 9.06170013e+01],\n",
       "       [-1.22299586e+02],\n",
       "       [-8.89289302e+00],\n",
       "       [-1.10059501e+02],\n",
       "       [-4.89682940e+02],\n",
       "       [ 1.05161109e+02],\n",
       "       [-1.27209422e+02],\n",
       "       [-4.15821257e+00],\n",
       "       [-1.05926141e+02],\n",
       "       [-4.14298360e+02],\n",
       "       [ 6.26702822e+01],\n",
       "       [-7.25856260e+01],\n",
       "       [ 2.21625299e+01],\n",
       "       [-6.19577634e+01],\n",
       "       [-3.41479013e+02],\n",
       "       [ 2.39224841e+01],\n",
       "       [-1.35776241e+01],\n",
       "       [ 4.51555283e+01],\n",
       "       [-9.76459117e+00],\n",
       "       [-2.87420871e+02],\n",
       "       [-8.68364835e+00],\n",
       "       [ 2.38528482e+01],\n",
       "       [ 6.00466282e+01],\n",
       "       [ 2.47579281e+01],\n",
       "       [-2.74560128e+02],\n",
       "       [-9.98159329e+00],\n",
       "       [ 1.77771297e+01],\n",
       "       [ 5.70609567e+01],\n",
       "       [ 3.19561006e+01],\n",
       "       [-2.76018737e+02],\n",
       "       [-6.90341397e+00],\n",
       "       [ 2.08543693e+01],\n",
       "       [ 5.61128920e+01],\n",
       "       [ 3.23269057e+01],\n",
       "       [-2.59993488e+02],\n",
       "       [-8.23764037e+00],\n",
       "       [ 2.72070900e+01],\n",
       "       [ 5.88682386e+01],\n",
       "       [ 2.84158493e+01],\n",
       "       [-2.56532945e+02],\n",
       "       [-6.86989183e+00],\n",
       "       [ 3.09802402e+01],\n",
       "       [ 5.99625938e+01],\n",
       "       [ 2.71249211e+01]])"
      ]
     },
     "execution_count": 21,
     "metadata": {},
     "output_type": "execute_result"
    }
   ],
   "source": []
  },
  {
   "cell_type": "code",
   "execution_count": 20,
   "metadata": {},
   "outputs": [
    {
     "name": "stdout",
     "output_type": "stream",
     "text": [
      "(100, 5)\n",
      "(100, 5)\n",
      "(100, 5)\n",
      "(100, 5)\n",
      "(100, 5)\n",
      "(100, 5)\n",
      "(100, 5)\n",
      "(100, 5)\n",
      "(100, 5)\n",
      "(100, 5)\n",
      "(100, 5)\n",
      "(100, 5)\n",
      "(100, 5)\n",
      "(100, 5)\n",
      "(100, 5)\n",
      "(100, 5)\n",
      "(100, 5)\n",
      "(100, 5)\n",
      "(100, 5)\n",
      "(100, 5)\n",
      "(100, 5)\n",
      "(100, 5)\n",
      "(100, 5)\n",
      "(100, 5)\n",
      "(100, 5)\n",
      "(100, 5)\n",
      "(100, 5)\n",
      "(100, 5)\n",
      "(100, 5)\n",
      "(100, 5)\n",
      "(100, 5)\n",
      "(100, 5)\n",
      "(100, 5)\n",
      "(100, 5)\n",
      "(100, 5)\n",
      "(100, 5)\n",
      "(100, 5)\n",
      "(100, 5)\n",
      "(100, 5)\n",
      "(100, 5)\n",
      "(100, 5)\n",
      "(100, 5)\n",
      "(100, 5)\n",
      "(100, 5)\n",
      "(100, 5)\n",
      "(100, 5)\n",
      "(100, 5)\n",
      "(100, 5)\n",
      "(100, 5)\n",
      "(100, 5)\n",
      "(100, 5)\n",
      "(100, 5)\n",
      "(100, 5)\n",
      "(100, 5)\n",
      "(100, 5)\n",
      "(100, 5)\n",
      "(100, 5)\n",
      "(100, 5)\n",
      "(100, 5)\n",
      "(100, 5)\n",
      "(100, 5)\n",
      "(100, 5)\n",
      "(100, 5)\n",
      "(100, 5)\n",
      "(100, 5)\n",
      "(100, 5)\n",
      "(100, 5)\n",
      "(100, 5)\n",
      "(100, 5)\n",
      "(100, 5)\n",
      "(100, 5)\n",
      "(100, 5)\n",
      "(100, 5)\n",
      "(100, 5)\n",
      "(100, 5)\n",
      "(100, 5)\n",
      "(100, 5)\n",
      "(100, 5)\n",
      "(100, 5)\n",
      "(100, 5)\n"
     ]
    }
   ],
   "source": [
    "for i in range(len(images)):\n",
    "    if i % 100 == 0:\n",
    "        print(images[i].shape)"
   ]
  },
  {
   "cell_type": "code",
   "execution_count": 24,
   "metadata": {},
   "outputs": [
    {
     "data": {
      "text/plain": [
       "(8000, 100, 5)"
      ]
     },
     "execution_count": 24,
     "metadata": {},
     "output_type": "execute_result"
    }
   ],
   "source": [
    "images.shape"
   ]
  },
  {
   "cell_type": "code",
   "execution_count": 36,
   "metadata": {},
   "outputs": [],
   "source": [
    "image_1d = np.array([img.flatten() for img in images])\n",
    "test_images_1d = np.array([img.flatten() for img in test_images])"
   ]
  },
  {
   "cell_type": "code",
   "execution_count": 28,
   "metadata": {},
   "outputs": [
    {
     "data": {
      "text/plain": [
       "(8000, 500)"
      ]
     },
     "execution_count": 28,
     "metadata": {},
     "output_type": "execute_result"
    }
   ],
   "source": [
    "image_1d.shape"
   ]
  },
  {
   "cell_type": "code",
   "execution_count": 32,
   "metadata": {},
   "outputs": [
    {
     "data": {
      "text/plain": [
       "(8000,)"
      ]
     },
     "execution_count": 32,
     "metadata": {},
     "output_type": "execute_result"
    }
   ],
   "source": [
    "labels.shape"
   ]
  },
  {
   "cell_type": "code",
   "execution_count": null,
   "metadata": {},
   "outputs": [],
   "source": []
  },
  {
   "cell_type": "code",
   "execution_count": 37,
   "metadata": {},
   "outputs": [],
   "source": [
    "from sklearn.neighbors import KNeighborsClassifier\n",
    "\n",
    "knn = KNeighborsClassifier(n_neighbors=5)\n",
    "knn.fit(image_1d, labels)\n",
    "ypred = knn.predict(test_images_1d)"
   ]
  },
  {
   "cell_type": "code",
   "execution_count": 35,
   "metadata": {},
   "outputs": [
    {
     "data": {
      "text/plain": [
       "0.711"
      ]
     },
     "execution_count": 35,
     "metadata": {},
     "output_type": "execute_result"
    }
   ],
   "source": [
    "knn.score(image_1d, labels)"
   ]
  },
  {
   "cell_type": "code",
   "execution_count": 12,
   "metadata": {},
   "outputs": [
    {
     "name": "stdout",
     "output_type": "stream",
     "text": [
      "(1000, 1)\n"
     ]
    },
    {
     "name": "stderr",
     "output_type": "stream",
     "text": [
      "/home/kalyan/miniconda3/lib/python3.7/site-packages/ipykernel_launcher.py:3: VisibleDeprecationWarning: Creating an ndarray from ragged nested sequences (which is a list-or-tuple of lists-or-tuples-or ndarrays with different lengths or shapes) is deprecated. If you meant to do this, you must specify 'dtype=object' when creating the ndarray.\n",
      "  This is separate from the ipykernel package so we can avoid doing imports until\n"
     ]
    }
   ],
   "source": [
    "#creating a dataframe\n",
    "df = pd.DataFrame(images)\n",
    "df['label'] = labels"
   ]
  },
  {
   "cell_type": "code",
   "execution_count": 13,
   "metadata": {},
   "outputs": [],
   "source": [
    "test_cat_images = test_images"
   ]
  },
  {
   "cell_type": "code",
   "execution_count": 14,
   "metadata": {},
   "outputs": [
    {
     "name": "stdout",
     "output_type": "stream",
     "text": [
      "(1000, 1)\n"
     ]
    },
    {
     "name": "stderr",
     "output_type": "stream",
     "text": [
      "/home/kalyan/miniconda3/lib/python3.7/site-packages/ipykernel_launcher.py:3: VisibleDeprecationWarning: Creating an ndarray from ragged nested sequences (which is a list-or-tuple of lists-or-tuples-or ndarrays with different lengths or shapes) is deprecated. If you meant to do this, you must specify 'dtype=object' when creating the ndarray.\n",
      "  This is separate from the ipykernel package so we can avoid doing imports until\n"
     ]
    }
   ],
   "source": []
  },
  {
   "cell_type": "code",
   "execution_count": 15,
   "metadata": {},
   "outputs": [
    {
     "name": "stdout",
     "output_type": "stream",
     "text": [
      "(2000, 1)\n"
     ]
    }
   ],
   "source": []
  },
  {
   "cell_type": "code",
   "execution_count": 16,
   "metadata": {},
   "outputs": [],
   "source": [
    "#model building\n",
    "from sklearn.metrics import accuracy_score\n",
    "from sklearn.neighbors import KNeighborsClassifier\n",
    "from sklearn.linear_model import LogisticRegression\n",
    "\n",
    "\n",
    "X_train = df.drop('label', axis=1)\n",
    "y_train = df['label']\n",
    "X_test = test_images\n",
    "y_test = np.concatenate((np.zeros(test_cat_images.shape[0]), np.ones(test_dog_images.shape[0])), axis=0)\n",
    "y_test = y_test.astype(int)\n"
   ]
  },
  {
   "cell_type": "code",
   "execution_count": 41,
   "metadata": {},
   "outputs": [
    {
     "data": {
      "text/plain": [
       "pandas.core.frame.DataFrame"
      ]
     },
     "execution_count": 41,
     "metadata": {},
     "output_type": "execute_result"
    }
   ],
   "source": []
  },
  {
   "cell_type": "code",
   "execution_count": 25,
   "metadata": {},
   "outputs": [
    {
     "ename": "TypeError",
     "evalue": "unhashable type: 'numpy.ndarray'",
     "output_type": "error",
     "traceback": [
      "\u001b[0;31m---------------------------------------------------------------------------\u001b[0m",
      "\u001b[0;31mTypeError\u001b[0m                                 Traceback (most recent call last)",
      "\u001b[0;32m/tmp/ipykernel_6322/123400889.py\u001b[0m in \u001b[0;36m<module>\u001b[0;34m\u001b[0m\n\u001b[1;32m      2\u001b[0m \u001b[0;34m\u001b[0m\u001b[0m\n\u001b[1;32m      3\u001b[0m \u001b[0mclf\u001b[0m \u001b[0;34m=\u001b[0m \u001b[0mLazyClassifier\u001b[0m\u001b[0;34m(\u001b[0m\u001b[0;34m)\u001b[0m\u001b[0;34m\u001b[0m\u001b[0;34m\u001b[0m\u001b[0m\n\u001b[0;32m----> 4\u001b[0;31m \u001b[0mmodels\u001b[0m\u001b[0;34m,\u001b[0m \u001b[0mpredictions\u001b[0m \u001b[0;34m=\u001b[0m \u001b[0mclf\u001b[0m\u001b[0;34m.\u001b[0m\u001b[0mfit\u001b[0m\u001b[0;34m(\u001b[0m\u001b[0mX_train\u001b[0m\u001b[0;34m,\u001b[0m \u001b[0mX_test\u001b[0m\u001b[0;34m,\u001b[0m \u001b[0my_train\u001b[0m\u001b[0;34m,\u001b[0m \u001b[0my_test\u001b[0m\u001b[0;34m)\u001b[0m\u001b[0;34m\u001b[0m\u001b[0;34m\u001b[0m\u001b[0m\n\u001b[0m\u001b[1;32m      5\u001b[0m \u001b[0mprint\u001b[0m\u001b[0;34m(\u001b[0m\u001b[0mmodels\u001b[0m\u001b[0;34m)\u001b[0m\u001b[0;34m\u001b[0m\u001b[0;34m\u001b[0m\u001b[0m\n",
      "\u001b[0;32m~/miniconda3/lib/python3.7/site-packages/lazypredict/Supervised.py\u001b[0m in \u001b[0;36mfit\u001b[0;34m(self, X_train, X_test, y_train, y_test)\u001b[0m\n\u001b[1;32m    262\u001b[0m \u001b[0;34m\u001b[0m\u001b[0m\n\u001b[1;32m    263\u001b[0m         categorical_low, categorical_high = get_card_split(\n\u001b[0;32m--> 264\u001b[0;31m             \u001b[0mX_train\u001b[0m\u001b[0;34m,\u001b[0m \u001b[0mcategorical_features\u001b[0m\u001b[0;34m\u001b[0m\u001b[0;34m\u001b[0m\u001b[0m\n\u001b[0m\u001b[1;32m    265\u001b[0m         )\n\u001b[1;32m    266\u001b[0m \u001b[0;34m\u001b[0m\u001b[0m\n",
      "\u001b[0;32m~/miniconda3/lib/python3.7/site-packages/lazypredict/Supervised.py\u001b[0m in \u001b[0;36mget_card_split\u001b[0;34m(df, cols, n)\u001b[0m\n\u001b[1;32m    130\u001b[0m         \u001b[0mColumns\u001b[0m \u001b[0;32mwith\u001b[0m \u001b[0mcardinality\u001b[0m \u001b[0;34m>=\u001b[0m \u001b[0mn\u001b[0m\u001b[0;34m\u001b[0m\u001b[0;34m\u001b[0m\u001b[0m\n\u001b[1;32m    131\u001b[0m     \"\"\"\n\u001b[0;32m--> 132\u001b[0;31m     \u001b[0mcond\u001b[0m \u001b[0;34m=\u001b[0m \u001b[0mdf\u001b[0m\u001b[0;34m[\u001b[0m\u001b[0mcols\u001b[0m\u001b[0;34m]\u001b[0m\u001b[0;34m.\u001b[0m\u001b[0mnunique\u001b[0m\u001b[0;34m(\u001b[0m\u001b[0;34m)\u001b[0m \u001b[0;34m>\u001b[0m \u001b[0mn\u001b[0m\u001b[0;34m\u001b[0m\u001b[0;34m\u001b[0m\u001b[0m\n\u001b[0m\u001b[1;32m    133\u001b[0m     \u001b[0mcard_high\u001b[0m \u001b[0;34m=\u001b[0m \u001b[0mcols\u001b[0m\u001b[0;34m[\u001b[0m\u001b[0mcond\u001b[0m\u001b[0;34m]\u001b[0m\u001b[0;34m\u001b[0m\u001b[0;34m\u001b[0m\u001b[0m\n\u001b[1;32m    134\u001b[0m     \u001b[0mcard_low\u001b[0m \u001b[0;34m=\u001b[0m \u001b[0mcols\u001b[0m\u001b[0;34m[\u001b[0m\u001b[0;34m~\u001b[0m\u001b[0mcond\u001b[0m\u001b[0;34m]\u001b[0m\u001b[0;34m\u001b[0m\u001b[0;34m\u001b[0m\u001b[0m\n",
      "\u001b[0;32m~/miniconda3/lib/python3.7/site-packages/pandas/core/frame.py\u001b[0m in \u001b[0;36mnunique\u001b[0;34m(self, axis, dropna)\u001b[0m\n\u001b[1;32m   9956\u001b[0m         \u001b[0mdtype\u001b[0m\u001b[0;34m:\u001b[0m \u001b[0mint64\u001b[0m\u001b[0;34m\u001b[0m\u001b[0;34m\u001b[0m\u001b[0m\n\u001b[1;32m   9957\u001b[0m         \"\"\"\n\u001b[0;32m-> 9958\u001b[0;31m         \u001b[0;32mreturn\u001b[0m \u001b[0mself\u001b[0m\u001b[0;34m.\u001b[0m\u001b[0mapply\u001b[0m\u001b[0;34m(\u001b[0m\u001b[0mSeries\u001b[0m\u001b[0;34m.\u001b[0m\u001b[0mnunique\u001b[0m\u001b[0;34m,\u001b[0m \u001b[0maxis\u001b[0m\u001b[0;34m=\u001b[0m\u001b[0maxis\u001b[0m\u001b[0;34m,\u001b[0m \u001b[0mdropna\u001b[0m\u001b[0;34m=\u001b[0m\u001b[0mdropna\u001b[0m\u001b[0;34m)\u001b[0m\u001b[0;34m\u001b[0m\u001b[0;34m\u001b[0m\u001b[0m\n\u001b[0m\u001b[1;32m   9959\u001b[0m \u001b[0;34m\u001b[0m\u001b[0m\n\u001b[1;32m   9960\u001b[0m     \u001b[0;32mdef\u001b[0m \u001b[0midxmin\u001b[0m\u001b[0;34m(\u001b[0m\u001b[0mself\u001b[0m\u001b[0;34m,\u001b[0m \u001b[0maxis\u001b[0m\u001b[0;34m:\u001b[0m \u001b[0mAxis\u001b[0m \u001b[0;34m=\u001b[0m \u001b[0;36m0\u001b[0m\u001b[0;34m,\u001b[0m \u001b[0mskipna\u001b[0m\u001b[0;34m:\u001b[0m \u001b[0mbool\u001b[0m \u001b[0;34m=\u001b[0m \u001b[0;32mTrue\u001b[0m\u001b[0;34m)\u001b[0m \u001b[0;34m->\u001b[0m \u001b[0mSeries\u001b[0m\u001b[0;34m:\u001b[0m\u001b[0;34m\u001b[0m\u001b[0;34m\u001b[0m\u001b[0m\n",
      "\u001b[0;32m~/miniconda3/lib/python3.7/site-packages/pandas/core/frame.py\u001b[0m in \u001b[0;36mapply\u001b[0;34m(self, func, axis, raw, result_type, args, **kwargs)\u001b[0m\n\u001b[1;32m   8738\u001b[0m             \u001b[0mkwargs\u001b[0m\u001b[0;34m=\u001b[0m\u001b[0mkwargs\u001b[0m\u001b[0;34m,\u001b[0m\u001b[0;34m\u001b[0m\u001b[0;34m\u001b[0m\u001b[0m\n\u001b[1;32m   8739\u001b[0m         )\n\u001b[0;32m-> 8740\u001b[0;31m         \u001b[0;32mreturn\u001b[0m \u001b[0mop\u001b[0m\u001b[0;34m.\u001b[0m\u001b[0mapply\u001b[0m\u001b[0;34m(\u001b[0m\u001b[0;34m)\u001b[0m\u001b[0;34m\u001b[0m\u001b[0;34m\u001b[0m\u001b[0m\n\u001b[0m\u001b[1;32m   8741\u001b[0m \u001b[0;34m\u001b[0m\u001b[0m\n\u001b[1;32m   8742\u001b[0m     def applymap(\n",
      "\u001b[0;32m~/miniconda3/lib/python3.7/site-packages/pandas/core/apply.py\u001b[0m in \u001b[0;36mapply\u001b[0;34m(self)\u001b[0m\n\u001b[1;32m    686\u001b[0m             \u001b[0;32mreturn\u001b[0m \u001b[0mself\u001b[0m\u001b[0;34m.\u001b[0m\u001b[0mapply_raw\u001b[0m\u001b[0;34m(\u001b[0m\u001b[0;34m)\u001b[0m\u001b[0;34m\u001b[0m\u001b[0;34m\u001b[0m\u001b[0m\n\u001b[1;32m    687\u001b[0m \u001b[0;34m\u001b[0m\u001b[0m\n\u001b[0;32m--> 688\u001b[0;31m         \u001b[0;32mreturn\u001b[0m \u001b[0mself\u001b[0m\u001b[0;34m.\u001b[0m\u001b[0mapply_standard\u001b[0m\u001b[0;34m(\u001b[0m\u001b[0;34m)\u001b[0m\u001b[0;34m\u001b[0m\u001b[0;34m\u001b[0m\u001b[0m\n\u001b[0m\u001b[1;32m    689\u001b[0m \u001b[0;34m\u001b[0m\u001b[0m\n\u001b[1;32m    690\u001b[0m     \u001b[0;32mdef\u001b[0m \u001b[0magg\u001b[0m\u001b[0;34m(\u001b[0m\u001b[0mself\u001b[0m\u001b[0;34m)\u001b[0m\u001b[0;34m:\u001b[0m\u001b[0;34m\u001b[0m\u001b[0;34m\u001b[0m\u001b[0m\n",
      "\u001b[0;32m~/miniconda3/lib/python3.7/site-packages/pandas/core/apply.py\u001b[0m in \u001b[0;36mapply_standard\u001b[0;34m(self)\u001b[0m\n\u001b[1;32m    810\u001b[0m \u001b[0;34m\u001b[0m\u001b[0m\n\u001b[1;32m    811\u001b[0m     \u001b[0;32mdef\u001b[0m \u001b[0mapply_standard\u001b[0m\u001b[0;34m(\u001b[0m\u001b[0mself\u001b[0m\u001b[0;34m)\u001b[0m\u001b[0;34m:\u001b[0m\u001b[0;34m\u001b[0m\u001b[0;34m\u001b[0m\u001b[0m\n\u001b[0;32m--> 812\u001b[0;31m         \u001b[0mresults\u001b[0m\u001b[0;34m,\u001b[0m \u001b[0mres_index\u001b[0m \u001b[0;34m=\u001b[0m \u001b[0mself\u001b[0m\u001b[0;34m.\u001b[0m\u001b[0mapply_series_generator\u001b[0m\u001b[0;34m(\u001b[0m\u001b[0;34m)\u001b[0m\u001b[0;34m\u001b[0m\u001b[0;34m\u001b[0m\u001b[0m\n\u001b[0m\u001b[1;32m    813\u001b[0m \u001b[0;34m\u001b[0m\u001b[0m\n\u001b[1;32m    814\u001b[0m         \u001b[0;31m# wrap results\u001b[0m\u001b[0;34m\u001b[0m\u001b[0;34m\u001b[0m\u001b[0;34m\u001b[0m\u001b[0m\n",
      "\u001b[0;32m~/miniconda3/lib/python3.7/site-packages/pandas/core/apply.py\u001b[0m in \u001b[0;36mapply_series_generator\u001b[0;34m(self)\u001b[0m\n\u001b[1;32m    826\u001b[0m             \u001b[0;32mfor\u001b[0m \u001b[0mi\u001b[0m\u001b[0;34m,\u001b[0m \u001b[0mv\u001b[0m \u001b[0;32min\u001b[0m \u001b[0menumerate\u001b[0m\u001b[0;34m(\u001b[0m\u001b[0mseries_gen\u001b[0m\u001b[0;34m)\u001b[0m\u001b[0;34m:\u001b[0m\u001b[0;34m\u001b[0m\u001b[0;34m\u001b[0m\u001b[0m\n\u001b[1;32m    827\u001b[0m                 \u001b[0;31m# ignore SettingWithCopy here in case the user mutates\u001b[0m\u001b[0;34m\u001b[0m\u001b[0;34m\u001b[0m\u001b[0;34m\u001b[0m\u001b[0m\n\u001b[0;32m--> 828\u001b[0;31m                 \u001b[0mresults\u001b[0m\u001b[0;34m[\u001b[0m\u001b[0mi\u001b[0m\u001b[0;34m]\u001b[0m \u001b[0;34m=\u001b[0m \u001b[0mself\u001b[0m\u001b[0;34m.\u001b[0m\u001b[0mf\u001b[0m\u001b[0;34m(\u001b[0m\u001b[0mv\u001b[0m\u001b[0;34m)\u001b[0m\u001b[0;34m\u001b[0m\u001b[0;34m\u001b[0m\u001b[0m\n\u001b[0m\u001b[1;32m    829\u001b[0m                 \u001b[0;32mif\u001b[0m \u001b[0misinstance\u001b[0m\u001b[0;34m(\u001b[0m\u001b[0mresults\u001b[0m\u001b[0;34m[\u001b[0m\u001b[0mi\u001b[0m\u001b[0;34m]\u001b[0m\u001b[0;34m,\u001b[0m \u001b[0mABCSeries\u001b[0m\u001b[0;34m)\u001b[0m\u001b[0;34m:\u001b[0m\u001b[0;34m\u001b[0m\u001b[0;34m\u001b[0m\u001b[0m\n\u001b[1;32m    830\u001b[0m                     \u001b[0;31m# If we have a view on v, we need to make a copy because\u001b[0m\u001b[0;34m\u001b[0m\u001b[0;34m\u001b[0m\u001b[0;34m\u001b[0m\u001b[0m\n",
      "\u001b[0;32m~/miniconda3/lib/python3.7/site-packages/pandas/core/apply.py\u001b[0m in \u001b[0;36mf\u001b[0;34m(x)\u001b[0m\n\u001b[1;32m    129\u001b[0m \u001b[0;34m\u001b[0m\u001b[0m\n\u001b[1;32m    130\u001b[0m             \u001b[0;32mdef\u001b[0m \u001b[0mf\u001b[0m\u001b[0;34m(\u001b[0m\u001b[0mx\u001b[0m\u001b[0;34m)\u001b[0m\u001b[0;34m:\u001b[0m\u001b[0;34m\u001b[0m\u001b[0;34m\u001b[0m\u001b[0m\n\u001b[0;32m--> 131\u001b[0;31m                 \u001b[0;32mreturn\u001b[0m \u001b[0mfunc\u001b[0m\u001b[0;34m(\u001b[0m\u001b[0mx\u001b[0m\u001b[0;34m,\u001b[0m \u001b[0;34m*\u001b[0m\u001b[0margs\u001b[0m\u001b[0;34m,\u001b[0m \u001b[0;34m**\u001b[0m\u001b[0mkwargs\u001b[0m\u001b[0;34m)\u001b[0m\u001b[0;34m\u001b[0m\u001b[0;34m\u001b[0m\u001b[0m\n\u001b[0m\u001b[1;32m    132\u001b[0m \u001b[0;34m\u001b[0m\u001b[0m\n\u001b[1;32m    133\u001b[0m         \u001b[0;32melse\u001b[0m\u001b[0;34m:\u001b[0m\u001b[0;34m\u001b[0m\u001b[0;34m\u001b[0m\u001b[0m\n",
      "\u001b[0;32m~/miniconda3/lib/python3.7/site-packages/pandas/core/base.py\u001b[0m in \u001b[0;36mnunique\u001b[0;34m(self, dropna)\u001b[0m\n\u001b[1;32m   1015\u001b[0m         \u001b[0;36m4\u001b[0m\u001b[0;34m\u001b[0m\u001b[0;34m\u001b[0m\u001b[0m\n\u001b[1;32m   1016\u001b[0m         \"\"\"\n\u001b[0;32m-> 1017\u001b[0;31m         \u001b[0muniqs\u001b[0m \u001b[0;34m=\u001b[0m \u001b[0mself\u001b[0m\u001b[0;34m.\u001b[0m\u001b[0munique\u001b[0m\u001b[0;34m(\u001b[0m\u001b[0;34m)\u001b[0m\u001b[0;34m\u001b[0m\u001b[0;34m\u001b[0m\u001b[0m\n\u001b[0m\u001b[1;32m   1018\u001b[0m         \u001b[0;32mif\u001b[0m \u001b[0mdropna\u001b[0m\u001b[0;34m:\u001b[0m\u001b[0;34m\u001b[0m\u001b[0;34m\u001b[0m\u001b[0m\n\u001b[1;32m   1019\u001b[0m             \u001b[0muniqs\u001b[0m \u001b[0;34m=\u001b[0m \u001b[0mremove_na_arraylike\u001b[0m\u001b[0;34m(\u001b[0m\u001b[0muniqs\u001b[0m\u001b[0;34m)\u001b[0m\u001b[0;34m\u001b[0m\u001b[0;34m\u001b[0m\u001b[0m\n",
      "\u001b[0;32m~/miniconda3/lib/python3.7/site-packages/pandas/core/series.py\u001b[0m in \u001b[0;36munique\u001b[0;34m(self)\u001b[0m\n\u001b[1;32m   2037\u001b[0m         \u001b[0mCategories\u001b[0m \u001b[0;34m(\u001b[0m\u001b[0;36m3\u001b[0m\u001b[0;34m,\u001b[0m \u001b[0mobject\u001b[0m\u001b[0;34m)\u001b[0m\u001b[0;34m:\u001b[0m \u001b[0;34m[\u001b[0m\u001b[0;34m'a'\u001b[0m \u001b[0;34m<\u001b[0m \u001b[0;34m'b'\u001b[0m \u001b[0;34m<\u001b[0m \u001b[0;34m'c'\u001b[0m\u001b[0;34m]\u001b[0m\u001b[0;34m\u001b[0m\u001b[0;34m\u001b[0m\u001b[0m\n\u001b[1;32m   2038\u001b[0m         \"\"\"\n\u001b[0;32m-> 2039\u001b[0;31m         \u001b[0;32mreturn\u001b[0m \u001b[0msuper\u001b[0m\u001b[0;34m(\u001b[0m\u001b[0;34m)\u001b[0m\u001b[0;34m.\u001b[0m\u001b[0munique\u001b[0m\u001b[0;34m(\u001b[0m\u001b[0;34m)\u001b[0m\u001b[0;34m\u001b[0m\u001b[0;34m\u001b[0m\u001b[0m\n\u001b[0m\u001b[1;32m   2040\u001b[0m \u001b[0;34m\u001b[0m\u001b[0m\n\u001b[1;32m   2041\u001b[0m     \u001b[0;34m@\u001b[0m\u001b[0moverload\u001b[0m\u001b[0;34m\u001b[0m\u001b[0;34m\u001b[0m\u001b[0m\n",
      "\u001b[0;32m~/miniconda3/lib/python3.7/site-packages/pandas/core/base.py\u001b[0m in \u001b[0;36munique\u001b[0;34m(self)\u001b[0m\n\u001b[1;32m    977\u001b[0m                     \u001b[0mresult\u001b[0m \u001b[0;34m=\u001b[0m \u001b[0mnp\u001b[0m\u001b[0;34m.\u001b[0m\u001b[0masarray\u001b[0m\u001b[0;34m(\u001b[0m\u001b[0mresult\u001b[0m\u001b[0;34m)\u001b[0m\u001b[0;34m\u001b[0m\u001b[0;34m\u001b[0m\u001b[0m\n\u001b[1;32m    978\u001b[0m         \u001b[0;32melse\u001b[0m\u001b[0;34m:\u001b[0m\u001b[0;34m\u001b[0m\u001b[0;34m\u001b[0m\u001b[0m\n\u001b[0;32m--> 979\u001b[0;31m             \u001b[0mresult\u001b[0m \u001b[0;34m=\u001b[0m \u001b[0munique1d\u001b[0m\u001b[0;34m(\u001b[0m\u001b[0mvalues\u001b[0m\u001b[0;34m)\u001b[0m\u001b[0;34m\u001b[0m\u001b[0;34m\u001b[0m\u001b[0m\n\u001b[0m\u001b[1;32m    980\u001b[0m \u001b[0;34m\u001b[0m\u001b[0m\n\u001b[1;32m    981\u001b[0m         \u001b[0;32mreturn\u001b[0m \u001b[0mresult\u001b[0m\u001b[0;34m\u001b[0m\u001b[0;34m\u001b[0m\u001b[0m\n",
      "\u001b[0;32m~/miniconda3/lib/python3.7/site-packages/pandas/core/algorithms.py\u001b[0m in \u001b[0;36munique\u001b[0;34m(values)\u001b[0m\n\u001b[1;32m    429\u001b[0m \u001b[0;34m\u001b[0m\u001b[0m\n\u001b[1;32m    430\u001b[0m     \u001b[0mtable\u001b[0m \u001b[0;34m=\u001b[0m \u001b[0mhtable\u001b[0m\u001b[0;34m(\u001b[0m\u001b[0mlen\u001b[0m\u001b[0;34m(\u001b[0m\u001b[0mvalues\u001b[0m\u001b[0;34m)\u001b[0m\u001b[0;34m)\u001b[0m\u001b[0;34m\u001b[0m\u001b[0;34m\u001b[0m\u001b[0m\n\u001b[0;32m--> 431\u001b[0;31m     \u001b[0muniques\u001b[0m \u001b[0;34m=\u001b[0m \u001b[0mtable\u001b[0m\u001b[0;34m.\u001b[0m\u001b[0munique\u001b[0m\u001b[0;34m(\u001b[0m\u001b[0mvalues\u001b[0m\u001b[0;34m)\u001b[0m\u001b[0;34m\u001b[0m\u001b[0;34m\u001b[0m\u001b[0m\n\u001b[0m\u001b[1;32m    432\u001b[0m     \u001b[0muniques\u001b[0m \u001b[0;34m=\u001b[0m \u001b[0m_reconstruct_data\u001b[0m\u001b[0;34m(\u001b[0m\u001b[0muniques\u001b[0m\u001b[0;34m,\u001b[0m \u001b[0moriginal\u001b[0m\u001b[0;34m.\u001b[0m\u001b[0mdtype\u001b[0m\u001b[0;34m,\u001b[0m \u001b[0moriginal\u001b[0m\u001b[0;34m)\u001b[0m\u001b[0;34m\u001b[0m\u001b[0;34m\u001b[0m\u001b[0m\n\u001b[1;32m    433\u001b[0m     \u001b[0;32mreturn\u001b[0m \u001b[0muniques\u001b[0m\u001b[0;34m\u001b[0m\u001b[0;34m\u001b[0m\u001b[0m\n",
      "\u001b[0;32mpandas/_libs/hashtable_class_helper.pxi\u001b[0m in \u001b[0;36mpandas._libs.hashtable.PyObjectHashTable.unique\u001b[0;34m()\u001b[0m\n",
      "\u001b[0;32mpandas/_libs/hashtable_class_helper.pxi\u001b[0m in \u001b[0;36mpandas._libs.hashtable.PyObjectHashTable._unique\u001b[0;34m()\u001b[0m\n",
      "\u001b[0;31mTypeError\u001b[0m: unhashable type: 'numpy.ndarray'"
     ]
    }
   ],
   "source": [
    "#knn model\n",
    "knn = KNeighborsClassifier(n_neighbors=5)\n",
    "knn.fit(X_train, y_train)\n",
    "y_pred = knn.predict(X_test)\n",
    "print('Accuracy of KNN model is:', accuracy_score(y_test, y_pred))"
   ]
  }
 ],
 "metadata": {
  "kernelspec": {
   "display_name": "base",
   "language": "python",
   "name": "python3"
  },
  "language_info": {
   "codemirror_mode": {
    "name": "ipython",
    "version": 3
   },
   "file_extension": ".py",
   "mimetype": "text/x-python",
   "name": "python",
   "nbconvert_exporter": "python",
   "pygments_lexer": "ipython3",
   "version": "3.7.12"
  },
  "orig_nbformat": 4,
  "vscode": {
   "interpreter": {
    "hash": "18435721447aaa7b29792b509b4b765c4d69b94478d2c6d7cbe357a9dc2f4d62"
   }
  }
 },
 "nbformat": 4,
 "nbformat_minor": 2
}
