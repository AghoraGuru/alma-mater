{
 "cells": [
  {
   "cell_type": "code",
   "execution_count": 5,
   "metadata": {},
   "outputs": [],
   "source": [
    "import numpy as np\n",
    "import pandas as pd\n",
    "import matplotlib.pyplot as plt\n",
    "import seaborn as sns\n",
    "import os\n",
    "import cv2\n",
    "from sklearn.metrics import accuracy_score"
   ]
  },
  {
   "cell_type": "code",
   "execution_count": 6,
   "metadata": {},
   "outputs": [],
   "source": [
    "import operator\n",
    "\n",
    "\n",
    "class KNeighborsClassifier():\n",
    "    \n",
    "    def __init__(self, n_neighbors=5):\n",
    "        self.neighbors = n_neighbors #this will initialize the number od neighbors to 5\n",
    "        \n",
    "    def fit():\n",
    "        pass\n",
    "    \n",
    "    def predict():\n",
    "        pass\n",
    "    \n",
    "    def euclidian_dist(self, point_1, point_2): #this function will calculate the euclidian distance between two points\n",
    "        dist = 0.0\n",
    "        for i in range(len(point_1) - 1):\n",
    "            dist += pow(point_1[i] - point_2[i], 2)\n",
    "        return np.sqrt(dist)\n",
    "    \n",
    "    def calc_distances(self, data, new_point): #this function will calculate the distance between the new point and all the points in the dataset\n",
    "        distances = []\n",
    "        neighbors = []\n",
    "        for i in data:\n",
    "            distances.append((i, self.euclidian_dist(new_point, i))) #this will append the distance between the new point and the point in the dataset\n",
    "        distances.sort(key=operator.itemgetter(1)) #this will sort the distances in ascending order\n",
    "        for i in range(self.neighbors):\n",
    "            neighbors.append(distances[i][0]) #this will append the neighbors to the neighbors list\n",
    "        return neighbors\n",
    "    \n",
    "    def find_majority(self, neighbors, train_X, train_y): #this function will find the majority of the neighbors\n",
    "        iter_y = [] \n",
    "        for i in neighbors:\n",
    "            iter_y.append(train_y[np.where(train_X == i)[0][0]]) #this will append the class of the neighbor to the iter_y list i.e if the neighbor is a cat then it will append cat to the list\n",
    "        return max(iter_y)\n",
    "    \n",
    "    def fit(self, train_X, train_y): #this will fit the model\n",
    "        set_of_classes = set(train_y) #this will find the unique classes in the dataset\n",
    "        self.classes = 0;\n",
    "        for i in set_of_classes: #this will count the number of classes in the dataset\n",
    "            self.classes += 1\n",
    "        self.X = train_X #this will store the training data\n",
    "        self.y = train_y #this will store the training labels\n",
    "        self.data_len = len(train_X) #this will store the length of the training data\n",
    "        \n",
    "    def predict(self, test_y):#this will predict the class of the test\n",
    "        y_pred = []  #this will store the predicted classes\n",
    "        neighbors = [] #this will store the neighbors\n",
    "        for i in test_y:\n",
    "            neighbors = self.calc_distances(self.X, i) #this will find the neighbors\n",
    "            y_pred.append(self.find_majority(neighbors, self.X, self.y)) #this will find the majority of the neighbors\n",
    "        return y_pred #and we will return the predicted classes"
   ]
  },
  {
   "cell_type": "code",
   "execution_count": 7,
   "metadata": {},
   "outputs": [],
   "source": [
    "class Kmeans():\n",
    "    \n",
    "    def __init__(self, n_clusters=5):\n",
    "        self.clusters = n_clusters\n",
    "\n",
    "    def fit(self, X):\n",
    "        self.X = X\n",
    "        self.data_len = len(X)\n",
    "        self.centroids = []\n",
    "        for i in range(self.clusters):\n",
    "            self.centroids.append(X[i])\n",
    "        self.centroids = np.array(self.centroids)\n",
    "        self.clusters = np.zeros(self.data_len)\n",
    "\n",
    "    def euclidian_dist(self, point_1, point_2):\n",
    "        dist = 0.0\n",
    "        for i in range(len(point_1)):\n",
    "            dist += pow(point_1[i] - point_2[i], 2)\n",
    "        return np.sqrt(dist)\n",
    "\n",
    "    def calc_distances(self, data, new_point):\n",
    "        distances = []\n",
    "        for i in data:\n",
    "            distances.append(self.euclidian_dist(new_point, i))\n",
    "        return distances\n",
    "\n",
    "    def find_nearest_centroid(self, new_point):\n",
    "        distances = self.calc_distances(self.centroids, new_point)\n",
    "        return np.argmin(distances)\n",
    "\n",
    "    def update_centroids(self):\n",
    "        for i in range(self.clusters):\n",
    "            points = [self.X[j] for j in range(len(self.X)) if self.clusters[j] == i]\n",
    "            self.centroids[i] = np.mean(points, axis=0)\n",
    "            \n",
    "    def predict(self, test_X):\n",
    "        y_pred = []\n",
    "        for i in test_X:\n",
    "            y_pred.append(self.find_nearest_centroid(i))\n",
    "        return y_pred\n",
    "\n",
    "        "
   ]
  },
  {
   "cell_type": "code",
   "execution_count": 8,
   "metadata": {},
   "outputs": [
    {
     "name": "stdout",
     "output_type": "stream",
     "text": [
      "Total training cat images: 4000\n",
      "Total training dog images: 4000\n",
      "Total test cat images: 1000\n",
      "Total test dog images: 1000\n"
     ]
    }
   ],
   "source": [
    "#importing the data\n",
    "data_dir = '/home/kalyan/DataSets/DogsandCats/'\n",
    "train_dir = os.path.join(data_dir, 'training_set/training_set/')\n",
    "test_dir = os.path.join(data_dir, 'test_set/test_set')\n",
    "train_cats_dir = os.path.join(train_dir, 'cats')\n",
    "train_dogs_dir = os.path.join(train_dir, 'dogs')\n",
    "test_cats_dir = os.path.join(test_dir, 'cats')\n",
    "test_dogs_dir = os.path.join(test_dir, 'dogs')\n",
    "\n",
    "\n",
    "#checking the number of images in each folder\n",
    "print('Total training cat images:', len(os.listdir(train_cats_dir)))\n",
    "print('Total training dog images:', len(os.listdir(train_dogs_dir)))\n",
    "print('Total test cat images:', len(os.listdir(test_cats_dir)))\n",
    "print('Total test dog images:', len(os.listdir(test_dogs_dir)))\n"
   ]
  },
  {
   "cell_type": "code",
   "execution_count": 9,
   "metadata": {},
   "outputs": [],
   "source": [
    "#taking svd of the images and to truncatate first 10 features of the images as it is most contributing to the images\n",
    "'''\n",
    "Input : An image and number of features to be truncated\n",
    "Output : Truncated US matrix\n",
    "'''\n",
    "def svd_truncate(img, n):\n",
    "    #converting images to grayscale\n",
    "    img = img.mean(axis=2) # convert to grayscale\n",
    "    U, s, V = np.linalg.svd(img)\n",
    "    U = U[:, :n]\n",
    "    s = s[:n]\n",
    "    us = np.dot(U, np.diag(s))\n",
    "    return us\n",
    "#getting svd of all images\n",
    "'''\n",
    "Input : Directory of the images and number of features to be truncated\n",
    "Output : List of truncated US matrix\n",
    "'''\n",
    "def get_svd_images(img_dir, n):\n",
    "    img_files = os.listdir(img_dir)\n",
    "    img_files = [os.path.join(img_dir, f) for f in img_files]\n",
    "    #img_files = [plt.imread(f) for f in img_files]\n",
    "    # read images from file, resize them into 100x100, store in single array\n",
    "    img_files = [cv2.resize(plt.imread(f), (200, 200)) for f in img_files]\n",
    "    svd_images = [svd_truncate(img, n) for img in img_files]\n",
    "    return svd_images"
   ]
  },
  {
   "cell_type": "code",
   "execution_count": 10,
   "metadata": {},
   "outputs": [
    {
     "name": "stdout",
     "output_type": "stream",
     "text": [
      "(8000, 200, 5)\n"
     ]
    }
   ],
   "source": [
    "'''\n",
    "Train Images\n",
    "Input : Directory of the images and number of features to be truncated\n",
    "Output : Truncated US matrix of cats and dogs\n",
    "'''\n",
    "cat_images = get_svd_images(train_cats_dir, 5)\n",
    "cat_images = np.array(cat_images)\n",
    "dog_images = get_svd_images(train_dogs_dir, 5)\n",
    "dog_images = np.array(dog_images)\n",
    "#concatenating the images\n",
    "train_images = np.concatenate((cat_images, dog_images), axis=0)\n",
    "print(train_images.shape)"
   ]
  },
  {
   "cell_type": "code",
   "execution_count": 11,
   "metadata": {},
   "outputs": [
    {
     "name": "stdout",
     "output_type": "stream",
     "text": [
      "(8000,)\n"
     ]
    }
   ],
   "source": [
    "#creating labels for the train images\n",
    "train_labels = np.concatenate((np.zeros(len(cat_images)), np.ones(len(dog_images))), axis=0)\n",
    "print(train_labels.shape)"
   ]
  },
  {
   "cell_type": "code",
   "execution_count": 12,
   "metadata": {},
   "outputs": [
    {
     "name": "stdout",
     "output_type": "stream",
     "text": [
      "(1000, 200, 5)\n",
      "(1000, 200, 5)\n",
      "(2000, 200, 5)\n"
     ]
    }
   ],
   "source": [
    "'''\n",
    "Test Images\n",
    "Input : Directory of the images and number of features to be truncated\n",
    "Output : Truncated US matrix of cats and dogs\n",
    "'''\n",
    "test_cat_images = get_svd_images(test_cats_dir, 5)\n",
    "test_cat_images = np.array(test_cat_images)\n",
    "print(test_cat_images.shape)\n",
    "#test for dogs\n",
    "test_dog_images = get_svd_images(test_dogs_dir, 5)\n",
    "test_dog_images = np.array(test_dog_images)\n",
    "print(test_dog_images.shape)\n",
    "#concatenating the test images\n",
    "test_images = np.concatenate((test_cat_images, test_dog_images), axis=0)\n",
    "print(test_images.shape)"
   ]
  },
  {
   "cell_type": "code",
   "execution_count": 13,
   "metadata": {},
   "outputs": [
    {
     "name": "stdout",
     "output_type": "stream",
     "text": [
      "(8000, 1000)\n",
      "(2000, 1000)\n"
     ]
    }
   ],
   "source": [
    "train_image_1d = np.array([img.flatten() for img in train_images])\n",
    "test_image_1d = np.array([img.flatten() for img in test_images])\n",
    "print(train_image_1d.shape)\n",
    "print(test_image_1d.shape)"
   ]
  },
  {
   "cell_type": "code",
   "execution_count": 14,
   "metadata": {},
   "outputs": [
    {
     "name": "stdout",
     "output_type": "stream",
     "text": [
      "(2000,)\n"
     ]
    }
   ],
   "source": [
    "#creating labels for the test images\n",
    "test_labels = np.concatenate((np.zeros(len(test_cat_images)), np.ones(len(test_dog_images))), axis=0)\n",
    "print(test_labels.shape)"
   ]
  },
  {
   "cell_type": "code",
   "execution_count": 15,
   "metadata": {},
   "outputs": [
    {
     "name": "stdout",
     "output_type": "stream",
     "text": [
      "0.5045\n"
     ]
    }
   ],
   "source": [
    "knn = KNeighborsClassifier()\n",
    "knn.fit(train_image_1d,train_labels)\n",
    "y_pred = knn.predict(test_image_1d)\n",
    "print(accuracy_score(test_labels, y_pred))\n"
   ]
  },
  {
   "cell_type": "code",
   "execution_count": 14,
   "metadata": {},
   "outputs": [
    {
     "name": "stdout",
     "output_type": "stream",
     "text": [
      "0.47\n"
     ]
    }
   ],
   "source": [
    "knn = KNeighborsClassifier(n_neighbors=3)\n",
    "knn.fit(train_image_1d, train_labels)\n",
    "y_pred = knn.predict(test_image_1d)\n",
    "print(accuracy_score(test_labels, y_pred))"
   ]
  },
  {
   "cell_type": "code",
   "execution_count": 15,
   "metadata": {},
   "outputs": [
    {
     "name": "stdout",
     "output_type": "stream",
     "text": [
      "              precision    recall  f1-score   support\n",
      "\n",
      "         0.0       0.41      0.14      0.21        50\n",
      "         1.0       0.48      0.80      0.60        50\n",
      "\n",
      "    accuracy                           0.47       100\n",
      "   macro avg       0.45      0.47      0.41       100\n",
      "weighted avg       0.45      0.47      0.41       100\n",
      "\n",
      "[[ 7 43]\n",
      " [10 40]]\n"
     ]
    }
   ],
   "source": [
    "#get f1 score,precision recall and confusion matrix\n",
    "#for knn\n",
    "from sklearn.metrics import classification_report, confusion_matrix\n",
    "print(classification_report(test_labels, y_pred))\n",
    "print(confusion_matrix(test_labels, y_pred))\n"
   ]
  },
  {
   "cell_type": "code",
   "execution_count": 16,
   "metadata": {},
   "outputs": [
    {
     "name": "stdout",
     "output_type": "stream",
     "text": [
      "0.43\n"
     ]
    }
   ],
   "source": [
    "kmenas= Kmeans(5)\n",
    "kmenas.fit(train_image_1d)\n",
    "y_pred = kmenas.predict(test_image_1d)\n",
    "print(accuracy_score(test_labels, y_pred))\n"
   ]
  },
  {
   "cell_type": "code",
   "execution_count": 17,
   "metadata": {},
   "outputs": [
    {
     "name": "stdout",
     "output_type": "stream",
     "text": [
      "              precision    recall  f1-score   support\n",
      "\n",
      "         0.0       0.52      0.54      0.53        50\n",
      "         1.0       0.59      0.32      0.42        50\n",
      "         2.0       0.00      0.00      0.00         0\n",
      "         3.0       0.00      0.00      0.00         0\n",
      "         4.0       0.00      0.00      0.00         0\n",
      "\n",
      "    accuracy                           0.43       100\n",
      "   macro avg       0.22      0.17      0.19       100\n",
      "weighted avg       0.56      0.43      0.47       100\n",
      "\n",
      "[[27 11  2  4  6]\n",
      " [25 16  2  1  6]\n",
      " [ 0  0  0  0  0]\n",
      " [ 0  0  0  0  0]\n",
      " [ 0  0  0  0  0]]\n"
     ]
    },
    {
     "name": "stderr",
     "output_type": "stream",
     "text": [
      "/home/kalyan/miniconda3/lib/python3.7/site-packages/sklearn/metrics/_classification.py:1318: UndefinedMetricWarning: Recall and F-score are ill-defined and being set to 0.0 in labels with no true samples. Use `zero_division` parameter to control this behavior.\n",
      "  _warn_prf(average, modifier, msg_start, len(result))\n",
      "/home/kalyan/miniconda3/lib/python3.7/site-packages/sklearn/metrics/_classification.py:1318: UndefinedMetricWarning: Recall and F-score are ill-defined and being set to 0.0 in labels with no true samples. Use `zero_division` parameter to control this behavior.\n",
      "  _warn_prf(average, modifier, msg_start, len(result))\n",
      "/home/kalyan/miniconda3/lib/python3.7/site-packages/sklearn/metrics/_classification.py:1318: UndefinedMetricWarning: Recall and F-score are ill-defined and being set to 0.0 in labels with no true samples. Use `zero_division` parameter to control this behavior.\n",
      "  _warn_prf(average, modifier, msg_start, len(result))\n"
     ]
    }
   ],
   "source": [
    "#get f1 score,precision recall and confusion matrix\n",
    "#for kmeans\n",
    "from sklearn.metrics import classification_report, confusion_matrix\n",
    "print(classification_report(test_labels, y_pred))\n",
    "print(confusion_matrix(test_labels, y_pred))\n"
   ]
  },
  {
   "cell_type": "code",
   "execution_count": 16,
   "metadata": {},
   "outputs": [
    {
     "name": "stdout",
     "output_type": "stream",
     "text": [
      "100%|██████████| 1/1 [01:32<00:00, 92.58s/trial, best loss: 0.878125]\n",
      "100%|██████████| 2/2 [00:58<00:00, 58.78s/trial, best loss: 0.30625]\n",
      "100%|██████████| 3/3 [00:00<00:00,  1.54trial/s, best loss: 0.30625]\n",
      "100%|██████████| 4/4 [00:00<00:00,  3.49trial/s, best loss: 0.30625]\n",
      "100%|██████████| 5/5 [02:00<00:00, 120.15s/trial, best loss: 0.30625]\n",
      "100%|██████████| 6/6 [02:00<00:00, 120.15s/trial, best loss: 0.30625]\n",
      "100%|██████████| 7/7 [00:20<00:00, 20.79s/trial, best loss: 0.30625]\n",
      "100%|██████████| 8/8 [00:00<00:00,  3.74trial/s, best loss: 0.30625]\n",
      "100%|██████████| 9/9 [00:00<00:00,  1.66trial/s, best loss: 0.30625]\n",
      "100%|██████████| 10/10 [02:00<00:00, 120.12s/trial, best loss: 0.30625]\n",
      "100%|██████████| 11/11 [00:00<00:00,  2.20trial/s, best loss: 0.30625]\n",
      "100%|██████████| 12/12 [00:15<00:00, 15.48s/trial, best loss: 0.30625]\n",
      "100%|██████████| 13/13 [00:01<00:00,  1.23s/trial, best loss: 0.30625]\n",
      "100%|██████████| 14/14 [00:43<00:00, 43.66s/trial, best loss: 0.30625]\n",
      "100%|██████████| 15/15 [00:15<00:00, 15.35s/trial, best loss: 0.30625]\n",
      "100%|██████████| 16/16 [02:00<00:00, 120.21s/trial, best loss: 0.30625]\n",
      "100%|██████████| 17/17 [00:00<00:00,  1.42trial/s, best loss: 0.30625]\n",
      "100%|██████████| 18/18 [00:21<00:00, 21.37s/trial, best loss: 0.30625]\n",
      "100%|██████████| 19/19 [02:00<00:00, 120.15s/trial, best loss: 0.30625]\n",
      "100%|██████████| 20/20 [00:04<00:00,  4.82s/trial, best loss: 0.30625]\n",
      "100%|██████████| 21/21 [00:00<00:00,  3.23trial/s, best loss: 0.30625]\n",
      "100%|██████████| 22/22 [00:00<00:00,  1.06trial/s, best loss: 0.30625]\n",
      "100%|██████████| 23/23 [01:29<00:00, 89.08s/trial, best loss: 0.11937500000000001]\n",
      "100%|██████████| 24/24 [01:29<00:00, 89.08s/trial, best loss: 0.11937500000000001]\n",
      "100%|██████████| 25/25 [01:26<00:00, 86.19s/trial, best loss: 0.11937500000000001]\n",
      "100%|██████████| 26/26 [00:00<00:00,  1.45trial/s, best loss: 0.06625000000000003]\n",
      "100%|██████████| 27/27 [00:07<00:00,  7.29s/trial, best loss: 0.06625000000000003]\n",
      " 96%|█████████▋| 27/28 [00:00<?, ?trial/s, best loss=?]"
     ]
    },
    {
     "name": "stderr",
     "output_type": "stream",
     "text": [
      "/home/kalyan/miniconda3/lib/python3.7/site-packages/sklearn/ensemble/_weight_boosting.py:657: RuntimeWarning: overflow encountered in exp\n",
      "  + estimator_weight * incorrect * (sample_weight > 0)\n",
      "\n",
      "/home/kalyan/miniconda3/lib/python3.7/site-packages/sklearn/ensemble/_weight_boosting.py:486: UserWarning: Sample weights have reached infinite values, at iteration 3, causing overflow. Iterations stopped. Try lowering the learning rate.\n",
      "  return super().fit(X, y, sample_weight)\n",
      "\n"
     ]
    },
    {
     "name": "stdout",
     "output_type": "stream",
     "text": [
      "100%|██████████| 28/28 [00:02<00:00,  2.09s/trial, best loss: 0.0]\n",
      " 97%|█████████▋| 28/29 [00:00<?, ?trial/s, best loss=?]"
     ]
    },
    {
     "name": "stderr",
     "output_type": "stream",
     "text": [
      "/home/kalyan/miniconda3/lib/python3.7/site-packages/sklearn/ensemble/_weight_boosting.py:657: RuntimeWarning: overflow encountered in exp\n",
      "  + estimator_weight * incorrect * (sample_weight > 0)\n",
      "\n",
      "/home/kalyan/miniconda3/lib/python3.7/site-packages/sklearn/ensemble/_weight_boosting.py:486: UserWarning: Sample weights have reached infinite values, at iteration 3, causing overflow. Iterations stopped. Try lowering the learning rate.\n",
      "  return super().fit(X, y, sample_weight)\n",
      "\n"
     ]
    },
    {
     "name": "stdout",
     "output_type": "stream",
     "text": [
      "100%|██████████| 29/29 [00:01<00:00,  1.47s/trial, best loss: 0.0]\n",
      " 97%|█████████▋| 29/30 [00:00<?, ?trial/s, best loss=?]"
     ]
    },
    {
     "name": "stderr",
     "output_type": "stream",
     "text": [
      "/home/kalyan/miniconda3/lib/python3.7/site-packages/sklearn/ensemble/_weight_boosting.py:657: RuntimeWarning: overflow encountered in exp\n",
      "  + estimator_weight * incorrect * (sample_weight > 0)\n",
      "\n",
      "/home/kalyan/miniconda3/lib/python3.7/site-packages/sklearn/ensemble/_weight_boosting.py:486: UserWarning: Sample weights have reached infinite values, at iteration 2, causing overflow. Iterations stopped. Try lowering the learning rate.\n",
      "  return super().fit(X, y, sample_weight)\n",
      "\n"
     ]
    },
    {
     "name": "stdout",
     "output_type": "stream",
     "text": [
      "100%|██████████| 30/30 [00:01<00:00,  1.43s/trial, best loss: 0.0]\n",
      " 97%|█████████▋| 30/31 [00:00<?, ?trial/s, best loss=?]"
     ]
    },
    {
     "name": "stderr",
     "output_type": "stream",
     "text": [
      "/home/kalyan/miniconda3/lib/python3.7/site-packages/sklearn/ensemble/_weight_boosting.py:657: RuntimeWarning: overflow encountered in exp\n",
      "  + estimator_weight * incorrect * (sample_weight > 0)\n",
      "\n",
      "/home/kalyan/miniconda3/lib/python3.7/site-packages/sklearn/ensemble/_weight_boosting.py:486: UserWarning: Sample weights have reached infinite values, at iteration 3, causing overflow. Iterations stopped. Try lowering the learning rate.\n",
      "  return super().fit(X, y, sample_weight)\n",
      "\n"
     ]
    },
    {
     "name": "stdout",
     "output_type": "stream",
     "text": [
      "100%|██████████| 31/31 [00:01<00:00,  1.56s/trial, best loss: 0.0]\n",
      " 97%|█████████▋| 31/32 [00:00<?, ?trial/s, best loss=?]"
     ]
    },
    {
     "name": "stderr",
     "output_type": "stream",
     "text": [
      "/home/kalyan/miniconda3/lib/python3.7/site-packages/sklearn/ensemble/_weight_boosting.py:657: RuntimeWarning: overflow encountered in exp\n",
      "  + estimator_weight * incorrect * (sample_weight > 0)\n",
      "\n",
      "/home/kalyan/miniconda3/lib/python3.7/site-packages/sklearn/ensemble/_weight_boosting.py:486: UserWarning: Sample weights have reached infinite values, at iteration 0, causing overflow. Iterations stopped. Try lowering the learning rate.\n",
      "  return super().fit(X, y, sample_weight)\n",
      "\n"
     ]
    },
    {
     "name": "stdout",
     "output_type": "stream",
     "text": [
      "100%|██████████| 32/32 [00:00<00:00,  1.20trial/s, best loss: 0.0]\n",
      " 97%|█████████▋| 32/33 [00:00<?, ?trial/s, best loss=?]"
     ]
    },
    {
     "name": "stderr",
     "output_type": "stream",
     "text": [
      "/home/kalyan/miniconda3/lib/python3.7/site-packages/sklearn/ensemble/_weight_boosting.py:657: RuntimeWarning: overflow encountered in exp\n",
      "  + estimator_weight * incorrect * (sample_weight > 0)\n",
      "\n",
      "/home/kalyan/miniconda3/lib/python3.7/site-packages/sklearn/ensemble/_weight_boosting.py:486: UserWarning: Sample weights have reached infinite values, at iteration 3, causing overflow. Iterations stopped. Try lowering the learning rate.\n",
      "  return super().fit(X, y, sample_weight)\n",
      "\n"
     ]
    },
    {
     "name": "stdout",
     "output_type": "stream",
     "text": [
      "100%|██████████| 33/33 [00:01<00:00,  1.54s/trial, best loss: 0.0]\n",
      " 97%|█████████▋| 33/34 [00:00<?, ?trial/s, best loss=?]"
     ]
    },
    {
     "name": "stderr",
     "output_type": "stream",
     "text": [
      "/home/kalyan/miniconda3/lib/python3.7/site-packages/sklearn/ensemble/_weight_boosting.py:657: RuntimeWarning: overflow encountered in exp\n",
      "  + estimator_weight * incorrect * (sample_weight > 0)\n",
      "\n",
      "/home/kalyan/miniconda3/lib/python3.7/site-packages/sklearn/ensemble/_weight_boosting.py:486: UserWarning: Sample weights have reached infinite values, at iteration 2, causing overflow. Iterations stopped. Try lowering the learning rate.\n",
      "  return super().fit(X, y, sample_weight)\n",
      "\n"
     ]
    },
    {
     "name": "stdout",
     "output_type": "stream",
     "text": [
      "100%|██████████| 34/34 [00:01<00:00,  1.43s/trial, best loss: 0.0]\n",
      "100%|██████████| 35/35 [00:20<00:00, 20.80s/trial, best loss: 0.0]\n",
      "100%|██████████| 36/36 [00:13<00:00, 13.58s/trial, best loss: 0.0]\n",
      "100%|██████████| 37/37 [00:10<00:00, 10.17s/trial, best loss: 0.0]\n",
      "100%|██████████| 38/38 [01:21<00:00, 81.17s/trial, best loss: 0.0]\n",
      "100%|██████████| 39/39 [00:00<00:00,  4.15trial/s, best loss: 0.0]\n",
      "100%|██████████| 40/40 [02:00<00:00, 120.17s/trial, best loss: 0.0]\n",
      " 98%|█████████▊| 40/41 [00:00<?, ?trial/s, best loss=?]"
     ]
    },
    {
     "name": "stderr",
     "output_type": "stream",
     "text": [
      "/home/kalyan/miniconda3/lib/python3.7/site-packages/sklearn/ensemble/_weight_boosting.py:657: RuntimeWarning: overflow encountered in exp\n",
      "  + estimator_weight * incorrect * (sample_weight > 0)\n",
      "\n",
      "/home/kalyan/miniconda3/lib/python3.7/site-packages/sklearn/ensemble/_weight_boosting.py:486: UserWarning: Sample weights have reached infinite values, at iteration 4, causing overflow. Iterations stopped. Try lowering the learning rate.\n",
      "  return super().fit(X, y, sample_weight)\n",
      "\n"
     ]
    },
    {
     "name": "stdout",
     "output_type": "stream",
     "text": [
      "100%|██████████| 41/41 [00:02<00:00,  2.05s/trial, best loss: 0.0]\n",
      "100%|██████████| 42/42 [00:16<00:00, 16.16s/trial, best loss: 0.0]\n",
      "100%|██████████| 43/43 [00:00<00:00,  1.36trial/s, best loss: 0.0]\n",
      " 98%|█████████▊| 43/44 [00:00<?, ?trial/s, best loss=?]"
     ]
    },
    {
     "name": "stderr",
     "output_type": "stream",
     "text": [
      "/home/kalyan/miniconda3/lib/python3.7/site-packages/sklearn/ensemble/_weight_boosting.py:657: RuntimeWarning: overflow encountered in exp\n",
      "  + estimator_weight * incorrect * (sample_weight > 0)\n",
      "\n",
      "/home/kalyan/miniconda3/lib/python3.7/site-packages/sklearn/ensemble/_weight_boosting.py:486: UserWarning: Sample weights have reached infinite values, at iteration 2, causing overflow. Iterations stopped. Try lowering the learning rate.\n",
      "  return super().fit(X, y, sample_weight)\n",
      "\n"
     ]
    },
    {
     "name": "stdout",
     "output_type": "stream",
     "text": [
      "100%|██████████| 44/44 [00:01<00:00,  1.46s/trial, best loss: 0.0]\n",
      "100%|██████████| 45/45 [00:04<00:00,  4.90s/trial, best loss: 0.0]\n",
      "100%|██████████| 46/46 [00:00<00:00,  2.16trial/s, best loss: 0.0]\n",
      "100%|██████████| 47/47 [00:34<00:00, 34.15s/trial, best loss: 0.0]\n",
      "100%|██████████| 48/48 [00:06<00:00,  6.70s/trial, best loss: 0.0]\n",
      " 98%|█████████▊| 48/49 [00:00<?, ?trial/s, best loss=?]"
     ]
    },
    {
     "name": "stderr",
     "output_type": "stream",
     "text": [
      "/home/kalyan/miniconda3/lib/python3.7/site-packages/sklearn/ensemble/_weight_boosting.py:607: RuntimeWarning: overflow encountered in exp\n",
      "  estimator_weight * ((sample_weight > 0) | (estimator_weight < 0))\n",
      "\n",
      "/home/kalyan/miniconda3/lib/python3.7/site-packages/sklearn/ensemble/_weight_boosting.py:486: UserWarning: Sample weights have reached infinite values, at iteration 1, causing overflow. Iterations stopped. Try lowering the learning rate.\n",
      "  return super().fit(X, y, sample_weight)\n",
      "\n"
     ]
    },
    {
     "name": "stdout",
     "output_type": "stream",
     "text": [
      "100%|██████████| 49/49 [00:00<00:00,  1.17trial/s, best loss: 0.0]\n",
      "100%|██████████| 50/50 [02:00<00:00, 120.19s/trial, best loss: 0.0]\n",
      "100%|██████████| 51/51 [00:00<00:00,  1.83trial/s, best loss: 0.0]\n",
      "100%|██████████| 52/52 [00:00<00:00,  1.92trial/s, best loss: 0.0]\n",
      "100%|██████████| 53/53 [00:08<00:00,  8.06s/trial, best loss: 0.0]\n",
      "100%|██████████| 54/54 [00:06<00:00,  6.85s/trial, best loss: 0.0]\n",
      " 98%|█████████▊| 54/55 [00:00<?, ?trial/s, best loss=?]"
     ]
    },
    {
     "name": "stderr",
     "output_type": "stream",
     "text": [
      "/home/kalyan/miniconda3/lib/python3.7/site-packages/sklearn/ensemble/_weight_boosting.py:607: RuntimeWarning: overflow encountered in exp\n",
      "  estimator_weight * ((sample_weight > 0) | (estimator_weight < 0))\n",
      "\n",
      "/home/kalyan/miniconda3/lib/python3.7/site-packages/sklearn/ensemble/_weight_boosting.py:486: UserWarning: Sample weights have reached infinite values, at iteration 1, causing overflow. Iterations stopped. Try lowering the learning rate.\n",
      "  return super().fit(X, y, sample_weight)\n",
      "\n"
     ]
    },
    {
     "name": "stdout",
     "output_type": "stream",
     "text": [
      "100%|██████████| 55/55 [00:00<00:00,  1.17trial/s, best loss: 0.0]\n",
      "100%|██████████| 56/56 [02:00<00:00, 120.26s/trial, best loss: 0.0]\n",
      " 98%|█████████▊| 56/57 [00:00<?, ?trial/s, best loss=?]"
     ]
    },
    {
     "name": "stderr",
     "output_type": "stream",
     "text": [
      "/home/kalyan/miniconda3/lib/python3.7/site-packages/sklearn/ensemble/_weight_boosting.py:607: RuntimeWarning: overflow encountered in exp\n",
      "  estimator_weight * ((sample_weight > 0) | (estimator_weight < 0))\n",
      "\n",
      "/home/kalyan/miniconda3/lib/python3.7/site-packages/sklearn/ensemble/_weight_boosting.py:486: UserWarning: Sample weights have reached infinite values, at iteration 1, causing overflow. Iterations stopped. Try lowering the learning rate.\n",
      "  return super().fit(X, y, sample_weight)\n",
      "\n"
     ]
    },
    {
     "name": "stdout",
     "output_type": "stream",
     "text": [
      "100%|██████████| 57/57 [00:00<00:00,  1.16trial/s, best loss: 0.0]\n",
      "100%|██████████| 58/58 [00:00<00:00,  1.99trial/s, best loss: 0.0]\n",
      "100%|██████████| 59/59 [00:07<00:00,  7.68s/trial, best loss: 0.0]\n",
      "100%|██████████| 60/60 [02:00<00:00, 120.18s/trial, best loss: 0.0]\n",
      "100%|██████████| 61/61 [00:49<00:00, 49.13s/trial, best loss: 0.0]\n",
      "100%|██████████| 62/62 [00:23<00:00, 23.92s/trial, best loss: 0.0]\n",
      "100%|██████████| 63/63 [00:00<00:00,  1.62trial/s, best loss: 0.0]\n",
      "100%|██████████| 64/64 [00:00<00:00,  1.43trial/s, best loss: 0.0]\n",
      "100%|██████████| 65/65 [00:02<00:00,  2.31s/trial, best loss: 0.0]\n",
      " 98%|█████████▊| 65/66 [00:00<?, ?trial/s, best loss=?]"
     ]
    },
    {
     "name": "stderr",
     "output_type": "stream",
     "text": [
      "/home/kalyan/miniconda3/lib/python3.7/site-packages/sklearn/ensemble/_weight_boosting.py:657: RuntimeWarning: overflow encountered in exp\n",
      "  + estimator_weight * incorrect * (sample_weight > 0)\n",
      "\n",
      "/home/kalyan/miniconda3/lib/python3.7/site-packages/sklearn/ensemble/_weight_boosting.py:486: UserWarning: Sample weights have reached infinite values, at iteration 3, causing overflow. Iterations stopped. Try lowering the learning rate.\n",
      "  return super().fit(X, y, sample_weight)\n",
      "\n"
     ]
    },
    {
     "name": "stdout",
     "output_type": "stream",
     "text": [
      "100%|██████████| 66/66 [00:02<00:00,  2.02s/trial, best loss: 0.0]\n",
      " 99%|█████████▊| 66/67 [00:00<?, ?trial/s, best loss=?]"
     ]
    },
    {
     "name": "stderr",
     "output_type": "stream",
     "text": [
      "/home/kalyan/miniconda3/lib/python3.7/site-packages/sklearn/ensemble/_weight_boosting.py:607: RuntimeWarning: overflow encountered in exp\n",
      "  estimator_weight * ((sample_weight > 0) | (estimator_weight < 0))\n",
      "\n",
      "/home/kalyan/miniconda3/lib/python3.7/site-packages/sklearn/ensemble/_weight_boosting.py:486: UserWarning: Sample weights have reached infinite values, at iteration 1, causing overflow. Iterations stopped. Try lowering the learning rate.\n",
      "  return super().fit(X, y, sample_weight)\n",
      "\n"
     ]
    },
    {
     "name": "stdout",
     "output_type": "stream",
     "text": [
      "100%|██████████| 67/67 [00:00<00:00,  1.17trial/s, best loss: 0.0]\n",
      " 99%|█████████▊| 67/68 [00:00<?, ?trial/s, best loss=?]"
     ]
    },
    {
     "name": "stderr",
     "output_type": "stream",
     "text": [
      "/home/kalyan/miniconda3/lib/python3.7/site-packages/sklearn/ensemble/_weight_boosting.py:607: RuntimeWarning: overflow encountered in exp\n",
      "  estimator_weight * ((sample_weight > 0) | (estimator_weight < 0))\n",
      "\n",
      "/home/kalyan/miniconda3/lib/python3.7/site-packages/sklearn/ensemble/_weight_boosting.py:486: UserWarning: Sample weights have reached infinite values, at iteration 0, causing overflow. Iterations stopped. Try lowering the learning rate.\n",
      "  return super().fit(X, y, sample_weight)\n",
      "\n"
     ]
    },
    {
     "name": "stdout",
     "output_type": "stream",
     "text": [
      "100%|██████████| 68/68 [00:00<00:00,  1.11trial/s, best loss: 0.0]\n",
      " 99%|█████████▊| 68/69 [00:00<?, ?trial/s, best loss=?]"
     ]
    },
    {
     "name": "stderr",
     "output_type": "stream",
     "text": [
      "/home/kalyan/miniconda3/lib/python3.7/site-packages/sklearn/ensemble/_weight_boosting.py:657: RuntimeWarning: overflow encountered in exp\n",
      "  + estimator_weight * incorrect * (sample_weight > 0)\n",
      "\n",
      "/home/kalyan/miniconda3/lib/python3.7/site-packages/sklearn/ensemble/_weight_boosting.py:486: UserWarning: Sample weights have reached infinite values, at iteration 4, causing overflow. Iterations stopped. Try lowering the learning rate.\n",
      "  return super().fit(X, y, sample_weight)\n",
      "\n"
     ]
    },
    {
     "name": "stdout",
     "output_type": "stream",
     "text": [
      "100%|██████████| 69/69 [00:02<00:00,  2.06s/trial, best loss: 0.0]\n",
      " 99%|█████████▊| 69/70 [00:00<?, ?trial/s, best loss=?]"
     ]
    },
    {
     "name": "stderr",
     "output_type": "stream",
     "text": [
      "/home/kalyan/miniconda3/lib/python3.7/site-packages/sklearn/ensemble/_weight_boosting.py:657: RuntimeWarning: overflow encountered in exp\n",
      "  + estimator_weight * incorrect * (sample_weight > 0)\n",
      "\n",
      "/home/kalyan/miniconda3/lib/python3.7/site-packages/sklearn/ensemble/_weight_boosting.py:486: UserWarning: Sample weights have reached infinite values, at iteration 3, causing overflow. Iterations stopped. Try lowering the learning rate.\n",
      "  return super().fit(X, y, sample_weight)\n",
      "\n"
     ]
    },
    {
     "name": "stdout",
     "output_type": "stream",
     "text": [
      "100%|██████████| 70/70 [00:01<00:00,  1.54s/trial, best loss: 0.0]\n",
      "100%|██████████| 71/71 [00:00<00:00,  1.64trial/s, best loss: 0.0]\n",
      "100%|██████████| 72/72 [00:00<00:00,  1.91trial/s, best loss: 0.0]\n",
      "100%|██████████| 73/73 [00:00<00:00,  1.44trial/s, best loss: 0.0]\n",
      "100%|██████████| 74/74 [00:02<00:00,  2.72s/trial, best loss: 0.0]\n",
      " 99%|█████████▊| 74/75 [00:00<?, ?trial/s, best loss=?]"
     ]
    },
    {
     "name": "stderr",
     "output_type": "stream",
     "text": [
      "/home/kalyan/miniconda3/lib/python3.7/site-packages/sklearn/ensemble/_weight_boosting.py:607: RuntimeWarning: overflow encountered in exp\n",
      "  estimator_weight * ((sample_weight > 0) | (estimator_weight < 0))\n",
      "\n",
      "/home/kalyan/miniconda3/lib/python3.7/site-packages/sklearn/ensemble/_weight_boosting.py:486: UserWarning: Sample weights have reached infinite values, at iteration 1, causing overflow. Iterations stopped. Try lowering the learning rate.\n",
      "  return super().fit(X, y, sample_weight)\n",
      "\n"
     ]
    },
    {
     "name": "stdout",
     "output_type": "stream",
     "text": [
      "100%|██████████| 75/75 [00:00<00:00,  1.08trial/s, best loss: 0.0]\n",
      " 99%|█████████▊| 75/76 [00:00<?, ?trial/s, best loss=?]"
     ]
    },
    {
     "name": "stderr",
     "output_type": "stream",
     "text": [
      "/home/kalyan/miniconda3/lib/python3.7/site-packages/sklearn/ensemble/_weight_boosting.py:607: RuntimeWarning: overflow encountered in exp\n",
      "  estimator_weight * ((sample_weight > 0) | (estimator_weight < 0))\n",
      "\n",
      "/home/kalyan/miniconda3/lib/python3.7/site-packages/sklearn/ensemble/_weight_boosting.py:486: UserWarning: Sample weights have reached infinite values, at iteration 1, causing overflow. Iterations stopped. Try lowering the learning rate.\n",
      "  return super().fit(X, y, sample_weight)\n",
      "\n"
     ]
    },
    {
     "name": "stdout",
     "output_type": "stream",
     "text": [
      "100%|██████████| 76/76 [00:00<00:00,  1.18trial/s, best loss: 0.0]\n",
      " 99%|█████████▊| 76/77 [00:00<?, ?trial/s, best loss=?]"
     ]
    },
    {
     "name": "stderr",
     "output_type": "stream",
     "text": [
      "/home/kalyan/miniconda3/lib/python3.7/site-packages/sklearn/ensemble/_weight_boosting.py:607: RuntimeWarning: overflow encountered in exp\n",
      "  estimator_weight * ((sample_weight > 0) | (estimator_weight < 0))\n",
      "\n",
      "/home/kalyan/miniconda3/lib/python3.7/site-packages/sklearn/ensemble/_weight_boosting.py:486: UserWarning: Sample weights have reached infinite values, at iteration 1, causing overflow. Iterations stopped. Try lowering the learning rate.\n",
      "  return super().fit(X, y, sample_weight)\n",
      "\n"
     ]
    },
    {
     "name": "stdout",
     "output_type": "stream",
     "text": [
      "100%|██████████| 77/77 [00:00<00:00,  1.07trial/s, best loss: 0.0]\n",
      "100%|██████████| 78/78 [00:23<00:00, 23.81s/trial, best loss: 0.0]\n",
      " 99%|█████████▊| 78/79 [00:00<?, ?trial/s, best loss=?]"
     ]
    },
    {
     "name": "stderr",
     "output_type": "stream",
     "text": [
      "/home/kalyan/miniconda3/lib/python3.7/site-packages/sklearn/ensemble/_weight_boosting.py:607: RuntimeWarning: overflow encountered in exp\n",
      "  estimator_weight * ((sample_weight > 0) | (estimator_weight < 0))\n",
      "\n",
      "/home/kalyan/miniconda3/lib/python3.7/site-packages/sklearn/ensemble/_weight_boosting.py:486: UserWarning: Sample weights have reached infinite values, at iteration 1, causing overflow. Iterations stopped. Try lowering the learning rate.\n",
      "  return super().fit(X, y, sample_weight)\n",
      "\n"
     ]
    },
    {
     "name": "stdout",
     "output_type": "stream",
     "text": [
      "100%|██████████| 79/79 [00:00<00:00,  1.20trial/s, best loss: 0.0]\n",
      "100%|██████████| 80/80 [00:14<00:00, 14.06s/trial, best loss: 0.0]\n",
      "100%|██████████| 81/81 [00:02<00:00,  2.20s/trial, best loss: 0.0]\n",
      "100%|██████████| 82/82 [02:00<00:00, 120.26s/trial, best loss: 0.0]\n",
      "100%|██████████| 83/83 [02:00<00:00, 120.19s/trial, best loss: 0.0]\n",
      "100%|██████████| 84/84 [00:06<00:00,  6.78s/trial, best loss: 0.0]\n",
      "100%|██████████| 85/85 [00:12<00:00, 12.22s/trial, best loss: 0.0]\n",
      "100%|██████████| 86/86 [00:00<00:00,  3.58trial/s, best loss: 0.0]\n",
      " 99%|█████████▉| 86/87 [00:00<?, ?trial/s, best loss=?]"
     ]
    },
    {
     "name": "stderr",
     "output_type": "stream",
     "text": [
      "/home/kalyan/miniconda3/lib/python3.7/site-packages/sklearn/ensemble/_weight_boosting.py:607: RuntimeWarning: overflow encountered in exp\n",
      "  estimator_weight * ((sample_weight > 0) | (estimator_weight < 0))\n",
      "\n",
      "/home/kalyan/miniconda3/lib/python3.7/site-packages/sklearn/ensemble/_weight_boosting.py:486: UserWarning: Sample weights have reached infinite values, at iteration 1, causing overflow. Iterations stopped. Try lowering the learning rate.\n",
      "  return super().fit(X, y, sample_weight)\n",
      "\n"
     ]
    },
    {
     "name": "stdout",
     "output_type": "stream",
     "text": [
      "100%|██████████| 87/87 [00:00<00:00,  1.14trial/s, best loss: 0.0]\n",
      "100%|██████████| 88/88 [00:00<00:00,  1.70trial/s, best loss: 0.0]\n",
      "100%|██████████| 89/89 [00:00<00:00,  1.34trial/s, best loss: 0.0]\n",
      "100%|██████████| 90/90 [00:02<00:00,  2.24s/trial, best loss: 0.0]\n",
      "100%|██████████| 91/91 [00:54<00:00, 54.30s/trial, best loss: 0.0]\n",
      "100%|██████████| 92/92 [00:00<00:00,  3.18trial/s, best loss: 0.0]\n",
      "100%|██████████| 93/93 [00:17<00:00, 17.87s/trial, best loss: 0.0]\n",
      "100%|██████████| 94/94 [02:00<00:00, 120.25s/trial, best loss: 0.0]\n",
      "100%|██████████| 95/95 [00:00<00:00,  3.25trial/s, best loss: 0.0]\n",
      "100%|██████████| 96/96 [00:06<00:00,  6.72s/trial, best loss: 0.0]\n",
      "100%|██████████| 97/97 [01:07<00:00, 67.01s/trial, best loss: 0.0]\n",
      " 99%|█████████▉| 97/98 [00:00<?, ?trial/s, best loss=?]"
     ]
    },
    {
     "name": "stderr",
     "output_type": "stream",
     "text": [
      "/home/kalyan/miniconda3/lib/python3.7/site-packages/sklearn/ensemble/_weight_boosting.py:607: RuntimeWarning: overflow encountered in exp\n",
      "  estimator_weight * ((sample_weight > 0) | (estimator_weight < 0))\n",
      "\n",
      "/home/kalyan/miniconda3/lib/python3.7/site-packages/sklearn/ensemble/_weight_boosting.py:486: UserWarning: Sample weights have reached infinite values, at iteration 1, causing overflow. Iterations stopped. Try lowering the learning rate.\n",
      "  return super().fit(X, y, sample_weight)\n",
      "\n"
     ]
    },
    {
     "name": "stdout",
     "output_type": "stream",
     "text": [
      "100%|██████████| 98/98 [00:00<00:00,  1.07trial/s, best loss: 0.0]\n",
      "100%|██████████| 99/99 [00:22<00:00, 22.02s/trial, best loss: 0.0]\n",
      "100%|██████████| 100/100 [02:00<00:00, 120.14s/trial, best loss: 0.0]\n",
      "0.534\n",
      "{'learner': AdaBoostClassifier(algorithm='SAMME', learning_rate=7.5413900186726135,\n",
      "                   n_estimators=13, random_state=2), 'preprocs': (Normalizer(),), 'ex_preprocs': ()}\n"
     ]
    },
    {
     "name": "stderr",
     "output_type": "stream",
     "text": [
      "/home/kalyan/miniconda3/lib/python3.7/site-packages/sklearn/ensemble/_weight_boosting.py:657: RuntimeWarning: overflow encountered in exp\n",
      "  + estimator_weight * incorrect * (sample_weight > 0)\n",
      "/home/kalyan/miniconda3/lib/python3.7/site-packages/sklearn/ensemble/_weight_boosting.py:486: UserWarning: Sample weights have reached infinite values, at iteration 4, causing overflow. Iterations stopped. Try lowering the learning rate.\n",
      "  return super().fit(X, y, sample_weight)\n"
     ]
    }
   ],
   "source": [
    "#using HyperoptEstimator\n",
    "from hpsklearn import HyperoptEstimator, any_classifier, any_preprocessing\n",
    "from hyperopt import tpe\n",
    "import numpy as np\n",
    "\n",
    "estim = HyperoptEstimator(classifier=any_classifier(\"my_clf\"),\n",
    "                              preprocessing=any_preprocessing(\"my_pre\"),\n",
    "                              algo=tpe.suggest,\n",
    "                              max_evals=100,\n",
    "                              trial_timeout=120)\n",
    "\n",
    "estim.fit(train_image_1d, train_labels)\n",
    "print(estim.score(test_image_1d, test_labels))\n",
    "print(estim.best_model())"
   ]
  },
  {
   "cell_type": "code",
   "execution_count": 39,
   "metadata": {},
   "outputs": [
    {
     "name": "stdout",
     "output_type": "stream",
     "text": [
      "0.5\n"
     ]
    }
   ],
   "source": [
    "#import svc\n",
    "from sklearn.svm import SVC\n",
    "#C = 0.563836014184182\n",
    "#gamma = 0.0001\n",
    "clf = SVC(gamma=0.0001)\n",
    "clf.fit(train_image_1d, train_labels)\n",
    "y_pred = clf.predict(test_image_1d)\n",
    "print(accuracy_score(test_labels, y_pred))"
   ]
  }
 ],
 "metadata": {
  "kernelspec": {
   "display_name": "base",
   "language": "python",
   "name": "python3"
  },
  "language_info": {
   "codemirror_mode": {
    "name": "ipython",
    "version": 3
   },
   "file_extension": ".py",
   "mimetype": "text/x-python",
   "name": "python",
   "nbconvert_exporter": "python",
   "pygments_lexer": "ipython3",
   "version": "3.7.12"
  },
  "orig_nbformat": 4,
  "vscode": {
   "interpreter": {
    "hash": "18435721447aaa7b29792b509b4b765c4d69b94478d2c6d7cbe357a9dc2f4d62"
   }
  }
 },
 "nbformat": 4,
 "nbformat_minor": 2
}
