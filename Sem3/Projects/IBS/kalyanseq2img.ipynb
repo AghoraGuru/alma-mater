{
 "cells": [
  {
   "cell_type": "code",
   "execution_count": 27,
   "metadata": {},
   "outputs": [],
   "source": [
    "import os\n",
    "import turtle\n",
    "import matplotlib.pyplot as plt\n",
    "import numpy as np\n"
   ]
  },
  {
   "cell_type": "code",
   "execution_count": 28,
   "metadata": {},
   "outputs": [],
   "source": [
    "PARENT_DIRECTORY  = \"/home/kalyan/DataSets/AadarshVroPaper/DataSet_Max_Clique/DomainToKingdom(Eukaryota)/\"\n",
    "CLASS = \"/Animals\"\n",
    "DIRECTORY = PARENT_DIRECTORY + CLASS\n",
    "FILES = os.listdir(DIRECTORY)"
   ]
  },
  {
   "cell_type": "code",
   "execution_count": 29,
   "metadata": {},
   "outputs": [],
   "source": [
    "class seq2img():\n",
    "    def __init__(self, parent_dir, class_dir) -> None:\n",
    "        self.parent_dir = parent_dir\n",
    "        self.class_dir = class_dir\n",
    "        self.img_loc = \"/home/kalyan/gitrepo/IBS/New/\"\n",
    "        try:\n",
    "            os.makedirs(self.img_loc + self.class_dir)\n",
    "        except:\n",
    "            pass\n",
    "        self.dir = parent_dir + '/' + class_dir\n",
    "        seq_txt_files = os.listdir(self.dir)\n",
    "        file_iter = 1\n",
    "        for file in seq_txt_files:\n",
    "            sequence = self.get_Sequence(file)\n",
    "            x_plt, y_plt = self.seq_img(sequence)\n",
    "            self.save_plot_img(x_plt, y_plt, file_iter)\n",
    "            file_iter += 1\n",
    "        pass\n",
    "\n",
    "    def get_Sequence(self, seq_file):\n",
    "        data = open(self.dir + '/' + seq_file)\n",
    "        data = data.readlines()\n",
    "        seq = ''\n",
    "        for dna in data:\n",
    "            seq = seq + dna.split('\\n')[0]\n",
    "        return seq[:3000]\n",
    "\n",
    "    def seq_img(self, seq):\n",
    "        x = 1000\n",
    "        y = 1000\n",
    "        angle = 0\n",
    "        path = []\n",
    "        for i in seq[:3000]:\n",
    "            if (i == 'A'):\n",
    "                #path.append((x, y))\n",
    "                angle += np.pi/6\n",
    "                x += np.cos(angle)\n",
    "                y += np.sin(angle)\n",
    "                path.append((x, y))\n",
    "        \n",
    "            elif (i == 'T'):\n",
    "                #path.append((x, y))\n",
    "                angle += np.pi/4\n",
    "                x += np.cos(angle)\n",
    "                y += np.sin(angle)\n",
    "                path.append((x, y))\n",
    "        \n",
    "            elif (i == 'C'):\n",
    "                #path.append((x, y))\n",
    "                angle -= np.pi/2\n",
    "                x += np.cos(angle)\n",
    "                y += np.sin(angle)\n",
    "                path.append((x, y))\n",
    "        \n",
    "        \n",
    "            elif (i == 'G'):\n",
    "                #path.append((x, y))\n",
    "                angle -= np.pi\n",
    "                x += np.cos(angle)\n",
    "                y += np.sin(angle)\n",
    "                path.append((x, y))\n",
    "        x_plt = []\n",
    "        y_plt = []\n",
    "        for i in path:\n",
    "            x_plt.append(i[0])\n",
    "            y_plt.append(i[1])\n",
    "\n",
    "        return x_plt, y_plt\n",
    "\n",
    "    def save_plot_img(self, x_plt, y_plt, img_iter):\n",
    "        plt.figure(figsize=(5, 2.5))\n",
    "        plt.plot(x_plt, y_plt)\n",
    "        plt.savefig(self.img_loc + self.class_dir + '/' + self.class_dir + str (img_iter) + '.png')\n",
    "        plt.close()"
   ]
  },
  {
   "cell_type": "code",
   "execution_count": 30,
   "metadata": {},
   "outputs": [],
   "source": [
    "test = seq2img(PARENT_DIRECTORY, CLASS)"
   ]
  },
  {
   "cell_type": "code",
   "execution_count": 1,
   "metadata": {},
   "outputs": [
    {
     "name": "stdout",
     "output_type": "stream",
     "text": [
      "16\n"
     ]
    }
   ],
   "source": [
    "#print number of folders in a given directory\n",
    "a = \"/home/kalyan/gitrepo/IBS/Sequence_Images\"\n",
    "print(len(os.listdir(a)))"
   ]
  },
  {
   "cell_type": "code",
   "execution_count": 1,
   "metadata": {},
   "outputs": [
    {
     "name": "stderr",
     "output_type": "stream",
     "text": [
      "2023-01-30 20:20:13.785835: I tensorflow/core/platform/cpu_feature_guard.cc:193] This TensorFlow binary is optimized with oneAPI Deep Neural Network Library (oneDNN) to use the following CPU instructions in performance-critical operations:  AVX2 FMA\n",
      "To enable them in other operations, rebuild TensorFlow with the appropriate compiler flags.\n",
      "2023-01-30 20:20:14.216404: E tensorflow/stream_executor/cuda/cuda_blas.cc:2981] Unable to register cuBLAS factory: Attempting to register factory for plugin cuBLAS when one has already been registered\n",
      "2023-01-30 20:20:16.407971: W tensorflow/stream_executor/platform/default/dso_loader.cc:64] Could not load dynamic library 'libnvinfer.so.7'; dlerror: libnvinfer.so.7: cannot open shared object file: No such file or directory\n",
      "2023-01-30 20:20:16.408069: W tensorflow/stream_executor/platform/default/dso_loader.cc:64] Could not load dynamic library 'libnvinfer_plugin.so.7'; dlerror: libnvinfer_plugin.so.7: cannot open shared object file: No such file or directory\n",
      "2023-01-30 20:20:16.408079: W tensorflow/compiler/tf2tensorrt/utils/py_utils.cc:38] TF-TRT Warning: Cannot dlopen some TensorRT libraries. If you would like to use Nvidia GPU with TensorRT, please make sure the missing libraries mentioned above are installed properly.\n"
     ]
    }
   ],
   "source": [
    "import tensorflow as tf\n",
    "import os\n",
    "import tensorboard"
   ]
  },
  {
   "cell_type": "code",
   "execution_count": 16,
   "metadata": {},
   "outputs": [],
   "source": [
    "PARENT_DIRECTORY = \"/home/kalyan/gitrepo/IBS/New\"\n",
    "CLASSES = os.listdir(PARENT_DIRECTORY)"
   ]
  },
  {
   "cell_type": "code",
   "execution_count": 17,
   "metadata": {},
   "outputs": [
    {
     "name": "stdout",
     "output_type": "stream",
     "text": [
      "Found 607 files belonging to 2 classes.\n",
      "Using 456 files for training.\n",
      "Found 607 files belonging to 2 classes.\n",
      "Using 151 files for validation.\n"
     ]
    }
   ],
   "source": [
    "training_data = tf.keras.preprocessing.image_dataset_from_directory(PARENT_DIRECTORY, labels='inferred', label_mode='categorical', seed=9,\n",
    "                                                                batch_size=8, image_size=[200, 100], shuffle=True,\n",
    "                                                                validation_split=0.25, subset='training', color_mode='grayscale')\n",
    "\n",
    "testing_data = tf.keras.preprocessing.image_dataset_from_directory(PARENT_DIRECTORY, labels='inferred', label_mode='categorical', seed=9,\n",
    "                                                                batch_size=8, image_size=[200, 100], shuffle=True,\n",
    "                                                                validation_split=0.25, subset='validation', color_mode='grayscale')"
   ]
  },
  {
   "cell_type": "code",
   "execution_count": 18,
   "metadata": {},
   "outputs": [
    {
     "data": {
      "text/plain": [
       "<BatchDataset element_spec=(TensorSpec(shape=(None, 200, 100, 1), dtype=tf.float32, name=None), TensorSpec(shape=(None, 2), dtype=tf.float32, name=None))>"
      ]
     },
     "execution_count": 18,
     "metadata": {},
     "output_type": "execute_result"
    }
   ],
   "source": [
    "testing_data"
   ]
  },
  {
   "cell_type": "code",
   "execution_count": 19,
   "metadata": {},
   "outputs": [],
   "source": [
    "model = tf.keras.Sequential([\n",
    "    tf.keras.layers.Conv2D(32, kernel_size=(3, 3), activation='relu', input_shape=(200, 100, 1)),\n",
    "\n",
    "    tf.keras.layers.MaxPool2D(),\n",
    "\n",
    "    tf.keras.layers.Conv2D(32, kernel_size=(5, 5), activation='relu'),\n",
    "\n",
    "    tf.keras.layers.MaxPool2D(),\n",
    "    \n",
    "    tf.keras.layers.Conv2D(16, kernel_size=(3, 3), activation='relu'),\n",
    "    tf.keras.layers.MaxPool2D(),\n",
    "    tf.keras.layers.MaxPool2D(),\n",
    "    tf.keras.layers.Flatten(),\n",
    "    tf.keras.layers.Dense(32, activation='relu'),\n",
    "    tf.keras.layers.Dense(16, activation='relu'),\n",
    "    tf.keras.layers.Dense(2, activation='softmax')\n",
    "])"
   ]
  },
  {
   "cell_type": "code",
   "execution_count": 20,
   "metadata": {},
   "outputs": [
    {
     "name": "stdout",
     "output_type": "stream",
     "text": [
      "Model: \"sequential_2\"\n",
      "_________________________________________________________________\n",
      " Layer (type)                Output Shape              Param #   \n",
      "=================================================================\n",
      " conv2d_6 (Conv2D)           (None, 198, 98, 32)       320       \n",
      "                                                                 \n",
      " max_pooling2d_8 (MaxPooling  (None, 99, 49, 32)       0         \n",
      " 2D)                                                             \n",
      "                                                                 \n",
      " conv2d_7 (Conv2D)           (None, 95, 45, 32)        25632     \n",
      "                                                                 \n",
      " max_pooling2d_9 (MaxPooling  (None, 47, 22, 32)       0         \n",
      " 2D)                                                             \n",
      "                                                                 \n",
      " conv2d_8 (Conv2D)           (None, 45, 20, 16)        4624      \n",
      "                                                                 \n",
      " max_pooling2d_10 (MaxPoolin  (None, 22, 10, 16)       0         \n",
      " g2D)                                                            \n",
      "                                                                 \n",
      " max_pooling2d_11 (MaxPoolin  (None, 11, 5, 16)        0         \n",
      " g2D)                                                            \n",
      "                                                                 \n",
      " flatten_2 (Flatten)         (None, 880)               0         \n",
      "                                                                 \n",
      " dense_6 (Dense)             (None, 32)                28192     \n",
      "                                                                 \n",
      " dense_7 (Dense)             (None, 16)                528       \n",
      "                                                                 \n",
      " dense_8 (Dense)             (None, 2)                 34        \n",
      "                                                                 \n",
      "=================================================================\n",
      "Total params: 59,330\n",
      "Trainable params: 59,330\n",
      "Non-trainable params: 0\n",
      "_________________________________________________________________\n"
     ]
    }
   ],
   "source": [
    "model.build()\n",
    "model.summary()\n",
    "model.compile(optimizer='adam', loss='categorical_crossentropy', metrics=['accuracy'])"
   ]
  },
  {
   "cell_type": "code",
   "execution_count": 21,
   "metadata": {},
   "outputs": [],
   "source": [
    "#training the model and loging to tensorboard\n",
    "import datetime\n",
    "\n",
    "\n",
    "log_dir = \"/home/kalyan/gitrepo/IBS/logs/fit/\" + datetime.datetime.now().strftime(\"%Y%m%d-%H%M%S\")\n",
    "tensorboard_callback = tf.keras.callbacks.TensorBoard(log_dir=log_dir, histogram_freq=1)"
   ]
  },
  {
   "cell_type": "code",
   "execution_count": 22,
   "metadata": {},
   "outputs": [
    {
     "name": "stdout",
     "output_type": "stream",
     "text": [
      "Epoch 1/10\n",
      "57/57 [==============================] - 1s 16ms/step - loss: 2.4335 - accuracy: 0.8377 - val_loss: 0.2804 - val_accuracy: 0.9205\n",
      "Epoch 2/10\n",
      "57/57 [==============================] - 1s 14ms/step - loss: 0.3274 - accuracy: 0.9079 - val_loss: 0.2803 - val_accuracy: 0.9205\n",
      "Epoch 3/10\n",
      "57/57 [==============================] - 1s 13ms/step - loss: 0.3186 - accuracy: 0.9079 - val_loss: 0.2857 - val_accuracy: 0.9205\n",
      "Epoch 4/10\n",
      "57/57 [==============================] - 1s 14ms/step - loss: 0.3480 - accuracy: 0.9079 - val_loss: 0.3068 - val_accuracy: 0.9205\n",
      "Epoch 5/10\n",
      "57/57 [==============================] - 1s 14ms/step - loss: 0.3079 - accuracy: 0.9079 - val_loss: 0.2986 - val_accuracy: 0.9205\n",
      "Epoch 6/10\n",
      "57/57 [==============================] - 1s 14ms/step - loss: 0.3386 - accuracy: 0.9079 - val_loss: 0.2779 - val_accuracy: 0.9205\n",
      "Epoch 7/10\n",
      "57/57 [==============================] - 1s 13ms/step - loss: 0.3122 - accuracy: 0.9079 - val_loss: 0.2762 - val_accuracy: 0.9205\n",
      "Epoch 8/10\n",
      "57/57 [==============================] - 1s 13ms/step - loss: 0.3173 - accuracy: 0.9079 - val_loss: 0.4565 - val_accuracy: 0.9205\n",
      "Epoch 9/10\n",
      "57/57 [==============================] - 1s 14ms/step - loss: 0.3418 - accuracy: 0.9079 - val_loss: 0.2955 - val_accuracy: 0.9205\n",
      "Epoch 10/10\n",
      "57/57 [==============================] - 1s 13ms/step - loss: 0.3185 - accuracy: 0.9079 - val_loss: 0.2755 - val_accuracy: 0.9205\n"
     ]
    },
    {
     "data": {
      "text/plain": [
       "<keras.callbacks.History at 0x7fc4246b42e0>"
      ]
     },
     "execution_count": 22,
     "metadata": {},
     "output_type": "execute_result"
    }
   ],
   "source": [
    "model.fit(training_data, epochs=10, validation_data=testing_data, callbacks=[tensorboard_callback])"
   ]
  },
  {
   "cell_type": "code",
   "execution_count": null,
   "metadata": {},
   "outputs": [],
   "source": [
    "model.save('model_100.h5')"
   ]
  },
  {
   "cell_type": "code",
   "execution_count": null,
   "metadata": {},
   "outputs": [],
   "source": []
  }
 ],
 "metadata": {
  "kernelspec": {
   "display_name": "Python 3",
   "language": "python",
   "name": "python3"
  },
  "language_info": {
   "codemirror_mode": {
    "name": "ipython",
    "version": 3
   },
   "file_extension": ".py",
   "mimetype": "text/x-python",
   "name": "python",
   "nbconvert_exporter": "python",
   "pygments_lexer": "ipython3",
   "version": "3.10.9 (main, Dec 19 2022, 17:35:49) [GCC 12.2.0]"
  },
  "vscode": {
   "interpreter": {
    "hash": "e7370f93d1d0cde622a1f8e1c04877d8463912d04d973331ad4851f04de6915a"
   }
  }
 },
 "nbformat": 4,
 "nbformat_minor": 2
}
