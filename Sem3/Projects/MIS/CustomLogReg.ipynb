{
 "cells": [
  {
   "cell_type": "code",
   "execution_count": 4,
   "metadata": {},
   "outputs": [
    {
     "name": "stderr",
     "output_type": "stream",
     "text": [
      "Intel(R) Extension for Scikit-learn* enabled (https://github.com/intel/scikit-learn-intelex)\n"
     ]
    }
   ],
   "source": [
    "#implementing logistic regression \n",
    "import pandas as pd\n",
    "import numpy as np\n",
    "import matplotlib.pyplot as plt\n",
    "from sklearnex import patch_sklearn\n",
    "patch_sklearn()\n",
    "from sklearn.linear_model import LogisticRegression\n",
    "from sklearn.model_selection import train_test_split\n",
    "from sklearn.metrics import accuracy_score ,f1_score, precision_score, recall_score, confusion_matrix , classification_report\n",
    "from sklearn.preprocessing import StandardScaler\n"
   ]
  },
  {
   "cell_type": "code",
   "execution_count": 2,
   "metadata": {},
   "outputs": [],
   "source": [
    "from tqdm import tqdm\n",
    "class LogReg():\n",
    "    #def init and set self,lr=0.001,n_iters=1000, as default and C and penalty as user input\n",
    "    def __init__(self,lr=0.001,n_iters=1000,C=1,penalty='l2'):\n",
    "        # initialize the hyperparameters of the model\n",
    "        self.lr = lr\n",
    "        self.n_iters = n_iters\n",
    "        self.C = C\n",
    "        self.penalty = penalty\n",
    "\n",
    "        # initialize the parameters of the model\n",
    "        self.weights = None\n",
    "        self.bias = None\n",
    "        self.lambd = 1/C\n",
    "        self.penalty = penalty\n",
    "    def fit(self,X,y):\n",
    "        # initialize weights to zero\n",
    "        n_samples, n_features = X.shape\n",
    "        self.weights = np.zeros(n_features)\n",
    "        self.bias = 0\n",
    "        # Iterate over the number of epochs\n",
    "        for _ in tqdm(range(self.n_iters)):\n",
    "            # Compute the linear model\n",
    "            linear_model = np.dot(X,self.weights) + self.bias\n",
    "            # Predict the class probabilities\n",
    "            y_predicted = self._sigmoid(linear_model)\n",
    "            # Compute the gradients\n",
    "            dw = (1/n_samples) * np.dot(X.T,(y_predicted - y))\n",
    "            db = (1/n_samples) * np.sum(y_predicted - y)\n",
    "            # Apply the penalty\n",
    "            if self.penalty == 'l1':\n",
    "                self.weights -= self.lr * (dw + self.lambd*np.sign(self.weights))\n",
    "            elif self.penalty == 'l2':\n",
    "                self.weights -= self.lr * (dw + self.lambd*self.weights)\n",
    "                print(\"l2\")\n",
    "                break\n",
    "            else:\n",
    "                self.weights -= self.lr * dw\n",
    "            # Update the parameters\n",
    "                self.bias -= self.lr * db\n",
    "        if self.penalty == 'l1':\n",
    "            print(\"l1\")\n",
    "        elif self.penalty == 'l2':\n",
    "            print(\"l2\")\n",
    "        else:\n",
    "            print(\"no regularization\")\n",
    "    def predict(self, X):\n",
    "        # linear model\n",
    "        linear_model = np.dot(X, self.weights) + self.bias\n",
    "        # pass the linear model through sigmoid to get the final probability\n",
    "        y_predicted = self._sigmoid(linear_model)\n",
    "        # convert the predicted probabilities into classes\n",
    "        y_predicted_cls = [1 if i > 0.5 else 0 for i in y_predicted]\n",
    "        return y_predicted_cls\n",
    "    def _sigmoid(self, x):\n",
    "        return 1 / (1 + np.exp(-x))\n",
    "\n"
   ]
  },
  {
   "cell_type": "code",
   "execution_count": 10,
   "metadata": {},
   "outputs": [],
   "source": [
    "#loading dataset from sklearn\n",
    "from sklearn.datasets import load_breast_cancer\n",
    "data = load_breast_cancer()\n",
    "df = pd.DataFrame(data.data, columns=data.feature_names)\n",
    "df['target'] = data.target\n",
    "df.head()\n",
    "\n",
    "#splitting data into train and test\n",
    "X = df.drop('target', axis=1)\n",
    "y = df['target']\n",
    "X_train, X_test, y_train, y_test = train_test_split(X, y, test_size=0.2, random_state=42)\n"
   ]
  },
  {
   "cell_type": "code",
   "execution_count": 11,
   "metadata": {},
   "outputs": [
    {
     "name": "stderr",
     "output_type": "stream",
     "text": [
      "100%|██████████| 10000/10000 [00:19<00:00, 506.94it/s]"
     ]
    },
    {
     "name": "stdout",
     "output_type": "stream",
     "text": [
      "no regularization\n",
      "Accuracy of L1 with C=0.1 is 0.9649122807017544\n"
     ]
    },
    {
     "name": "stderr",
     "output_type": "stream",
     "text": [
      "\n"
     ]
    }
   ],
   "source": [
    "#logistic reg with custom class\n",
    "clf = LogReg(lr=0.0001,n_iters=10000,C=2,penalty='none')\n",
    "clf.fit(X_train,y_train)\n",
    "predictions = clf.predict(X_test)\n",
    "print(\"Accuracy of L1 with C=0.1 is {}\".format(accuracy_score(y_test,predictions)))"
   ]
  },
  {
   "cell_type": "code",
   "execution_count": null,
   "metadata": {},
   "outputs": [],
   "source": [
    "#logistic reg with custom class\n",
    "clf = LogReg(lr=0.0001,n_iters=100000,C=1,penalty='l1')\n",
    "clf.fit(X_train,y_train)\n",
    "predictions = clf.predict(X_test)\n",
    "print(\"Accuracy of L1 with C=0.1 is {}\".format(accuracy_score(y_test,predictions)))"
   ]
  }
 ],
 "metadata": {
  "kernelspec": {
   "display_name": "Python 3",
   "language": "python",
   "name": "python3"
  },
  "language_info": {
   "codemirror_mode": {
    "name": "ipython",
    "version": 3
   },
   "file_extension": ".py",
   "mimetype": "text/x-python",
   "name": "python",
   "nbconvert_exporter": "python",
   "pygments_lexer": "ipython3",
   "version": "3.10.9 (main, Dec 19 2022, 17:35:49) [GCC 12.2.0]"
  },
  "orig_nbformat": 4,
  "vscode": {
   "interpreter": {
    "hash": "e7370f93d1d0cde622a1f8e1c04877d8463912d04d973331ad4851f04de6915a"
   }
  }
 },
 "nbformat": 4,
 "nbformat_minor": 2
}
