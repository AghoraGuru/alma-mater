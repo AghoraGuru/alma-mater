{
 "cells": [
  {
   "attachments": {
    "image.png": {
     "image/png": "[encoded data removed]"
    }
   },
   "cell_type": "markdown",
   "metadata": {},
   "source": [
    "# ```Team_14```\n",
    "\n",
    "* Kalyana Sundaram - CB.EN.U4AIE21120\n",
    "* Kaushik Jonnada - CB.EN.U4AIE21122\n",
    "* Praneetha K - CB.EN.U4AIE21147\n",
    "* Sarvesh ShashiKumar - CB.EN.U4AIE21163\n",
    "* Subikksha - CB.EN.U4AIE21167\n",
    "# Question 1\n",
    "![image.png](attachment:image.png)"
   ]
  },
  {
   "cell_type": "code",
   "execution_count": 79,
   "id": "f0cc4333",
   "metadata": {},
   "outputs": [],
   "source": [
    "import sklearn\n",
    "import numpy as np\n",
    "import operator\n",
    "from tqdm import tqdm\n",
    "import pandas as pd"
   ]
  },
  {
   "cell_type": "code",
   "execution_count": 80,
   "id": "ac47e6e7",
   "metadata": {},
   "outputs": [],
   "source": [
    "class KNeighborsClassifier():\n",
    "    '''The class for using K Nearest Neighbours for classification tasks\n",
    "    \n",
    "       Args:\n",
    "           n_neighbors: The number of nearby points considered'''\n",
    "    \n",
    "    def __init__(self, n_neighbors=5): # this is the constructor\n",
    "        self.neighbors = n_neighbors\n",
    "    \n",
    "    def euclidian_dist(self, point_1, point_2): # a function to calculate the euclidian distance\n",
    "        dist = 0.0\n",
    "        for i in range(len(point_1) - 1): # -1 because the last element is the class\n",
    "            dist += pow(point_1[i] - point_2[i], 2) #using the pow function to calculate the power of a number as the distance is the square root of the sum of the squares of the differences\n",
    "        return np.sqrt(dist)\n",
    "    \n",
    "    def calc_distances(self, data, new_point):\n",
    "        distances = []\n",
    "        neighbors = []\n",
    "        for i in data:\n",
    "            distances.append((i, self.euclidian_dist(new_point, i))) #appending the distance to the list\n",
    "        distances.sort(key=operator.itemgetter(1)) #sorting the list by the second element of the tuple\n",
    "        for i in range(self.neighbors): #getting the first k elements of the list\n",
    "            neighbors.append(distances[i][0]) #appending the first k elements of the list to the neighbors list\n",
    "        return neighbors\n",
    "    \n",
    "    def find_majority(self, neighbors, train_X, train_y): #a function to find the majority class\n",
    "        iter_y = []\n",
    "        for i in neighbors:\n",
    "            iter_y.append(train_y[np.where(train_X == i)[0][0]]) #getting the index of the element in the train_X list and then getting the class from the train_y list\n",
    "        return max(iter_y)\n",
    "    \n",
    "    def fit(self, train_X, train_y):\n",
    "        set_of_classes = set(train_y) #getting the set of classes\n",
    "        self.classes = 0; #initializing the number of classes\n",
    "        for i in tqdm(set_of_classes): #iterating through the set of classes\n",
    "            self.classes += 1\n",
    "        self.X = train_X\n",
    "        self.y = train_y\n",
    "        self.data_len = len(train_X) #getting the length of the data\n",
    "        \n",
    "    def predict(self, test_y):\n",
    "        y_pred = []\n",
    "        neighbors = []\n",
    "        for i in tqdm(test_y): #iterating through the test data\n",
    "            neighbors = self.calc_distances(self.X, i)  #getting the neighbors using the calc_distances function\n",
    "            y_pred.append(self.find_majority(neighbors, self.X, self.y)) #getting the majority class using the find_majority function\n",
    "        return y_pred\n"
   ]
  },
  {
   "cell_type": "code",
   "execution_count": 81,
   "metadata": {},
   "outputs": [],
   "source": [
    "def scores(y_true, y_pred):\n",
    "    from sklearn.metrics import accuracy_score, f1_score, precision_score, recall_score\n",
    "    print(\"Accuracy \",accuracy_score(y_test, y_pred))\n",
    "    print(\"Precision_score\",precision_score(y_test, y_pred, average='macro') )\n",
    "    print(\"Recall_score\",recall_score(y_test, y_pred, average='macro') )\n",
    "    print(\"F1_score\",f1_score(y_test, y_pred, average='macro') )\n"
   ]
  },
  {
   "cell_type": "code",
   "execution_count": 82,
   "metadata": {},
   "outputs": [
    {
     "name": "stderr",
     "output_type": "stream",
     "text": [
      "100%|██████████| 2/2 [00:00<00:00, 41527.76it/s]\n",
      "100%|██████████| 114/114 [00:00<00:00, 173.98it/s]"
     ]
    },
    {
     "name": "stdout",
     "output_type": "stream",
     "text": [
      "Accuracy  0.6491228070175439\n",
      "Precision_score 0.8198198198198199\n",
      "Recall_score 0.5348837209302325\n",
      "F1_score 0.45532728141423795\n"
     ]
    },
    {
     "name": "stderr",
     "output_type": "stream",
     "text": [
      "\n"
     ]
    }
   ],
   "source": [
    "data = load_breast_cancer()\n",
    "\n",
    "X = data.data\n",
    "y = data.target\n",
    "\n",
    "from sklearn.model_selection import train_test_split\n",
    "X_train, X_test, y_train, y_test = train_test_split(X, y, test_size=0.2, random_state=42)\n",
    "\n",
    "clf = KNeighborsClassifier(n_neighbors=5)\n",
    "clf.fit(X_train, y_train)\n",
    "y_pred = clf.predict(X_test)\n",
    "\n",
    "scores(y_test, y_pred)"
   ]
  },
  {
   "cell_type": "markdown",
   "id": "1709ac43",
   "metadata": {},
   "source": [
    "Dataset of Praneetha - CB.EN.U4AIE21147"
   ]
  },
  {
   "cell_type": "code",
   "execution_count": 83,
   "id": "01fa9cb6",
   "metadata": {},
   "outputs": [
    {
     "name": "stderr",
     "output_type": "stream",
     "text": [
      "100%|██████████| 2/2 [00:00<00:00, 21902.37it/s]\n",
      "100%|██████████| 31/31 [00:00<00:00, 3956.77it/s]"
     ]
    },
    {
     "name": "stdout",
     "output_type": "stream",
     "text": [
      "Accuracy  0.7096774193548387\n",
      "Precision_score 0.3548387096774194\n",
      "Recall_score 0.5\n",
      "F1_score 0.41509433962264153\n"
     ]
    },
    {
     "name": "stderr",
     "output_type": "stream",
     "text": [
      "\n",
      "/home/kalyan/.local/lib/python3.10/site-packages/sklearn/metrics/_classification.py:1334: UndefinedMetricWarning: Precision is ill-defined and being set to 0.0 in labels with no predicted samples. Use `zero_division` parameter to control this behavior.\n",
      "  _warn_prf(average, modifier, msg_start, len(result))\n"
     ]
    }
   ],
   "source": [
    "data = pd.read_csv('/home/kalyan/gitrepo/alma-mater/Sem3/PML/Assignment2/Datasets/echocardiogram.csv',sep=',')\n",
    "data = data.dropna()\n",
    "#missing value treatment\n",
    "data = data.dropna()\n",
    "data1 = data\n",
    "#remove name column\n",
    "data1 = data1.drop('name',axis=1)\n",
    "data1.head()\n",
    "np.random.seed(1234)\n",
    "index = np.random.choice(np.arange(data1.shape[0]), size=int(data1.shape[0]*0.5))\n",
    "train = data1.iloc[index]\n",
    "test = data1.iloc[-index]\n",
    "from sklearn.model_selection import train_test_split\n",
    "from sklearn.preprocessing import StandardScaler\n",
    "\n",
    "X = data1.iloc[:, :-1].values\n",
    "y = data1.iloc[:, -1].values\n",
    "\n",
    "X_train, X_test, y_train, y_test = train_test_split(X, y, test_size=0.5, random_state=0)\n",
    "\n",
    "clf = KNeighborsClassifier(n_neighbors=5)\n",
    "clf.fit(X_train, y_train)\n",
    "y_pred = clf.predict(X_test)\n",
    "\n",
    "scores(y_test, y_pred)\n",
    "\n"
   ]
  },
  {
   "cell_type": "markdown",
   "id": "f067290d",
   "metadata": {},
   "source": [
    "Dataset of Kalyana Sundaram - CB.EN.U4AIE21120"
   ]
  },
  {
   "cell_type": "code",
   "execution_count": 84,
   "id": "3af346cc",
   "metadata": {},
   "outputs": [
    {
     "name": "stdout",
     "output_type": "stream",
     "text": [
      "(2212, 36) (2212, 36) (2212,) (2212,)\n"
     ]
    },
    {
     "name": "stderr",
     "output_type": "stream",
     "text": [
      "100%|██████████| 3/3 [00:00<00:00, 30992.39it/s]\n",
      "100%|██████████| 2212/2212 [01:13<00:00, 30.22it/s]"
     ]
    },
    {
     "name": "stdout",
     "output_type": "stream",
     "text": [
      "Accuracy  0.4914104882459313\n",
      "Precision_score 0.1638034960819771\n",
      "Recall_score 0.3333333333333333\n",
      "F1_score 0.21966252399717087\n"
     ]
    },
    {
     "name": "stderr",
     "output_type": "stream",
     "text": [
      "\n",
      "/home/kalyan/.local/lib/python3.10/site-packages/sklearn/metrics/_classification.py:1334: UndefinedMetricWarning: Precision is ill-defined and being set to 0.0 in labels with no predicted samples. Use `zero_division` parameter to control this behavior.\n",
      "  _warn_prf(average, modifier, msg_start, len(result))\n"
     ]
    }
   ],
   "source": [
    "data = pd.read_csv('/home/kalyan/gitrepo/alma-mater/Sem3/PML/Assignment2/Datasets/Dropout_Academic Success - Sheet1.csv',sep=',')\n",
    "#missing value treatment\n",
    "data = data.dropna()\n",
    "\n",
    "#target column is what we want to predict\n",
    "target = data['Target']\n",
    "target\n",
    "\n",
    "#we assign 1 for Graduate and 0 for Dropout\n",
    "target = target.replace('Graduate',1)\n",
    "target = target.replace('Dropout',0)\n",
    "\n",
    "#model building\n",
    "from sklearn.model_selection import train_test_split\n",
    "from sklearn.preprocessing import StandardScaler\n",
    "\n",
    "X = data.iloc[:, :-1].values\n",
    "y = data.iloc[:, -1].values\n",
    "\n",
    "X_train, X_test, y_train, y_test = train_test_split(X, y, test_size=0.5)\n",
    "\n",
    "print(X_train.shape, X_test.shape, y_train.shape, y_test.shape)\n",
    "\n",
    "clf = KNeighborsClassifier(n_neighbors=5)\n",
    "clf.fit(X_train, y_train)\n",
    "y_pred = clf.predict(X_test)\n",
    "\n",
    "scores(y_test, y_pred)\n",
    "\n"
   ]
  },
  {
   "cell_type": "markdown",
   "id": "403414f1",
   "metadata": {},
   "source": [
    "DataSet of Sarvesh Shashikumar - CB.EN.U4AIE21163"
   ]
  },
  {
   "cell_type": "code",
   "execution_count": 85,
   "id": "4bd8b1ac",
   "metadata": {},
   "outputs": [
    {
     "name": "stdout",
     "output_type": "stream",
     "text": [
      "Reading all images\n",
      "Number of images: 100\n",
      "(20, 3072) (80, 3072) (20,) (80,)\n"
     ]
    },
    {
     "name": "stderr",
     "output_type": "stream",
     "text": [
      "100%|██████████| 2/2 [00:00<00:00, 21129.99it/s]\n",
      "  0%|          | 0/80 [00:00<?, ?it/s]/tmp/ipykernel_340562/4067412935.py:13: RuntimeWarning: overflow encountered in ubyte_scalars\n",
      "  dist += pow(point_1[i] - point_2[i], 2) #using the pow function to calculate the power of a number as the distance is the square root of the sum of the squares of the differences\n",
      "100%|██████████| 80/80 [00:09<00:00,  8.50it/s]"
     ]
    },
    {
     "name": "stdout",
     "output_type": "stream",
     "text": [
      "Accuracy  0.4875\n",
      "Precision_score 0.24375\n",
      "Recall_score 0.5\n",
      "F1_score 0.3277310924369748\n"
     ]
    },
    {
     "name": "stderr",
     "output_type": "stream",
     "text": [
      "\n",
      "/home/kalyan/.local/lib/python3.10/site-packages/sklearn/metrics/_classification.py:1334: UndefinedMetricWarning: Precision is ill-defined and being set to 0.0 in labels with no predicted samples. Use `zero_division` parameter to control this behavior.\n",
      "  _warn_prf(average, modifier, msg_start, len(result))\n"
     ]
    }
   ],
   "source": [
    "import cv2\n",
    "#import paths\n",
    "from imutils import paths\n",
    "import os\n",
    "import numpy as np\n",
    "def createImageFeatures(image, size=(32, 32)):\n",
    "    # resize the image\n",
    "    image = cv2.resize(image, size)\n",
    "\n",
    "    # flatten the image\n",
    "    pixel_list = image.flatten()\n",
    "    return pixel_list\n",
    "\n",
    "print(\"Reading all images\")\n",
    "image_paths = list(paths.list_images(\"/home/kalyan/DataSets/Dogs&Cats/train\"))\n",
    "raw_images = []\n",
    "labels = []\n",
    "\n",
    "#take randomly 100 images of cats and dogs \n",
    "np.random.seed(42)\n",
    "image_paths = np.random.choice(image_paths, size=(100), replace=False)\n",
    "\n",
    "# loop over the input images\n",
    "for (i, image_path) in enumerate(image_paths):\n",
    "    image = cv2.imread(image_path)\n",
    "    label = image_path.split(os.path.sep)[-1].split(\".\")[0]\n",
    "    # extract raw pixel intensity \"features\n",
    "    pixels = createImageFeatures(image)\n",
    "    raw_images.append(pixels)\n",
    "    labels.append(label)\n",
    "\n",
    "print(\"Number of images: {}\".format(len(raw_images)))\n",
    "raw_images = np.array(raw_images)\n",
    "labels = np.array(labels)\n",
    "from sklearn.model_selection import train_test_split\n",
    "X_train, X_test, y_train, y_test = train_test_split(raw_images, labels, test_size=0.8)\n",
    "\n",
    "print(X_train.shape, X_test.shape, y_train.shape, y_test.shape)\n",
    "clf = KNeighborsClassifier(n_neighbors=5)\n",
    "clf.fit(X_train, y_train)\n",
    "y_pred = clf.predict(X_test)\n",
    "\n",
    "scores(y_test, y_pred)\n"
   ]
  },
  {
   "cell_type": "markdown",
   "id": "83309b14",
   "metadata": {},
   "source": [
    "DataSet of Subikksha - CB.EN.U4AIE21167"
   ]
  },
  {
   "cell_type": "code",
   "execution_count": 86,
   "id": "0eb61297",
   "metadata": {},
   "outputs": [
    {
     "name": "stdout",
     "output_type": "stream",
     "text": [
      "(984, 132) (3936, 132) (984,) (3936,)\n"
     ]
    },
    {
     "name": "stderr",
     "output_type": "stream",
     "text": [
      "100%|██████████| 41/41 [00:00<00:00, 909875.47it/s]\n",
      "100%|██████████| 3936/3936 [03:22<00:00, 19.45it/s]"
     ]
    },
    {
     "name": "stdout",
     "output_type": "stream",
     "text": [
      "Accuracy  0.024390243902439025\n",
      "Precision_score 0.000594883997620464\n",
      "Recall_score 0.024390243902439025\n",
      "F1_score 0.0011614401858304297\n"
     ]
    },
    {
     "name": "stderr",
     "output_type": "stream",
     "text": [
      "\n",
      "/home/kalyan/.local/lib/python3.10/site-packages/sklearn/metrics/_classification.py:1334: UndefinedMetricWarning: Precision is ill-defined and being set to 0.0 in labels with no predicted samples. Use `zero_division` parameter to control this behavior.\n",
      "  _warn_prf(average, modifier, msg_start, len(result))\n"
     ]
    }
   ],
   "source": [
    "data = pd.read_csv('/home/kalyan/gitrepo/alma-mater/Sem3/PML/Assignment2/Datasets/Disease.csv',sep=',')\n",
    "#print all classes in prognosis\n",
    "classes = (data['prognosis'].unique())\n",
    "\n",
    "class_dict = {}\n",
    "for i in range(len(classes)):\n",
    "    class_dict[classes[i]] = i\n",
    "\n",
    "data['prognosis'] = data['prognosis'].map(class_dict)\n",
    "\n",
    "#drop Unnamed: 133 column\n",
    "data = data.drop('Unnamed: 133',axis=1)\n",
    "data\n",
    "\n",
    "#given symptoms predict the probable disease\n",
    "symptoms = data.columns[:-1]\n",
    "symptoms\n",
    "\n",
    "#model building\n",
    "from sklearn.model_selection import train_test_split\n",
    "from sklearn.preprocessing import StandardScaler\n",
    "\n",
    "X = data.iloc[:, :-1].values\n",
    "y = data.iloc[:, -1].values\n",
    "\n",
    "X_train, X_test, y_train, y_test = train_test_split(X, y, test_size=0.8)\n",
    "\n",
    "print(X_train.shape, X_test.shape, y_train.shape, y_test.shape)\n",
    "\n",
    "clf = KNeighborsClassifier(n_neighbors=5)\n",
    "clf.fit(X_train, y_train)\n",
    "y_pred = clf.predict(X_test)\n",
    "\n",
    "scores(y_test, y_pred)\n"
   ]
  },
  {
   "cell_type": "markdown",
   "id": "0c333bca",
   "metadata": {},
   "source": [
    "DataSet of Kaushik Jonnada - CB.EN.U4AIE21122"
   ]
  },
  {
   "cell_type": "code",
   "execution_count": 87,
   "id": "6f64d6bc",
   "metadata": {},
   "outputs": [
    {
     "name": "stdout",
     "output_type": "stream",
     "text": [
      "(639, 36) (2556, 36) (639,) (2556,)\n"
     ]
    },
    {
     "name": "stderr",
     "output_type": "stream",
     "text": [
      "100%|██████████| 2/2 [00:00<00:00, 36792.14it/s]\n",
      "100%|██████████| 2556/2556 [00:24<00:00, 102.88it/s]\n",
      "/home/kalyan/.local/lib/python3.10/site-packages/sklearn/metrics/_classification.py:1334: UndefinedMetricWarning: Precision is ill-defined and being set to 0.0 in labels with no predicted samples. Use `zero_division` parameter to control this behavior.\n",
      "  _warn_prf(average, modifier, msg_start, len(result))\n"
     ]
    },
    {
     "name": "stdout",
     "output_type": "stream",
     "text": [
      "Accuracy  0.5230829420970265\n",
      "Precision_score 0.2615414710485133\n",
      "Recall_score 0.5\n",
      "F1_score 0.3434369380940149\n"
     ]
    }
   ],
   "source": [
    "#loading data\n",
    "data = pd.read_csv('/home/kalyan/gitrepo/alma-mater/Sem3/PML/Assignment2/Datasets/kr-vs-kp.data',sep=',')\n",
    "data.head()\n",
    "\n",
    "#missing value treatment\n",
    "data = data.dropna()\n",
    "data\n",
    "\n",
    "#won = 1, nowin = 0\n",
    "data['won'] = data['won'].replace('won',1)\n",
    "data['won'] = data['won'].replace('nowin',0)\n",
    "\n",
    "#settings all f to 1 and t to 0\n",
    "data = data.replace('f',1)\n",
    "data = data.replace('t',0)\n",
    "\n",
    "#changing values with l to 1 and g to 0\n",
    "data = data.replace('l',1)\n",
    "data = data.replace('g',0)\n",
    "\n",
    "#changing values with n to 1 and b to 0 and w to 2\n",
    "data = data.replace('n',1)\n",
    "data = data.replace('b',0)\n",
    "data = data.replace('w',2)\n",
    "\n",
    "#model building\n",
    "from sklearn.model_selection import train_test_split\n",
    "from sklearn.preprocessing import StandardScaler\n",
    "\n",
    "X = data.iloc[:, :-1].values\n",
    "y = data.iloc[:, -1].values\n",
    "\n",
    "X_train, X_test, y_train, y_test = train_test_split(X, y, test_size=0.8)\n",
    "\n",
    "print(X_train.shape, X_test.shape, y_train.shape, y_test.shape)\n",
    "\n",
    "clf = KNeighborsClassifier(n_neighbors=5)\n",
    "clf.fit(X_train, y_train)\n",
    "y_pred = clf.predict(X_test)\n",
    "\n",
    "scores(y_test, y_pred)"
   ]
  },
  {
   "attachments": {
    "image.png": {
     "image/png": "[encoded data removed]"
    }
   },
   "cell_type": "markdown",
   "metadata": {},
   "source": [
    "# Question 2\n",
    "![image.png](attachment:image.png)"
   ]
  },
  {
   "cell_type": "code",
   "execution_count": null,
   "metadata": {},
   "outputs": [],
   "source": [
    "import numpy as np\n",
    "import cvxpy as cp\n",
    "import pandas as pd\n",
    "\n",
    "def sv_cvxpy(X, y, c):\n",
    "    m, n = X.shape # m: number of samples, n: number of features\n",
    "    w = cp.Variable(n) # n-dimensional vector\n",
    "    b = cp.Variable() # scalar\n",
    "    '''c*cp.sum(cp.pos(1 - y * (X @ w + b))) is the hinge loss function\n",
    "    cp.square(cp.norm(w)) is the L2 norm of w'''\n",
    "    obj = cp.Minimize(0.5 * cp.square(cp.norm(w)) + c * cp.sum(cp.pos(1 - y * (X @ w + b)))) \n",
    "    prob = cp.Problem(obj)\n",
    "    prob.solve()\n",
    "    print(\"status:\", prob.status)\n",
    "    return w.value, b.value"
   ]
  },
  {
   "cell_type": "markdown",
   "metadata": {},
   "source": [
    "Kaushik Jonnada - CB.EN.U4AIE21122"
   ]
  },
  {
   "cell_type": "code",
   "execution_count": null,
   "metadata": {},
   "outputs": [
    {
     "name": "stdout",
     "output_type": "stream",
     "text": [
      "[6.53017565e-06 6.82024811e-06 7.17765163e-06 6.63689637e-06\n",
      " 5.06616649e-06 3.53679183e-06 5.25158308e-06 6.43191498e-06\n",
      " 4.88917629e-06 6.35496397e-06 4.00158611e-06 6.54725688e-06\n",
      " 5.42817124e-06 7.32626332e-06 8.46224615e-06 7.21163605e-06\n",
      " 7.09690076e-06 2.91436233e-06 7.24985718e-06 6.23517350e-06\n",
      " 4.82437695e-06 5.62175047e-06 7.05863179e-06 4.43940816e-06\n",
      " 7.31777612e-06 2.45667863e-06 7.13940785e-06 7.32626332e-06\n",
      " 7.32626332e-06 6.96929138e-06 5.73777590e-06 7.24136462e-06\n",
      " 5.83224605e-06 2.94921469e-06 1.59366081e-06 5.56585370e-06] 0.013079788904214039\n"
     ]
    },
    {
     "name": "stderr",
     "output_type": "stream",
     "text": [
      "/home/kalyan/.local/lib/python3.10/site-packages/cvxpy/expressions/expression.py:593: UserWarning: \n",
      "This use of ``*`` has resulted in matrix multiplication.\n",
      "Using ``*`` for matrix multiplication has been deprecated since CVXPY 1.1.\n",
      "    Use ``*`` for matrix-scalar and vector-scalar multiplication.\n",
      "    Use ``@`` for matrix-matrix and matrix-vector multiplication.\n",
      "    Use ``multiply`` for elementwise multiplication.\n",
      "This code path has been hit 16 times so far.\n",
      "\n",
      "  warnings.warn(msg, UserWarning)\n"
     ]
    }
   ],
   "source": [
    "#loading data\n",
    "data = pd.read_csv('/home/kalyan/gitrepo/alma-mater/Sem3/PML/kr-vs-kp.data',sep=',')\n",
    "data.head()\n",
    "\n",
    "#missing value treatment\n",
    "data = data.dropna()\n",
    "data\n",
    "\n",
    "#won = 1, nowin = 0\n",
    "data['won'] = data['won'].replace('won',1)\n",
    "data['won'] = data['won'].replace('nowin',0)\n",
    "\n",
    "#settings all f to 1 and t to 0\n",
    "data = data.replace('f',1)\n",
    "data = data.replace('t',0)\n",
    "\n",
    "#changing values with l to 1 and g to 0\n",
    "data = data.replace('l',1)\n",
    "data = data.replace('g',0)\n",
    "\n",
    "#changing values with n to 1 and b to 0 and w to 2\n",
    "data = data.replace('n',1)\n",
    "data = data.replace('b',0)\n",
    "data = data.replace('w',2)\n",
    "\n",
    "#model building\n",
    "from sklearn.model_selection import train_test_split\n",
    "from sklearn.preprocessing import StandardScaler\n",
    "\n",
    "X = data.iloc[:, :-1].values\n",
    "y = data.iloc[:, -1].values\n",
    "\n",
    "c = 1\n",
    "w, b = sv_cvxpy(X, y, c)\n",
    "print(w, b)\n",
    "\n"
   ]
  },
  {
   "cell_type": "markdown",
   "metadata": {},
   "source": [
    "Subikksha - CB.EN.U4AIE21167"
   ]
  },
  {
   "cell_type": "code",
   "execution_count": null,
   "metadata": {},
   "outputs": [
    {
     "name": "stdout",
     "output_type": "stream",
     "text": [
      "status: optimal\n",
      "[1.77714606e-09 4.75654569e-09 0.00000000e+00 8.40341668e-10\n",
      " 2.95454866e-11 4.04573834e-09 4.79409869e-09 1.80554872e-10\n",
      " 4.02138671e-10 5.90909433e-11 1.77272085e-10 9.39032252e-09\n",
      " 1.24072405e-09 1.18181685e-10 1.14093643e-08 9.66700703e-10\n",
      " 1.02905687e-09 9.66700703e-10 1.96410333e-09 2.43135341e-09\n",
      " 1.21611290e-09 2.30677496e-09 1.77272085e-10 2.18306816e-10\n",
      " 2.75910804e-09 7.22840062e-09 2.36362017e-10 2.75746958e-09\n",
      " 4.96386314e-09 2.36362017e-10 4.90769071e-10 6.05415331e-09\n",
      " 4.54586428e-09 3.05397373e-09 6.46233396e-09 5.41894412e-09\n",
      " 5.58061023e-10 9.12547744e-10 1.43431854e-09 4.64550094e-09\n",
      " 2.84266477e-09 1.94278517e-09 6.23710313e-10 4.25009832e-09\n",
      " 7.17257930e-10 0.00000000e+00 7.48439731e-10 2.12971482e-09\n",
      " 4.17980756e-09 1.59016012e-09 2.51494263e-09 8.53470221e-10\n",
      " 8.53470221e-10 8.53470221e-10 8.53470221e-10 8.53470221e-10\n",
      " 3.81839865e-09 3.54540036e-10 1.88374818e-09 8.73162905e-10\n",
      " 8.73162905e-10 8.73162905e-10 8.73162905e-10 1.43431854e-09\n",
      " 1.63608900e-09 9.35521898e-10 9.35521898e-10 1.15376306e-09\n",
      " 9.35521898e-10 8.86291264e-10 9.66700703e-10 1.01757035e-09\n",
      " 1.01757035e-09 1.01757035e-09 2.64113090e-09 1.77272085e-10\n",
      " 1.02905687e-09 1.08320664e-09 1.06023420e-09 1.06023420e-09\n",
      " 2.14119188e-09 1.43431854e-09 2.15102926e-09 1.09141102e-09\n",
      " 1.06351599e-09 1.80830766e-09 1.12258731e-09 3.84084080e-10\n",
      " 8.53470221e-10 1.18493826e-09 1.06023420e-09 1.18493826e-09\n",
      " 1.55933932e-10 1.55933932e-10 5.61343521e-10 1.36049298e-09\n",
      " 3.49113398e-09 2.49855321e-09 4.05421315e-10 1.05531150e-09\n",
      " 5.61343521e-10 2.06740855e-09 0.00000000e+00 2.95454866e-11\n",
      " 2.29796496e-10 2.29796496e-10 9.35521898e-10 2.80679092e-10\n",
      " 8.86291264e-10 3.11864962e-10 3.43050632e-10 6.56534404e-10\n",
      " 6.56534404e-10 7.55004271e-10 7.55004271e-10 7.48439731e-10\n",
      " 7.48439731e-10 7.48439731e-10 8.20648697e-10 9.35521898e-10\n",
      " 1.08320664e-09 2.15102926e-09 1.09305189e-09 1.09305189e-09\n",
      " 1.09305189e-09 1.21611290e-09 1.21611290e-09 1.21611290e-09\n",
      " 1.21611290e-09 1.24728696e-09 1.24728696e-09 1.24731617e-09] 0.0015637048945057708\n"
     ]
    },
    {
     "name": "stderr",
     "output_type": "stream",
     "text": [
      "/home/kalyan/.local/lib/python3.10/site-packages/cvxpy/expressions/expression.py:593: UserWarning: \n",
      "This use of ``*`` has resulted in matrix multiplication.\n",
      "Using ``*`` for matrix multiplication has been deprecated since CVXPY 1.1.\n",
      "    Use ``*`` for matrix-scalar and vector-scalar multiplication.\n",
      "    Use ``@`` for matrix-matrix and matrix-vector multiplication.\n",
      "    Use ``multiply`` for elementwise multiplication.\n",
      "This code path has been hit 12 times so far.\n",
      "\n",
      "  warnings.warn(msg, UserWarning)\n"
     ]
    }
   ],
   "source": [
    "import pandas as pd\n",
    "data = pd.read_csv('/home/kalyan/gitrepo/alma-mater/Sem3/PML/Disease.csv',sep=',')\n",
    "#print all classes in prognosis\n",
    "classes = (data['prognosis'].unique())\n",
    "\n",
    "class_dict = {}\n",
    "for i in range(len(classes)):\n",
    "    class_dict[classes[i]] = i\n",
    "\n",
    "data['prognosis'] = data['prognosis'].map(class_dict)\n",
    "\n",
    "#drop Unnamed: 133 column\n",
    "data = data.drop('Unnamed: 133',axis=1)\n",
    "data\n",
    "\n",
    "#given symptoms predict the probable disease\n",
    "symptoms = data.columns[:-1]\n",
    "symptoms\n",
    "\n",
    "#model building\n",
    "from sklearn.model_selection import train_test_split\n",
    "from sklearn.preprocessing import StandardScaler\n",
    "\n",
    "X = data.iloc[:, :-1].values\n",
    "y = data.iloc[:, -1].values\n",
    "\n",
    "c = 0.001\n",
    "w, b = sv_cvxpy(X, y, c)\n",
    "print(w, b)\n"
   ]
  },
  {
   "cell_type": "markdown",
   "metadata": {},
   "source": [
    "Sarvesh ShashiKumar - CB.EN.U4AIE21163"
   ]
  },
  {
   "cell_type": "code",
   "execution_count": null,
   "metadata": {},
   "outputs": [
    {
     "name": "stdout",
     "output_type": "stream",
     "text": [
      "Reading all images\n",
      "Number of images: 100\n",
      "status: optimal\n",
      "[-2.30188438e-09 -2.45009540e-09 -2.62079262e-09 ... -2.24929947e-09\n",
      " -2.34373012e-09 -2.33926836e-09] 0.09029259887633485\n",
      "[0.09028897]\n",
      "[1]\n"
     ]
    },
    {
     "name": "stderr",
     "output_type": "stream",
     "text": [
      "/home/kalyan/.local/lib/python3.10/site-packages/cvxpy/expressions/expression.py:593: UserWarning: \n",
      "This use of ``*`` has resulted in matrix multiplication.\n",
      "Using ``*`` for matrix multiplication has been deprecated since CVXPY 1.1.\n",
      "    Use ``*`` for matrix-scalar and vector-scalar multiplication.\n",
      "    Use ``@`` for matrix-matrix and matrix-vector multiplication.\n",
      "    Use ``multiply`` for elementwise multiplication.\n",
      "This code path has been hit 13 times so far.\n",
      "\n",
      "  warnings.warn(msg, UserWarning)\n"
     ]
    }
   ],
   "source": [
    "import cv2\n",
    "#import paths\n",
    "from imutils import paths\n",
    "import os\n",
    "import numpy as np\n",
    "def createImageFeatures(image, size=(32, 32)):\n",
    "    # resize the image\n",
    "    image = cv2.resize(image, size)\n",
    "\n",
    "    # flatten the image\n",
    "    pixel_list = image.flatten()\n",
    "    return pixel_list\n",
    "\n",
    "print(\"Reading all images\")\n",
    "image_paths = list(paths.list_images(\"/home/kalyan/DataSets/Dogs&Cats/train\"))\n",
    "raw_images = []\n",
    "labels = []\n",
    "\n",
    "#take randomly 100 images of cats and dogs \n",
    "np.random.seed(42)\n",
    "image_paths = np.random.choice(image_paths, size=(100), replace=False)\n",
    "\n",
    "# loop over the input images\n",
    "for (i, image_path) in enumerate(image_paths):\n",
    "    image = cv2.imread(image_path)\n",
    "    label = image_path.split(os.path.sep)[-1].split(\".\")[0]\n",
    "    # extract raw pixel intensity \"features\n",
    "    pixels = createImageFeatures(image)\n",
    "    raw_images.append(pixels)\n",
    "    labels.append(label)\n",
    "\n",
    "print(\"Number of images: {}\".format(len(raw_images)))\n",
    "raw_images = np.array(raw_images)\n",
    "labels = np.array(labels)\n",
    "\n",
    "# encode the labels, converting them from strings to integers\n",
    "from sklearn.preprocessing import LabelEncoder\n",
    "le = LabelEncoder()\n",
    "labels = le.fit_transform(labels)\n",
    "\n",
    "# scale the raw pixel intensities to the range [0, 1]\n",
    "from sklearn.preprocessing import MinMaxScaler\n",
    "scaler = MinMaxScaler()\n",
    "raw_images = scaler.fit_transform(raw_images)\n",
    "\n",
    "X = raw_images\n",
    "y = labels\n",
    "\n",
    "c = 0.001\n",
    "w, b = sv_cvxpy(X, y, c)\n",
    "print(w, b)\n",
    "\n",
    "#testing the model\n",
    "import cv2\n",
    "import numpy as np\n",
    "from imutils import paths\n",
    "import os\n",
    "import matplotlib.pyplot as plt\n",
    "\n",
    "# load the image\n",
    "image = cv2.imread(\"/home/kalyan/DataSets/Dogs&Cats/test/dog.4018.jpg\")\n",
    "# extract raw pixel intensity \"features\"\n",
    "pixels = createImageFeatures(image)\n",
    "pixels = np.array(pixels)\n",
    "pixels = pixels.reshape(1, -1)\n",
    "pixels = scaler.transform(pixels)\n",
    "\n",
    "# predict the label of the image\n",
    "pred = w.T @ pixels.T + b\n",
    "print(pred)\n",
    "#convert pred to 0 or 1\n",
    "pred = np.where(pred > 0, 1, 0)\n",
    "print(pred)"
   ]
  },
  {
   "cell_type": "markdown",
   "metadata": {},
   "source": [
    "Kalyana Sundaram - CB.EN.U4AIE21120"
   ]
  },
  {
   "cell_type": "code",
   "execution_count": null,
   "metadata": {},
   "outputs": [
    {
     "name": "stdout",
     "output_type": "stream",
     "text": [
      "status: optimal\n",
      "[ 4.12449916e-10  1.02597380e-08 -1.10750149e-09  9.27182024e-07\n",
      " -2.13136627e-10 -1.77125364e-08  1.55711814e-08 -6.45577726e-09\n",
      "  3.46525569e-08  2.90324644e-08 -8.85684346e-08 -8.98046608e-08\n",
      "  4.64024739e-09 -8.54475378e-10 -3.47726674e-11 -6.43508675e-10\n",
      "  3.58978230e-12  9.59329137e-11 -4.20165269e-10  1.26570151e-08\n",
      " -1.86507944e-10  1.66673078e-09  1.60557051e-09  1.10198414e-08\n",
      " -1.64602255e-09 -7.38758034e-09  2.68513119e-09  1.25114639e-09\n",
      "  3.03015133e-10  3.27232769e-10 -1.92206085e-09 -1.02272916e-08\n",
      "  1.62432311e-09  2.37452704e-08  4.14756392e-09] 31.27512621841527\n"
     ]
    },
    {
     "name": "stderr",
     "output_type": "stream",
     "text": [
      "/home/kalyan/.local/lib/python3.10/site-packages/cvxpy/expressions/expression.py:593: UserWarning: \n",
      "This use of ``*`` has resulted in matrix multiplication.\n",
      "Using ``*`` for matrix multiplication has been deprecated since CVXPY 1.1.\n",
      "    Use ``*`` for matrix-scalar and vector-scalar multiplication.\n",
      "    Use ``@`` for matrix-matrix and matrix-vector multiplication.\n",
      "    Use ``multiply`` for elementwise multiplication.\n",
      "This code path has been hit 14 times so far.\n",
      "\n",
      "  warnings.warn(msg, UserWarning)\n"
     ]
    }
   ],
   "source": [
    "data = pd.read_csv('/home/kalyan/gitrepo/alma-mater/Sem3/PML/Dropout_Academic Success - Sheet1.csv',sep=',')\n",
    "#missing value treatment\n",
    "data = data.dropna()\n",
    "\n",
    "#target column is what we want to predict\n",
    "target = data['Target']\n",
    "target\n",
    "\n",
    "#we assign 1 for Graduate and 0 for Dropout\n",
    "target = target.replace('Graduate',1)\n",
    "target = target.replace('Dropout',0)\n",
    "\n",
    "#drop Target column\n",
    "data = data.drop('Target',axis=1)\n",
    "data\n",
    "\n",
    "X = data.iloc[:, :-1].values\n",
    "y = data.iloc[:, -1].values\n",
    "\n",
    "c = 0.001\n",
    "w, b = sv_cvxpy(X, y, c)\n",
    "print(w, b)"
   ]
  },
  {
   "cell_type": "markdown",
   "metadata": {},
   "source": [
    "Praneetha - CB.EN.U4AIE21147"
   ]
  },
  {
   "cell_type": "code",
   "execution_count": null,
   "metadata": {},
   "outputs": [
    {
     "name": "stdout",
     "output_type": "stream",
     "text": [
      "status: optimal\n",
      "[-2.79168984e-11 -1.33686686e-11 -9.30924587e-10 -3.93196230e-12\n",
      " -2.30806191e-12 -2.10297632e-10 -6.95952787e-11 -2.46707769e-10\n",
      " -2.31474426e-11 -1.01067149e-11 -1.96594736e-11] 1.0383677181432904\n"
     ]
    },
    {
     "name": "stderr",
     "output_type": "stream",
     "text": [
      "/home/kalyan/.local/lib/python3.10/site-packages/cvxpy/expressions/expression.py:593: UserWarning: \n",
      "This use of ``*`` has resulted in matrix multiplication.\n",
      "Using ``*`` for matrix multiplication has been deprecated since CVXPY 1.1.\n",
      "    Use ``*`` for matrix-scalar and vector-scalar multiplication.\n",
      "    Use ``@`` for matrix-matrix and matrix-vector multiplication.\n",
      "    Use ``multiply`` for elementwise multiplication.\n",
      "This code path has been hit 15 times so far.\n",
      "\n",
      "  warnings.warn(msg, UserWarning)\n"
     ]
    }
   ],
   "source": [
    "data = pd.read_csv('/home/kalyan/gitrepo/alma-mater/Sem3/PML/echocardiogram.csv',sep=',')\n",
    "data = data.dropna()\n",
    "#missing value treatment\n",
    "data = data.dropna()\n",
    "data1 = data\n",
    "#remove name column\n",
    "data1 = data1.drop('name',axis=1)\n",
    "data1.head()\n",
    "np.random.seed(1234)\n",
    "index = np.random.choice(np.arange(data1.shape[0]), size=int(data1.shape[0]*0.5))\n",
    "train = data1.iloc[index]\n",
    "test = data1.iloc[-index]\n",
    "from sklearn.model_selection import train_test_split\n",
    "from sklearn.preprocessing import StandardScaler\n",
    "\n",
    "X = data1.iloc[:, :-1].values\n",
    "y = data1.iloc[:, -1].values\n",
    "\n",
    "c = 0.001\n",
    "w, b = sv_cvxpy(X, y, c)\n",
    "print(w, b)\n"
   ]
  },
  {
   "cell_type": "markdown",
   "metadata": {},
   "source": [
    "# Thank You"
   ]
  }
 ],
 "metadata": {
  "kernelspec": {
   "display_name": "Python 3 (ipykernel)",
   "language": "python",
   "name": "python3"
  },
  "language_info": {
   "codemirror_mode": {
    "name": "ipython",
    "version": 3
   },
   "file_extension": ".py",
   "mimetype": "text/x-python",
   "name": "python",
   "nbconvert_exporter": "python",
   "pygments_lexer": "ipython3",
   "version": "3.10.8 (main, Nov  1 2022, 14:18:21) [GCC 12.2.0]"
  },
  "vscode": {
   "interpreter": {
    "hash": "e7370f93d1d0cde622a1f8e1c04877d8463912d04d973331ad4851f04de6915a"
   }
  }
 },
 "nbformat": 4,
 "nbformat_minor": 2
}
