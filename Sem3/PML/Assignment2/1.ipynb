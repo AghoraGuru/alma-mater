{
 "cells": [
  {
   "cell_type": "code",
   "execution_count": 17,
   "id": "f0cc4333",
   "metadata": {},
   "outputs": [],
   "source": [
    "import sklearn\n",
    "import numpy as np\n",
    "import operator\n",
    "from tqdm import tqdm\n",
    "import pandas as pd"
   ]
  },
  {
   "cell_type": "code",
   "execution_count": 18,
   "id": "ac47e6e7",
   "metadata": {},
   "outputs": [],
   "source": [
    "class KNeighborsClassifier():\n",
    "    \n",
    "    def __init__(self, n_neighbors=5): # this is the constructor\n",
    "        self.neighbors = n_neighbors\n",
    "        \n",
    "    def fit():\n",
    "        pass\n",
    "    \n",
    "    def predict():\n",
    "        pass\n",
    "    \n",
    "    def euclidian_dist(self, point_1, point_2): # a function to calculate the euclidian distance\n",
    "        dist = 0.0\n",
    "        for i in range(len(point_1) - 1): # -1 because the last element is the class\n",
    "            dist += pow(point_1[i] - point_2[i], 2) #using the pow function to calculate the power of a number as the distance is the square root of the sum of the squares of the differences\n",
    "        return np.sqrt(dist)\n",
    "    \n",
    "    def calc_distances(self, data, new_point):\n",
    "        distances = []\n",
    "        neighbors = []\n",
    "        for i in data:\n",
    "            distances.append((i, self.euclidian_dist(new_point, i))) #appending the distance to the list\n",
    "        distances.sort(key=operator.itemgetter(1)) #sorting the list by the second element of the tuple\n",
    "        for i in range(self.neighbors): #getting the first k elements of the list\n",
    "            neighbors.append(distances[i][0]) #appending the first k elements of the list to the neighbors list\n",
    "        return neighbors\n",
    "    \n",
    "    def find_majority(self, neighbors, train_X, train_y): #a function to find the majority class\n",
    "        iter_y = []\n",
    "        for i in neighbors:\n",
    "            iter_y.append(train_y[np.where(train_X == i)[0][0]]) #getting the index of the element in the train_X list and then getting the class from the train_y list\n",
    "        return max(iter_y)\n",
    "    \n",
    "    def fit(self, train_X, train_y):\n",
    "        set_of_classes = set(train_y) #getting the set of classes\n",
    "        self.classes = 0; #initializing the number of classes\n",
    "        for i in tqdm(set_of_classes): #iterating through the set of classes\n",
    "            self.classes += 1\n",
    "        self.X = train_X\n",
    "        self.y = train_y\n",
    "        self.data_len = len(train_X) #getting the length of the data\n",
    "        \n",
    "    def predict(self, test_y):\n",
    "        y_pred = []\n",
    "        neighbors = []\n",
    "        for i in tqdm(test_y): #iterating through the test data\n",
    "            neighbors = self.calc_distances(self.X, i)  #getting the neighbors using the calc_distances function\n",
    "            y_pred.append(self.find_majority(neighbors, self.X, self.y)) #getting the majority class using the find_majority function\n",
    "        return y_pred"
   ]
  },
  {
   "attachments": {},
   "cell_type": "markdown",
   "id": "1709ac43",
   "metadata": {},
   "source": [
    "Praneetha - CB.EN.U4AIE21147"
   ]
  },
  {
   "cell_type": "code",
   "execution_count": 3,
   "id": "01fa9cb6",
   "metadata": {},
   "outputs": [
    {
     "name": "stderr",
     "output_type": "stream",
     "text": [
      "100%|██████████| 2/2 [00:00<00:00, 26214.40it/s]"
     ]
    },
    {
     "name": "stdout",
     "output_type": "stream",
     "text": [
      "0.7096774193548387\n"
     ]
    },
    {
     "name": "stderr",
     "output_type": "stream",
     "text": [
      "\n"
     ]
    }
   ],
   "source": [
    "data = pd.read_csv('/home/kalyan/gitrepo/alma-mater/Sem3/PML/echocardiogram.csv',sep=',')\n",
    "data = data.dropna()\n",
    "#missing value treatment\n",
    "data = data.dropna()\n",
    "data1 = data\n",
    "#remove name column\n",
    "data1 = data1.drop('name',axis=1)\n",
    "data1.head()\n",
    "np.random.seed(1234)\n",
    "index = np.random.choice(np.arange(data1.shape[0]), size=int(data1.shape[0]*0.5))\n",
    "train = data1.iloc[index]\n",
    "test = data1.iloc[-index]\n",
    "from sklearn.model_selection import train_test_split\n",
    "from sklearn.preprocessing import StandardScaler\n",
    "\n",
    "X = data1.iloc[:, :-1].values\n",
    "y = data1.iloc[:, -1].values\n",
    "\n",
    "X_train, X_test, y_train, y_test = train_test_split(X, y, test_size=0.5, random_state=0)\n",
    "\n",
    "clf = KNeighborsClassifier(n_neighbors=5)\n",
    "clf.fit(X_train, y_train)\n",
    "y_pred = clf.predict(X_test)\n",
    "\n",
    "from sklearn.metrics import accuracy_score\n",
    "print(accuracy_score(y_test, y_pred))\n"
   ]
  },
  {
   "attachments": {},
   "cell_type": "markdown",
   "id": "f067290d",
   "metadata": {},
   "source": [
    "Kalyana Sundaram - CB.EN.U4AIE21120"
   ]
  },
  {
   "cell_type": "code",
   "execution_count": 4,
   "id": "3af346cc",
   "metadata": {},
   "outputs": [
    {
     "name": "stdout",
     "output_type": "stream",
     "text": [
      "(2212, 36) (2212, 36) (2212,) (2212,)\n"
     ]
    },
    {
     "name": "stderr",
     "output_type": "stream",
     "text": [
      "100%|██████████| 3/3 [00:00<00:00, 58798.65it/s]\n"
     ]
    },
    {
     "name": "stdout",
     "output_type": "stream",
     "text": [
      "0.4914104882459313\n"
     ]
    }
   ],
   "source": [
    "data = pd.read_csv('/home/kalyan/gitrepo/alma-mater/Sem3/PML/Dropout_Academic Success - Sheet1.csv',sep=',')\n",
    "#missing value treatment\n",
    "data = data.dropna()\n",
    "\n",
    "#target column is what we want to predict\n",
    "target = data['Target']\n",
    "target\n",
    "\n",
    "#we assign 1 for Graduate and 0 for Dropout\n",
    "target = target.replace('Graduate',1)\n",
    "target = target.replace('Dropout',0)\n",
    "\n",
    "#model building\n",
    "from sklearn.model_selection import train_test_split\n",
    "from sklearn.preprocessing import StandardScaler\n",
    "\n",
    "X = data.iloc[:, :-1].values\n",
    "y = data.iloc[:, -1].values\n",
    "\n",
    "X_train, X_test, y_train, y_test = train_test_split(X, y, test_size=0.5)\n",
    "\n",
    "print(X_train.shape, X_test.shape, y_train.shape, y_test.shape)\n",
    "\n",
    "clf = KNeighborsClassifier(n_neighbors=5)\n",
    "clf.fit(X_train, y_train)\n",
    "y_pred = clf.predict(X_test)\n",
    "\n",
    "from sklearn.metrics import accuracy_score\n",
    "print(accuracy_score(y_test, y_pred))\n"
   ]
  },
  {
   "attachments": {},
   "cell_type": "markdown",
   "id": "403414f1",
   "metadata": {},
   "source": [
    "Sarvesh Shashikumar - CB.EN.U4AIE21163"
   ]
  },
  {
   "cell_type": "code",
   "execution_count": 115,
   "id": "4bd8b1ac",
   "metadata": {},
   "outputs": [
    {
     "name": "stdout",
     "output_type": "stream",
     "text": [
      "Reading all images\n",
      "Number of images: 100\n",
      "(20, 3072) (80, 3072) (20,) (80,)\n"
     ]
    },
    {
     "name": "stderr",
     "output_type": "stream",
     "text": [
      "100%|██████████| 2/2 [00:00<00:00, 31300.78it/s]\n",
      "  0%|          | 0/80 [00:00<?, ?it/s]/home/kalyan/miniconda3/lib/python3.7/site-packages/ipykernel_launcher.py:15: RuntimeWarning: overflow encountered in ubyte_scalars\n",
      "  from ipykernel import kernelapp as app\n",
      "100%|██████████| 80/80 [00:13<00:00,  5.83it/s]"
     ]
    },
    {
     "name": "stdout",
     "output_type": "stream",
     "text": [
      "0.4875\n"
     ]
    },
    {
     "name": "stderr",
     "output_type": "stream",
     "text": [
      "\n"
     ]
    }
   ],
   "source": [
    "import cv2\n",
    "#import paths\n",
    "from imutils import paths\n",
    "import os\n",
    "import numpy as np\n",
    "def createImageFeatures(image, size=(32, 32)):\n",
    "    # resize the image\n",
    "    image = cv2.resize(image, size)\n",
    "\n",
    "    # flatten the image\n",
    "    pixel_list = image.flatten()\n",
    "    return pixel_list\n",
    "\n",
    "print(\"Reading all images\")\n",
    "image_paths = list(paths.list_images(\"/home/kalyan/DataSets/Dogs&Cats/train\"))\n",
    "raw_images = []\n",
    "labels = []\n",
    "\n",
    "#take randomly 100 images of cats and dogs \n",
    "np.random.seed(42)\n",
    "image_paths = np.random.choice(image_paths, size=(100), replace=False)\n",
    "\n",
    "# loop over the input images\n",
    "for (i, image_path) in enumerate(image_paths):\n",
    "    image = cv2.imread(image_path)\n",
    "    label = image_path.split(os.path.sep)[-1].split(\".\")[0]\n",
    "    # extract raw pixel intensity \"features\n",
    "    pixels = createImageFeatures(image)\n",
    "    raw_images.append(pixels)\n",
    "    labels.append(label)\n",
    "\n",
    "print(\"Number of images: {}\".format(len(raw_images)))\n",
    "raw_images = np.array(raw_images)\n",
    "labels = np.array(labels)\n",
    "from sklearn.model_selection import train_test_split\n",
    "X_train, X_test, y_train, y_test = train_test_split(raw_images, labels, test_size=0.8)\n",
    "\n",
    "print(X_train.shape, X_test.shape, y_train.shape, y_test.shape)\n",
    "clf = KNeighborsClassifier(n_neighbors=5)\n",
    "clf.fit(X_train, y_train)\n",
    "y_pred = clf.predict(X_test)\n",
    "\n",
    "from sklearn.metrics import accuracy_score\n",
    "print(accuracy_score(y_test, y_pred))\n"
   ]
  },
  {
   "attachments": {},
   "cell_type": "markdown",
   "id": "83309b14",
   "metadata": {},
   "source": [
    "Subikksha - CB.EN.U4AIE21167"
   ]
  },
  {
   "cell_type": "code",
   "execution_count": 137,
   "id": "0eb61297",
   "metadata": {},
   "outputs": [
    {
     "name": "stdout",
     "output_type": "stream",
     "text": [
      "(984, 132) (3936, 132) (984,) (3936,)\n"
     ]
    },
    {
     "name": "stderr",
     "output_type": "stream",
     "text": [
      "100%|██████████| 41/41 [00:00<00:00, 327555.17it/s]\n",
      "100%|██████████| 3936/3936 [03:50<00:00, 17.07it/s]"
     ]
    },
    {
     "name": "stdout",
     "output_type": "stream",
     "text": [
      "0.025152439024390245\n"
     ]
    },
    {
     "name": "stderr",
     "output_type": "stream",
     "text": [
      "\n"
     ]
    }
   ],
   "source": [
    "data = pd.read_csv('/home/kalyan/gitrepo/alma-mater/Sem3/PML/Disease.csv',sep=',')\n",
    "#print all classes in prognosis\n",
    "classes = (data['prognosis'].unique())\n",
    "\n",
    "class_dict = {}\n",
    "for i in range(len(classes)):\n",
    "    class_dict[classes[i]] = i\n",
    "\n",
    "data['prognosis'] = data['prognosis'].map(class_dict)\n",
    "\n",
    "#drop Unnamed: 133 column\n",
    "data = data.drop('Unnamed: 133',axis=1)\n",
    "data\n",
    "\n",
    "#given symptoms predict the probable disease\n",
    "symptoms = data.columns[:-1]\n",
    "symptoms\n",
    "\n",
    "#model building\n",
    "from sklearn.model_selection import train_test_split\n",
    "from sklearn.preprocessing import StandardScaler\n",
    "\n",
    "X = data.iloc[:, :-1].values\n",
    "y = data.iloc[:, -1].values\n",
    "\n",
    "X_train, X_test, y_train, y_test = train_test_split(X, y, test_size=0.8)\n",
    "\n",
    "print(X_train.shape, X_test.shape, y_train.shape, y_test.shape)\n",
    "\n",
    "clf = KNeighborsClassifier(n_neighbors=5)\n",
    "clf.fit(X_train, y_train)\n",
    "y_pred = clf.predict(X_test)\n",
    "\n",
    "from sklearn.metrics import accuracy_score\n",
    "print(accuracy_score(y_test, y_pred))\n"
   ]
  },
  {
   "attachments": {},
   "cell_type": "markdown",
   "id": "0c333bca",
   "metadata": {},
   "source": [
    "Kaushik Jonnada - CB.EN.U4AIE21122"
   ]
  },
  {
   "cell_type": "code",
   "execution_count": 150,
   "id": "6f64d6bc",
   "metadata": {},
   "outputs": [
    {
     "name": "stdout",
     "output_type": "stream",
     "text": [
      "(639, 36) (2556, 36) (639,) (2556,)\n"
     ]
    },
    {
     "name": "stderr",
     "output_type": "stream",
     "text": [
      "100%|██████████| 2/2 [00:00<00:00, 44150.57it/s]\n",
      "100%|██████████| 2556/2556 [00:30<00:00, 83.03it/s]"
     ]
    },
    {
     "name": "stdout",
     "output_type": "stream",
     "text": [
      "0.4769170579029734\n"
     ]
    },
    {
     "name": "stderr",
     "output_type": "stream",
     "text": [
      "\n"
     ]
    }
   ],
   "source": [
    "#loading data\n",
    "data = pd.read_csv('/home/kalyan/gitrepo/alma-mater/Sem3/PML/kr-vs-kp.data',sep=',')\n",
    "data.head()\n",
    "\n",
    "#missing value treatment\n",
    "data = data.dropna()\n",
    "data\n",
    "\n",
    "#won = 1, nowin = 0\n",
    "data['won'] = data['won'].replace('won',1)\n",
    "data['won'] = data['won'].replace('nowin',0)\n",
    "\n",
    "#settings all f to 1 and t to 0\n",
    "data = data.replace('f',1)\n",
    "data = data.replace('t',0)\n",
    "\n",
    "#changing values with l to 1 and g to 0\n",
    "data = data.replace('l',1)\n",
    "data = data.replace('g',0)\n",
    "\n",
    "#changing values with n to 1 and b to 0 and w to 2\n",
    "data = data.replace('n',1)\n",
    "data = data.replace('b',0)\n",
    "data = data.replace('w',2)\n",
    "\n",
    "#model building\n",
    "from sklearn.model_selection import train_test_split\n",
    "from sklearn.preprocessing import StandardScaler\n",
    "\n",
    "X = data.iloc[:, :-1].values\n",
    "y = data.iloc[:, -1].values\n",
    "\n",
    "X_train, X_test, y_train, y_test = train_test_split(X, y, test_size=0.8)\n",
    "\n",
    "print(X_train.shape, X_test.shape, y_train.shape, y_test.shape)\n",
    "\n",
    "clf = KNeighborsClassifier(n_neighbors=5)\n",
    "clf.fit(X_train, y_train)\n",
    "y_pred = clf.predict(X_test)\n",
    "\n",
    "from sklearn.metrics import accuracy_score\n",
    "print(accuracy_score(y_test, y_pred))"
   ]
  }
 ],
 "metadata": {
  "kernelspec": {
   "display_name": "base",
   "language": "python",
   "name": "python3"
  },
  "language_info": {
   "codemirror_mode": {
    "name": "ipython",
    "version": 3
   },
   "file_extension": ".py",
   "mimetype": "text/x-python",
   "name": "python",
   "nbconvert_exporter": "python",
   "pygments_lexer": "ipython3",
   "version": "3.7.12 | packaged by conda-forge | (default, Oct 26 2021, 06:08:53) \n[GCC 9.4.0]"
  },
  "vscode": {
   "interpreter": {
    "hash": "18435721447aaa7b29792b509b4b765c4d69b94478d2c6d7cbe357a9dc2f4d62"
   }
  }
 },
 "nbformat": 4,
 "nbformat_minor": 5
}
