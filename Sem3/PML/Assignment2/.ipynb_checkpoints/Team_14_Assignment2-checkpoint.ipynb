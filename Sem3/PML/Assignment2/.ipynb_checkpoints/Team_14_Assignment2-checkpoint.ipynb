{
 "cells": [
  {
   "cell_type": "markdown",
   "metadata": {},
   "source": [
    "# ```Team_14```\n",
    "\n",
    "* Kalyana Sundaram - CB.EN.U4AIE21120\n",
    "* Kaushik Jonnada - CB.EN.U4AIE21122\n",
    "* Praneetha K - CB.EN.U4AIE21147\n",
    "* Sarvesh ShashiKumar - CB.EN.U4AIE21163\n",
    "* Subikksha - CB.EN.U4AIE21167\n",
    "# Question 1"
   ]
  },
  {
   "cell_type": "code",
   "execution_count": 1,
   "id": "f0cc4333",
   "metadata": {},
   "outputs": [],
   "source": [
    "import sklearn\n",
    "import numpy as np\n",
    "import operator\n",
    "from tqdm import tqdm\n",
    "import pandas as pd"
   ]
  },
  {
   "cell_type": "code",
   "execution_count": 2,
   "id": "ac47e6e7",
   "metadata": {},
   "outputs": [],
   "source": [
    "class KNeighborsClassifier():\n",
    "    '''The class for using K Nearest Neighbours for classification tasks\n",
    "    \n",
    "       Args:\n",
    "           n_neighbors: The number of nearby points considered'''\n",
    "    \n",
    "    def __init__(self, n_neighbors=5): # this is the constructor\n",
    "        self.neighbors = n_neighbors\n",
    "    \n",
    "    def euclidian_dist(self, point_1, point_2): # a function to calculate the euclidian distance\n",
    "        dist = 0.0\n",
    "        for i in range(len(point_1) - 1): # -1 because the last element is the class\n",
    "            dist += pow(point_1[i] - point_2[i], 2) #using the pow function to calculate the power of a number as the distance is the square root of the sum of the squares of the differences\n",
    "        return np.sqrt(dist)\n",
    "    \n",
    "    def calc_distances(self, data, new_point):\n",
    "        distances = []\n",
    "        neighbors = []\n",
    "        for i in data:\n",
    "            distances.append((i, self.euclidian_dist(new_point, i))) #appending the distance to the list\n",
    "        distances.sort(key=operator.itemgetter(1)) #sorting the list by the second element of the tuple\n",
    "        for i in range(self.neighbors): #getting the first k elements of the list\n",
    "            neighbors.append(distances[i][0]) #appending the first k elements of the list to the neighbors list\n",
    "        return neighbors\n",
    "    \n",
    "    def find_majority(self, neighbors, train_X, train_y): #a function to find the majority class\n",
    "        iter_y = []\n",
    "        for i in neighbors:\n",
    "            iter_y.append(train_y[np.where(train_X == i)[0][0]]) #getting the index of the element in the train_X list and then getting the class from the train_y list\n",
    "        return max(iter_y)\n",
    "    \n",
    "    def fit(self, train_X, train_y):\n",
    "        set_of_classes = set(train_y) #getting the set of classes\n",
    "        self.classes = 0; #initializing the number of classes\n",
    "        for i in tqdm(set_of_classes): #iterating through the set of classes\n",
    "            self.classes += 1\n",
    "        self.X = train_X\n",
    "        self.y = train_y\n",
    "        self.data_len = len(train_X) #getting the length of the data\n",
    "        \n",
    "    def predict(self, test_y):\n",
    "        y_pred = []\n",
    "        neighbors = []\n",
    "        for i in tqdm(test_y): #iterating through the test data\n",
    "            neighbors = self.calc_distances(self.X, i)  #getting the neighbors using the calc_distances function\n",
    "            y_pred.append(self.find_majority(neighbors, self.X, self.y)) #getting the majority class using the find_majority function\n",
    "        return y_pred"
   ]
  },
  {
   "cell_type": "code",
   "execution_count": 3,
   "metadata": {},
   "outputs": [],
   "source": [
    "from sklearn.datasets import load_breast_cancer\n",
    "from sklearn.metrics import accuracy_score, f1_score, precision_score, recall_score"
   ]
  },
  {
   "cell_type": "code",
   "execution_count": 4,
   "metadata": {},
   "outputs": [
    {
     "data": {
      "text/plain": [
       "{'data': array([[1.799e+01, 1.038e+01, 1.228e+02, ..., 2.654e-01, 4.601e-01,\n",
       "         1.189e-01],\n",
       "        [2.057e+01, 1.777e+01, 1.329e+02, ..., 1.860e-01, 2.750e-01,\n",
       "         8.902e-02],\n",
       "        [1.969e+01, 2.125e+01, 1.300e+02, ..., 2.430e-01, 3.613e-01,\n",
       "         8.758e-02],\n",
       "        ...,\n",
       "        [1.660e+01, 2.808e+01, 1.083e+02, ..., 1.418e-01, 2.218e-01,\n",
       "         7.820e-02],\n",
       "        [2.060e+01, 2.933e+01, 1.401e+02, ..., 2.650e-01, 4.087e-01,\n",
       "         1.240e-01],\n",
       "        [7.760e+00, 2.454e+01, 4.792e+01, ..., 0.000e+00, 2.871e-01,\n",
       "         7.039e-02]]),\n",
       " 'target': array([0, 0, 0, 0, 0, 0, 0, 0, 0, 0, 0, 0, 0, 0, 0, 0, 0, 0, 0, 1, 1, 1,\n",
       "        0, 0, 0, 0, 0, 0, 0, 0, 0, 0, 0, 0, 0, 0, 0, 1, 0, 0, 0, 0, 0, 0,\n",
       "        0, 0, 1, 0, 1, 1, 1, 1, 1, 0, 0, 1, 0, 0, 1, 1, 1, 1, 0, 1, 0, 0,\n",
       "        1, 1, 1, 1, 0, 1, 0, 0, 1, 0, 1, 0, 0, 1, 1, 1, 0, 0, 1, 0, 0, 0,\n",
       "        1, 1, 1, 0, 1, 1, 0, 0, 1, 1, 1, 0, 0, 1, 1, 1, 1, 0, 1, 1, 0, 1,\n",
       "        1, 1, 1, 1, 1, 1, 1, 0, 0, 0, 1, 0, 0, 1, 1, 1, 0, 0, 1, 0, 1, 0,\n",
       "        0, 1, 0, 0, 1, 1, 0, 1, 1, 0, 1, 1, 1, 1, 0, 1, 1, 1, 1, 1, 1, 1,\n",
       "        1, 1, 0, 1, 1, 1, 1, 0, 0, 1, 0, 1, 1, 0, 0, 1, 1, 0, 0, 1, 1, 1,\n",
       "        1, 0, 1, 1, 0, 0, 0, 1, 0, 1, 0, 1, 1, 1, 0, 1, 1, 0, 0, 1, 0, 0,\n",
       "        0, 0, 1, 0, 0, 0, 1, 0, 1, 0, 1, 1, 0, 1, 0, 0, 0, 0, 1, 1, 0, 0,\n",
       "        1, 1, 1, 0, 1, 1, 1, 1, 1, 0, 0, 1, 1, 0, 1, 1, 0, 0, 1, 0, 1, 1,\n",
       "        1, 1, 0, 1, 1, 1, 1, 1, 0, 1, 0, 0, 0, 0, 0, 0, 0, 0, 0, 0, 0, 0,\n",
       "        0, 0, 1, 1, 1, 1, 1, 1, 0, 1, 0, 1, 1, 0, 1, 1, 0, 1, 0, 0, 1, 1,\n",
       "        1, 1, 1, 1, 1, 1, 1, 1, 1, 1, 1, 0, 1, 1, 0, 1, 0, 1, 1, 1, 1, 1,\n",
       "        1, 1, 1, 1, 1, 1, 1, 1, 1, 0, 1, 1, 1, 0, 1, 0, 1, 1, 1, 1, 0, 0,\n",
       "        0, 1, 1, 1, 1, 0, 1, 0, 1, 0, 1, 1, 1, 0, 1, 1, 1, 1, 1, 1, 1, 0,\n",
       "        0, 0, 1, 1, 1, 1, 1, 1, 1, 1, 1, 1, 1, 0, 0, 1, 0, 0, 0, 1, 0, 0,\n",
       "        1, 1, 1, 1, 1, 0, 1, 1, 1, 1, 1, 0, 1, 1, 1, 0, 1, 1, 0, 0, 1, 1,\n",
       "        1, 1, 1, 1, 0, 1, 1, 1, 1, 1, 1, 1, 0, 1, 1, 1, 1, 1, 0, 1, 1, 0,\n",
       "        1, 1, 1, 1, 1, 1, 1, 1, 1, 1, 1, 1, 0, 1, 0, 0, 1, 0, 1, 1, 1, 1,\n",
       "        1, 0, 1, 1, 0, 1, 0, 1, 1, 0, 1, 0, 1, 1, 1, 1, 1, 1, 1, 1, 0, 0,\n",
       "        1, 1, 1, 1, 1, 1, 0, 1, 1, 1, 1, 1, 1, 1, 1, 1, 1, 0, 1, 1, 1, 1,\n",
       "        1, 1, 1, 0, 1, 0, 1, 1, 0, 1, 1, 1, 1, 1, 0, 0, 1, 0, 1, 0, 1, 1,\n",
       "        1, 1, 1, 0, 1, 1, 0, 1, 0, 1, 0, 0, 1, 1, 1, 0, 1, 1, 1, 1, 1, 1,\n",
       "        1, 1, 1, 1, 1, 0, 1, 0, 0, 1, 1, 1, 1, 1, 1, 1, 1, 1, 1, 1, 1, 1,\n",
       "        1, 1, 1, 1, 1, 1, 1, 1, 1, 1, 1, 1, 0, 0, 0, 0, 0, 0, 1]),\n",
       " 'frame': None,\n",
       " 'target_names': array(['malignant', 'benign'], dtype='<U9'),\n",
       " 'DESCR': '.. _breast_cancer_dataset:\\n\\nBreast cancer wisconsin (diagnostic) dataset\\n--------------------------------------------\\n\\n**Data Set Characteristics:**\\n\\n    :Number of Instances: 569\\n\\n    :Number of Attributes: 30 numeric, predictive attributes and the class\\n\\n    :Attribute Information:\\n        - radius (mean of distances from center to points on the perimeter)\\n        - texture (standard deviation of gray-scale values)\\n        - perimeter\\n        - area\\n        - smoothness (local variation in radius lengths)\\n        - compactness (perimeter^2 / area - 1.0)\\n        - concavity (severity of concave portions of the contour)\\n        - concave points (number of concave portions of the contour)\\n        - symmetry\\n        - fractal dimension (\"coastline approximation\" - 1)\\n\\n        The mean, standard error, and \"worst\" or largest (mean of the three\\n        worst/largest values) of these features were computed for each image,\\n        resulting in 30 features.  For instance, field 0 is Mean Radius, field\\n        10 is Radius SE, field 20 is Worst Radius.\\n\\n        - class:\\n                - WDBC-Malignant\\n                - WDBC-Benign\\n\\n    :Summary Statistics:\\n\\n    ===================================== ====== ======\\n                                           Min    Max\\n    ===================================== ====== ======\\n    radius (mean):                        6.981  28.11\\n    texture (mean):                       9.71   39.28\\n    perimeter (mean):                     43.79  188.5\\n    area (mean):                          143.5  2501.0\\n    smoothness (mean):                    0.053  0.163\\n    compactness (mean):                   0.019  0.345\\n    concavity (mean):                     0.0    0.427\\n    concave points (mean):                0.0    0.201\\n    symmetry (mean):                      0.106  0.304\\n    fractal dimension (mean):             0.05   0.097\\n    radius (standard error):              0.112  2.873\\n    texture (standard error):             0.36   4.885\\n    perimeter (standard error):           0.757  21.98\\n    area (standard error):                6.802  542.2\\n    smoothness (standard error):          0.002  0.031\\n    compactness (standard error):         0.002  0.135\\n    concavity (standard error):           0.0    0.396\\n    concave points (standard error):      0.0    0.053\\n    symmetry (standard error):            0.008  0.079\\n    fractal dimension (standard error):   0.001  0.03\\n    radius (worst):                       7.93   36.04\\n    texture (worst):                      12.02  49.54\\n    perimeter (worst):                    50.41  251.2\\n    area (worst):                         185.2  4254.0\\n    smoothness (worst):                   0.071  0.223\\n    compactness (worst):                  0.027  1.058\\n    concavity (worst):                    0.0    1.252\\n    concave points (worst):               0.0    0.291\\n    symmetry (worst):                     0.156  0.664\\n    fractal dimension (worst):            0.055  0.208\\n    ===================================== ====== ======\\n\\n    :Missing Attribute Values: None\\n\\n    :Class Distribution: 212 - Malignant, 357 - Benign\\n\\n    :Creator:  Dr. William H. Wolberg, W. Nick Street, Olvi L. Mangasarian\\n\\n    :Donor: Nick Street\\n\\n    :Date: November, 1995\\n\\nThis is a copy of UCI ML Breast Cancer Wisconsin (Diagnostic) datasets.\\nhttps://goo.gl/U2Uwz2\\n\\nFeatures are computed from a digitized image of a fine needle\\naspirate (FNA) of a breast mass.  They describe\\ncharacteristics of the cell nuclei present in the image.\\n\\nSeparating plane described above was obtained using\\nMultisurface Method-Tree (MSM-T) [K. P. Bennett, \"Decision Tree\\nConstruction Via Linear Programming.\" Proceedings of the 4th\\nMidwest Artificial Intelligence and Cognitive Science Society,\\npp. 97-101, 1992], a classification method which uses linear\\nprogramming to construct a decision tree.  Relevant features\\nwere selected using an exhaustive search in the space of 1-4\\nfeatures and 1-3 separating planes.\\n\\nThe actual linear program used to obtain the separating plane\\nin the 3-dimensional space is that described in:\\n[K. P. Bennett and O. L. Mangasarian: \"Robust Linear\\nProgramming Discrimination of Two Linearly Inseparable Sets\",\\nOptimization Methods and Software 1, 1992, 23-34].\\n\\nThis database is also available through the UW CS ftp server:\\n\\nftp ftp.cs.wisc.edu\\ncd math-prog/cpo-dataset/machine-learn/WDBC/\\n\\n.. topic:: References\\n\\n   - W.N. Street, W.H. Wolberg and O.L. Mangasarian. Nuclear feature extraction \\n     for breast tumor diagnosis. IS&T/SPIE 1993 International Symposium on \\n     Electronic Imaging: Science and Technology, volume 1905, pages 861-870,\\n     San Jose, CA, 1993.\\n   - O.L. Mangasarian, W.N. Street and W.H. Wolberg. Breast cancer diagnosis and \\n     prognosis via linear programming. Operations Research, 43(4), pages 570-577, \\n     July-August 1995.\\n   - W.H. Wolberg, W.N. Street, and O.L. Mangasarian. Machine learning techniques\\n     to diagnose breast cancer from fine-needle aspirates. Cancer Letters 77 (1994) \\n     163-171.',\n",
       " 'feature_names': array(['mean radius', 'mean texture', 'mean perimeter', 'mean area',\n",
       "        'mean smoothness', 'mean compactness', 'mean concavity',\n",
       "        'mean concave points', 'mean symmetry', 'mean fractal dimension',\n",
       "        'radius error', 'texture error', 'perimeter error', 'area error',\n",
       "        'smoothness error', 'compactness error', 'concavity error',\n",
       "        'concave points error', 'symmetry error',\n",
       "        'fractal dimension error', 'worst radius', 'worst texture',\n",
       "        'worst perimeter', 'worst area', 'worst smoothness',\n",
       "        'worst compactness', 'worst concavity', 'worst concave points',\n",
       "        'worst symmetry', 'worst fractal dimension'], dtype='<U23'),\n",
       " 'filename': 'breast_cancer.csv',\n",
       " 'data_module': 'sklearn.datasets.data'}"
      ]
     },
     "execution_count": 4,
     "metadata": {},
     "output_type": "execute_result"
    }
   ],
   "source": [
    "data = load_breast_cancer()"
   ]
  },
  {
   "cell_type": "markdown",
   "id": "1709ac43",
   "metadata": {},
   "source": [
    "Dataset of Praneetha - CB.EN.U4AIE21147"
   ]
  },
  {
   "cell_type": "code",
   "execution_count": null,
   "id": "01fa9cb6",
   "metadata": {},
   "outputs": [
    {
     "name": "stderr",
     "output_type": "stream",
     "text": [
      "100%|██████████| 2/2 [00:00<00:00, 26214.40it/s]"
     ]
    },
    {
     "name": "stdout",
     "output_type": "stream",
     "text": [
      "0.7096774193548387\n"
     ]
    },
    {
     "name": "stderr",
     "output_type": "stream",
     "text": [
      "\n"
     ]
    }
   ],
   "source": [
    "data = pd.read_csv('/home/kalyan/gitrepo/alma-mater/Sem3/PML/echocardiogram.csv',sep=',')\n",
    "data = data.dropna()\n",
    "#missing value treatment\n",
    "data = data.dropna()\n",
    "data1 = data\n",
    "#remove name column\n",
    "data1 = data1.drop('name',axis=1)\n",
    "data1.head()\n",
    "np.random.seed(1234)\n",
    "index = np.random.choice(np.arange(data1.shape[0]), size=int(data1.shape[0]*0.5))\n",
    "train = data1.iloc[index]\n",
    "test = data1.iloc[-index]\n",
    "from sklearn.model_selection import train_test_split\n",
    "from sklearn.preprocessing import StandardScaler\n",
    "\n",
    "X = data1.iloc[:, :-1].values\n",
    "y = data1.iloc[:, -1].values\n",
    "\n",
    "X_train, X_test, y_train, y_test = train_test_split(X, y, test_size=0.5, random_state=0)\n",
    "\n",
    "clf = KNeighborsClassifier(n_neighbors=5)\n",
    "clf.fit(X_train, y_train)\n",
    "y_pred = clf.predict(X_test)\n",
    "\n",
    "from sklearn.metrics import accuracy_score\n",
    "print(accuracy_score(y_test, y_pred))\n"
   ]
  },
  {
   "cell_type": "markdown",
   "id": "f067290d",
   "metadata": {},
   "source": [
    "Dataset of Kalyana Sundaram - CB.EN.U4AIE21120"
   ]
  },
  {
   "cell_type": "code",
   "execution_count": null,
   "id": "3af346cc",
   "metadata": {},
   "outputs": [
    {
     "name": "stdout",
     "output_type": "stream",
     "text": [
      "(2212, 36) (2212, 36) (2212,) (2212,)\n"
     ]
    },
    {
     "name": "stderr",
     "output_type": "stream",
     "text": [
      "100%|██████████| 3/3 [00:00<00:00, 58798.65it/s]\n"
     ]
    },
    {
     "name": "stdout",
     "output_type": "stream",
     "text": [
      "0.4914104882459313\n"
     ]
    }
   ],
   "source": [
    "data = pd.read_csv('/home/kalyan/gitrepo/alma-mater/Sem3/PML/Dropout_Academic Success - Sheet1.csv',sep=',')\n",
    "#missing value treatment\n",
    "data = data.dropna()\n",
    "\n",
    "#target column is what we want to predict\n",
    "target = data['Target']\n",
    "target\n",
    "\n",
    "#we assign 1 for Graduate and 0 for Dropout\n",
    "target = target.replace('Graduate',1)\n",
    "target = target.replace('Dropout',0)\n",
    "\n",
    "#model building\n",
    "from sklearn.model_selection import train_test_split\n",
    "from sklearn.preprocessing import StandardScaler\n",
    "\n",
    "X = data.iloc[:, :-1].values\n",
    "y = data.iloc[:, -1].values\n",
    "\n",
    "X_train, X_test, y_train, y_test = train_test_split(X, y, test_size=0.5)\n",
    "\n",
    "print(X_train.shape, X_test.shape, y_train.shape, y_test.shape)\n",
    "\n",
    "clf = KNeighborsClassifier(n_neighbors=5)\n",
    "clf.fit(X_train, y_train)\n",
    "y_pred = clf.predict(X_test)\n",
    "\n",
    "from sklearn.metrics import accuracy_score\n",
    "print(accuracy_score(y_test, y_pred))\n"
   ]
  },
  {
   "cell_type": "markdown",
   "id": "403414f1",
   "metadata": {},
   "source": [
    "DataSet of Sarvesh Shashikumar - CB.EN.U4AIE21163"
   ]
  },
  {
   "cell_type": "code",
   "execution_count": null,
   "id": "4bd8b1ac",
   "metadata": {},
   "outputs": [
    {
     "name": "stdout",
     "output_type": "stream",
     "text": [
      "Reading all images\n",
      "Number of images: 100\n",
      "(20, 3072) (80, 3072) (20,) (80,)\n"
     ]
    },
    {
     "name": "stderr",
     "output_type": "stream",
     "text": [
      "100%|██████████| 2/2 [00:00<00:00, 31300.78it/s]\n",
      "  0%|          | 0/80 [00:00<?, ?it/s]/home/kalyan/miniconda3/lib/python3.7/site-packages/ipykernel_launcher.py:15: RuntimeWarning: overflow encountered in ubyte_scalars\n",
      "  from ipykernel import kernelapp as app\n",
      "100%|██████████| 80/80 [00:13<00:00,  5.83it/s]"
     ]
    },
    {
     "name": "stdout",
     "output_type": "stream",
     "text": [
      "0.4875\n"
     ]
    },
    {
     "name": "stderr",
     "output_type": "stream",
     "text": [
      "\n"
     ]
    }
   ],
   "source": [
    "import cv2\n",
    "#import paths\n",
    "from imutils import paths\n",
    "import os\n",
    "import numpy as np\n",
    "def createImageFeatures(image, size=(32, 32)):\n",
    "    # resize the image\n",
    "    image = cv2.resize(image, size)\n",
    "\n",
    "    # flatten the image\n",
    "    pixel_list = image.flatten()\n",
    "    return pixel_list\n",
    "\n",
    "print(\"Reading all images\")\n",
    "image_paths = list(paths.list_images(\"/home/kalyan/DataSets/Dogs&Cats/train\"))\n",
    "raw_images = []\n",
    "labels = []\n",
    "\n",
    "#take randomly 100 images of cats and dogs \n",
    "np.random.seed(42)\n",
    "image_paths = np.random.choice(image_paths, size=(100), replace=False)\n",
    "\n",
    "# loop over the input images\n",
    "for (i, image_path) in enumerate(image_paths):\n",
    "    image = cv2.imread(image_path)\n",
    "    label = image_path.split(os.path.sep)[-1].split(\".\")[0]\n",
    "    # extract raw pixel intensity \"features\n",
    "    pixels = createImageFeatures(image)\n",
    "    raw_images.append(pixels)\n",
    "    labels.append(label)\n",
    "\n",
    "print(\"Number of images: {}\".format(len(raw_images)))\n",
    "raw_images = np.array(raw_images)\n",
    "labels = np.array(labels)\n",
    "from sklearn.model_selection import train_test_split\n",
    "X_train, X_test, y_train, y_test = train_test_split(raw_images, labels, test_size=0.8)\n",
    "\n",
    "print(X_train.shape, X_test.shape, y_train.shape, y_test.shape)\n",
    "clf = KNeighborsClassifier(n_neighbors=5)\n",
    "clf.fit(X_train, y_train)\n",
    "y_pred = clf.predict(X_test)\n",
    "\n",
    "from sklearn.metrics import accuracy_score\n",
    "print(accuracy_score(y_test, y_pred))\n"
   ]
  },
  {
   "cell_type": "markdown",
   "id": "83309b14",
   "metadata": {},
   "source": [
    "DataSet of Subikksha - CB.EN.U4AIE21167"
   ]
  },
  {
   "cell_type": "code",
   "execution_count": null,
   "id": "0eb61297",
   "metadata": {},
   "outputs": [
    {
     "name": "stdout",
     "output_type": "stream",
     "text": [
      "(984, 132) (3936, 132) (984,) (3936,)\n"
     ]
    },
    {
     "name": "stderr",
     "output_type": "stream",
     "text": [
      "100%|██████████| 41/41 [00:00<00:00, 327555.17it/s]\n",
      "100%|██████████| 3936/3936 [03:50<00:00, 17.07it/s]"
     ]
    },
    {
     "name": "stdout",
     "output_type": "stream",
     "text": [
      "0.025152439024390245\n"
     ]
    },
    {
     "name": "stderr",
     "output_type": "stream",
     "text": [
      "\n"
     ]
    }
   ],
   "source": [
    "data = pd.read_csv('/home/kalyan/gitrepo/alma-mater/Sem3/PML/Disease.csv',sep=',')\n",
    "#print all classes in prognosis\n",
    "classes = (data['prognosis'].unique())\n",
    "\n",
    "class_dict = {}\n",
    "for i in range(len(classes)):\n",
    "    class_dict[classes[i]] = i\n",
    "\n",
    "data['prognosis'] = data['prognosis'].map(class_dict)\n",
    "\n",
    "#drop Unnamed: 133 column\n",
    "data = data.drop('Unnamed: 133',axis=1)\n",
    "data\n",
    "\n",
    "#given symptoms predict the probable disease\n",
    "symptoms = data.columns[:-1]\n",
    "symptoms\n",
    "\n",
    "#model building\n",
    "from sklearn.model_selection import train_test_split\n",
    "from sklearn.preprocessing import StandardScaler\n",
    "\n",
    "X = data.iloc[:, :-1].values\n",
    "y = data.iloc[:, -1].values\n",
    "\n",
    "X_train, X_test, y_train, y_test = train_test_split(X, y, test_size=0.8)\n",
    "\n",
    "print(X_train.shape, X_test.shape, y_train.shape, y_test.shape)\n",
    "\n",
    "clf = KNeighborsClassifier(n_neighbors=5)\n",
    "clf.fit(X_train, y_train)\n",
    "y_pred = clf.predict(X_test)\n",
    "\n",
    "from sklearn.metrics import accuracy_score\n",
    "print(accuracy_score(y_test, y_pred))\n"
   ]
  },
  {
   "cell_type": "markdown",
   "id": "0c333bca",
   "metadata": {},
   "source": [
    "DataSet of Kaushik Jonnada - CB.EN.U4AIE21122"
   ]
  },
  {
   "cell_type": "code",
   "execution_count": null,
   "id": "6f64d6bc",
   "metadata": {},
   "outputs": [
    {
     "name": "stdout",
     "output_type": "stream",
     "text": [
      "(639, 36) (2556, 36) (639,) (2556,)\n"
     ]
    },
    {
     "name": "stderr",
     "output_type": "stream",
     "text": [
      "100%|██████████| 2/2 [00:00<00:00, 44150.57it/s]\n",
      "100%|██████████| 2556/2556 [00:30<00:00, 83.03it/s]"
     ]
    },
    {
     "name": "stdout",
     "output_type": "stream",
     "text": [
      "0.4769170579029734\n"
     ]
    },
    {
     "name": "stderr",
     "output_type": "stream",
     "text": [
      "\n"
     ]
    }
   ],
   "source": [
    "#loading data\n",
    "data = pd.read_csv('/home/kalyan/gitrepo/alma-mater/Sem3/PML/kr-vs-kp.data',sep=',')\n",
    "data.head()\n",
    "\n",
    "#missing value treatment\n",
    "data = data.dropna()\n",
    "data\n",
    "\n",
    "#won = 1, nowin = 0\n",
    "data['won'] = data['won'].replace('won',1)\n",
    "data['won'] = data['won'].replace('nowin',0)\n",
    "\n",
    "#settings all f to 1 and t to 0\n",
    "data = data.replace('f',1)\n",
    "data = data.replace('t',0)\n",
    "\n",
    "#changing values with l to 1 and g to 0\n",
    "data = data.replace('l',1)\n",
    "data = data.replace('g',0)\n",
    "\n",
    "#changing values with n to 1 and b to 0 and w to 2\n",
    "data = data.replace('n',1)\n",
    "data = data.replace('b',0)\n",
    "data = data.replace('w',2)\n",
    "\n",
    "#model building\n",
    "from sklearn.model_selection import train_test_split\n",
    "from sklearn.preprocessing import StandardScaler\n",
    "\n",
    "X = data.iloc[:, :-1].values\n",
    "y = data.iloc[:, -1].values\n",
    "\n",
    "X_train, X_test, y_train, y_test = train_test_split(X, y, test_size=0.8)\n",
    "\n",
    "print(X_train.shape, X_test.shape, y_train.shape, y_test.shape)\n",
    "\n",
    "clf = KNeighborsClassifier(n_neighbors=5)\n",
    "clf.fit(X_train, y_train)\n",
    "y_pred = clf.predict(X_test)\n",
    "\n",
    "from sklearn.metrics import accuracy_score\n",
    "print(accuracy_score(y_test, y_pred))"
   ]
  },
  {
   "cell_type": "markdown",
   "metadata": {},
   "source": [
    "# Question 2"
   ]
  },
  {
   "cell_type": "code",
   "execution_count": null,
   "metadata": {},
   "outputs": [],
   "source": [
    "import numpy as np\n",
    "import cvxpy as cp\n",
    "import pandas as pd\n",
    "\n",
    "def sv_cvxpy(X, y, c):\n",
    "    m, n = X.shape # m: number of samples, n: number of features\n",
    "    w = cp.Variable(n) # n-dimensional vector\n",
    "    b = cp.Variable() # scalar\n",
    "    '''c*cp.sum(cp.pos(1 - y * (X @ w + b))) is the hinge loss function\n",
    "    cp.square(cp.norm(w)) is the L2 norm of w'''\n",
    "    obj = cp.Minimize(0.5 * cp.square(cp.norm(w)) + c * cp.sum(cp.pos(1 - y * (X @ w + b)))) \n",
    "    prob = cp.Problem(obj)\n",
    "    prob.solve()\n",
    "    print(\"status:\", prob.status)\n",
    "    return w.value, b.value"
   ]
  },
  {
   "cell_type": "markdown",
   "metadata": {},
   "source": [
    "Kaushik Jonnada - CB.EN.U4AIE21122"
   ]
  },
  {
   "cell_type": "code",
   "execution_count": null,
   "metadata": {},
   "outputs": [
    {
     "name": "stdout",
     "output_type": "stream",
     "text": [
      "[6.53017565e-06 6.82024811e-06 7.17765163e-06 6.63689637e-06\n",
      " 5.06616649e-06 3.53679183e-06 5.25158308e-06 6.43191498e-06\n",
      " 4.88917629e-06 6.35496397e-06 4.00158611e-06 6.54725688e-06\n",
      " 5.42817124e-06 7.32626332e-06 8.46224615e-06 7.21163605e-06\n",
      " 7.09690076e-06 2.91436233e-06 7.24985718e-06 6.23517350e-06\n",
      " 4.82437695e-06 5.62175047e-06 7.05863179e-06 4.43940816e-06\n",
      " 7.31777612e-06 2.45667863e-06 7.13940785e-06 7.32626332e-06\n",
      " 7.32626332e-06 6.96929138e-06 5.73777590e-06 7.24136462e-06\n",
      " 5.83224605e-06 2.94921469e-06 1.59366081e-06 5.56585370e-06] 0.013079788904214039\n"
     ]
    },
    {
     "name": "stderr",
     "output_type": "stream",
     "text": [
      "/home/kalyan/.local/lib/python3.10/site-packages/cvxpy/expressions/expression.py:593: UserWarning: \n",
      "This use of ``*`` has resulted in matrix multiplication.\n",
      "Using ``*`` for matrix multiplication has been deprecated since CVXPY 1.1.\n",
      "    Use ``*`` for matrix-scalar and vector-scalar multiplication.\n",
      "    Use ``@`` for matrix-matrix and matrix-vector multiplication.\n",
      "    Use ``multiply`` for elementwise multiplication.\n",
      "This code path has been hit 16 times so far.\n",
      "\n",
      "  warnings.warn(msg, UserWarning)\n"
     ]
    }
   ],
   "source": [
    "#loading data\n",
    "data = pd.read_csv('/home/kalyan/gitrepo/alma-mater/Sem3/PML/kr-vs-kp.data',sep=',')\n",
    "data.head()\n",
    "\n",
    "#missing value treatment\n",
    "data = data.dropna()\n",
    "data\n",
    "\n",
    "#won = 1, nowin = 0\n",
    "data['won'] = data['won'].replace('won',1)\n",
    "data['won'] = data['won'].replace('nowin',0)\n",
    "\n",
    "#settings all f to 1 and t to 0\n",
    "data = data.replace('f',1)\n",
    "data = data.replace('t',0)\n",
    "\n",
    "#changing values with l to 1 and g to 0\n",
    "data = data.replace('l',1)\n",
    "data = data.replace('g',0)\n",
    "\n",
    "#changing values with n to 1 and b to 0 and w to 2\n",
    "data = data.replace('n',1)\n",
    "data = data.replace('b',0)\n",
    "data = data.replace('w',2)\n",
    "\n",
    "#model building\n",
    "from sklearn.model_selection import train_test_split\n",
    "from sklearn.preprocessing import StandardScaler\n",
    "\n",
    "X = data.iloc[:, :-1].values\n",
    "y = data.iloc[:, -1].values\n",
    "\n",
    "c = 1\n",
    "w, b = sv_cvxpy(X, y, c)\n",
    "print(w, b)\n",
    "\n"
   ]
  },
  {
   "cell_type": "markdown",
   "metadata": {},
   "source": [
    "Subikksha - CB.EN.U4AIE21167"
   ]
  },
  {
   "cell_type": "code",
   "execution_count": null,
   "metadata": {},
   "outputs": [
    {
     "name": "stdout",
     "output_type": "stream",
     "text": [
      "status: optimal\n",
      "[1.77714606e-09 4.75654569e-09 0.00000000e+00 8.40341668e-10\n",
      " 2.95454866e-11 4.04573834e-09 4.79409869e-09 1.80554872e-10\n",
      " 4.02138671e-10 5.90909433e-11 1.77272085e-10 9.39032252e-09\n",
      " 1.24072405e-09 1.18181685e-10 1.14093643e-08 9.66700703e-10\n",
      " 1.02905687e-09 9.66700703e-10 1.96410333e-09 2.43135341e-09\n",
      " 1.21611290e-09 2.30677496e-09 1.77272085e-10 2.18306816e-10\n",
      " 2.75910804e-09 7.22840062e-09 2.36362017e-10 2.75746958e-09\n",
      " 4.96386314e-09 2.36362017e-10 4.90769071e-10 6.05415331e-09\n",
      " 4.54586428e-09 3.05397373e-09 6.46233396e-09 5.41894412e-09\n",
      " 5.58061023e-10 9.12547744e-10 1.43431854e-09 4.64550094e-09\n",
      " 2.84266477e-09 1.94278517e-09 6.23710313e-10 4.25009832e-09\n",
      " 7.17257930e-10 0.00000000e+00 7.48439731e-10 2.12971482e-09\n",
      " 4.17980756e-09 1.59016012e-09 2.51494263e-09 8.53470221e-10\n",
      " 8.53470221e-10 8.53470221e-10 8.53470221e-10 8.53470221e-10\n",
      " 3.81839865e-09 3.54540036e-10 1.88374818e-09 8.73162905e-10\n",
      " 8.73162905e-10 8.73162905e-10 8.73162905e-10 1.43431854e-09\n",
      " 1.63608900e-09 9.35521898e-10 9.35521898e-10 1.15376306e-09\n",
      " 9.35521898e-10 8.86291264e-10 9.66700703e-10 1.01757035e-09\n",
      " 1.01757035e-09 1.01757035e-09 2.64113090e-09 1.77272085e-10\n",
      " 1.02905687e-09 1.08320664e-09 1.06023420e-09 1.06023420e-09\n",
      " 2.14119188e-09 1.43431854e-09 2.15102926e-09 1.09141102e-09\n",
      " 1.06351599e-09 1.80830766e-09 1.12258731e-09 3.84084080e-10\n",
      " 8.53470221e-10 1.18493826e-09 1.06023420e-09 1.18493826e-09\n",
      " 1.55933932e-10 1.55933932e-10 5.61343521e-10 1.36049298e-09\n",
      " 3.49113398e-09 2.49855321e-09 4.05421315e-10 1.05531150e-09\n",
      " 5.61343521e-10 2.06740855e-09 0.00000000e+00 2.95454866e-11\n",
      " 2.29796496e-10 2.29796496e-10 9.35521898e-10 2.80679092e-10\n",
      " 8.86291264e-10 3.11864962e-10 3.43050632e-10 6.56534404e-10\n",
      " 6.56534404e-10 7.55004271e-10 7.55004271e-10 7.48439731e-10\n",
      " 7.48439731e-10 7.48439731e-10 8.20648697e-10 9.35521898e-10\n",
      " 1.08320664e-09 2.15102926e-09 1.09305189e-09 1.09305189e-09\n",
      " 1.09305189e-09 1.21611290e-09 1.21611290e-09 1.21611290e-09\n",
      " 1.21611290e-09 1.24728696e-09 1.24728696e-09 1.24731617e-09] 0.0015637048945057708\n"
     ]
    },
    {
     "name": "stderr",
     "output_type": "stream",
     "text": [
      "/home/kalyan/.local/lib/python3.10/site-packages/cvxpy/expressions/expression.py:593: UserWarning: \n",
      "This use of ``*`` has resulted in matrix multiplication.\n",
      "Using ``*`` for matrix multiplication has been deprecated since CVXPY 1.1.\n",
      "    Use ``*`` for matrix-scalar and vector-scalar multiplication.\n",
      "    Use ``@`` for matrix-matrix and matrix-vector multiplication.\n",
      "    Use ``multiply`` for elementwise multiplication.\n",
      "This code path has been hit 12 times so far.\n",
      "\n",
      "  warnings.warn(msg, UserWarning)\n"
     ]
    }
   ],
   "source": [
    "import pandas as pd\n",
    "data = pd.read_csv('/home/kalyan/gitrepo/alma-mater/Sem3/PML/Disease.csv',sep=',')\n",
    "#print all classes in prognosis\n",
    "classes = (data['prognosis'].unique())\n",
    "\n",
    "class_dict = {}\n",
    "for i in range(len(classes)):\n",
    "    class_dict[classes[i]] = i\n",
    "\n",
    "data['prognosis'] = data['prognosis'].map(class_dict)\n",
    "\n",
    "#drop Unnamed: 133 column\n",
    "data = data.drop('Unnamed: 133',axis=1)\n",
    "data\n",
    "\n",
    "#given symptoms predict the probable disease\n",
    "symptoms = data.columns[:-1]\n",
    "symptoms\n",
    "\n",
    "#model building\n",
    "from sklearn.model_selection import train_test_split\n",
    "from sklearn.preprocessing import StandardScaler\n",
    "\n",
    "X = data.iloc[:, :-1].values\n",
    "y = data.iloc[:, -1].values\n",
    "\n",
    "c = 0.001\n",
    "w, b = sv_cvxpy(X, y, c)\n",
    "print(w, b)\n"
   ]
  },
  {
   "cell_type": "markdown",
   "metadata": {},
   "source": [
    "Sarvesh ShashiKumar - CB.EN.U4AIE21163"
   ]
  },
  {
   "cell_type": "code",
   "execution_count": null,
   "metadata": {},
   "outputs": [
    {
     "name": "stdout",
     "output_type": "stream",
     "text": [
      "Reading all images\n",
      "Number of images: 100\n",
      "status: optimal\n",
      "[-2.30188438e-09 -2.45009540e-09 -2.62079262e-09 ... -2.24929947e-09\n",
      " -2.34373012e-09 -2.33926836e-09] 0.09029259887633485\n",
      "[0.09028897]\n",
      "[1]\n"
     ]
    },
    {
     "name": "stderr",
     "output_type": "stream",
     "text": [
      "/home/kalyan/.local/lib/python3.10/site-packages/cvxpy/expressions/expression.py:593: UserWarning: \n",
      "This use of ``*`` has resulted in matrix multiplication.\n",
      "Using ``*`` for matrix multiplication has been deprecated since CVXPY 1.1.\n",
      "    Use ``*`` for matrix-scalar and vector-scalar multiplication.\n",
      "    Use ``@`` for matrix-matrix and matrix-vector multiplication.\n",
      "    Use ``multiply`` for elementwise multiplication.\n",
      "This code path has been hit 13 times so far.\n",
      "\n",
      "  warnings.warn(msg, UserWarning)\n"
     ]
    }
   ],
   "source": [
    "import cv2\n",
    "#import paths\n",
    "from imutils import paths\n",
    "import os\n",
    "import numpy as np\n",
    "def createImageFeatures(image, size=(32, 32)):\n",
    "    # resize the image\n",
    "    image = cv2.resize(image, size)\n",
    "\n",
    "    # flatten the image\n",
    "    pixel_list = image.flatten()\n",
    "    return pixel_list\n",
    "\n",
    "print(\"Reading all images\")\n",
    "image_paths = list(paths.list_images(\"/home/kalyan/DataSets/Dogs&Cats/train\"))\n",
    "raw_images = []\n",
    "labels = []\n",
    "\n",
    "#take randomly 100 images of cats and dogs \n",
    "np.random.seed(42)\n",
    "image_paths = np.random.choice(image_paths, size=(100), replace=False)\n",
    "\n",
    "# loop over the input images\n",
    "for (i, image_path) in enumerate(image_paths):\n",
    "    image = cv2.imread(image_path)\n",
    "    label = image_path.split(os.path.sep)[-1].split(\".\")[0]\n",
    "    # extract raw pixel intensity \"features\n",
    "    pixels = createImageFeatures(image)\n",
    "    raw_images.append(pixels)\n",
    "    labels.append(label)\n",
    "\n",
    "print(\"Number of images: {}\".format(len(raw_images)))\n",
    "raw_images = np.array(raw_images)\n",
    "labels = np.array(labels)\n",
    "\n",
    "# encode the labels, converting them from strings to integers\n",
    "from sklearn.preprocessing import LabelEncoder\n",
    "le = LabelEncoder()\n",
    "labels = le.fit_transform(labels)\n",
    "\n",
    "# scale the raw pixel intensities to the range [0, 1]\n",
    "from sklearn.preprocessing import MinMaxScaler\n",
    "scaler = MinMaxScaler()\n",
    "raw_images = scaler.fit_transform(raw_images)\n",
    "\n",
    "X = raw_images\n",
    "y = labels\n",
    "\n",
    "c = 0.001\n",
    "w, b = sv_cvxpy(X, y, c)\n",
    "print(w, b)\n",
    "\n",
    "#testing the model\n",
    "import cv2\n",
    "import numpy as np\n",
    "from imutils import paths\n",
    "import os\n",
    "import matplotlib.pyplot as plt\n",
    "\n",
    "# load the image\n",
    "image = cv2.imread(\"/home/kalyan/DataSets/Dogs&Cats/test/dog.4018.jpg\")\n",
    "# extract raw pixel intensity \"features\"\n",
    "pixels = createImageFeatures(image)\n",
    "pixels = np.array(pixels)\n",
    "pixels = pixels.reshape(1, -1)\n",
    "pixels = scaler.transform(pixels)\n",
    "\n",
    "# predict the label of the image\n",
    "pred = w.T @ pixels.T + b\n",
    "print(pred)\n",
    "#convert pred to 0 or 1\n",
    "pred = np.where(pred > 0, 1, 0)\n",
    "print(pred)"
   ]
  },
  {
   "cell_type": "markdown",
   "metadata": {},
   "source": [
    "Kalyana Sundaram - CB.EN.U4AIE21120"
   ]
  },
  {
   "cell_type": "code",
   "execution_count": null,
   "metadata": {},
   "outputs": [
    {
     "name": "stdout",
     "output_type": "stream",
     "text": [
      "status: optimal\n",
      "[ 4.12449916e-10  1.02597380e-08 -1.10750149e-09  9.27182024e-07\n",
      " -2.13136627e-10 -1.77125364e-08  1.55711814e-08 -6.45577726e-09\n",
      "  3.46525569e-08  2.90324644e-08 -8.85684346e-08 -8.98046608e-08\n",
      "  4.64024739e-09 -8.54475378e-10 -3.47726674e-11 -6.43508675e-10\n",
      "  3.58978230e-12  9.59329137e-11 -4.20165269e-10  1.26570151e-08\n",
      " -1.86507944e-10  1.66673078e-09  1.60557051e-09  1.10198414e-08\n",
      " -1.64602255e-09 -7.38758034e-09  2.68513119e-09  1.25114639e-09\n",
      "  3.03015133e-10  3.27232769e-10 -1.92206085e-09 -1.02272916e-08\n",
      "  1.62432311e-09  2.37452704e-08  4.14756392e-09] 31.27512621841527\n"
     ]
    },
    {
     "name": "stderr",
     "output_type": "stream",
     "text": [
      "/home/kalyan/.local/lib/python3.10/site-packages/cvxpy/expressions/expression.py:593: UserWarning: \n",
      "This use of ``*`` has resulted in matrix multiplication.\n",
      "Using ``*`` for matrix multiplication has been deprecated since CVXPY 1.1.\n",
      "    Use ``*`` for matrix-scalar and vector-scalar multiplication.\n",
      "    Use ``@`` for matrix-matrix and matrix-vector multiplication.\n",
      "    Use ``multiply`` for elementwise multiplication.\n",
      "This code path has been hit 14 times so far.\n",
      "\n",
      "  warnings.warn(msg, UserWarning)\n"
     ]
    }
   ],
   "source": [
    "data = pd.read_csv('/home/kalyan/gitrepo/alma-mater/Sem3/PML/Dropout_Academic Success - Sheet1.csv',sep=',')\n",
    "#missing value treatment\n",
    "data = data.dropna()\n",
    "\n",
    "#target column is what we want to predict\n",
    "target = data['Target']\n",
    "target\n",
    "\n",
    "#we assign 1 for Graduate and 0 for Dropout\n",
    "target = target.replace('Graduate',1)\n",
    "target = target.replace('Dropout',0)\n",
    "\n",
    "#drop Target column\n",
    "data = data.drop('Target',axis=1)\n",
    "data\n",
    "\n",
    "X = data.iloc[:, :-1].values\n",
    "y = data.iloc[:, -1].values\n",
    "\n",
    "c = 0.001\n",
    "w, b = sv_cvxpy(X, y, c)\n",
    "print(w, b)"
   ]
  },
  {
   "cell_type": "markdown",
   "metadata": {},
   "source": [
    "Praneetha - CB.EN.U4AIE21147"
   ]
  },
  {
   "cell_type": "code",
   "execution_count": null,
   "metadata": {},
   "outputs": [
    {
     "name": "stdout",
     "output_type": "stream",
     "text": [
      "status: optimal\n",
      "[-2.79168984e-11 -1.33686686e-11 -9.30924587e-10 -3.93196230e-12\n",
      " -2.30806191e-12 -2.10297632e-10 -6.95952787e-11 -2.46707769e-10\n",
      " -2.31474426e-11 -1.01067149e-11 -1.96594736e-11] 1.0383677181432904\n"
     ]
    },
    {
     "name": "stderr",
     "output_type": "stream",
     "text": [
      "/home/kalyan/.local/lib/python3.10/site-packages/cvxpy/expressions/expression.py:593: UserWarning: \n",
      "This use of ``*`` has resulted in matrix multiplication.\n",
      "Using ``*`` for matrix multiplication has been deprecated since CVXPY 1.1.\n",
      "    Use ``*`` for matrix-scalar and vector-scalar multiplication.\n",
      "    Use ``@`` for matrix-matrix and matrix-vector multiplication.\n",
      "    Use ``multiply`` for elementwise multiplication.\n",
      "This code path has been hit 15 times so far.\n",
      "\n",
      "  warnings.warn(msg, UserWarning)\n"
     ]
    }
   ],
   "source": [
    "data = pd.read_csv('/home/kalyan/gitrepo/alma-mater/Sem3/PML/echocardiogram.csv',sep=',')\n",
    "data = data.dropna()\n",
    "#missing value treatment\n",
    "data = data.dropna()\n",
    "data1 = data\n",
    "#remove name column\n",
    "data1 = data1.drop('name',axis=1)\n",
    "data1.head()\n",
    "np.random.seed(1234)\n",
    "index = np.random.choice(np.arange(data1.shape[0]), size=int(data1.shape[0]*0.5))\n",
    "train = data1.iloc[index]\n",
    "test = data1.iloc[-index]\n",
    "from sklearn.model_selection import train_test_split\n",
    "from sklearn.preprocessing import StandardScaler\n",
    "\n",
    "X = data1.iloc[:, :-1].values\n",
    "y = data1.iloc[:, -1].values\n",
    "\n",
    "c = 0.001\n",
    "w, b = sv_cvxpy(X, y, c)\n",
    "print(w, b)\n"
   ]
  },
  {
   "cell_type": "markdown",
   "metadata": {},
   "source": [
    "# Thank You"
   ]
  }
 ],
 "metadata": {
  "kernelspec": {
   "display_name": "Python 3 (ipykernel)",
   "language": "python",
   "name": "python3"
  },
  "language_info": {
   "codemirror_mode": {
    "name": "ipython",
    "version": 3
   },
   "file_extension": ".py",
   "mimetype": "text/x-python",
   "name": "python",
   "nbconvert_exporter": "python",
   "pygments_lexer": "ipython3",
   "version": "3.10.8"
  },
  "vscode": {
   "interpreter": {
    "hash": "e7370f93d1d0cde622a1f8e1c04877d8463912d04d973331ad4851f04de6915a"
   }
  }
 },
 "nbformat": 4,
 "nbformat_minor": 2
}
