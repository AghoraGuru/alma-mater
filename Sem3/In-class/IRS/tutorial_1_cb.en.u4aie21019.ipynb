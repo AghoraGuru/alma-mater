{
 "cells": [
  {
   "attachments": {},
   "cell_type": "markdown",
   "metadata": {},
   "source": [
    "# tutorial 1  cb.en.u4aie21019_aakashjammula"
   ]
  },
  {
   "cell_type": "code",
   "execution_count": 133,
   "metadata": {},
   "outputs": [],
   "source": [
    "from spatialmath import *\n",
    "from spatialmath.base import *\n",
    "import spatialmath.base.symbolic as sym\n",
    "import numpy as np\n",
    "from matplotlib import pyplot as plt\n",
    "import roboticstoolbox as rtb"
   ]
  },
  {
   "cell_type": "code",
   "execution_count": 134,
   "metadata": {},
   "outputs": [],
   "source": [
    "#initialise the robot variables\n",
    "alpha =sym.symbol('alpha')\n",
    "a = sym.symbol('a')\n",
    "d = sym.symbol('d')\n",
    "theta1 = sym.symbol('theta1')\n",
    "theta2 = sym.symbol('theta2')\n",
    "theta3 = sym.symbol('theta3')\n",
    "L1 = sym.symbol('L1')\n",
    "L2 = sym.symbol('L2')\n",
    "L3 = sym.symbol('L3')\n",
    "d1= sym.symbol('d1')\n",
    "d2= sym.symbol('d2')\n",
    "d3= sym.symbol('d3')\n",
    "d4= sym.symbol('d4')\n"
   ]
  },
  {
   "attachments": {},
   "cell_type": "markdown",
   "metadata": {},
   "source": [
    "# part-A (MDH parameters)"
   ]
  },
  {
   "attachments": {},
   "cell_type": "markdown",
   "metadata": {},
   "source": [
    " # 1. 5R-(mdh) "
   ]
  },
  {
   "cell_type": "code",
   "execution_count": 135,
   "metadata": {},
   "outputs": [
    {
     "name": "stdout",
     "output_type": "stream",
     "text": [
      "DHRobot: fiver, 5 joints (RRRRR), dynamics, modified DH parameters\n",
      "┌─────┬────────┬─────┬─────┐\n",
      "│aⱼ₋₁ │  ⍺ⱼ₋₁  │ θⱼ  │ dⱼ  │\n",
      "├─────┼────────┼─────┼─────┤\n",
      "│ 0.0 │   0.0° │  q1 │  90 │\n",
      "│ -50 │ -90.0° │  q2 │ 0.0 │\n",
      "│  90 │   0.0° │  q3 │ 0.0 │\n",
      "│ 108 │   0.0° │  q4 │ 0.0 │\n",
      "│ 0.0 │   0.0° │  q5 │ 0.0 │\n",
      "└─────┴────────┴─────┴─────┘\n",
      "\n",
      "┌─┬──┐\n",
      "└─┴──┘\n",
      "\n"
     ]
    }
   ],
   "source": [
    "#dh of 5R robot\n",
    "class fiver(rtb.DHRobot):\n",
    "\n",
    "    def __init__(self):\n",
    "        super().__init__(\n",
    "                [\n",
    "                    rtb.RevoluteMDH(d=90),\n",
    "\n",
    "                    rtb.RevoluteMDH(alpha=-np.pi/2, a=-50),\n",
    "                    rtb.RevoluteMDH(a=90),\n",
    "                    rtb.RevoluteMDH(a=108),\n",
    "                    rtb.RevoluteMDH(),\n",
    "                ], name=\"fiver\"\n",
    "                        )\n",
    "\n",
    "#initialise the robot\n",
    "robot = fiver()\n",
    "print(robot)"
   ]
  },
  {
   "attachments": {},
   "cell_type": "markdown",
   "metadata": {},
   "source": [
    "# 2. RPP-(mdh)"
   ]
  },
  {
   "cell_type": "code",
   "execution_count": 136,
   "metadata": {},
   "outputs": [
    {
     "name": "stdout",
     "output_type": "stream",
     "text": [
      "DHRobot: RPP, 3 joints (RPP), dynamics, modified DH parameters\n",
      "┌─────┬────────┬──────┬─────┐\n",
      "│aⱼ₋₁ │  ⍺ⱼ₋₁  │  θⱼ  │ dⱼ  │\n",
      "├─────┼────────┼──────┼─────┤\n",
      "│ 0.0 │   0.0° │   q1 │ 0.0 │\n",
      "│ 0.0 │   0.0° │ 0.0° │  q2 │\n",
      "│ 0.0 │ -90.0° │ 0.0° │  q3 │\n",
      "└─────┴────────┴──────┴─────┘\n",
      "\n",
      "┌─┬──┐\n",
      "└─┴──┘\n",
      "\n"
     ]
    }
   ],
   "source": [
    "#rpp\n",
    "class RPP(rtb.DHRobot):\n",
    "\n",
    "    def __init__(self):\n",
    "        super().__init__(\n",
    "                [\n",
    "                    rtb.RevoluteMDH(),\n",
    "                    rtb.PrismaticMDH(),\n",
    "                    rtb.PrismaticMDH(alpha=-np.pi/2)\n",
    "                ], name=\"RPP\"\n",
    "                        )\n",
    "\n",
    "#initialise the robot\n",
    "robot = RPP()\n",
    "print(robot)"
   ]
  },
  {
   "attachments": {},
   "cell_type": "markdown",
   "metadata": {},
   "source": [
    "# 3. puma 3r -(mdh)"
   ]
  },
  {
   "cell_type": "code",
   "execution_count": 137,
   "metadata": {},
   "outputs": [
    {
     "name": "stdout",
     "output_type": "stream",
     "text": [
      "DHRobot: puma3r, 3 joints (RRR), dynamics, modified DH parameters\n",
      "┌──────┬───────┬─────┬─────┐\n",
      "│aⱼ₋₁  │ ⍺ⱼ₋₁  │ θⱼ  │ dⱼ  │\n",
      "├──────┼───────┼─────┼─────┤\n",
      "│0.075 │ 90.0° │  q1 │ 0.0 │\n",
      "│ 0.27 │  0.0° │  q2 │ 0.0 │\n",
      "│ 0.09 │ 90.0° │  q3 │ 0.0 │\n",
      "└──────┴───────┴─────┴─────┘\n",
      "\n",
      "┌─┬──┐\n",
      "└─┴──┘\n",
      "\n"
     ]
    }
   ],
   "source": [
    "\n",
    "class puma3r(rtb.DHRobot):\n",
    "\n",
    "    def __init__(self):\n",
    "        super().__init__(\n",
    "                [\n",
    "                    rtb.RevoluteMDH(a=0.075,alpha=np.pi/2),\n",
    "                    rtb.RevoluteMDH(a=0.27),\n",
    "                    rtb.RevoluteMDH(a=0.090,alpha=np.pi/2)\n",
    "                ], name=\"puma3r\"\n",
    "                        )\n",
    "\n",
    "#initialise the robot\n",
    "robot = puma3r()\n",
    "print(robot)"
   ]
  },
  {
   "attachments": {},
   "cell_type": "markdown",
   "metadata": {},
   "source": [
    "# 4. puma 560 -(mdh)"
   ]
  },
  {
   "cell_type": "code",
   "execution_count": 138,
   "metadata": {},
   "outputs": [
    {
     "name": "stdout",
     "output_type": "stream",
     "text": [
      "DHRobot: puma560, 6 joints (RRRRRR), dynamics, modified DH parameters\n",
      "┌─────┬────────┬─────┬─────┐\n",
      "│aⱼ₋₁ │  ⍺ⱼ₋₁  │ θⱼ  │ dⱼ  │\n",
      "├─────┼────────┼─────┼─────┤\n",
      "│ 0.0 │   0.0° │  q1 │ 0.0 │\n",
      "│ 0.0 │ -90.0° │  q2 │ 0.0 │\n",
      "│  L2 │   0.0° │  q3 │  d3 │\n",
      "│  L3 │ -90.0° │  q4 │  d4 │\n",
      "│ 0.0 │  90.0° │  q5 │ 0.0 │\n",
      "│ 0.0 │ -90.0° │  q6 │ 0.0 │\n",
      "└─────┴────────┴─────┴─────┘\n",
      "\n",
      "┌─┬──┐\n",
      "└─┴──┘\n",
      "\n"
     ]
    }
   ],
   "source": [
    "#scara dof\n",
    "\n",
    "class puma560(rtb.DHRobot):\n",
    "\n",
    "    def __init__(self):\n",
    "        super().__init__(\n",
    "                [\n",
    "                    rtb.RevoluteMDH(), \n",
    "                    rtb.RevoluteMDH(alpha=-np.pi/2,), \n",
    "                    rtb.RevoluteMDH(a=L2,d=d3), \n",
    "                    rtb.RevoluteMDH(alpha=-np.pi/2,a=L3,d=d4), \n",
    "                    rtb.RevoluteMDH(alpha=np.pi/2), \n",
    "                    rtb.RevoluteMDH(alpha=-np.pi/2)\n",
    "\n",
    "                ], name=\"puma560\"\n",
    "                        )\n",
    "\n",
    "#initialise the robot\n",
    "robot = puma560()\n",
    "print(robot)"
   ]
  },
  {
   "attachments": {},
   "cell_type": "markdown",
   "metadata": {},
   "source": [
    "# 5. scara robot -(mdh)"
   ]
  },
  {
   "cell_type": "code",
   "execution_count": 139,
   "metadata": {},
   "outputs": [
    {
     "name": "stdout",
     "output_type": "stream",
     "text": [
      "DHRobot: Scara4, 4 joints (RRPR), dynamics, modified DH parameters\n",
      "┌─────┬────────┬──────┬─────┐\n",
      "│aⱼ₋₁ │  ⍺ⱼ₋₁  │  θⱼ  │ dⱼ  │\n",
      "├─────┼────────┼──────┼─────┤\n",
      "│ 0.0 │   0.0° │   q1 │ 0.0 │\n",
      "│  L1 │   0.0° │   q2 │ 0.0 │\n",
      "│  L2 │   0.0° │ 0.0° │  q3 │\n",
      "│ 0.0 │ 180.0° │   q4 │  L3 │\n",
      "└─────┴────────┴──────┴─────┘\n",
      "\n",
      "┌─┬──┐\n",
      "└─┴──┘\n",
      "\n"
     ]
    }
   ],
   "source": [
    "#scara dof\n",
    "class Scara(rtb.DHRobot):\n",
    "\n",
    "    def __init__(self):\n",
    "        super().__init__(\n",
    "                [\n",
    "                    rtb.RevoluteMDH(),\n",
    "                    rtb.RevoluteMDH(a=L1),\n",
    "                    rtb.PrismaticMDH(a=L2),\n",
    "                    rtb.RevoluteMDH(alpha=np.pi,d = L3)\n",
    "                ], name=\"Scara4\"\n",
    "                        )\n",
    "robot = Scara()\n",
    "print(robot)"
   ]
  },
  {
   "attachments": {},
   "cell_type": "markdown",
   "metadata": {},
   "source": [
    "# part-B (DH parameters)"
   ]
  },
  {
   "attachments": {},
   "cell_type": "markdown",
   "metadata": {},
   "source": [
    "# 1.5R-(dh)"
   ]
  },
  {
   "cell_type": "code",
   "execution_count": 140,
   "metadata": {},
   "outputs": [
    {
     "name": "stdout",
     "output_type": "stream",
     "text": [
      "DHRobot: fiver, 5 joints (RRRRR), dynamics, standard DH parameters\n",
      "┌────┬───────┬────┬────────┐\n",
      "│θⱼ  │  dⱼ   │ aⱼ │   ⍺ⱼ   │\n",
      "├────┼───────┼────┼────────┤\n",
      "│ q1 │   268 │  0 │  90.0° │\n",
      "│ q2 │     0 │  0 │ -90.0° │\n",
      "│ q3 │ 256.6 │  0 │  90.0° │\n",
      "│ q4 │     0 │  0 │ -90.0° │\n",
      "│ q5 │ 176.5 │  0 │  90.0° │\n",
      "└────┴───────┴────┴────────┘\n",
      "\n",
      "┌─┬──┐\n",
      "└─┴──┘\n",
      "\n"
     ]
    }
   ],
   "source": [
    "#5R robot standard dh parameters\n",
    "robot = rtb.DHRobot(\n",
    "    [\n",
    "        rtb.RevoluteDH(d=268,alpha=np.pi/2),\n",
    "\n",
    "        rtb.RevoluteDH(alpha=-np.pi/2, d=0),\n",
    "        rtb.RevoluteDH(d=256.6,alpha=np.pi/2),\n",
    "        rtb.RevoluteDH(d=0,alpha=-np.pi/2),\n",
    "        rtb.RevoluteDH(d=176.5,alpha=np.pi/2),\n",
    "    ], name=\"fiver\")\n",
    "\n",
    "#initialise the robot\n",
    "print(robot)\n"
   ]
  },
  {
   "attachments": {},
   "cell_type": "markdown",
   "metadata": {},
   "source": [
    "# 2. RPP-(dh)"
   ]
  },
  {
   "cell_type": "code",
   "execution_count": 141,
   "metadata": {},
   "outputs": [
    {
     "name": "stdout",
     "output_type": "stream",
     "text": [
      "DHRobot: RPP, 3 joints (RPP), dynamics, standard DH parameters\n",
      "┌─────┬───────┬──────┬────────┐\n",
      "│ θⱼ  │  dⱼ   │  aⱼ  │   ⍺ⱼ   │\n",
      "├─────┼───────┼──────┼────────┤\n",
      "│ q1  │ 0.245 │    0 │   0.0° │\n",
      "│0.0° │    q2 │ 0.11 │ -90.0° │\n",
      "│0.0° │    q3 │    0 │   0.0° │\n",
      "└─────┴───────┴──────┴────────┘\n",
      "\n",
      "┌─┬──┐\n",
      "└─┴──┘\n",
      "\n"
     ]
    }
   ],
   "source": [
    "robot = rtb.DHRobot(\n",
    "    [\n",
    "        rtb.RevoluteDH(a=0,alpha=0,d=0.245),\n",
    "        rtb.PrismaticDH(alpha=-np.pi/2,a=0.11),\n",
    "        rtb.PrismaticDH()\n",
    "    ], name=\"RPP\")\n",
    "\n",
    "#initialise the robot\n",
    "print(robot)"
   ]
  },
  {
   "attachments": {},
   "cell_type": "markdown",
   "metadata": {},
   "source": [
    "# 3. puma 3r -(dh)"
   ]
  },
  {
   "cell_type": "code",
   "execution_count": 142,
   "metadata": {},
   "outputs": [
    {
     "name": "stdout",
     "output_type": "stream",
     "text": [
      "DHRobot: Puma3r, 3 joints (RRR), dynamics, standard DH parameters\n",
      "┌────┬────┬────┬───────┐\n",
      "│θⱼ  │ dⱼ │ aⱼ │  ⍺ⱼ   │\n",
      "├────┼────┼────┼───────┤\n",
      "│ q1 │  0 │  0 │ 90.0° │\n",
      "│ q2 │  2 │  1 │  0.0° │\n",
      "│ q3 │  0 │  0 │  0.0° │\n",
      "└────┴────┴────┴───────┘\n",
      "\n",
      "┌─┬──┐\n",
      "└─┴──┘\n",
      "\n"
     ]
    }
   ],
   "source": [
    "robot = rtb.DHRobot(\n",
    "    [\n",
    "        rtb.RevoluteDH(alpha=np.pi/2),\n",
    "        rtb.RevoluteDH(a=1,d=2),\n",
    "        rtb.RevoluteDH(),\n",
    "    ], name=\"Puma3r\")\n",
    "\n",
    "print(robot)"
   ]
  },
  {
   "attachments": {},
   "cell_type": "markdown",
   "metadata": {},
   "source": [
    "# 4. puma 560 -(dh)"
   ]
  },
  {
   "cell_type": "code",
   "execution_count": 143,
   "metadata": {},
   "outputs": [
    {
     "name": "stdout",
     "output_type": "stream",
     "text": [
      "DHRobot: Puma560, 6 joints (RRRRRR), dynamics, standard DH parameters\n",
      "┌────┬────────┬────────┬────────┐\n",
      "│θⱼ  │   dⱼ   │   aⱼ   │   ⍺ⱼ   │\n",
      "├────┼────────┼────────┼────────┤\n",
      "│ q1 │      0 │      0 │  90.0° │\n",
      "│ q2 │      0 │ 0.4318 │   0.0° │\n",
      "│ q3 │   0.15 │ 0.0203 │ -90.0° │\n",
      "│ q4 │ 0.4318 │      0 │  90.0° │\n",
      "│ q5 │      0 │      0 │ -90.0° │\n",
      "│ q6 │      0 │      0 │   0.0° │\n",
      "└────┴────────┴────────┴────────┘\n",
      "\n",
      "┌─┬──┐\n",
      "└─┴──┘\n",
      "\n"
     ]
    }
   ],
   "source": [
    "robot = rtb.DHRobot(\n",
    "    [\n",
    "        rtb.RevoluteDH(alpha=np.pi/2),\n",
    "        rtb.RevoluteDH(a=0.4318),\n",
    "        rtb.RevoluteDH(d=0.15005, a=0.0203, alpha=-np.pi/2),\n",
    "        rtb.RevoluteDH(d=0.4318, alpha=np.pi/2),\n",
    "        rtb.RevoluteDH(alpha=-np.pi/2),\n",
    "        rtb.RevoluteDH()\n",
    "    ], name=\"Puma560\")\n",
    "\n",
    "#initialise the robot\n",
    "print(robot)"
   ]
  },
  {
   "attachments": {},
   "cell_type": "markdown",
   "metadata": {},
   "source": [
    "# 5. scara robot -(dh)"
   ]
  },
  {
   "cell_type": "code",
   "execution_count": 144,
   "metadata": {},
   "outputs": [
    {
     "name": "stdout",
     "output_type": "stream",
     "text": [
      "DHRobot: SCARA Robot, 4 joints (RRPR), dynamics, standard DH parameters\n",
      "┌─────┬───────┬───────┬────────┐\n",
      "│ θⱼ  │  dⱼ   │  aⱼ   │   ⍺ⱼ   │\n",
      "├─────┼───────┼───────┼────────┤\n",
      "│ q1  │ 0.387 │ 0.325 │   0.0° │\n",
      "│ q2  │     0 │ 0.275 │ 180.0° │\n",
      "│0.0° │    q3 │     0 │   0.0° │\n",
      "│ q4  │     0 │     0 │   0.0° │\n",
      "└─────┴───────┴───────┴────────┘\n",
      "\n",
      "┌─┬──┐\n",
      "└─┴──┘\n",
      "\n"
     ]
    }
   ],
   "source": [
    "class SCARA_DH(rtb.DHRobot):\n",
    "\n",
    "    def __init__(self):\n",
    "        super().__init__(\n",
    "                [\n",
    "                    rtb.RevoluteDH(d=0.387, a=0.325),\n",
    "                    rtb.RevoluteDH(a=0.275, alpha=np.pi),\n",
    "                    rtb.PrismaticDH(),\n",
    "                    rtb.RevoluteDH(),\n",
    "                ], name=\"SCARA Robot\"\n",
    "            )\n",
    "\n",
    "robot = SCARA_DH()\n",
    "print(robot)"
   ]
  }
 ],
 "metadata": {
  "kernelspec": {
   "display_name": "Python 3",
   "language": "python",
   "name": "python3"
  },
  "language_info": {
   "codemirror_mode": {
    "name": "ipython",
    "version": 3
   },
   "file_extension": ".py",
   "mimetype": "text/x-python",
   "name": "python",
   "nbconvert_exporter": "python",
   "pygments_lexer": "ipython3",
   "version": "3.10.9"
  },
  "orig_nbformat": 4,
  "vscode": {
   "interpreter": {
    "hash": "33361819892867e0bd947e0a26fa049314aead577d60fb79568bff7a065f295f"
   }
  }
 },
 "nbformat": 4,
 "nbformat_minor": 2
}
