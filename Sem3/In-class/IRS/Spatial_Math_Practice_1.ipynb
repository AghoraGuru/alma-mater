{
 "cells": [
  {
   "cell_type": "markdown",
   "id": "3ef6387e-68e2-4898-8396-0b7a89085787",
   "metadata": {},
   "source": [
    "This is jupyter lab, which comes bundled with Anaconda package for installing python. "
   ]
  },
  {
   "cell_type": "markdown",
   "id": "aa76788b-cb29-4bff-840c-4dfa096826b3",
   "metadata": {},
   "source": [
    "**Install Robotic toolbox for python by Dr.Peter Corke :** https://github.com/petercorke/robotics-toolbox-python\n",
    "Spatial math toolbox comes bundled with robotic toolbox. If there is some error try installing it separately from : https://github.com/petercorke/spatialmath-python "
   ]
  },
  {
   "cell_type": "markdown",
   "id": "209878ed-8247-4251-8dab-8b2d49d0d2bb",
   "metadata": {},
   "source": [
    "Mainly there are 5 python classes based on mathematical groups which are used in this course: \\SO2, \\SO3, \\SE2, \\SE3, Unit Quaternions.\n",
    "SO2 & SO3 - Rotation or Orientation group in 2D and 3D. The rotation group consists of all the rotation about origin of a 3 dimensional Euclidean space. Represents 2D and 3D rotation matrices.\n",
    "SE2 & SE3 - Euclidean group in 2D and 3D. The transformations of the space that preserve the Euclidean distance between any two points. Comprises of both translation and rotation; represents Homogeneous transformation matrix."
   ]
  },
  {
   "cell_type": "code",
   "execution_count": 1,
   "id": "90c94118-801e-4a0d-a14b-0d11a69ac71a",
   "metadata": {},
   "outputs": [],
   "source": [
    "from spatialmath import *\n",
    "from spatialmath.base import *\n",
    "import spatialmath.base.symbolic as sym\n",
    "import numpy as np\n",
    "from matplotlib import pyplot as plt"
   ]
  },
  {
   "cell_type": "markdown",
   "id": "f33eec0a-4037-4942-889f-d161513f9bc2",
   "metadata": {},
   "source": [
    "Matlab style command input and output is obtained from second line above."
   ]
  },
  {
   "cell_type": "code",
   "execution_count": 2,
   "id": "4e700a54-fad3-40b7-b65e-a285cbe7bf93",
   "metadata": {},
   "outputs": [],
   "source": [
    "R1 = rot2(0.3)"
   ]
  },
  {
   "cell_type": "markdown",
   "id": "f0133878-4f3e-4f3b-b810-17579d676cb8",
   "metadata": {},
   "source": [
    "rot2 is 2D rotation matrix, Note you need only one angle to specify the 2 dimensional rotation matrix the default angle is in rad. "
   ]
  },
  {
   "cell_type": "code",
   "execution_count": 3,
   "id": "3872c4af-8170-49b5-a47e-1a81462b5a9e",
   "metadata": {},
   "outputs": [
    {
     "data": {
      "text/plain": [
       "array([[ 0.95533649, -0.29552021],\n",
       "       [ 0.29552021,  0.95533649]])"
      ]
     },
     "execution_count": 3,
     "metadata": {},
     "output_type": "execute_result"
    }
   ],
   "source": [
    "R1"
   ]
  },
  {
   "cell_type": "code",
   "execution_count": 4,
   "id": "14340ee8-4538-4743-802f-d7d629ab9877",
   "metadata": {},
   "outputs": [
    {
     "data": {
      "text/plain": [
       "array([[ 0.8660254, -0.5      ],\n",
       "       [ 0.5      ,  0.8660254]])"
      ]
     },
     "execution_count": 4,
     "metadata": {},
     "output_type": "execute_result"
    }
   ],
   "source": [
    "rot2(30,'deg')"
   ]
  },
  {
   "cell_type": "code",
   "execution_count": 5,
   "id": "752aa77f-03f2-4d33-bad6-c4500cd9a6bb",
   "metadata": {},
   "outputs": [
    {
     "data": {
      "text/plain": [
       "numpy.ndarray"
      ]
     },
     "execution_count": 5,
     "metadata": {},
     "output_type": "execute_result"
    }
   ],
   "source": [
    "type (R1)"
   ]
  },
  {
   "cell_type": "code",
   "execution_count": 6,
   "id": "83a48b0b-7244-45d8-a1cf-48e71fccf183",
   "metadata": {},
   "outputs": [
    {
     "data": {
      "text/plain": [
       "0.9999999999999999"
      ]
     },
     "execution_count": 6,
     "metadata": {},
     "output_type": "execute_result"
    }
   ],
   "source": [
    "np.linalg.det(R1)"
   ]
  },
  {
   "cell_type": "code",
   "execution_count": 7,
   "id": "9961d4bc-db75-4a61-85e3-2e2c3daef1f4",
   "metadata": {},
   "outputs": [
    {
     "data": {
      "text/plain": [
       "array([[ 0.95533649,  0.29552021],\n",
       "       [-0.29552021,  0.95533649]])"
      ]
     },
     "execution_count": 7,
     "metadata": {},
     "output_type": "execute_result"
    }
   ],
   "source": [
    "np.transpose(R1)"
   ]
  },
  {
   "cell_type": "code",
   "execution_count": 8,
   "id": "2dd54af3-863e-49d2-af84-13e3d433abbd",
   "metadata": {},
   "outputs": [
    {
     "data": {
      "text/plain": [
       "array([[ 0.95533649,  0.29552021],\n",
       "       [-0.29552021,  0.95533649]])"
      ]
     },
     "execution_count": 8,
     "metadata": {},
     "output_type": "execute_result"
    }
   ],
   "source": [
    "np.linalg.inv(R1)"
   ]
  },
  {
   "cell_type": "code",
   "execution_count": 9,
   "id": "91b7b7f0-64d2-4af7-8973-5853303d3e68",
   "metadata": {},
   "outputs": [
    {
     "data": {
      "text/plain": [
       "array([[ 0.91266781, -0.08733219],\n",
       "       [-0.08733219,  0.91266781]])"
      ]
     },
     "execution_count": 9,
     "metadata": {},
     "output_type": "execute_result"
    }
   ],
   "source": [
    "R1*np.transpose(R1) #elementwise multiplication"
   ]
  },
  {
   "cell_type": "code",
   "execution_count": 10,
   "id": "38683c33-bdcf-4ff6-8011-b9729aaea381",
   "metadata": {},
   "outputs": [
    {
     "data": {
      "text/plain": [
       "array([[0.91266781, 0.08733219],\n",
       "       [0.08733219, 0.91266781]])"
      ]
     },
     "execution_count": 10,
     "metadata": {},
     "output_type": "execute_result"
    }
   ],
   "source": [
    "R1**2"
   ]
  },
  {
   "cell_type": "code",
   "execution_count": 11,
   "id": "1cce0433-52a7-4fdc-880a-2deff25eb05e",
   "metadata": {},
   "outputs": [
    {
     "data": {
      "text/plain": [
       "array([[ 1., -0.],\n",
       "       [-0.,  1.]])"
      ]
     },
     "execution_count": 11,
     "metadata": {},
     "output_type": "execute_result"
    }
   ],
   "source": [
    "np.around(R1@np.transpose(R1)) #Composition operation "
   ]
  },
  {
   "cell_type": "markdown",
   "id": "01a1988e-c3b3-4b86-8071-5e60634dc37e",
   "metadata": {},
   "source": [
    "f, g ==> h = f(g)"
   ]
  },
  {
   "cell_type": "code",
   "execution_count": 12,
   "id": "8497c64f-0757-440b-92ef-36c7bf06b51b",
   "metadata": {},
   "outputs": [
    {
     "data": {
      "text/plain": [
       "array([[ 0.82533561, -0.56464247],\n",
       "       [ 0.56464247,  0.82533561]])"
      ]
     },
     "execution_count": 12,
     "metadata": {},
     "output_type": "execute_result"
    }
   ],
   "source": [
    "R1@R1"
   ]
  },
  {
   "cell_type": "code",
   "execution_count": 13,
   "id": "57f91452-52ce-402e-a38d-b88b315c8620",
   "metadata": {},
   "outputs": [
    {
     "data": {
      "text/plain": [
       "1.0"
      ]
     },
     "execution_count": 13,
     "metadata": {},
     "output_type": "execute_result"
    }
   ],
   "source": [
    "np.around(np.linalg.det(R1@R1))"
   ]
  },
  {
   "cell_type": "code",
   "execution_count": null,
   "id": "d0ee5c77-1c6d-4802-914f-f09d4a9eb354",
   "metadata": {},
   "outputs": [],
   "source": []
  },
  {
   "cell_type": "code",
   "execution_count": 109,
   "id": "1129100e-267b-4fee-8896-1287091c93d3",
   "metadata": {},
   "outputs": [],
   "source": [
    "theta = sym.symbol('theta')"
   ]
  },
  {
   "cell_type": "code",
   "execution_count": 110,
   "id": "716af205-e243-4d20-8488-a930dc7baaf0",
   "metadata": {},
   "outputs": [],
   "source": [
    "R2 = rot2(theta)"
   ]
  },
  {
   "cell_type": "code",
   "execution_count": 16,
   "id": "7e48e0fb-7791-4977-b7e3-dfba3e66a6e2",
   "metadata": {},
   "outputs": [
    {
     "data": {
      "text/plain": [
       "array([[cos(theta), -sin(theta)],\n",
       "       [sin(theta), cos(theta)]], dtype=object)"
      ]
     },
     "execution_count": 16,
     "metadata": {},
     "output_type": "execute_result"
    }
   ],
   "source": [
    "R2"
   ]
  },
  {
   "cell_type": "code",
   "execution_count": 111,
   "id": "71f5e950-8696-4b53-bfce-532e8648ca60",
   "metadata": {},
   "outputs": [
    {
     "data": {
      "text/plain": [
       "array([[cos(theta)**2, sin(theta)**2],\n",
       "       [sin(theta)**2, cos(theta)**2]], dtype=object)"
      ]
     },
     "execution_count": 111,
     "metadata": {},
     "output_type": "execute_result"
    }
   ],
   "source": [
    "R2*R2"
   ]
  },
  {
   "cell_type": "code",
   "execution_count": 18,
   "id": "966cad83-1f0d-4aff-af35-77c1245d38a3",
   "metadata": {},
   "outputs": [
    {
     "data": {
      "text/plain": [
       "array([[-sin(theta)**2 + cos(theta)**2, -2*sin(theta)*cos(theta)],\n",
       "       [2*sin(theta)*cos(theta), -sin(theta)**2 + cos(theta)**2]],\n",
       "      dtype=object)"
      ]
     },
     "execution_count": 18,
     "metadata": {},
     "output_type": "execute_result"
    }
   ],
   "source": [
    "R2@R2"
   ]
  },
  {
   "cell_type": "code",
   "execution_count": 113,
   "id": "8686be45-76ac-4636-97f7-2ee2985b96e6",
   "metadata": {},
   "outputs": [
    {
     "data": {
      "text/latex": [
       "$\\displaystyle \\left[\\begin{matrix}\\cos{\\left(2 \\theta \\right)} & - \\sin{\\left(2 \\theta \\right)}\\\\\\sin{\\left(2 \\theta \\right)} & \\cos{\\left(2 \\theta \\right)}\\end{matrix}\\right]$"
      ],
      "text/plain": [
       "[[cos(2*theta), -sin(2*theta)], [sin(2*theta), cos(2*theta)]]"
      ]
     },
     "execution_count": 113,
     "metadata": {},
     "output_type": "execute_result"
    }
   ],
   "source": [
    "sym.simplify(R2@R2)"
   ]
  },
  {
   "cell_type": "code",
   "execution_count": 20,
   "id": "28b4c1ca-5e54-4b3a-bb83-59751bb2541f",
   "metadata": {},
   "outputs": [
    {
     "data": {
      "text/latex": [
       "$\\displaystyle \\left[\\begin{matrix}\\cos{\\left(2 \\theta \\right)} & \\sin{\\left(2 \\theta \\right)}\\\\- \\sin{\\left(2 \\theta \\right)} & \\cos{\\left(2 \\theta \\right)}\\end{matrix}\\right]$"
      ],
      "text/plain": [
       "[[cos(2*theta), sin(2*theta)], [-sin(2*theta), cos(2*theta)]]"
      ]
     },
     "execution_count": 20,
     "metadata": {},
     "output_type": "execute_result"
    }
   ],
   "source": [
    "sym.simplify(np.transpose(R2@R2))"
   ]
  },
  {
   "cell_type": "markdown",
   "id": "2a9e181c-1b21-4bcc-8880-c703ad703574",
   "metadata": {},
   "source": [
    "np.linalg doesnot seem to work with symbolic representations."
   ]
  },
  {
   "cell_type": "markdown",
   "id": "cf9a07fc-24a5-42b1-a43f-329c000398e1",
   "metadata": {},
   "source": [
    "**2D** "
   ]
  },
  {
   "cell_type": "code",
   "execution_count": 21,
   "id": "30446372-9a60-41ef-97c7-f6efaa21dd77",
   "metadata": {},
   "outputs": [
    {
     "data": {
      "text/plain": [
       "array([[1., 0., 1.],\n",
       "       [0., 1., 2.],\n",
       "       [0., 0., 1.]])"
      ]
     },
     "execution_count": 21,
     "metadata": {},
     "output_type": "execute_result"
    }
   ],
   "source": [
    "transl2(1,2) #matlab style"
   ]
  },
  {
   "cell_type": "code",
   "execution_count": 22,
   "id": "a479f7f9-c98e-4c25-893b-2cf9c6811e03",
   "metadata": {},
   "outputs": [
    {
     "data": {
      "text/plain": [
       "   1         0         1         \n",
       "   0         1         2         \n",
       "   0         0         1         \n"
      ]
     },
     "execution_count": 22,
     "metadata": {},
     "output_type": "execute_result"
    }
   ],
   "source": [
    "SE2(1,2)"
   ]
  },
  {
   "cell_type": "code",
   "execution_count": 23,
   "id": "5542876f-ddaa-42a5-b4d2-c716c2d4b881",
   "metadata": {},
   "outputs": [
    {
     "data": {
      "text/plain": [
       "   0.866    -0.5       0         \n",
       "   0.5       0.866     0         \n",
       "   0         0         1         \n"
      ]
     },
     "execution_count": 23,
     "metadata": {},
     "output_type": "execute_result"
    }
   ],
   "source": [
    "SE2(30,unit='deg')"
   ]
  },
  {
   "cell_type": "code",
   "execution_count": 24,
   "id": "8535d695-2c35-408a-914b-17d59dbe102a",
   "metadata": {},
   "outputs": [],
   "source": [
    "T1 = SE2(1,2)*SE2(30,unit='deg') #The FAR convention"
   ]
  },
  {
   "cell_type": "code",
   "execution_count": 25,
   "id": "98b96c58-bfc7-4ef1-8927-a69494c217ad",
   "metadata": {},
   "outputs": [
    {
     "data": {
      "text/plain": [
       "spatialmath.pose2d.SE2"
      ]
     },
     "execution_count": 25,
     "metadata": {},
     "output_type": "execute_result"
    }
   ],
   "source": [
    "type(T1)"
   ]
  },
  {
   "cell_type": "code",
   "execution_count": 26,
   "id": "d1993622-bf6a-4063-9512-0010ecfca2e9",
   "metadata": {},
   "outputs": [
    {
     "data": {
      "text/plain": [
       "   0.866    -0.5       1         \n",
       "   0.5       0.866     2         \n",
       "   0         0         1         \n"
      ]
     },
     "execution_count": 26,
     "metadata": {},
     "output_type": "execute_result"
    }
   ],
   "source": [
    "T1"
   ]
  },
  {
   "cell_type": "code",
   "execution_count": 27,
   "id": "65d49599-cc7a-46e7-92e8-eb7e39e9558e",
   "metadata": {},
   "outputs": [],
   "source": [
    "T2 = SE2(2,1)"
   ]
  },
  {
   "cell_type": "code",
   "execution_count": 28,
   "id": "973b49cd-488d-45af-bf23-08d58eb167bf",
   "metadata": {},
   "outputs": [
    {
     "data": {
      "text/plain": [
       "   1         0         2         \n",
       "   0         1         1         \n",
       "   0         0         1         \n"
      ]
     },
     "execution_count": 28,
     "metadata": {},
     "output_type": "execute_result"
    }
   ],
   "source": [
    "T2"
   ]
  },
  {
   "cell_type": "code",
   "execution_count": 29,
   "id": "3e47b3f2-de73-4ab2-9b7a-e04e921d81e8",
   "metadata": {},
   "outputs": [],
   "source": [
    "T3 = T2*T1"
   ]
  },
  {
   "cell_type": "code",
   "execution_count": 30,
   "id": "c1701d8e-c196-4351-baf1-7fa10914d249",
   "metadata": {},
   "outputs": [
    {
     "data": {
      "text/plain": [
       "   0.866    -0.5       3         \n",
       "   0.5       0.866     3         \n",
       "   0         0         1         \n"
      ]
     },
     "execution_count": 30,
     "metadata": {},
     "output_type": "execute_result"
    }
   ],
   "source": [
    "T3"
   ]
  },
  {
   "cell_type": "code",
   "execution_count": 31,
   "id": "01823370-e0e8-480a-b2f8-b419d97ecc6b",
   "metadata": {
    "tags": []
   },
   "outputs": [],
   "source": [
    "T3 = T1*T2"
   ]
  },
  {
   "cell_type": "code",
   "execution_count": 32,
   "id": "698f979f-de2c-47ac-932f-dc7da24adbe4",
   "metadata": {
    "tags": []
   },
   "outputs": [
    {
     "data": {
      "text/plain": [
       "   0.866    -0.5       2.232     \n",
       "   0.5       0.866     3.866     \n",
       "   0         0         1         \n"
      ]
     },
     "execution_count": 32,
     "metadata": {},
     "output_type": "execute_result"
    }
   ],
   "source": [
    "T3 #The translations happens first and then the rotation"
   ]
  },
  {
   "cell_type": "code",
   "execution_count": 33,
   "id": "f6807d87-fcf9-4487-bce7-66708f5957e6",
   "metadata": {},
   "outputs": [
    {
     "data": {
      "text/plain": [
       "   0.866     0.5      -1.866     \n",
       "  -0.5       0.866    -1.232     \n",
       "   0         0         1         \n"
      ]
     },
     "execution_count": 33,
     "metadata": {},
     "output_type": "execute_result"
    }
   ],
   "source": [
    "T1.inv()"
   ]
  },
  {
   "cell_type": "markdown",
   "id": "b07627df-dd17-4f08-afa3-f1d7b3a6d1a6",
   "metadata": {},
   "source": [
    "![alt text](homog_inv.png \"T inverse\")"
   ]
  },
  {
   "cell_type": "code",
   "execution_count": 34,
   "id": "0fc781f6-5aee-42a7-84b7-bb19911159fe",
   "metadata": {},
   "outputs": [],
   "source": [
    "x = sym.symbol('x')\n",
    "y = sym.symbol('y')"
   ]
  },
  {
   "cell_type": "code",
   "execution_count": 35,
   "id": "d674bca9-c9cf-42cc-8d86-a8898ba7053b",
   "metadata": {},
   "outputs": [],
   "source": [
    "Ts1 = SE2(x,y)*SE2(theta)"
   ]
  },
  {
   "cell_type": "code",
   "execution_count": 36,
   "id": "8ec7334f-72bf-4665-ab2c-1db6096159de",
   "metadata": {},
   "outputs": [
    {
     "data": {
      "text/plain": [
       "  cos(theta)   -sin(theta)  x             \n",
       "  sin(theta)   cos(theta)   y             \n",
       "  0            0             1         \n"
      ]
     },
     "execution_count": 36,
     "metadata": {},
     "output_type": "execute_result"
    }
   ],
   "source": [
    "Ts1"
   ]
  },
  {
   "cell_type": "markdown",
   "id": "fda2e77e-888b-421f-b503-57bfa700656c",
   "metadata": {},
   "source": [
    "# 3D rotations and Euler angles"
   ]
  },
  {
   "cell_type": "code",
   "execution_count": null,
   "id": "c2618395-ea52-49e4-a8d8-d74593a52ca2",
   "metadata": {},
   "outputs": [],
   "source": []
  },
  {
   "cell_type": "code",
   "execution_count": 37,
   "id": "5eec8271-f6c3-42fe-8897-3dca548c7539",
   "metadata": {},
   "outputs": [],
   "source": [
    "R_x = SO3.Rx(30,unit='deg')"
   ]
  },
  {
   "cell_type": "code",
   "execution_count": 38,
   "id": "25558238-c63e-4ea3-9850-3505ad427369",
   "metadata": {},
   "outputs": [
    {
     "data": {
      "text/plain": [
       "   1         0         0         \n",
       "   0         0.866    -0.5       \n",
       "   0         0.5       0.866     \n"
      ]
     },
     "execution_count": 38,
     "metadata": {},
     "output_type": "execute_result"
    }
   ],
   "source": [
    "R_x"
   ]
  },
  {
   "cell_type": "code",
   "execution_count": 39,
   "id": "30705f7b-5142-4581-90d7-f9f023c14f9d",
   "metadata": {},
   "outputs": [],
   "source": [
    "R_y = SO3.Ry(45, unit='deg')"
   ]
  },
  {
   "cell_type": "code",
   "execution_count": 40,
   "id": "5d80ba4a-7e16-474a-9eb0-d4ca98d69ab1",
   "metadata": {},
   "outputs": [
    {
     "data": {
      "text/plain": [
       "   0.7071    0         0.7071    \n",
       "   0         1         0         \n",
       "  -0.7071    0         0.7071    \n"
      ]
     },
     "execution_count": 40,
     "metadata": {},
     "output_type": "execute_result"
    }
   ],
   "source": [
    "R_y"
   ]
  },
  {
   "cell_type": "code",
   "execution_count": 41,
   "id": "e8c62719-069d-4f3e-a5f2-3cf5836f78db",
   "metadata": {},
   "outputs": [],
   "source": [
    "R_z = SO3.Rz(60)"
   ]
  },
  {
   "cell_type": "code",
   "execution_count": 42,
   "id": "fd8afe3b-a6e3-4bfe-a421-5790517c8cf0",
   "metadata": {},
   "outputs": [
    {
     "data": {
      "text/plain": [
       "  -0.9524    0.3048    0         \n",
       "  -0.3048   -0.9524    0         \n",
       "   0         0         1         \n"
      ]
     },
     "execution_count": 42,
     "metadata": {},
     "output_type": "execute_result"
    }
   ],
   "source": [
    "R_z"
   ]
  },
  {
   "cell_type": "code",
   "execution_count": 43,
   "id": "ea1de972-859b-4fc9-82a6-eabe893c9ff5",
   "metadata": {},
   "outputs": [],
   "source": [
    "R_z = SO3.Rz(60,unit='deg')"
   ]
  },
  {
   "cell_type": "code",
   "execution_count": 44,
   "id": "a04639a5-7a55-45d2-b12d-13e7fdf8bca0",
   "metadata": {},
   "outputs": [
    {
     "data": {
      "text/plain": [
       "   0.5      -0.866     0         \n",
       "   0.866     0.5       0         \n",
       "   0         0         1         \n"
      ]
     },
     "execution_count": 44,
     "metadata": {},
     "output_type": "execute_result"
    }
   ],
   "source": [
    "R_z"
   ]
  },
  {
   "cell_type": "code",
   "execution_count": 45,
   "id": "7ae1d263-b48a-481a-b549-584fc119126d",
   "metadata": {},
   "outputs": [
    {
     "data": {
      "text/plain": [
       "   0.3536   -0.6124    0.7071    \n",
       "   0.9268    0.1268   -0.3536    \n",
       "   0.1268    0.7803    0.6124    \n"
      ]
     },
     "execution_count": 45,
     "metadata": {},
     "output_type": "execute_result"
    }
   ],
   "source": [
    "R_x@R_y@R_z"
   ]
  },
  {
   "cell_type": "code",
   "execution_count": 46,
   "id": "ba61e95c-c84b-4243-abe3-ee1f1633ba75",
   "metadata": {},
   "outputs": [
    {
     "data": {
      "text/plain": [
       "   0.3536   -0.6124    0.7071    \n",
       "   0.9268    0.1268   -0.3536    \n",
       "   0.1268    0.7803    0.6124    \n"
      ]
     },
     "execution_count": 46,
     "metadata": {},
     "output_type": "execute_result"
    }
   ],
   "source": [
    "R_x*R_y*R_z"
   ]
  },
  {
   "cell_type": "code",
   "execution_count": 47,
   "id": "70ed3e5e-9f1f-4c97-be8c-891f0f99f3d9",
   "metadata": {},
   "outputs": [],
   "source": [
    "R_eul = SO3.Rz(0.3)*SO3.Ry(0.45)*SO3.Rz(0.6)"
   ]
  },
  {
   "cell_type": "code",
   "execution_count": 48,
   "id": "6ea96682-c8a5-487d-bf4a-96f2b40a2c1c",
   "metadata": {},
   "outputs": [
    {
     "data": {
      "text/plain": [
       "   0.5431   -0.7296    0.4155    \n",
       "   0.759     0.6382    0.1285    \n",
       "  -0.359     0.2456    0.9004    \n"
      ]
     },
     "execution_count": 48,
     "metadata": {},
     "output_type": "execute_result"
    }
   ],
   "source": [
    "R_eul"
   ]
  },
  {
   "cell_type": "code",
   "execution_count": 49,
   "id": "313de1e2-05e3-4673-992e-5785ed1fade6",
   "metadata": {},
   "outputs": [
    {
     "data": {
      "text/latex": [
       "$\\displaystyle \\left( \\left[\\begin{matrix}0.5408919826731 + 0.841092065757348 i & 0.5408919826731 - 0.841092065757348 i & 1.0\\end{matrix}\\right], \\  \\left[\\begin{matrix}0.705392651746975 & 0.705392651746975 & 0.0695874537739475\\\\-0.0227109493025562 - 0.627284235437685 i & -0.0227109493025562 + 0.627284235437685 i & 0.460431755536335\\\\-0.0436511127366459 + 0.326365574121044 i & -0.0436511127366459 - 0.326365574121044 i & 0.884963380468925\\end{matrix}\\right]\\right)$"
      ],
      "text/plain": [
       "([0.5408919826731 + 0.841092065757348*I, 0.5408919826731 - 0.841092065757348*I, 1.0], [[0.705392651746975, 0.705392651746975, 0.0695874537739475], [-0.0227109493025562 - 0.627284235437685*I, -0.0227109493025562 + 0.627284235437685*I, 0.460431755536335], [-0.0436511127366459 + 0.326365574121044*I, -0.0436511127366459 - 0.326365574121044*I, 0.884963380468925]])"
      ]
     },
     "execution_count": 49,
     "metadata": {},
     "output_type": "execute_result"
    }
   ],
   "source": [
    "sym.simplify(np.linalg.eig(R_eul.R))"
   ]
  },
  {
   "cell_type": "code",
   "execution_count": 50,
   "id": "3bbbf6dc-fb3d-43b0-a974-543c7f0d4065",
   "metadata": {},
   "outputs": [
    {
     "data": {
      "text/plain": [
       "array([0.3 , 0.45, 0.6 ])"
      ]
     },
     "execution_count": 50,
     "metadata": {},
     "output_type": "execute_result"
    }
   ],
   "source": [
    "R_eul.eul()"
   ]
  },
  {
   "cell_type": "code",
   "execution_count": 51,
   "id": "8e20257e-d94b-4829-a11b-eb478eea1429",
   "metadata": {},
   "outputs": [],
   "source": [
    "R_eul = SO3.Rz(0.1)*SO3.Ry(-0.2)*SO3.Rz(0.3)"
   ]
  },
  {
   "cell_type": "code",
   "execution_count": 52,
   "id": "dbec2851-370f-486e-b20c-42e8c89f448b",
   "metadata": {},
   "outputs": [
    {
     "data": {
      "text/plain": [
       "   0.9021   -0.3836   -0.1977    \n",
       "   0.3875    0.9216   -0.01983   \n",
       "   0.1898   -0.05871   0.9801    \n"
      ]
     },
     "execution_count": 52,
     "metadata": {},
     "output_type": "execute_result"
    }
   ],
   "source": [
    "R_eul"
   ]
  },
  {
   "cell_type": "code",
   "execution_count": 53,
   "id": "153f325c-7086-40e2-90cb-8998a2d8f111",
   "metadata": {},
   "outputs": [
    {
     "data": {
      "text/plain": [
       "array([-3.04159265,  0.2       , -2.84159265])"
      ]
     },
     "execution_count": 53,
     "metadata": {},
     "output_type": "execute_result"
    }
   ],
   "source": [
    "R_eul.eul() #Non unique mapping of Euler angles to R matrix"
   ]
  },
  {
   "cell_type": "markdown",
   "id": "ee7cd944-dd66-448b-bbd2-6e4694421255",
   "metadata": {},
   "source": [
    "Let's put Beta = 0 in ZYZ Euler angles"
   ]
  },
  {
   "cell_type": "code",
   "execution_count": 54,
   "id": "f26680b5-4ed8-484f-902a-7adeec6efef8",
   "metadata": {},
   "outputs": [],
   "source": [
    "R_eul = SO3.Rz(0.1)*SO3.Ry(0)*SO3.Rz(0.3)"
   ]
  },
  {
   "cell_type": "code",
   "execution_count": 55,
   "id": "96cd4eda-e676-451a-bae1-7a2b6a002aad",
   "metadata": {},
   "outputs": [
    {
     "data": {
      "text/plain": [
       "   0.9211   -0.3894    0         \n",
       "   0.3894    0.9211    0         \n",
       "   0         0         1         \n"
      ]
     },
     "execution_count": 55,
     "metadata": {},
     "output_type": "execute_result"
    }
   ],
   "source": [
    "R_eul"
   ]
  },
  {
   "cell_type": "code",
   "execution_count": 56,
   "id": "d464af68-f748-4678-b221-66e8a3555d7d",
   "metadata": {},
   "outputs": [
    {
     "data": {
      "text/plain": [
       "array([0. , 0. , 0.4])"
      ]
     },
     "execution_count": 56,
     "metadata": {},
     "output_type": "execute_result"
    }
   ],
   "source": [
    "R_eul.eul()"
   ]
  },
  {
   "cell_type": "markdown",
   "id": "64245993-f9b9-4192-8806-ae808ebaee46",
   "metadata": {},
   "source": [
    "At singularity of the Euler angles ZYZ **($\\beta = 0$)**, equation reduces to the function of **($\\alpha + \\gamma$)**. The combinations are infinite. Therefore **$\\alpha$** will be put to **zero** in the program and $\\gamma$ is found out."
   ]
  },
  {
   "cell_type": "markdown",
   "id": "64eed012-2325-44d5-a328-2a27df73b0b4",
   "metadata": {},
   "source": [
    "# Roll-Pitch-Yaw Angles"
   ]
  },
  {
   "cell_type": "code",
   "execution_count": 57,
   "id": "f797ee3b-cab7-4458-9e34-0416703f8c95",
   "metadata": {},
   "outputs": [],
   "source": [
    "R_rpy = SO3.RPY(0.3,0.5,0.4) #ZYX (FAR) rotations - roll-pitch-yaw"
   ]
  },
  {
   "cell_type": "code",
   "execution_count": 58,
   "id": "3335bb2d-cfd0-432f-bf00-a206fe5bc635",
   "metadata": {},
   "outputs": [
    {
     "data": {
      "text/plain": [
       "   0.8083   -0.2415    0.5369    \n",
       "   0.3417    0.9351   -0.09383   \n",
       "  -0.4794    0.2593    0.8384    \n"
      ]
     },
     "execution_count": 58,
     "metadata": {},
     "output_type": "execute_result"
    }
   ],
   "source": [
    "R_rpy"
   ]
  },
  {
   "cell_type": "code",
   "execution_count": 59,
   "id": "e32b685d-b6c1-42c1-b6f3-7c8da956d4cc",
   "metadata": {},
   "outputs": [
    {
     "data": {
      "text/plain": [
       "array([0.3, 0.5, 0.4])"
      ]
     },
     "execution_count": 59,
     "metadata": {},
     "output_type": "execute_result"
    }
   ],
   "source": [
    "R_rpy.rpy()"
   ]
  },
  {
   "cell_type": "code",
   "execution_count": 60,
   "id": "134e340a-edea-4515-b815-7eafb2f09d29",
   "metadata": {},
   "outputs": [],
   "source": [
    "R_rpy = SO3.RPY(0.5,np.pi/2,0.4)"
   ]
  },
  {
   "cell_type": "code",
   "execution_count": 61,
   "id": "bffb6216-5679-4fb3-9bf9-731ba94700d3",
   "metadata": {},
   "outputs": [
    {
     "data": {
      "text/plain": [
       "   0         0.09983   0.995     \n",
       "   0         0.995    -0.09983   \n",
       "  -1         0         0         \n"
      ]
     },
     "execution_count": 61,
     "metadata": {},
     "output_type": "execute_result"
    }
   ],
   "source": [
    "R_rpy"
   ]
  },
  {
   "cell_type": "code",
   "execution_count": 62,
   "id": "7a7ecf02-1c6e-4dc5-b41e-31d930b2d561",
   "metadata": {},
   "outputs": [
    {
     "data": {
      "text/plain": [
       "array([ 0.        ,  1.57079633, -0.1       ])"
      ]
     },
     "execution_count": 62,
     "metadata": {},
     "output_type": "execute_result"
    }
   ],
   "source": [
    "R_rpy.rpy()"
   ]
  },
  {
   "cell_type": "markdown",
   "id": "e63368a7-2e3c-43aa-bf3a-7764fe697b9d",
   "metadata": {},
   "source": [
    "Notice here also $\\alpha$ is 0. The $\\beta = \\pi/2$ value is a singular value for RPY. Rotation matrix becomes function of $\\alpha$ and $\\gamma$ alone. $\\alpha$ set to zero."
   ]
  },
  {
   "cell_type": "markdown",
   "id": "9d660982-df10-4be9-9191-35c9d6611a04",
   "metadata": {},
   "source": [
    "# Axis-angle Conversion"
   ]
  },
  {
   "cell_type": "code",
   "execution_count": 63,
   "id": "36e9ab45-e91d-433a-8dde-55a8fd67d968",
   "metadata": {},
   "outputs": [],
   "source": [
    "R_rpy = rpy2r(0.5,0.3,0.4)"
   ]
  },
  {
   "cell_type": "code",
   "execution_count": 64,
   "id": "af39d82f-7415-4ee0-b93f-60fd744c8042",
   "metadata": {},
   "outputs": [],
   "source": [
    "[theta, v] = tr2angvec(R_rpy) #list unpacking"
   ]
  },
  {
   "cell_type": "code",
   "execution_count": 65,
   "id": "b6158be8-07e5-4fc4-892e-fc4ac32b93f5",
   "metadata": {},
   "outputs": [
    {
     "data": {
      "text/plain": [
       "0.6585264597095669"
      ]
     },
     "execution_count": 65,
     "metadata": {},
     "output_type": "execute_result"
    }
   ],
   "source": [
    "theta"
   ]
  },
  {
   "cell_type": "code",
   "execution_count": 66,
   "id": "55799c9d-5ac9-4c25-aa17-6ec27a669743",
   "metadata": {},
   "outputs": [
    {
     "data": {
      "text/plain": [
       "array([0.65250189, 0.5891706 , 0.47657034])"
      ]
     },
     "execution_count": 66,
     "metadata": {},
     "output_type": "execute_result"
    }
   ],
   "source": [
    "v"
   ]
  },
  {
   "cell_type": "markdown",
   "id": "8e28be16-81ee-4063-9911-b1e7cec9ae58",
   "metadata": {},
   "source": [
    "According to Fixed point Theorom by Euler:"
   ]
  },
  {
   "cell_type": "markdown",
   "id": "7cc145e1-8021-4e7a-a26b-90be14a6c39b",
   "metadata": {},
   "source": [
    "![alt text](Euler_FPT.png \"T inverse\")"
   ]
  },
  {
   "cell_type": "code",
   "execution_count": 67,
   "id": "e66e002e-5a4b-4a91-a74f-54ada2026530",
   "metadata": {},
   "outputs": [],
   "source": [
    "[x,e] = np.linalg.eig(R_rpy)"
   ]
  },
  {
   "cell_type": "code",
   "execution_count": 68,
   "id": "100b3dce-013f-4731-b8cf-66ee98bfa868",
   "metadata": {},
   "outputs": [
    {
     "data": {
      "text/latex": [
       "$\\displaystyle \\left[\\begin{matrix}0.790894825891343 + 0.611952101375837 i & 0.790894825891343 - 0.611952101375837 i & 1.0\\end{matrix}\\right]$"
      ],
      "text/plain": [
       "[0.790894825891343 + 0.611952101375837*I, 0.790894825891343 - 0.611952101375837*I, 1.0]"
      ]
     },
     "execution_count": 68,
     "metadata": {},
     "output_type": "execute_result"
    }
   ],
   "source": [
    "sym.simplify(x)"
   ]
  },
  {
   "cell_type": "code",
   "execution_count": 69,
   "id": "e4fb7dbc-490f-49f0-ae05-533a22666c23",
   "metadata": {},
   "outputs": [
    {
     "data": {
      "text/latex": [
       "$\\displaystyle \\left[\\begin{matrix}-0.250113738017652 - 0.473881588762976 i & -0.250113738017652 + 0.473881588762976 i & 0.652501889478207\\\\-0.225837908069098 + 0.524820197621507 i & -0.225837908069098 - 0.524820197621507 i & 0.589170602538001\\\\0.621643271767508 & 0.621643271767508 & 0.476570336185938\\end{matrix}\\right]$"
      ],
      "text/plain": [
       "[[-0.250113738017652 - 0.473881588762976*I, -0.250113738017652 + 0.473881588762976*I, 0.652501889478207], [-0.225837908069098 + 0.524820197621507*I, -0.225837908069098 - 0.524820197621507*I, 0.589170602538001], [0.621643271767508, 0.621643271767508, 0.476570336185938]]"
      ]
     },
     "execution_count": 69,
     "metadata": {},
     "output_type": "execute_result"
    }
   ],
   "source": [
    "sym.simplify(e)"
   ]
  },
  {
   "cell_type": "markdown",
   "id": "f0cf0ca9-5d38-44a7-91db-f3f73de54cd0",
   "metadata": {},
   "source": [
    "*The column corresponding to* **eigen value equal 1** gives the vector about which rotation is happening **(3rd column).**"
   ]
  },
  {
   "cell_type": "markdown",
   "id": "0aac8e7d-a0d6-4e79-9603-193fce6b3995",
   "metadata": {},
   "source": [
    "Angle is given by trace(R_rpy) = $1+2\\cos\\theta$. But this formulae does not give the indication of sign."
   ]
  },
  {
   "cell_type": "code",
   "execution_count": 70,
   "id": "51265d06-745c-41a7-ae68-950f7ccae088",
   "metadata": {},
   "outputs": [
    {
     "data": {
      "text/plain": [
       "0.6585264597095668"
      ]
     },
     "execution_count": 70,
     "metadata": {},
     "output_type": "execute_result"
    }
   ],
   "source": [
    "np.arccos((np.trace(R_rpy) - 1)/2)"
   ]
  },
  {
   "cell_type": "markdown",
   "id": "d487f1a2-d326-4703-a1ce-df14386602f2",
   "metadata": {},
   "source": [
    "# Unit Quaternions"
   ]
  },
  {
   "cell_type": "code",
   "execution_count": 71,
   "id": "b3529df2-c01e-475a-93a2-f7c45170fe3a",
   "metadata": {},
   "outputs": [],
   "source": [
    "q = UnitQuaternion(SO3.RPY(0.1,0.2,0.3))"
   ]
  },
  {
   "cell_type": "code",
   "execution_count": 72,
   "id": "13b45f8f-e1ac-49d8-bbe1-8aafdfd909ee",
   "metadata": {},
   "outputs": [
    {
     "name": "stdout",
     "output_type": "stream",
     "text": [
      " 0.9833 <<  0.0343,  0.1060,  0.1436 >>\n"
     ]
    },
    {
     "data": {
      "text/plain": []
     },
     "execution_count": 72,
     "metadata": {},
     "output_type": "execute_result"
    }
   ],
   "source": [
    "q"
   ]
  },
  {
   "cell_type": "markdown",
   "id": "a0541dae-dba1-41ef-9d7b-0bc583ad275c",
   "metadata": {},
   "source": [
    "For a quaternion q, $a^2+b^2+c^2+d^2$ = 1. In the toolbox quaternion is represented by and the normalization constant followed by the vector part inside double angular bracket. a << b,c,d >>. "
   ]
  },
  {
   "cell_type": "code",
   "execution_count": 73,
   "id": "20eaa683-7446-43fc-a401-246589dfdd3a",
   "metadata": {},
   "outputs": [],
   "source": [
    "q_mul = q*q"
   ]
  },
  {
   "cell_type": "code",
   "execution_count": 74,
   "id": "98701ae8-cfff-4c7e-9f7a-3820ff3c8e3f",
   "metadata": {},
   "outputs": [
    {
     "name": "stdout",
     "output_type": "stream",
     "text": [
      " 0.9339 <<  0.0674,  0.2085,  0.2824 >>\n"
     ]
    },
    {
     "data": {
      "text/plain": []
     },
     "execution_count": 74,
     "metadata": {},
     "output_type": "execute_result"
    }
   ],
   "source": [
    "q_mul #Hamiltonian Product"
   ]
  },
  {
   "cell_type": "code",
   "execution_count": 75,
   "id": "2c28b3b5-1bd2-4dce-bd87-3c74675fdcc5",
   "metadata": {},
   "outputs": [
    {
     "name": "stdout",
     "output_type": "stream",
     "text": [
      " 0.9833 << -0.0343, -0.1060, -0.1436 >>\n"
     ]
    },
    {
     "data": {
      "text/plain": []
     },
     "execution_count": 75,
     "metadata": {},
     "output_type": "execute_result"
    }
   ],
   "source": [
    "q.inv()"
   ]
  },
  {
   "cell_type": "code",
   "execution_count": 76,
   "id": "9e45eed7-b9e5-49ce-a773-f455032ce748",
   "metadata": {},
   "outputs": [
    {
     "name": "stdout",
     "output_type": "stream",
     "text": [
      " 1.0000 <<  0.0000,  0.0000,  0.0000 >>\n"
     ]
    },
    {
     "data": {
      "text/plain": []
     },
     "execution_count": 76,
     "metadata": {},
     "output_type": "execute_result"
    }
   ],
   "source": [
    "q*q.inv()"
   ]
  },
  {
   "cell_type": "code",
   "execution_count": 77,
   "id": "3a7c2244-27c2-4ad5-9802-1e60a8ed2722",
   "metadata": {},
   "outputs": [
    {
     "name": "stdout",
     "output_type": "stream",
     "text": [
      " 1.0000 <<  0.0000,  0.0000,  0.0000 >>\n"
     ]
    },
    {
     "data": {
      "text/plain": []
     },
     "execution_count": 77,
     "metadata": {},
     "output_type": "execute_result"
    }
   ],
   "source": [
    "q/q"
   ]
  },
  {
   "cell_type": "code",
   "execution_count": 78,
   "id": "c40197fd-cea8-4312-81e6-336db6e1001a",
   "metadata": {},
   "outputs": [
    {
     "data": {
      "text/plain": [
       "array([[ 0.93629336, -0.27509585,  0.21835066],\n",
       "       [ 0.28962948,  0.95642509, -0.03695701],\n",
       "       [-0.19866933,  0.0978434 ,  0.97517033]])"
      ]
     },
     "execution_count": 78,
     "metadata": {},
     "output_type": "execute_result"
    }
   ],
   "source": [
    "q.R"
   ]
  },
  {
   "cell_type": "code",
   "execution_count": 79,
   "id": "4c241f92-e550-424c-821c-980a723463e7",
   "metadata": {},
   "outputs": [
    {
     "data": {
      "text/plain": [
       "array([ 1., -2., -3.])"
      ]
     },
     "execution_count": 79,
     "metadata": {},
     "output_type": "execute_result"
    }
   ],
   "source": [
    "qvmul([0,1,0,0],[1,2,3])"
   ]
  },
  {
   "cell_type": "code",
   "execution_count": 80,
   "id": "03e3745c-7a72-4dc2-97c8-56a87d5474fe",
   "metadata": {},
   "outputs": [
    {
     "data": {
      "text/plain": [
       "array([0.98334744, 0.0342708 , 0.10602051, 0.14357218])"
      ]
     },
     "execution_count": 80,
     "metadata": {},
     "output_type": "execute_result"
    }
   ],
   "source": [
    "q.vec"
   ]
  },
  {
   "cell_type": "code",
   "execution_count": 81,
   "id": "db9b5b85-11f0-4361-9ff5-3aa70594d739",
   "metadata": {},
   "outputs": [
    {
     "data": {
      "text/plain": [
       "array([1.04115366, 2.09160861, 2.92252844])"
      ]
     },
     "execution_count": 81,
     "metadata": {},
     "output_type": "execute_result"
    }
   ],
   "source": [
    "qvmul(q.vec,[1,2,3])"
   ]
  },
  {
   "cell_type": "code",
   "execution_count": 82,
   "id": "d8bfc18d-1ca0-411b-bc2c-c864e88c9a15",
   "metadata": {},
   "outputs": [
    {
     "data": {
      "text/plain": [
       "(0.3655021863566987, array([0.18857511, 0.58337798, 0.79000605]))"
      ]
     },
     "execution_count": 82,
     "metadata": {},
     "output_type": "execute_result"
    }
   ],
   "source": [
    "q.angvec()"
   ]
  },
  {
   "cell_type": "code",
   "execution_count": 83,
   "id": "11bb41c7-8798-4d54-a390-2455355a55af",
   "metadata": {},
   "outputs": [
    {
     "data": {
      "text/plain": [
       "0.816815"
      ]
     },
     "execution_count": 83,
     "metadata": {},
     "output_type": "execute_result"
    }
   ],
   "source": [
    "1 - (0.256**2 + 0.343**2)"
   ]
  },
  {
   "cell_type": "code",
   "execution_count": 84,
   "id": "1ede89a8-f835-421c-b923-7631b19c9413",
   "metadata": {},
   "outputs": [
    {
     "data": {
      "text/plain": [
       "0.9037781807501218"
      ]
     },
     "execution_count": 84,
     "metadata": {},
     "output_type": "execute_result"
    }
   ],
   "source": [
    "np.sqrt(0.816815)"
   ]
  },
  {
   "cell_type": "code",
   "execution_count": 85,
   "id": "c5075463-5b48-4326-b270-e96090a20340",
   "metadata": {},
   "outputs": [
    {
     "data": {
      "text/plain": [
       "1.000401"
      ]
     },
     "execution_count": 85,
     "metadata": {},
     "output_type": "execute_result"
    }
   ],
   "source": [
    "0.256**2 + 0.343**2 + 0.904**2"
   ]
  },
  {
   "cell_type": "code",
   "execution_count": 86,
   "id": "e44cbdd8-66c6-4f4d-af6e-a5783851b3b8",
   "metadata": {},
   "outputs": [],
   "source": [
    "q = [np.cos(60*np.pi/180), 0.256*np.sin(60*np.pi/180),0.343*np.sin(60*np.pi/180),0.904*np.sin(60*np.pi/180)]"
   ]
  },
  {
   "cell_type": "code",
   "execution_count": 87,
   "id": "4bb219d5-79ff-41aa-a838-c6802baf744b",
   "metadata": {},
   "outputs": [],
   "source": [
    "q = UnitQuaternion(q)"
   ]
  },
  {
   "cell_type": "code",
   "execution_count": 88,
   "id": "65b793ac-9e8a-4f61-87a6-1c7d0545a7c6",
   "metadata": {},
   "outputs": [
    {
     "data": {
      "text/plain": [
       "array([0.49992483, 0.22166917, 0.29700206, 0.78276926])"
      ]
     },
     "execution_count": 88,
     "metadata": {},
     "output_type": "execute_result"
    }
   ],
   "source": [
    "q.vec"
   ]
  },
  {
   "cell_type": "code",
   "execution_count": 89,
   "id": "c4dc8962-ed9c-4aec-9a8f-5331d4f13fbe",
   "metadata": {},
   "outputs": [
    {
     "data": {
      "text/plain": [
       "array([0.86513173, 1.15979589, 5.73641182])"
      ]
     },
     "execution_count": 89,
     "metadata": {},
     "output_type": "execute_result"
    }
   ],
   "source": [
    "qvmul(q.vec,[1,3,5])"
   ]
  },
  {
   "cell_type": "code",
   "execution_count": 90,
   "id": "6f76cd22-064f-4fcf-9f7e-e6d27672bae5",
   "metadata": {},
   "outputs": [
    {
     "data": {
      "text/plain": [
       "0.5000000000000001"
      ]
     },
     "execution_count": 90,
     "metadata": {},
     "output_type": "execute_result"
    }
   ],
   "source": [
    "np.cos(60*np.pi/180)"
   ]
  },
  {
   "cell_type": "code",
   "execution_count": 91,
   "id": "385da56b-68ff-4860-a4ef-cf0958bda94c",
   "metadata": {},
   "outputs": [
    {
     "name": "stdout",
     "output_type": "stream",
     "text": [
      " 0.4999 <<  0.2217,  0.2970,  0.7828 >>\n"
     ]
    },
    {
     "data": {
      "text/plain": []
     },
     "execution_count": 91,
     "metadata": {},
     "output_type": "execute_result"
    }
   ],
   "source": [
    "q"
   ]
  },
  {
   "cell_type": "code",
   "execution_count": 92,
   "id": "cd244cbe-99b7-4e05-a49a-cb3236a93288",
   "metadata": {},
   "outputs": [
    {
     "data": {
      "text/plain": [
       "array([[-0.40187589, -0.65097918,  0.64398903],\n",
       "       [ 0.91432398, -0.32372989,  0.24333231],\n",
       "       [ 0.05007423,  0.68660401,  0.72530511]])"
      ]
     },
     "execution_count": 92,
     "metadata": {},
     "output_type": "execute_result"
    }
   ],
   "source": [
    "q.R"
   ]
  },
  {
   "cell_type": "code",
   "execution_count": 93,
   "id": "5e60054a-490a-46a5-a85d-9f5ec945b625",
   "metadata": {},
   "outputs": [
    {
     "data": {
      "text/latex": [
       "$\\displaystyle \\left( \\left[\\begin{matrix}-0.500150329788315 + 0.86593859344219 i & -0.500150329788315 - 0.86593859344219 i & 1.0\\end{matrix}\\right], \\  \\left[\\begin{matrix}0.683553315185425 & 0.683553315185425 & 0.25594868743174\\\\-0.0642033336361956 - 0.661118000903963 i & -0.0642033336361956 + 0.661118000903963 i & 0.342931249176119\\\\-0.169212284568865 + 0.250844551227942 i & -0.169212284568865 - 0.250844551227942 i & 0.903818802493329\\end{matrix}\\right]\\right)$"
      ],
      "text/plain": [
       "([-0.500150329788315 + 0.86593859344219*I, -0.500150329788315 - 0.86593859344219*I, 1.0], [[0.683553315185425, 0.683553315185425, 0.25594868743174], [-0.0642033336361956 - 0.661118000903963*I, -0.0642033336361956 + 0.661118000903963*I, 0.342931249176119], [-0.169212284568865 + 0.250844551227942*I, -0.169212284568865 - 0.250844551227942*I, 0.903818802493329]])"
      ]
     },
     "execution_count": 93,
     "metadata": {},
     "output_type": "execute_result"
    }
   ],
   "source": [
    "sym.simplify(np.linalg.eig(q.R))"
   ]
  },
  {
   "cell_type": "code",
   "execution_count": 94,
   "id": "b29845a6-b9d7-4adf-93dd-8d38c0a4ab5d",
   "metadata": {},
   "outputs": [
    {
     "data": {
      "text/plain": [
       "120.0099462372171"
      ]
     },
     "execution_count": 94,
     "metadata": {},
     "output_type": "execute_result"
    }
   ],
   "source": [
    "np.arccos((np.trace(q.R)-1)/2)*180/np.pi"
   ]
  },
  {
   "cell_type": "code",
   "execution_count": 95,
   "id": "7461b465-3253-41a3-a40c-f99a0546727d",
   "metadata": {},
   "outputs": [
    {
     "data": {
      "text/plain": [
       "0.5000000000000001"
      ]
     },
     "execution_count": 95,
     "metadata": {},
     "output_type": "execute_result"
    }
   ],
   "source": [
    "np.cos(60*np.pi/180)"
   ]
  },
  {
   "cell_type": "code",
   "execution_count": null,
   "id": "316cd00e-8a4f-4219-aed0-74f8d01b65ce",
   "metadata": {},
   "outputs": [],
   "source": []
  },
  {
   "cell_type": "code",
   "execution_count": 96,
   "id": "85f2422b-4873-4675-aac1-ac60af6c89bf",
   "metadata": {},
   "outputs": [],
   "source": [
    "R1 = SO3.RPY([60,20,0],unit='deg')"
   ]
  },
  {
   "cell_type": "code",
   "execution_count": 97,
   "id": "27d1d5a3-4000-48bd-bbd2-ef3309c80369",
   "metadata": {},
   "outputs": [
    {
     "data": {
      "text/plain": [
       "   0.9397    0.2962    0.171     \n",
       "   0         0.5      -0.866     \n",
       "  -0.342     0.8138    0.4698    \n"
      ]
     },
     "execution_count": 97,
     "metadata": {},
     "output_type": "execute_result"
    }
   ],
   "source": [
    "R1"
   ]
  },
  {
   "cell_type": "code",
   "execution_count": 98,
   "id": "7bd3fdf2-2c23-4acf-8908-663c10a0a4d4",
   "metadata": {},
   "outputs": [
    {
     "data": {
      "text/plain": [
       "1.9095389311788629"
      ]
     },
     "execution_count": 98,
     "metadata": {},
     "output_type": "execute_result"
    }
   ],
   "source": [
    "np.trace(R1.R)"
   ]
  },
  {
   "cell_type": "code",
   "execution_count": 99,
   "id": "e93a4f1b-d9db-4c2f-8ed1-44d7f5bdf582",
   "metadata": {},
   "outputs": [
    {
     "data": {
      "text/latex": [
       "$\\displaystyle \\left( \\left[\\begin{matrix}1.0 & 0.454769465589432 + 0.890609192164276 i & 0.454769465589432 - 0.890609192164276 i\\end{matrix}\\right], \\  \\left[\\begin{matrix}0.943075312894348 & 0.112456798774685 - 0.206538000169373 i & 0.112456798774685 + 0.206538000169373 i\\\\0.288022074947253 & 0.0343451260807619 + 0.676270696160965 i & 0.0343451260807619 - 0.676270696160965 i\\\\-0.166289622503351 & 0.697261701747519 & 0.697261701747519\\end{matrix}\\right]\\right)$"
      ],
      "text/plain": [
       "([1.0, 0.454769465589432 + 0.890609192164276*I, 0.454769465589432 - 0.890609192164276*I], [[0.943075312894348, 0.112456798774685 - 0.206538000169373*I, 0.112456798774685 + 0.206538000169373*I], [0.288022074947253, 0.0343451260807619 + 0.676270696160965*I, 0.0343451260807619 - 0.676270696160965*I], [-0.166289622503351, 0.697261701747519, 0.697261701747519]])"
      ]
     },
     "execution_count": 99,
     "metadata": {},
     "output_type": "execute_result"
    }
   ],
   "source": [
    "sym.simplify(np.linalg.eig(R1.R))"
   ]
  },
  {
   "cell_type": "code",
   "execution_count": 100,
   "id": "cdd9363a-cd8b-4bdf-8a67-b747f98e4fc6",
   "metadata": {},
   "outputs": [],
   "source": [
    "theta = np.arccos((np.trace(R1.R)-1)/2)"
   ]
  },
  {
   "cell_type": "code",
   "execution_count": 101,
   "id": "1bdf8ead-1b06-44cb-9f1a-bc756eca5942",
   "metadata": {},
   "outputs": [
    {
     "data": {
      "text/plain": [
       "1.0986829800264375"
      ]
     },
     "execution_count": 101,
     "metadata": {},
     "output_type": "execute_result"
    }
   ],
   "source": [
    "theta"
   ]
  },
  {
   "cell_type": "code",
   "execution_count": 102,
   "id": "af40b3fd-6183-4e6c-a466-8a8edd73aabc",
   "metadata": {},
   "outputs": [
    {
     "data": {
      "text/plain": [
       "(1.0986829800264375, array([ 0.94307531,  0.28802207, -0.16628962]))"
      ]
     },
     "execution_count": 102,
     "metadata": {},
     "output_type": "execute_result"
    }
   ],
   "source": [
    "R1.angvec()"
   ]
  },
  {
   "cell_type": "code",
   "execution_count": 103,
   "id": "a71de759-87f3-4f9d-ad78-275341cdf333",
   "metadata": {},
   "outputs": [],
   "source": [
    "q = UnitQuaternion([np.cos(theta), 0.943*np.sin(theta), 0.288*np.sin(theta), -0.166*np.sin(theta)])"
   ]
  },
  {
   "cell_type": "code",
   "execution_count": 104,
   "id": "03687c08-70a2-4d79-a27f-8426a6ba6d21",
   "metadata": {},
   "outputs": [
    {
     "name": "stdout",
     "output_type": "stream",
     "text": [
      " 0.4548 <<  0.8399,  0.2565, -0.1479 >>\n"
     ]
    },
    {
     "data": {
      "text/plain": []
     },
     "execution_count": 104,
     "metadata": {},
     "output_type": "execute_result"
    }
   ],
   "source": [
    "q"
   ]
  },
  {
   "cell_type": "code",
   "execution_count": 105,
   "id": "dceb6888-329b-42b5-906e-3275ede17127",
   "metadata": {},
   "outputs": [
    {
     "data": {
      "text/plain": [
       "array([ 0.45481474,  0.83992808,  0.25652098, -0.14785584])"
      ]
     },
     "execution_count": 105,
     "metadata": {},
     "output_type": "execute_result"
    }
   ],
   "source": [
    "q.vec"
   ]
  },
  {
   "cell_type": "code",
   "execution_count": 106,
   "id": "07517afe-3f3e-45bc-abe9-fdb9927cbd21",
   "metadata": {},
   "outputs": [
    {
     "data": {
      "text/plain": [
       "array([ 2.44572093, -5.2670169 , -1.13003631])"
      ]
     },
     "execution_count": 106,
     "metadata": {},
     "output_type": "execute_result"
    }
   ],
   "source": [
    "qvmul(q.vec,[1,3,5])"
   ]
  },
  {
   "cell_type": "code",
   "execution_count": 107,
   "id": "54f04de2-686a-4982-a077-a9e77dc601c3",
   "metadata": {},
   "outputs": [
    {
     "data": {
      "text/plain": [
       "array([[ 2.68333738],\n",
       "       [-2.83012702],\n",
       "       [ 4.44860445]])"
      ]
     },
     "execution_count": 107,
     "metadata": {},
     "output_type": "execute_result"
    }
   ],
   "source": [
    "R1*[1,3,5]"
   ]
  },
  {
   "cell_type": "code",
   "execution_count": null,
   "id": "9478df84-9324-44ed-8d2a-5b7122c98062",
   "metadata": {},
   "outputs": [],
   "source": []
  }
 ],
 "metadata": {
  "kernelspec": {
   "display_name": "Python 3.10.8 64-bit",
   "language": "python",
   "name": "python3"
  },
  "language_info": {
   "codemirror_mode": {
    "name": "ipython",
    "version": 3
   },
   "file_extension": ".py",
   "mimetype": "text/x-python",
   "name": "python",
   "nbconvert_exporter": "python",
   "pygments_lexer": "ipython3",
   "version": "3.10.8"
  },
  "vscode": {
   "interpreter": {
    "hash": "e7370f93d1d0cde622a1f8e1c04877d8463912d04d973331ad4851f04de6915a"
   }
  }
 },
 "nbformat": 4,
 "nbformat_minor": 5
}
