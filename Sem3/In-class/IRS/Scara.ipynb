{
 "cells": [
  {
   "attachments": {},
   "cell_type": "markdown",
   "metadata": {},
   "source": [
    "# Scara "
   ]
  },
  {
   "cell_type": "code",
   "execution_count": 3,
   "metadata": {},
   "outputs": [],
   "source": [
    "from spatialmath import *\n",
    "from spatialmath.base import *\n",
    "import spatialmath.base.symbolic as sym"
   ]
  },
  {
   "cell_type": "code",
   "execution_count": 4,
   "metadata": {},
   "outputs": [],
   "source": [
    "theta1 = sym.symbol(\"theta1\")\n",
    "theta2 = sym.symbol(\"theta2\")\n",
    "L1 = sym.symbol(\"L1\")\n",
    "L2 = sym.symbol(\"L2\")\n",
    "h = sym.symbol(\"h\")"
   ]
  },
  {
   "cell_type": "code",
   "execution_count": 5,
   "metadata": {},
   "outputs": [],
   "source": [
    "R1 = SE3.Rz(theta1)\n",
    "T1 = SE3(L1,0,0)\n",
    "R2 = SE3.Rz(theta2)\n",
    "T2 = SE3(L2,0,0)\n",
    "H =  SE3(0,0,-1*h)"
   ]
  },
  {
   "cell_type": "code",
   "execution_count": 6,
   "metadata": {},
   "outputs": [],
   "source": [
    "Transformation_Mat = R1*T1*R2*T2*H"
   ]
  },
  {
   "cell_type": "code",
   "execution_count": 7,
   "metadata": {},
   "outputs": [
    {
     "data": {
      "text/latex": [
       "$\\displaystyle \\left[\\begin{matrix}L_{1} \\cos{\\left(\\theta_{1} \\right)} + L_{2} \\cos{\\left(\\theta_{1} + \\theta_{2} \\right)} & L_{1} \\sin{\\left(\\theta_{1} \\right)} + L_{2} \\sin{\\left(\\theta_{1} + \\theta_{2} \\right)} & - h\\end{matrix}\\right]$"
      ],
      "text/plain": [
       "[L1*cos(theta1) + L2*cos(theta1 + theta2), L1*sin(theta1) + L2*sin(theta1 + theta2), -h]"
      ]
     },
     "execution_count": 7,
     "metadata": {},
     "output_type": "execute_result"
    }
   ],
   "source": [
    "sym.simplify(Transformation_Mat.t)"
   ]
  },
  {
   "cell_type": "code",
   "execution_count": 8,
   "metadata": {},
   "outputs": [
    {
     "data": {
      "text/latex": [
       "$\\displaystyle \\left[\\begin{matrix}\\cos{\\left(\\theta_{1} + \\theta_{2} \\right)} & - \\sin{\\left(\\theta_{1} + \\theta_{2} \\right)} & 0\\\\\\sin{\\left(\\theta_{1} + \\theta_{2} \\right)} & \\cos{\\left(\\theta_{1} + \\theta_{2} \\right)} & 0\\\\0 & 0 & 1\\end{matrix}\\right]$"
      ],
      "text/plain": [
       "[[cos(theta1 + theta2), -sin(theta1 + theta2), 0], [sin(theta1 + theta2), cos(theta1 + theta2), 0], [0, 0, 1]]"
      ]
     },
     "execution_count": 8,
     "metadata": {},
     "output_type": "execute_result"
    }
   ],
   "source": [
    "sym.simplify(Transformation_Mat.R)"
   ]
  },
  {
   "attachments": {},
   "cell_type": "markdown",
   "metadata": {},
   "source": [
    "# DH Parameter"
   ]
  },
  {
   "cell_type": "code",
   "execution_count": 9,
   "metadata": {},
   "outputs": [
    {
     "name": "stdout",
     "output_type": "stream",
     "text": [
      "DHRobot: Planar2R, 3 joints (RRR), dynamics, modified DH parameters\n",
      "┌─────┬──────┬─────┬─────┐\n",
      "│aⱼ₋₁ │ ⍺ⱼ₋₁ │ θⱼ  │ dⱼ  │\n",
      "├─────┼──────┼─────┼─────┤\n",
      "│ 0.0 │ 0.0° │  q1 │ 0.0 │\n",
      "│ 0.5 │ 0.0° │  q2 │ 0.0 │\n",
      "│ 1.0 │ 0.0° │  q3 │ 0.0 │\n",
      "└─────┴──────┴─────┴─────┘\n",
      "\n",
      "┌─┬──┐\n",
      "└─┴──┘\n",
      "\n"
     ]
    },
    {
     "data": {
      "text/latex": [
       "$\\displaystyle \\left[\\begin{matrix}1.0 \\cos{\\left(o_{1} + o_{2} \\right)} & - 1.0 \\sin{\\left(o_{1} + o_{2} \\right)} & 0\\\\1.0 \\sin{\\left(o_{1} + o_{2} \\right)} & 1.0 \\cos{\\left(o_{1} + o_{2} \\right)} & 0\\\\0 & 0 & 1.0\\end{matrix}\\right]$"
      ],
      "text/plain": [
       "[[1.0*cos(o1 + o2), -1.0*sin(o1 + o2), 0], [1.0*sin(o1 + o2), 1.0*cos(o1 + o2), 0], [0, 0, 1.0]]"
      ]
     },
     "execution_count": 9,
     "metadata": {},
     "output_type": "execute_result"
    }
   ],
   "source": [
    "from spatialmath import *\n",
    "from spatialmath.base import *\n",
    "import spatialmath.base.symbolic as sym\n",
    "import numpy as np\n",
    "from matplotlib import pyplot as plt\n",
    "import roboticstoolbox as rtb\n",
    "alpha = sym.symbol('alpha_i-1')\n",
    "theta = sym.symbol('theta_i')\n",
    "a = sym.symbol('a_i-1')\n",
    "d = sym.symbol('d_i')\n",
    "\n",
    "theta1 = sym.symbol('o1')\n",
    "theta2 = sym.symbol('o2')\n",
    "theta3 = sym.symbol('o3')\n",
    "L1 = sym.symbol('L1')\n",
    "L2 = sym.symbol('L2')\n",
    "L3 = sym.symbol('L3')\n",
    "T1 = SE3.Rz(theta1)\n",
    "T1\n",
    "T2 = SE3.Tx(L1) * SE3.Rz(theta2)\n",
    "T2\n",
    "T3 = SE3.Tx(L2) * SE3.Rz(theta3)\n",
    "T3\n",
    "T = T1 * T2 * T3\n",
    "sym.simplify(T.R)\n",
    "class Planar2R(rtb.DHRobot):\n",
    "    def __init__(self):\n",
    "        super().__init__(\n",
    "            [\n",
    "                rtb.RevoluteMDH(),\n",
    "                rtb.RevoluteMDH(a=0.5),\n",
    "                rtb.RevoluteMDH(a=1.0),\n",
    "            ],name =\"Planar2R\")\n",
    "planar2r = Planar2R()\n",
    "print(planar2r)\n",
    "T_planar = planar2r.fkine([theta1,theta2,0])\n",
    "sym.simplify(T_planar.R)\n"
   ]
  }
 ],
 "metadata": {
  "kernelspec": {
   "display_name": "Python 3.10.8 64-bit",
   "language": "python",
   "name": "python3"
  },
  "language_info": {
   "codemirror_mode": {
    "name": "ipython",
    "version": 3
   },
   "file_extension": ".py",
   "mimetype": "text/x-python",
   "name": "python",
   "nbconvert_exporter": "python",
   "pygments_lexer": "ipython3",
   "version": "3.10.8"
  },
  "orig_nbformat": 4,
  "vscode": {
   "interpreter": {
    "hash": "e7370f93d1d0cde622a1f8e1c04877d8463912d04d973331ad4851f04de6915a"
   }
  }
 },
 "nbformat": 4,
 "nbformat_minor": 2
}
