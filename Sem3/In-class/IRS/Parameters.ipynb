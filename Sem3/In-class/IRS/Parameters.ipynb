{
 "cells": [
  {
   "attachments": {},
   "cell_type": "markdown",
   "metadata": {},
   "source": [
    "### Importing Required Libraries\n"
   ]
  },
  {
   "cell_type": "code",
   "execution_count": 1,
   "metadata": {},
   "outputs": [],
   "source": [
    "from spatialmath import *\n",
    "from spatialmath.base import *\n",
    "import spatialmath.base.symbolic as sym\n",
    "import numpy as np\n",
    "from matplotlib import pyplot as plt\n",
    "import roboticstoolbox as rtb"
   ]
  },
  {
   "attachments": {},
   "cell_type": "markdown",
   "metadata": {},
   "source": [
    "# Initial Setup for robotic variables\n",
    "* this is to be done only once\n",
    "* used to set the initial values of the variables"
   ]
  },
  {
   "cell_type": "code",
   "execution_count": 2,
   "metadata": {},
   "outputs": [],
   "source": [
    "#initialize the robot variables\n",
    "alpha =sym.symbol('alpha')\n",
    "a = sym.symbol('a')\n",
    "d = sym.symbol('d')\n",
    "theta1 = sym.symbol('theta1')\n",
    "theta2 = sym.symbol('theta2')\n",
    "theta3 = sym.symbol('theta3')\n",
    "L1 = sym.symbol('L1')\n",
    "L2 = sym.symbol('L2')\n",
    "L3 = sym.symbol('L3')\n",
    "d1= sym.symbol('d1')\n",
    "d2= sym.symbol('d2')\n",
    "d3= sym.symbol('d3')\n",
    "d4= sym.symbol('d4')\n"
   ]
  },
  {
   "attachments": {},
   "cell_type": "markdown",
   "metadata": {},
   "source": [
    "### Question 1 : \n",
    "* RPP MDH and DH"
   ]
  },
  {
   "cell_type": "code",
   "execution_count": 3,
   "metadata": {},
   "outputs": [
    {
     "name": "stdout",
     "output_type": "stream",
     "text": [
      "DHRobot: RPP, 3 joints (RPP), dynamics, modified DH parameters\n",
      "┌─────┬────────┬──────┬─────┐\n",
      "│aⱼ₋₁ │  ⍺ⱼ₋₁  │  θⱼ  │ dⱼ  │\n",
      "├─────┼────────┼──────┼─────┤\n",
      "│ 0.0 │   0.0° │   q1 │ 0.0 │\n",
      "│ 0.0 │   0.0° │ 0.0° │  q2 │\n",
      "│ 0.0 │ -90.0° │ 0.0° │  q3 │\n",
      "└─────┴────────┴──────┴─────┘\n",
      "\n",
      "┌─┬──┐\n",
      "└─┴──┘\n",
      "\n"
     ]
    }
   ],
   "source": [
    "#rpp mdh\n",
    "class RPP(rtb.DHRobot):\n",
    "\n",
    "    def __init__(self):\n",
    "        super().__init__(\n",
    "                [\n",
    "                    rtb.RevoluteMDH(),\n",
    "                    rtb.PrismaticMDH(),\n",
    "                    rtb.PrismaticMDH(alpha=-np.pi/2)\n",
    "                ], name=\"RPP\"\n",
    "                        )\n",
    "\n",
    "#initialise the robot\n",
    "robot = RPP()\n",
    "print(robot)"
   ]
  },
  {
   "cell_type": "code",
   "execution_count": 6,
   "metadata": {},
   "outputs": [
    {
     "name": "stdout",
     "output_type": "stream",
     "text": [
      "DHRobot: RPP, 3 joints (RPP), dynamics, standard DH parameters\n",
      "┌─────┬───────┬──────┬───────┐\n",
      "│ θⱼ  │  dⱼ   │  aⱼ  │  ⍺ⱼ   │\n",
      "├─────┼───────┼──────┼───────┤\n",
      "│ q1  │ 0.245 │    0 │  0.0° │\n",
      "│0.0° │    q2 │ 0.11 │ 90.0° │\n",
      "│0.0° │    q3 │    0 │  0.0° │\n",
      "└─────┴───────┴──────┴───────┘\n",
      "\n",
      "┌─┬──┐\n",
      "└─┴──┘\n",
      "\n"
     ]
    }
   ],
   "source": [
    "#rpp dh\n",
    "class RPP(rtb.DHRobot):\n",
    "    \n",
    "        def __init__(self):\n",
    "            super().__init__(\n",
    "                    [\n",
    "                        rtb.RevoluteDH(a=0,alpha=0,d=0.245), #we assign d value becuase it is a prismatic joint\n",
    "                        rtb.PrismaticDH(alpha=np.pi/2,a=0.11),\n",
    "                        rtb.PrismaticDH()\n",
    "                    ], name=\"RPP\")\n",
    "\n",
    "robot = RPP()\n",
    "print(robot)"
   ]
  },
  {
   "attachments": {},
   "cell_type": "markdown",
   "metadata": {},
   "source": [
    "## PUMA 560 \n",
    "* MDH and DH"
   ]
  },
  {
   "attachments": {},
   "cell_type": "markdown",
   "metadata": {},
   "source": [
    "# MDH for Puma 560"
   ]
  },
  {
   "cell_type": "code",
   "execution_count": 8,
   "metadata": {},
   "outputs": [
    {
     "name": "stdout",
     "output_type": "stream",
     "text": [
      "DHRobot: puma560, 6 joints (RRRRRR), dynamics, modified DH parameters\n",
      "┌─────┬────────┬─────┬─────┐\n",
      "│aⱼ₋₁ │  ⍺ⱼ₋₁  │ θⱼ  │ dⱼ  │\n",
      "├─────┼────────┼─────┼─────┤\n",
      "│ 0.0 │   0.0° │  q1 │ 0.0 │\n",
      "│ 0.0 │ -90.0° │  q2 │ 0.0 │\n",
      "│  L2 │   0.0° │  q3 │  d3 │\n",
      "│  L3 │ -90.0° │  q4 │  d4 │\n",
      "│ 0.0 │  90.0° │  q5 │ 0.0 │\n",
      "│ 0.0 │ -90.0° │  q6 │ 0.0 │\n",
      "└─────┴────────┴─────┴─────┘\n",
      "\n",
      "┌─┬──┐\n",
      "└─┴──┘\n",
      "\n"
     ]
    }
   ],
   "source": [
    "class puma560(rtb.DHRobot):\n",
    "    \n",
    "        def __init__(self):\n",
    "            super().__init__(\n",
    "                    [\n",
    "                        rtb.RevoluteMDH(), \n",
    "                        rtb.RevoluteMDH(alpha=-np.pi/2,), \n",
    "                        rtb.RevoluteMDH(a=L2,d=d3), \n",
    "                        rtb.RevoluteMDH(alpha=-np.pi/2,a=L3,d=d4), \n",
    "                        rtb.RevoluteMDH(alpha=np.pi/2), \n",
    "                        rtb.RevoluteMDH(alpha=-np.pi/2)\n",
    "                    ], name=\"puma560\")\n",
    "robot = puma560()\n",
    "print(robot)"
   ]
  },
  {
   "attachments": {},
   "cell_type": "markdown",
   "metadata": {},
   "source": [
    "# DH for Puma 560"
   ]
  },
  {
   "cell_type": "code",
   "execution_count": 14,
   "metadata": {},
   "outputs": [
    {
     "data": {
      "text/plain": [
       "DHRobot: puma560, 6 joints (RRRRRR), dynamics, standard DH parameters\n",
       "┌────┬────────┬────────┬────────┐\n",
       "│θⱼ  │   dⱼ   │   aⱼ   │   ⍺ⱼ   │\n",
       "├────┼────────┼────────┼────────┤\n",
       "│ q1 │      0 │      0 │  90.0° │\n",
       "│ q2 │      0 │ 0.4318 │   0.0° │\n",
       "│ q3 │   0.15 │ 0.0203 │ -90.0° │\n",
       "│ q4 │ 0.4318 │      0 │  90.0° │\n",
       "│ q5 │      0 │      0 │ -90.0° │\n",
       "│ q6 │      0 │      0 │   0.0° │\n",
       "└────┴────────┴────────┴────────┘\n",
       "\n",
       "┌─┬──┐\n",
       "└─┴──┘"
      ]
     },
     "execution_count": 14,
     "metadata": {},
     "output_type": "execute_result"
    }
   ],
   "source": [
    "robot = rtb.DHRobot(\n",
    "    [\n",
    "        rtb.RevoluteDH(alpha=np.pi/2),\n",
    "        rtb.RevoluteDH(a=0.4318),\n",
    "        rtb.RevoluteDH(d=0.15005, a=0.0203, alpha=-np.pi/2),\n",
    "        rtb.RevoluteDH(d=0.4318, alpha=np.pi/2),\n",
    "        rtb.RevoluteDH(alpha=-np.pi/2),\n",
    "        rtb.RevoluteDH()\n",
    "    ],name = \"puma560\"\n",
    ")\n",
    "robot"
   ]
  },
  {
   "attachments": {},
   "cell_type": "markdown",
   "metadata": {},
   "source": [
    "# Scara \n",
    "* MDH and DH"
   ]
  },
  {
   "attachments": {},
   "cell_type": "markdown",
   "metadata": {},
   "source": [
    "MDH"
   ]
  },
  {
   "cell_type": "code",
   "execution_count": 16,
   "metadata": {},
   "outputs": [
    {
     "name": "stdout",
     "output_type": "stream",
     "text": [
      "DHRobot: scara_mdh, 4 joints (RRPR), dynamics, modified DH parameters\n",
      "┌─────┬────────┬──────┬─────┐\n",
      "│aⱼ₋₁ │  ⍺ⱼ₋₁  │  θⱼ  │ dⱼ  │\n",
      "├─────┼────────┼──────┼─────┤\n",
      "│ 0.0 │   0.0° │   q1 │ 0.0 │\n",
      "│  L1 │   0.0° │   q2 │ 0.0 │\n",
      "│  L2 │   0.0° │ 0.0° │  q3 │\n",
      "│ 0.0 │ 180.0° │   q4 │  L3 │\n",
      "└─────┴────────┴──────┴─────┘\n",
      "\n",
      "┌─┬──┐\n",
      "└─┴──┘\n",
      "\n"
     ]
    }
   ],
   "source": [
    "class scara_mdh(rtb.DHRobot):\n",
    "    def __init__(self):\n",
    "        super().__init__(\n",
    "            [\n",
    "                    rtb.RevoluteMDH(),\n",
    "                    rtb.RevoluteMDH(a=L1),\n",
    "                    rtb.PrismaticMDH(a=L2),\n",
    "                    rtb.RevoluteMDH(alpha=np.pi,d = L3)\n",
    "            ], name=\"scara_mdh\"\n",
    "        )\n",
    "robot = scara_mdh()\n",
    "print(robot)"
   ]
  },
  {
   "attachments": {},
   "cell_type": "markdown",
   "metadata": {},
   "source": [
    "DH"
   ]
  },
  {
   "cell_type": "code",
   "execution_count": 18,
   "metadata": {},
   "outputs": [
    {
     "data": {
      "text/plain": [
       "DHRobot: scara_dh, 4 joints (RRPR), dynamics, standard DH parameters\n",
       "┌─────┬───────┬───────┬────────┐\n",
       "│ θⱼ  │  dⱼ   │  aⱼ   │   ⍺ⱼ   │\n",
       "├─────┼───────┼───────┼────────┤\n",
       "│ q1  │ 0.387 │ 0.325 │   0.0° │\n",
       "│ q2  │     0 │ 0.275 │ 180.0° │\n",
       "│0.0° │    q3 │     0 │   0.0° │\n",
       "│ q4  │     0 │     0 │   0.0° │\n",
       "└─────┴───────┴───────┴────────┘\n",
       "\n",
       "┌─┬──┐\n",
       "└─┴──┘"
      ]
     },
     "execution_count": 18,
     "metadata": {},
     "output_type": "execute_result"
    }
   ],
   "source": [
    "class scara_dh(rtb.DHRobot):\n",
    "    def __init__(self):\n",
    "        super().__init__(\n",
    "            [\n",
    "                    rtb.RevoluteDH(d=0.387, a=0.325),\n",
    "                    rtb.RevoluteDH(a=0.275, alpha=np.pi),\n",
    "                    rtb.PrismaticDH(),\n",
    "                    rtb.RevoluteDH(),\n",
    "            ], name=\"scara_dh\"\n",
    "        )\n",
    "robot"
   ]
  }
 ],
 "metadata": {
  "kernelspec": {
   "display_name": "Python 3",
   "language": "python",
   "name": "python3"
  },
  "language_info": {
   "codemirror_mode": {
    "name": "ipython",
    "version": 3
   },
   "file_extension": ".py",
   "mimetype": "text/x-python",
   "name": "python",
   "nbconvert_exporter": "python",
   "pygments_lexer": "ipython3",
   "version": "3.10.8"
  },
  "orig_nbformat": 4,
  "vscode": {
   "interpreter": {
    "hash": "e7370f93d1d0cde622a1f8e1c04877d8463912d04d973331ad4851f04de6915a"
   }
  }
 },
 "nbformat": 4,
 "nbformat_minor": 2
}
