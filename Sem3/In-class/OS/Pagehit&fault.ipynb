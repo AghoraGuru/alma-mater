{
 "cells": [
  {
   "cell_type": "code",
   "execution_count": 25,
   "metadata": {},
   "outputs": [],
   "source": [
    "#finding number of page hit and page fault given a string and ram size of 3\n",
    "#input: string of page numbers\n",
    "#output: number of page hit and page fault\n",
    "\n",
    "def pagehitfault(string,ramsize):\n",
    "    ram=[]\n",
    "    pagehit=0\n",
    "    pagefault=0\n",
    "    for i in string:\n",
    "        if i in ram:\n",
    "            pagehit+=1\n",
    "        if i not in ram:\n",
    "            if len(ram)<ramsize:\n",
    "                ram.append(i)\n",
    "            else:\n",
    "                ram.pop(0)\n",
    "                ram.append(i)\n",
    "            pagefault+=1\n",
    "    return pagehit,pagefault\n",
    "\n",
    "string = \"7012030423030321201701\"\n",
    "ramsize = 3\n",
    "#string=input(\"Enter the string of page numbers: \")  \n",
    "#ramsize=int(input(\"Enter the ram size: \"))\n",
    "pagehit,pagefault=pagehitfault(string,ramsize)\n"
   ]
  },
  {
   "cell_type": "code",
   "execution_count": 26,
   "metadata": {},
   "outputs": [
    {
     "name": "stdout",
     "output_type": "stream",
     "text": [
      "Number of page hit:  7\n",
      "Number of page fault:  15\n"
     ]
    }
   ],
   "source": [
    "print(\"Number of page hit: \",pagehit)\n",
    "print(\"Number of page fault: \",pagefault)"
   ]
  },
  {
   "cell_type": "code",
   "execution_count": 3,
   "metadata": {},
   "outputs": [
    {
     "name": "stdout",
     "output_type": "stream",
     "text": [
      "Page faults: 10\n",
      "Page hits: 2\n"
     ]
    }
   ],
   "source": [
    "from collections import OrderedDict\n",
    "\n",
    "def page_faults_and_hits(string, ramsize):\n",
    "    cache = OrderedDict() #to remember the order of the items\n",
    "    page_faults = 0\n",
    "    page_hits = 0\n",
    "\n",
    "    for c in string:\n",
    "        # If the character is not in the cache, increment the page faults and add it to the cache\n",
    "        if c not in cache:\n",
    "            page_faults += 1\n",
    "            cache[c] = None\n",
    "            # If the cache is at ramsize, remove the least recently used item\n",
    "            if len(cache) > ramsize:\n",
    "                cache.popitem(last=False)\n",
    "        # If the character is in the cache, increment the page hits and move it to the end of the cache\n",
    "        else:\n",
    "            page_hits += 1\n",
    "            cache.move_to_end(c)\n",
    "\n",
    "    return page_faults, page_hits\n",
    "\n",
    "# Example usage\n",
    "string = \"123412512345\"\n",
    "ramsize = 3\n",
    "page_faults, page_hits = page_faults_and_hits(string, ramsize)\n",
    "\n",
    "print(\"Page faults:\", page_faults)  # Output: Page faults: 4\n",
    "print(\"Page hits:\", page_hits)  # Output: Page hits: 3\n"
   ]
  }
 ],
 "metadata": {
  "kernelspec": {
   "display_name": "Python 3",
   "language": "python",
   "name": "python3"
  },
  "language_info": {
   "codemirror_mode": {
    "name": "ipython",
    "version": 3
   },
   "file_extension": ".py",
   "mimetype": "text/x-python",
   "name": "python",
   "nbconvert_exporter": "python",
   "pygments_lexer": "ipython3",
   "version": "3.10.8"
  },
  "orig_nbformat": 4,
  "vscode": {
   "interpreter": {
    "hash": "e7370f93d1d0cde622a1f8e1c04877d8463912d04d973331ad4851f04de6915a"
   }
  }
 },
 "nbformat": 4,
 "nbformat_minor": 2
}
