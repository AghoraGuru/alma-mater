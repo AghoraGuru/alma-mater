{
 "cells": [
  {
   "cell_type": "code",
   "execution_count": 2,
   "metadata": {},
   "outputs": [],
   "source": [
    "# Import packages.\n",
    "import cvxpy as cp\n",
    "import numpy as np\n",
    "import matplotlib.pyplot as plt\n",
    "\n",
    "import warnings\n",
    "\n",
    "warnings.filterwarnings('ignore')\n"
   ]
  },
  {
   "attachments": {},
   "cell_type": "markdown",
   "metadata": {},
   "source": [
    "# Example Test"
   ]
  },
  {
   "cell_type": "code",
   "execution_count": 3,
   "metadata": {},
   "outputs": [
    {
     "name": "stdout",
     "output_type": "stream",
     "text": [
      "[1.]\n"
     ]
    }
   ],
   "source": [
    "y = 2\n",
    "# Construct the problem.\n",
    "x = cp.Variable(1)\n",
    "objective = cp.Minimize(x+y)\n",
    "constraints = [1 <= x]\n",
    "prob = cp.Problem(objective, constraints)\n",
    "# The optimal objective value is returned by `prob.solve()`.\n",
    "result = prob.solve()\n",
    "print(x.value)"
   ]
  },
  {
   "attachments": {},
   "cell_type": "markdown",
   "metadata": {},
   "source": [
    "# Least Square Example "
   ]
  },
  {
   "cell_type": "code",
   "execution_count": 4,
   "metadata": {},
   "outputs": [
    {
     "name": "stdout",
     "output_type": "stream",
     "text": [
      "[-1.79109253e-19  2.85112420e-02  2.79973443e-19  3.37658751e-20\n",
      " -2.72802659e-19  1.49285011e-01 -9.97212062e-20  8.35373892e-20\n",
      "  2.46718649e-01  5.78224144e-01 -4.03739462e-19  1.01242860e-03\n",
      " -9.28486200e-20  2.26767464e-01 -1.58813677e-19 -8.97232308e-20\n",
      " -1.22145726e-19 -1.51509432e-19  1.12060673e-19 -3.48318630e-19]\n",
      "[ 2.50938945  0.          2.78354615  1.79425782 13.08579183  0.\n",
      "  0.73716363  3.35344995  0.          0.          8.93825054  0.\n",
      "  7.02955161  0.          4.71068649  3.18873635  2.06090107 10.08166738\n",
      "  3.0481157   8.53268239]\n"
     ]
    }
   ],
   "source": [
    "\n",
    "m = 30\n",
    "n = 20\n",
    "\n",
    "np.random.seed(1)\n",
    "A = np.random.randn(m, n)\n",
    "b = np.random.randn(m)\n",
    "\n",
    "x = cp.Variable(n)\n",
    "objective = cp.Minimize(cp.sum_squares(A*x - b))\n",
    "constraints = [0 <= x, x <= 1]\n",
    "prob = cp.Problem(objective, constraints)\n",
    "result = prob.solve()\n",
    "print(x.value)\n",
    "print(constraints[0].dual_value)"
   ]
  },
  {
   "attachments": {},
   "cell_type": "markdown",
   "metadata": {},
   "source": [
    "# Linear Programming"
   ]
  },
  {
   "cell_type": "code",
   "execution_count": 5,
   "metadata": {},
   "outputs": [
    {
     "name": "stdout",
     "output_type": "stream",
     "text": [
      "[ 5.43089065e-12  1.50100274e-01  6.92075408e-02 -7.28100149e-12\n",
      "  1.20460927e-01  6.49088099e-02  4.63845416e-01  2.42737890e-01\n",
      " -5.56082358e-13  7.24908231e-03  3.64578419e-12  3.57576187e-01\n",
      "  6.08906337e-02  8.76278306e-02  6.60802943e-01  3.07065846e-01\n",
      "  5.28024482e-01  8.50084310e-02 -9.12830742e-12  6.17633880e-01\n",
      " -1.60431200e-11  3.14576212e-01  4.24906858e-01  3.72308115e-02\n",
      "  1.80870790e-11 -1.11221053e-11 -1.18767967e-11  9.23458133e-12\n",
      " -8.41252615e-12  5.39487008e-01  4.84569037e-01 -1.36648548e-11\n",
      " -6.06217631e-12  8.92150176e-02  4.24452226e-01  1.49870574e-01\n",
      " -3.99385192e-12 -1.33160242e-11  1.03998727e-01 -1.16816732e-11\n",
      " -1.69625381e-11  2.14183841e-01 -8.64595600e-12  4.81572895e-03\n",
      " -1.62118193e-11  4.70765846e-11  1.00250458e-01  4.46448794e-01\n",
      "  2.38756821e-02  4.05410348e-01]\n",
      "[1.61858509e-11 6.81421830e-12 1.23299267e-11 5.85601558e-01\n",
      " 1.43564118e-11 9.80493303e-02 1.95821774e-11 8.52318509e-01\n",
      " 1.24564429e-01 2.51485099e-01 1.79817693e-11 2.46396505e-03\n",
      " 2.06098211e-11 1.48646461e-11 1.11165555e-11 1.13704786e-11\n",
      " 5.68793542e-11 7.74199761e-12 8.66246945e-12 5.13310135e-11\n",
      " 1.26985044e-11 2.17760356e-01 2.84443692e-11 4.87205322e-11\n",
      " 2.87363127e-11 9.58405203e-12 1.43409028e-11 3.38161147e-11\n",
      " 7.91522036e-12 2.68518172e-11 1.25831404e-11 8.30039522e-02\n",
      " 3.25112987e-11 3.53174464e-11 8.79651049e-12 8.03001232e-11\n",
      " 4.38934564e-11 1.26526644e-01 6.76897316e-12 1.58778099e-01\n",
      " 1.29002072e-01 8.41123845e-12 1.55883642e-01 7.60384843e-11\n",
      " 1.30631747e-02 1.46964418e-01 9.05022830e-01 3.42713145e-01\n",
      " 1.46394992e-11 2.06633048e-01 1.16724503e-11 2.29982342e-11\n",
      " 4.56935599e-01 1.27903478e-11 1.30365241e-11 7.50468669e-11\n",
      " 2.48539315e-11 1.36966170e-01 7.01893281e-02 3.97894875e-01\n",
      " 1.84097723e-11 1.86326834e-01 1.29171590e-11 1.47036040e-11\n",
      " 1.21166116e-10 2.75956329e-11 7.83717499e-12 1.84514305e-11\n",
      " 7.07799738e-01 1.90588427e-11 9.18921965e-11 7.23073956e-01\n",
      " 5.37396073e-11 1.71742059e-11 1.12922917e-11 1.01444232e-11\n",
      " 1.85296778e-11 6.73593339e-01 7.87625624e-11 3.62303145e-01\n",
      " 1.63106043e-11 5.93634298e-11 2.39263682e-11 4.13479195e-11\n",
      " 1.72689102e-11 2.26249145e-11 4.29207558e-11 5.84701622e-11\n",
      " 1.24984520e-11 1.63799361e-11 8.63512494e-11 6.42372089e-11\n",
      " 1.71815779e-11 1.76422142e-01 1.24597527e-01 9.35741156e-01\n",
      " 1.04453256e-11 1.18322930e-11 1.75274467e-11 2.77422410e-01]\n"
     ]
    }
   ],
   "source": [
    "m = 100\n",
    "n = 50\n",
    "\n",
    "np.random.seed(22)\n",
    "A = np.random.randn(m, n)\n",
    "b = np.random.rand(m)\n",
    "c = np.random.rand(n)\n",
    "\n",
    "x = cp.Variable(n)\n",
    "objective = cp.Maximize(c.T*x)\n",
    "constraints = [ A*x <= b, 0 <= x]\n",
    "prob = cp.Problem(objective, constraints)\n",
    "result = prob.solve()\n",
    "print(x.value)\n",
    "print(constraints[0].dual_value)"
   ]
  },
  {
   "cell_type": "code",
   "execution_count": null,
   "metadata": {},
   "outputs": [],
   "source": []
  }
 ],
 "metadata": {
  "kernelspec": {
   "display_name": "Python 3",
   "language": "python",
   "name": "python3"
  },
  "language_info": {
   "codemirror_mode": {
    "name": "ipython",
    "version": 3
   },
   "file_extension": ".py",
   "mimetype": "text/x-python",
   "name": "python",
   "nbconvert_exporter": "python",
   "pygments_lexer": "ipython3",
   "version": "3.10.8 (main, Nov  1 2022, 14:18:21) [GCC 12.2.0]"
  },
  "orig_nbformat": 4,
  "vscode": {
   "interpreter": {
    "hash": "e7370f93d1d0cde622a1f8e1c04877d8463912d04d973331ad4851f04de6915a"
   }
  }
 },
 "nbformat": 4,
 "nbformat_minor": 2
}
