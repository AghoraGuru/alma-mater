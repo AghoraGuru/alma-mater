{
  "cells": [
    {
      "cell_type": "code",
      "execution_count": 24,
      "metadata": {
        "id": "6fgbupKtY1us"
      },
      "outputs": [],
      "source": [
        "#https://machinelearningmastery.com/naive-bayes-classifier-scratch-python/"
      ]
    },
    {
      "cell_type": "markdown",
      "metadata": {
        "id": "T5bX2OfDic7f"
      },
      "source": [
        "**Import the libraries required**"
      ]
    },
    {
      "cell_type": "code",
      "execution_count": 25,
      "metadata": {
        "id": "qexuDm7yY1u2"
      },
      "outputs": [],
      "source": [
        "import numpy as np"
      ]
    },
    {
      "cell_type": "markdown",
      "metadata": {
        "id": "BTEgTSRYihut"
      },
      "source": [
        "**Load the data**"
      ]
    },
    {
      "cell_type": "code",
      "execution_count": 26,
      "metadata": {
        "colab": {
          "base_uri": "https://localhost:8080/",
          "height": 0
        },
        "id": "aEEbrkvbY1u5",
        "outputId": "e093d67a-ad93-4f61-c925-d144b109f1d3"
      },
      "outputs": [
        {
          "name": "stdout",
          "output_type": "stream",
          "text": [
            "[[3.393533211, 2.331273381, 0], [3.110073483, 1.781539638, 0], [1.343808831, 3.368360954, 0], [3.582294042, 4.67917911, 0], [2.280362439, 2.866990263, 0]]\n"
          ]
        }
      ],
      "source": [
        "data1 = [[3.393533211,2.331273381,0],\n",
        "    [3.110073483,1.781539638,0],\n",
        "    [1.343808831,3.368360954,0],\n",
        "    [3.582294042,4.67917911,0],\n",
        "    [2.280362439,2.866990263,0]]\n",
        "print(data1)"
      ]
    },
    {
      "cell_type": "code",
      "execution_count": 27,
      "metadata": {
        "colab": {
          "base_uri": "https://localhost:8080/",
          "height": 0
        },
        "id": "G8oXHJ6IY1u8",
        "outputId": "5ce29fc3-5612-4daa-b505-e690d8073d02"
      },
      "outputs": [
        {
          "name": "stdout",
          "output_type": "stream",
          "text": [
            "[[7.423436942, 4.696522875, 1], [5.745051997, 3.533989803, 1], [9.172168622, 2.511101045, 1], [7.792783481, 3.424088941, 1], [7.939820817, 0.791637231, 1]]\n"
          ]
        }
      ],
      "source": [
        "data2 = [[7.423436942,4.696522875,1],\n",
        "    [5.745051997,3.533989803,1],\n",
        "    [9.172168622,2.511101045,1],\n",
        "    [7.792783481,3.424088941,1],\n",
        "    [7.939820817,0.791637231,1]]\n",
        "print(data2)"
      ]
    },
    {
      "cell_type": "markdown",
      "metadata": {
        "id": "_C1tgduIipKr"
      },
      "source": [
        "**Naive Bayes CLaassifier**\n",
        "1. Compute the mean and standard deviation for the column attributes\n",
        "2. Compute the probabilty value of the data corresponding to each class\n",
        "3. Predict the class label based on the probability values obtained in step 2"
      ]
    },
    {
      "cell_type": "code",
      "execution_count": 28,
      "metadata": {
        "id": "waqA-xPQY1u-"
      },
      "outputs": [],
      "source": [
        "# function to calculate mean\n",
        "def mean(numbers): \n",
        "    return np.sum(numbers)/np.size(numbers)"
      ]
    },
    {
      "cell_type": "code",
      "execution_count": 29,
      "metadata": {
        "colab": {
          "base_uri": "https://localhost:8080/",
          "height": 0
        },
        "id": "e25stD6HY1u_",
        "outputId": "d1aea1ce-e2c1-4a56-d7df-945cb21c26d6"
      },
      "outputs": [
        {
          "name": "stdout",
          "output_type": "stream",
          "text": [
            "[3.393533211, 3.110073483, 1.343808831, 3.582294042, 2.280362439]\n",
            "5\n"
          ]
        }
      ],
      "source": [
        "numbers1=[i[0] for i in data1]\n",
        "print(numbers1)\n",
        "print(np.size(numbers1))"
      ]
    },
    {
      "cell_type": "code",
      "execution_count": 30,
      "metadata": {
        "colab": {
          "base_uri": "https://localhost:8080/",
          "height": 0
        },
        "id": "JYlMW-GPY1vA",
        "outputId": "a0db7107-fdf0-4dc2-90c6-3ac6614d7e9b"
      },
      "outputs": [
        {
          "name": "stdout",
          "output_type": "stream",
          "text": [
            "2.7420144012\n"
          ]
        }
      ],
      "source": [
        "mean1=mean(numbers1)\n",
        "print(mean1)"
      ]
    },
    {
      "cell_type": "code",
      "execution_count": 31,
      "metadata": {
        "colab": {
          "base_uri": "https://localhost:8080/",
          "height": 0
        },
        "id": "n9aK6JekY1vS",
        "outputId": "2ce1cdd6-13ea-47c2-cbcd-2cade5fd61d5"
      },
      "outputs": [
        {
          "name": "stdout",
          "output_type": "stream",
          "text": [
            "[2.331273381, 1.781539638, 3.368360954, 4.67917911, 2.866990263]\n",
            "5\n"
          ]
        }
      ],
      "source": [
        "numbers2=[i[1] for i in data1]\n",
        "print(numbers2)\n",
        "print(np.size(numbers2))"
      ]
    },
    {
      "cell_type": "code",
      "execution_count": 32,
      "metadata": {
        "colab": {
          "base_uri": "https://localhost:8080/",
          "height": 0
        },
        "id": "w_HOvQ8hY1vT",
        "outputId": "c27d146a-464e-41c6-8c50-3bf29b83a64a"
      },
      "outputs": [
        {
          "name": "stdout",
          "output_type": "stream",
          "text": [
            "3.0054686692\n"
          ]
        }
      ],
      "source": [
        "mean2=mean(numbers2)\n",
        "print(mean2)"
      ]
    },
    {
      "cell_type": "code",
      "execution_count": 33,
      "metadata": {
        "id": "PqRsq2CvY1vV"
      },
      "outputs": [],
      "source": [
        "def stdev(numbers,mean):\n",
        "   variance=np.sum([(x-mean)**2 for x in numbers])/(np.size(numbers)-1)\n",
        "   return np.sqrt(variance)"
      ]
    },
    {
      "cell_type": "code",
      "execution_count": 34,
      "metadata": {
        "colab": {
          "base_uri": "https://localhost:8080/",
          "height": 0
        },
        "id": "MMhATMk8Y1vW",
        "outputId": "c6e72553-0b53-4154-e760-e2189892f677"
      },
      "outputs": [
        {
          "name": "stdout",
          "output_type": "stream",
          "text": [
            "0.9265683289298018\n"
          ]
        }
      ],
      "source": [
        "stdev1=stdev(numbers1,mean1)\n",
        "print(stdev1)"
      ]
    },
    {
      "cell_type": "code",
      "execution_count": 35,
      "metadata": {
        "colab": {
          "base_uri": "https://localhost:8080/",
          "height": 0
        },
        "id": "tmOE6BO9Y1vZ",
        "outputId": "1df1ff33-bc10-45a7-afe3-4fa483c72fbe"
      },
      "outputs": [
        {
          "name": "stdout",
          "output_type": "stream",
          "text": [
            "1.1073295894898725\n"
          ]
        }
      ],
      "source": [
        "stdev2=stdev(numbers2,mean2)\n",
        "print(stdev2)"
      ]
    },
    {
      "cell_type": "code",
      "execution_count": 36,
      "metadata": {
        "id": "arm9fPXfY1va"
      },
      "outputs": [],
      "source": [
        "from math import pi\n",
        "\n",
        "def probability(x,mean,stdev):\n",
        "    exponent = np.exp(-((x-mean)**2 / (2 * stdev**2 )))\n",
        "    return (1 / (np.sqrt(2 * pi) * stdev)) * exponent"
      ]
    },
    {
      "cell_type": "code",
      "execution_count": 37,
      "metadata": {
        "colab": {
          "base_uri": "https://localhost:8080/",
          "height": 0
        },
        "id": "G9iH0q74Y1vb",
        "outputId": "58e2dbf0-3a3a-466a-ad09-1c808450d279"
      },
      "outputs": [
        {
          "name": "stdout",
          "output_type": "stream",
          "text": [
            "0.10064855346744152\n"
          ]
        }
      ],
      "source": [
        "prob1=probability(data1[0][0],mean1,stdev1)*probability(data1[0][1],mean2,stdev2)\n",
        "print(prob1)"
      ]
    },
    {
      "cell_type": "markdown",
      "metadata": {
        "id": "OJvP49UPjfPt"
      },
      "source": [
        "The result obtained above is the probabilty that the data belongs to class 0\n",
        "\n"
      ]
    },
    {
      "cell_type": "code",
      "execution_count": 38,
      "metadata": {
        "colab": {
          "base_uri": "https://localhost:8080/",
          "height": 0
        },
        "id": "CBWq9HiRY1vb",
        "outputId": "d66a3324-3b5a-409e-cf5f-79ef147e9f09"
      },
      "outputs": [
        {
          "name": "stdout",
          "output_type": "stream",
          "text": [
            "[7.423436942, 5.745051997, 9.172168622, 7.792783481, 7.939820817]\n",
            "5\n"
          ]
        }
      ],
      "source": [
        "numbers1=[i[0] for i in data2]\n",
        "print(numbers1)\n",
        "print(np.size(numbers1))"
      ]
    },
    {
      "cell_type": "code",
      "execution_count": 39,
      "metadata": {
        "colab": {
          "base_uri": "https://localhost:8080/",
          "height": 0
        },
        "id": "z-B9JoTxY1vc",
        "outputId": "c774d36d-bae9-4f18-ab5a-503b1c78c6ad"
      },
      "outputs": [
        {
          "name": "stdout",
          "output_type": "stream",
          "text": [
            "7.6146523718\n"
          ]
        }
      ],
      "source": [
        "mean1=mean(numbers1)\n",
        "print(mean1)"
      ]
    },
    {
      "cell_type": "code",
      "execution_count": 40,
      "metadata": {
        "colab": {
          "base_uri": "https://localhost:8080/",
          "height": 0
        },
        "id": "FjRcSTfBY1vd",
        "outputId": "8ece1b1a-d86c-4597-a7cb-712d3645d96f"
      },
      "outputs": [
        {
          "name": "stdout",
          "output_type": "stream",
          "text": [
            "[4.696522875, 3.533989803, 2.511101045, 3.424088941, 0.791637231]\n",
            "5\n"
          ]
        }
      ],
      "source": [
        "numbers2=[i[1] for i in data2]\n",
        "print(numbers2)\n",
        "print(np.size(numbers2))"
      ]
    },
    {
      "cell_type": "code",
      "execution_count": 41,
      "metadata": {
        "colab": {
          "base_uri": "https://localhost:8080/",
          "height": 0
        },
        "id": "RKiodYUxY1vf",
        "outputId": "9b2eaa7b-55cd-4fc4-ec9e-3c29276ab8c9"
      },
      "outputs": [
        {
          "name": "stdout",
          "output_type": "stream",
          "text": [
            "2.9914679790000003\n"
          ]
        }
      ],
      "source": [
        "mean2=mean(numbers2)\n",
        "print(mean2)"
      ]
    },
    {
      "cell_type": "code",
      "execution_count": 42,
      "metadata": {
        "colab": {
          "base_uri": "https://localhost:8080/",
          "height": 0
        },
        "id": "LlGhp6gHY1vf",
        "outputId": "27e2ef13-fe2f-4b2d-ae35-02e09971059c"
      },
      "outputs": [
        {
          "name": "stdout",
          "output_type": "stream",
          "text": [
            "1.2344321550313704\n"
          ]
        }
      ],
      "source": [
        "stdev1=stdev(numbers1,mean1)\n",
        "print(stdev1)"
      ]
    },
    {
      "cell_type": "code",
      "execution_count": 43,
      "metadata": {
        "colab": {
          "base_uri": "https://localhost:8080/",
          "height": 0
        },
        "id": "UqFufjtMY1vg",
        "outputId": "ff290785-4f56-4c8b-b916-b5165505a6b5"
      },
      "outputs": [
        {
          "name": "stdout",
          "output_type": "stream",
          "text": [
            "1.4541931384601618\n"
          ]
        }
      ],
      "source": [
        "stdev2=stdev(numbers2,mean2)\n",
        "print(stdev2)"
      ]
    },
    {
      "cell_type": "code",
      "execution_count": 44,
      "metadata": {
        "colab": {
          "base_uri": "https://localhost:8080/",
          "height": 0
        },
        "id": "feEvrb6IY1vh",
        "outputId": "645e0aea-ea61-48e9-f39b-cd781f7cf4db"
      },
      "outputs": [
        {
          "name": "stdout",
          "output_type": "stream",
          "text": [
            "0.10064855346744152\n"
          ]
        }
      ],
      "source": [
        "prob2=probability(data1[0][0],mean1,stdev1)*probability(data1[0][1],mean2,stdev2)\n",
        "print(prob1)"
      ]
    },
    {
      "cell_type": "markdown",
      "metadata": {
        "id": "1UdNm14djr2h"
      },
      "source": [
        "The result obtained above is the probabilty that the data belongs to class 1"
      ]
    },
    {
      "cell_type": "code",
      "execution_count": 45,
      "metadata": {
        "colab": {
          "base_uri": "https://localhost:8080/",
          "height": 0
        },
        "id": "pVSIgp4VZEVQ",
        "outputId": "2d289f90-fdbd-4f92-8017-dcfb0f55ef4a"
      },
      "outputs": [
        {
          "name": "stdout",
          "output_type": "stream",
          "text": [
            "0.10064855346744152\n",
            "0.0002311543675989153\n"
          ]
        }
      ],
      "source": [
        "print(prob1)\n",
        "print(prob2)"
      ]
    },
    {
      "cell_type": "markdown",
      "metadata": {
        "id": "tkJHQZtNjuDt"
      },
      "source": [
        "**Predict the class label for the data**"
      ]
    },
    {
      "cell_type": "code",
      "execution_count": 59,
      "metadata": {
        "colab": {
          "base_uri": "https://localhost:8080/"
        },
        "id": "RT5v3Wb2glD3",
        "outputId": "22ed30ed-a2ce-4aa2-a391-a2113ad1d7ea"
      },
      "outputs": [
        {
          "name": "stdout",
          "output_type": "stream",
          "text": [
            "Probability that data belongs to Class 0 is  99.77086138276997\n",
            "Probability that data belongs to Class 1 is  0.22913861723003934\n",
            "\n",
            "The data belongs to class  0\n"
          ]
        }
      ],
      "source": [
        "\n",
        "def class_pred(prob1,prob2):\n",
        "  class_0 = prob1/(prob1+prob2)*100\n",
        "  class_1 = prob2/(prob1+prob2)*100\n",
        "  print('Probability that data belongs to Class 0 is ',class_0)\n",
        "  print('Probability that data belongs to Class 1 is ',class_1)\n",
        "  pred_class = max(class_0,class_1)\n",
        "\n",
        "  if (pred_class == class_0):\n",
        "    pred = 0\n",
        "  else:\n",
        "    pred = 1\n",
        "  print('\\nThe data belongs to class ', pred)\n",
        "  #return pred\n",
        "\n",
        "class_pred(prob1,prob2)"
      ]
    }
  ],
  "metadata": {
    "colab": {
      "provenance": []
    },
    "kernelspec": {
      "display_name": "Python 3",
      "language": "python",
      "name": "python3"
    },
    "language_info": {
      "codemirror_mode": {
        "name": "ipython",
        "version": 3
      },
      "file_extension": ".py",
      "mimetype": "text/x-python",
      "name": "python",
      "nbconvert_exporter": "python",
      "pygments_lexer": "ipython3",
      "version": "3.10.8 (main, Nov  1 2022, 14:18:21) [GCC 12.2.0]"
    },
    "vscode": {
      "interpreter": {
        "hash": "e7370f93d1d0cde622a1f8e1c04877d8463912d04d973331ad4851f04de6915a"
      }
    }
  },
  "nbformat": 4,
  "nbformat_minor": 0
}
