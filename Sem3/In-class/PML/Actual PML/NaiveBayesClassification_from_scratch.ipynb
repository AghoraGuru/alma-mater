{
  "cells": [
    {
      "cell_type": "code",
      "execution_count": 35,
      "metadata": {
        "id": "6fgbupKtY1us"
      },
      "outputs": [],
      "source": [
        "#https://machinelearningmastery.com/naive-bayes-classifier-scratch-python/"
      ]
    },
    {
      "cell_type": "markdown",
      "metadata": {
        "id": "T5bX2OfDic7f"
      },
      "source": [
        "**Import the libraries required**"
      ]
    },
    {
      "cell_type": "markdown",
      "metadata": {
        "id": "BTEgTSRYihut"
      },
      "source": [
        "**Load the data**"
      ]
    },
    {
      "cell_type": "code",
      "execution_count": 36,
      "metadata": {
        "colab": {
          "base_uri": "https://localhost:8080/",
          "height": 0
        },
        "id": "aEEbrkvbY1u5",
        "outputId": "e093d67a-ad93-4f61-c925-d144b109f1d3"
      },
      "outputs": [],
      "source": [
        "import numpy as np\n",
        "data1 = [[3.393533211,2.331273381,0],\n",
        "    [3.110073483,1.781539638,0],\n",
        "    [1.343808831,3.368360954,0],\n",
        "    [3.582294042,4.67917911,0],\n",
        "    [2.280362439,2.866990263,0]]\n",
        "data2 = [[7.423436942,4.696522875,1],\n",
        "    [5.745051997,3.533989803,1],\n",
        "    [9.172168622,2.511101045,1],\n",
        "    [7.792783481,3.424088941,1],\n",
        "    [7.939820817,0.791637231,1]]"
      ]
    },
    {
      "cell_type": "code",
      "execution_count": 37,
      "metadata": {
        "id": "waqA-xPQY1u-"
      },
      "outputs": [],
      "source": [
        "# function to calculate mean\n",
        "def mean(numbers): \n",
        "    return np.sum(numbers)/np.size(numbers)"
      ]
    },
    {
      "cell_type": "code",
      "execution_count": 38,
      "metadata": {
        "colab": {
          "base_uri": "https://localhost:8080/",
          "height": 0
        },
        "id": "e25stD6HY1u_",
        "outputId": "d1aea1ce-e2c1-4a56-d7df-945cb21c26d6"
      },
      "outputs": [],
      "source": [
        "numbers1=[i[0] for i in data1]\n",
        "mean1=mean(numbers1)\n",
        "numbers2=[i[1] for i in data1]\n",
        "mean2=mean(numbers2)"
      ]
    },
    {
      "cell_type": "code",
      "execution_count": 39,
      "metadata": {
        "id": "PqRsq2CvY1vV"
      },
      "outputs": [],
      "source": [
        "def stdev(numbers,mean):\n",
        "   variance=np.sum([(x-mean)**2 for x in numbers])/(np.size(numbers)-1)\n",
        "   return np.sqrt(variance)"
      ]
    },
    {
      "cell_type": "code",
      "execution_count": 40,
      "metadata": {
        "colab": {
          "base_uri": "https://localhost:8080/",
          "height": 0
        },
        "id": "MMhATMk8Y1vW",
        "outputId": "c6e72553-0b53-4154-e760-e2189892f677"
      },
      "outputs": [],
      "source": [
        "stdev1=stdev(numbers1,mean1)\n",
        "stdev2=stdev(numbers2,mean2)"
      ]
    },
    {
      "cell_type": "code",
      "execution_count": 41,
      "metadata": {
        "id": "arm9fPXfY1va"
      },
      "outputs": [],
      "source": [
        "from math import pi\n",
        "\n",
        "def probability(x,mean,stdev):\n",
        "    exponent = np.exp(-((x-mean)**2 / (2 * stdev**2 )))\n",
        "    return (1 / (np.sqrt(2 * pi) * stdev)) * exponent"
      ]
    },
    {
      "cell_type": "code",
      "execution_count": 42,
      "metadata": {
        "colab": {
          "base_uri": "https://localhost:8080/",
          "height": 0
        },
        "id": "G9iH0q74Y1vb",
        "outputId": "58e2dbf0-3a3a-466a-ad09-1c808450d279"
      },
      "outputs": [],
      "source": [
        "prob1=probability(data1[0][0],mean1,stdev1)*probability(data1[0][1],mean2,stdev2)"
      ]
    },
    {
      "cell_type": "code",
      "execution_count": 43,
      "metadata": {
        "colab": {
          "base_uri": "https://localhost:8080/",
          "height": 0
        },
        "id": "CBWq9HiRY1vb",
        "outputId": "d66a3324-3b5a-409e-cf5f-79ef147e9f09"
      },
      "outputs": [],
      "source": [
        "numbers1=[i[0] for i in data2]\n",
        "mean1=mean(numbers1)\n",
        "numbers2=[i[1] for i in data2]\n",
        "mean2=mean(numbers2)\n",
        "stdev1=stdev(numbers1,mean1)\n",
        "stdev2=stdev(numbers2,mean2)\n",
        "prob2=probability(data1[0][0],mean1,stdev1)*probability(data1[0][1],mean2,stdev2)"
      ]
    },
    {
      "cell_type": "markdown",
      "metadata": {
        "id": "tkJHQZtNjuDt"
      },
      "source": [
        "**Predict the class label for the data**"
      ]
    },
    {
      "cell_type": "code",
      "execution_count": 45,
      "metadata": {
        "colab": {
          "base_uri": "https://localhost:8080/"
        },
        "id": "RT5v3Wb2glD3",
        "outputId": "22ed30ed-a2ce-4aa2-a391-a2113ad1d7ea"
      },
      "outputs": [
        {
          "name": "stdout",
          "output_type": "stream",
          "text": [
            "Probability that data belongs to Class 0 is  99.77086138276997\n",
            "Probability that data belongs to Class 1 is  0.22913861723003934\n",
            "\n",
            "The data belongs to class  0\n"
          ]
        }
      ],
      "source": [
        "\n",
        "def class_pred(prob1,prob2):\n",
        "  class_0 = prob1/(prob1+prob2)*100\n",
        "  class_1 = prob2/(prob1+prob2)*100\n",
        "  print('Probability that data belongs to Class 0 is ',class_0)\n",
        "  print('Probability that data belongs to Class 1 is ',class_1)\n",
        "  pred_class = max(class_0,class_1)\n",
        "\n",
        "  if (pred_class == class_0):\n",
        "    pred = 0\n",
        "  else:\n",
        "    pred = 1\n",
        "  print('\\nThe data belongs to class ', pred)\n",
        "  #return pred\n",
        "\n",
        "class_pred(prob1,prob2)"
      ]
    }
  ],
  "metadata": {
    "colab": {
      "provenance": []
    },
    "kernelspec": {
      "display_name": "Python 3",
      "language": "python",
      "name": "python3"
    },
    "language_info": {
      "codemirror_mode": {
        "name": "ipython",
        "version": 3
      },
      "file_extension": ".py",
      "mimetype": "text/x-python",
      "name": "python",
      "nbconvert_exporter": "python",
      "pygments_lexer": "ipython3",
      "version": "3.10.8"
    },
    "vscode": {
      "interpreter": {
        "hash": "e7370f93d1d0cde622a1f8e1c04877d8463912d04d973331ad4851f04de6915a"
      }
    }
  },
  "nbformat": 4,
  "nbformat_minor": 0
}
