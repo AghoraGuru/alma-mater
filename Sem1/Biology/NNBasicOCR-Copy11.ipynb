{
 "cells": [
  {
   "cell_type": "code",
   "execution_count": 1,
   "id": "0a01a031",
   "metadata": {},
   "outputs": [],
   "source": [
    "import numpy as np\n",
    "import scipy.special        #for sigmoid function"
   ]
  },
  {
   "cell_type": "code",
   "execution_count": 106,
   "id": "82ff815e",
   "metadata": {},
   "outputs": [],
   "source": [
    "#defining neural network class\n",
    "class neuralNetwork:\n",
    "    \n",
    "    \n",
    "    #initialising the neural network\n",
    "    def __init__(self, input_nodes, hidden_nodes, output_nodes, learning_rate):\n",
    "        \n",
    "        self.inodes = input_nodes\n",
    "        self.hnodes = hidden_nodes\n",
    "        self.onodes = output_nodes\n",
    "        self.LR = learning_rate\n",
    "        \n",
    "        #linking weight matrices, weight(input, hidden) labelled as wih and weight(hidden, output) labelled as who\n",
    "        #matrices are in form weight_ij\n",
    "        \n",
    "        #self.wih = np.random.normal(0.0, pow(self.hnodes, -0.5), (self.hnodes, self.inodes)) / 10\n",
    "        #self.who = np.random.normal(0.0, pow(self.onodes, -0.5), (self.onodes, self.hnodes)) / 10\n",
    "        self.wih = np.random.randn(hidden_nodes, input_nodes)\n",
    "        self.who = np.random.randn(output_nodes, hidden_nodes)\n",
    "        self.biasih = np.random.rand(hidden_nodes, 1)\n",
    "        self.biasho = np.random.rand(output_nodes, 1)\n",
    "        \n",
    "        #sigmoid function as the activation function\n",
    "        self.activation_function = lambda x : scipy.special.expit(x)\n",
    "\n",
    "        pass\n",
    "    \n",
    "    \n",
    "    #train neural network\n",
    "    def train(self, inputs_list, targets_list):\n",
    "        \n",
    "        #converting input list into array\n",
    "        inputs = np.array(inputs_list, ndmin = 2).T\n",
    "        \n",
    "        #converting targets list into array\n",
    "        targets = np.array(targets_list, ndmin = 2).T\n",
    "        \n",
    "        #calculating signals that enter the hidden layer\n",
    "        hidden_inputs = np.dot(self.wih, inputs) + self.biasih\n",
    "        \n",
    "        #calculating signals that leave the hidden layer as output\n",
    "        hidden_outputs = self.activation_function(hidden_inputs)\n",
    "        \n",
    "        #calculating signals that enter the final output layer\n",
    "        final_inputs = np.dot(self.who, hidden_outputs) + self.biasho\n",
    "        \n",
    "        #calculating signals that leave final layer as output\n",
    "        final_outputs = self.activation_function(final_inputs)\n",
    "        #print(final_outputs)\n",
    "        \n",
    "        #calculating error which is (target - actual or derived)\n",
    "        output_errors = targets - final_outputs\n",
    "        \n",
    "        #errors(hidden) = (weight(hidden-output).transpose) dot product (errors(output))\n",
    "        hidden_errors = np.dot(self.who.T, output_errors)\n",
    "        \n",
    "        #updating weights for links between hidden and output layers\n",
    "        #based on known formula\n",
    "        #delta(W(jk)) = learningRate * {[E(k) * sigmoid(O(k)) * (1 - sigmoid(O(k)))] dot product (O(j).Transpose)}\n",
    "        self.who += self.LR * np.dot((output_errors * final_outputs * (1 - final_outputs)), np.transpose(hidden_outputs))\n",
    "        self.wih += self.LR * np.dot((hidden_errors * hidden_outputs * (1 - hidden_outputs)), np.transpose(inputs))\n",
    "        \n",
    "        pass\n",
    "    \n",
    "    \n",
    "    #query or give an output via output nodes\n",
    "    def query(self, inputs_list):\n",
    "        \n",
    "        #converting input list into array\n",
    "        inputs = np.array(inputs_list, ndmin = 2).T\n",
    "        \n",
    "        #calculating signals that enter the hidden layer\n",
    "        hidden_inputs = np.dot(self.wih, inputs)\n",
    "        \n",
    "        #calculating signals that leave the hidden layer as output\n",
    "        hidden_outputs = self.activation_function(hidden_inputs)\n",
    "        \n",
    "        #calculating signals that enter the final output layer\n",
    "        final_inputs = np.dot(self.who, hidden_outputs)\n",
    "        \n",
    "        #calculating signals that leave final layer as output\n",
    "        final_outputs = self.activation_function(final_inputs)\n",
    "        return final_outputs"
   ]
  },
  {
   "cell_type": "code",
   "execution_count": 107,
   "id": "f48df54e",
   "metadata": {},
   "outputs": [],
   "source": [
    "inputnodes = 15\n",
    "hiddennodes = 8\n",
    "outputnodes = 2\n",
    "learningrate = 0.025\n",
    "\n",
    "#create NN instance\n",
    "n = neuralNetwork(inputnodes, hiddennodes, outputnodes, learningrate)"
   ]
  },
  {
   "cell_type": "code",
   "execution_count": 108,
   "id": "567659d2",
   "metadata": {
    "scrolled": true
   },
   "outputs": [
    {
     "name": "stdout",
     "output_type": "stream",
     "text": [
      "['GENDER,AGE,SMOKING,YELLOW_FINGERS,ANXIETY,PEER_PRESSURE,CHRONIC DISEASE,FATIGUE ,ALLERGY ,WHEEZING,ALCOHOL CONSUMING,COUGHING,SHORTNESS OF BREATH,SWALLOWING DIFFICULTY,CHEST PAIN,LUNG_CANCER\\n', '0,69,0,1,1,0,0,1,0,1,1,1,1,1,1,1\\n', '0,74,1,0,0,0,1,1,1,0,0,0,1,1,1,1\\n', '1,59,0,0,0,1,0,1,0,1,0,1,1,0,1,0\\n', '0,63,1,1,1,0,0,0,0,0,1,0,0,1,1,0\\n', '1,63,0,1,0,0,0,0,0,1,0,1,1,0,0,0\\n', '1,75,0,1,0,0,1,1,1,1,0,1,1,0,0,1\\n', '0,51,1,0,0,0,0,1,0,1,1,1,1,0,1,1\\n', '1,50,1,1,1,1,0,1,1,0,0,0,1,1,0,1\\n', '1,68,1,0,1,0,0,1,0,0,0,0,0,0,0,0\\n', '0,53,1,1,1,1,1,0,1,0,1,0,0,1,1,1\\n', '1,60,1,1,1,1,1,1,0,1,0,1,1,1,0,1\\n', '0,71,0,0,0,0,1,1,1,1,1,1,1,0,1,1\\n', '1,60,1,0,0,0,0,1,0,0,0,0,1,0,0,0\\n', '0,58,1,0,0,0,0,1,1,1,1,1,1,0,1,1\\n', '0,69,1,0,0,0,0,0,1,1,1,1,0,0,1,0\\n', '1,48,0,1,1,1,1,1,1,1,0,1,1,1,0,1\\n', '0,75,1,0,0,0,1,0,1,1,1,1,1,0,1,1\\n', '0,57,1,1,1,1,1,0,0,0,1,0,0,1,1,1\\n', '1,68,1,1,1,1,1,1,0,0,0,1,1,0,0,1\\n', '1,60,0,0,0,0,1,1,0,0,0,0,1,0,0,0\\n', '1,44,1,1,1,1,1,1,0,0,0,0,1,1,0,1\\n', '1,64,0,1,1,1,0,0,1,1,0,1,0,1,0,1\\n', '1,10,1,0,0,0,1,1,1,0,0,0,1,0,0,0\\n', '0,60,1,0,0,0,0,1,1,1,1,1,1,0,1,1\\n', '0,71,1,1,1,1,1,0,1,1,1,1,0,1,1,1\\n', '0,65,0,1,1,0,0,1,0,1,1,1,1,1,1,1\\n', '1,60,1,1,1,0,0,1,1,0,1,0,1,1,1,1\\n', '0,69,0,0,0,1,0,1,0,1,0,1,1,0,1,0\\n', '1,53,1,1,1,0,1,0,0,1,1,0,1,1,1,1\\n', '0,55,0,1,0,0,0,1,0,1,1,1,1,0,0,0\\n', '1,57,1,1,0,0,0,0,0,0,0,0,1,0,0,0\\n', '0,61,1,0,1,0,0,0,1,1,1,0,1,1,1,1\\n', '0,56,1,1,1,0,0,0,0,0,0,0,1,1,0,0\\n', '1,67,1,1,1,0,1,0,0,0,0,0,1,1,1,1\\n', '0,59,0,1,1,0,0,0,0,0,0,0,0,1,1,0\\n', '1,59,1,1,1,0,1,0,0,0,0,0,1,1,0,1\\n', '0,60,0,1,0,0,1,0,0,1,0,1,1,0,1,1\\n', '1,56,0,0,0,0,1,0,0,1,0,0,1,1,0,0\\n', '0,56,1,0,0,0,1,0,0,1,0,0,1,0,1,1\\n', '0,60,1,0,0,0,1,0,1,1,1,1,0,0,1,1\\n', '0,68,1,0,1,0,0,1,1,0,1,1,1,0,1,1\\n', '0,63,0,0,0,1,0,1,1,1,1,0,0,1,0,1\\n', '1,77,0,1,1,1,1,1,0,1,1,0,0,0,0,1\\n', '0,51,1,0,0,1,0,1,1,1,1,0,1,0,1,1\\n', '1,70,1,1,0,1,1,0,0,0,1,1,0,1,0,1\\n', '0,71,1,1,1,1,1,1,0,1,1,1,1,1,1,1\\n', '0,61,1,1,0,0,1,0,1,0,0,1,1,1,1,1\\n', '1,64,1,1,0,1,0,1,0,1,1,1,0,1,1,1\\n', '1,70,0,0,1,1,1,1,1,1,1,0,1,1,1,1\\n', '0,60,0,0,1,1,1,0,0,0,1,0,0,0,0,0\\n', '1,56,0,0,0,1,1,1,1,1,1,0,0,0,1,1\\n', '0,63,1,1,1,0,1,1,1,1,0,0,1,0,0,1\\n', '1,54,1,0,0,1,0,1,1,1,1,1,0,1,1,1\\n', '0,49,1,0,0,1,1,1,1,1,1,1,1,1,1,1\\n', '1,57,0,1,0,1,1,1,1,0,1,1,0,0,0,1\\n', '0,51,0,1,1,0,1,0,1,1,1,1,0,1,0,1\\n', '1,63,0,1,0,1,0,1,0,0,0,1,1,0,1,1\\n', '0,73,0,0,0,0,1,0,1,0,1,1,1,1,1,1\\n', '0,47,0,1,0,1,1,1,0,1,0,0,1,1,1,1\\n', '0,69,1,1,1,1,0,1,1,0,1,1,1,0,1,1\\n', '0,70,0,1,0,1,1,1,1,1,1,1,0,1,1,1\\n', '1,60,0,1,1,0,0,0,0,0,0,1,0,0,0,0\\n', '0,70,0,1,0,1,0,1,1,1,1,1,0,0,0,1\\n', '1,68,0,0,1,0,1,0,1,1,1,0,0,1,0,1\\n', '0,74,0,1,0,1,0,1,1,1,1,1,1,0,1,1\\n', '1,70,1,1,1,1,1,1,0,1,0,1,0,1,1,1\\n', '1,56,0,1,0,0,1,1,1,1,0,1,1,0,1,1\\n', '0,66,1,0,0,0,0,1,0,1,1,1,1,0,0,1\\n', '1,76,1,1,1,1,0,1,1,0,0,0,1,1,1,1\\n', '1,78,1,1,1,1,0,1,0,1,0,1,1,1,0,1\\n', '0,68,1,1,1,1,0,0,1,0,1,0,0,1,1,1\\n', '1,66,1,1,1,1,0,1,0,1,0,1,1,1,0,1\\n', '0,67,0,0,0,0,1,1,1,1,1,1,1,0,1,1\\n', '1,60,1,0,0,0,1,1,0,0,0,0,1,0,0,1\\n', '0,60,1,0,0,0,0,1,1,1,1,1,1,0,1,1\\n', '0,58,1,0,0,0,0,0,1,1,1,1,0,0,0,1\\n', '1,76,0,1,1,1,1,1,1,1,0,1,1,1,1,1\\n', '0,56,1,0,0,0,0,1,1,1,1,1,1,0,1,1\\n', '0,67,1,1,1,1,1,0,0,0,1,0,0,1,1,1\\n', '1,73,1,1,1,1,0,1,0,0,0,1,1,1,1,1\\n', '1,58,0,0,0,0,0,1,0,0,0,0,1,0,0,0\\n', '1,54,1,1,1,1,1,1,0,0,0,0,1,1,0,1\\n', '1,61,1,1,1,1,1,0,1,1,1,0,0,1,1,1\\n', '1,80,0,0,0,1,1,0,1,0,1,1,1,0,0,1\\n', '0,56,0,0,0,0,1,1,1,0,1,1,1,0,1,1\\n', '0,60,0,1,1,0,0,0,0,1,1,1,1,1,0,1\\n', '0,66,0,1,1,0,1,0,1,0,1,1,1,0,1,1\\n', '0,61,0,1,1,0,0,1,0,1,0,0,0,1,1,1\\n', '1,61,1,1,1,0,1,0,1,0,1,0,0,0,0,1\\n', '1,55,1,0,0,1,1,1,1,1,1,0,0,1,1,1\\n', '1,61,0,0,0,1,0,0,0,1,1,0,0,1,1,1\\n', '1,70,0,0,0,0,1,1,1,0,0,1,1,0,1,1\\n', '0,51,1,0,0,0,1,1,1,1,1,0,0,1,1,1\\n', '1,59,0,1,1,1,1,0,1,1,1,1,1,1,0,1\\n', '0,48,1,0,0,0,1,1,1,0,1,1,1,1,1,1\\n', '0,60,0,1,1,1,0,1,0,0,0,0,0,1,1,1\\n', '1,60,1,1,1,0,0,0,1,0,1,1,1,0,1,1\\n', '0,59,1,0,0,1,0,0,0,0,1,1,1,0,0,1\\n', '0,64,0,1,1,1,0,1,1,0,0,1,0,1,0,1\\n', '0,56,1,0,0,0,0,1,1,1,1,1,1,0,1,1\\n', '0,58,1,0,0,0,0,0,1,1,1,1,0,0,0,1\\n', '1,80,0,1,1,1,1,1,1,1,0,1,1,1,1,1\\n', '0,64,1,0,0,0,0,1,1,1,1,1,1,0,1,1\\n', '0,61,1,1,1,1,1,0,0,0,1,0,0,1,1,1\\n', '1,71,1,1,1,1,0,1,0,0,0,1,1,1,1,1\\n', '1,60,0,0,0,0,1,1,0,0,0,0,1,0,0,1\\n', '1,60,1,1,1,1,1,1,0,0,0,0,1,1,0,1\\n', '1,60,1,1,1,1,1,0,1,1,1,0,0,1,1,1\\n', '1,49,0,0,0,1,1,0,1,0,1,1,1,0,0,1\\n', '0,53,0,0,0,0,1,1,1,0,1,0,1,0,1,1\\n', '0,58,0,1,1,0,0,1,0,1,1,1,1,1,1,1\\n', '0,60,1,1,1,0,0,1,1,0,1,0,1,1,1,1\\n', '1,68,0,0,0,1,0,1,0,1,0,1,1,0,1,1\\n', '0,60,1,1,1,0,0,0,0,0,1,0,0,1,1,1\\n', '1,71,0,1,0,0,0,1,0,1,1,1,1,0,0,1\\n', '1,71,0,1,0,0,1,1,1,1,0,1,1,0,0,1\\n', '0,57,1,0,0,0,0,1,0,1,1,1,1,0,1,1\\n', '1,50,1,1,1,1,0,1,1,0,0,0,1,1,0,1\\n', '1,54,1,1,1,1,0,1,0,1,0,1,1,1,0,1\\n', '1,56,0,1,1,1,0,0,1,0,1,0,0,1,1,1\\n', '0,77,1,1,1,1,0,1,0,1,0,1,1,1,0,1\\n', '0,64,0,0,0,0,1,1,1,1,1,1,1,0,1,1\\n', '0,57,1,0,1,0,1,1,0,0,0,0,1,0,0,1\\n', '1,66,1,1,1,0,1,1,1,1,1,1,1,0,0,1\\n', '0,70,1,0,0,0,0,0,1,0,1,1,0,0,1,1\\n', '1,53,0,1,1,1,1,1,1,0,0,1,1,0,0,1\\n', '0,50,1,0,0,0,0,1,0,1,1,1,1,0,1,1\\n', '0,58,1,1,1,1,1,0,0,0,1,0,0,1,1,1\\n', '1,58,1,1,1,1,0,1,0,0,0,1,1,1,0,1\\n', '1,63,0,0,0,0,1,1,0,0,0,0,1,0,0,0\\n', '1,50,1,1,1,1,0,1,0,0,0,0,1,1,0,1\\n', '1,60,0,1,1,1,0,0,1,1,0,1,0,1,0,1\\n', '1,60,1,0,0,0,1,1,1,0,0,0,1,0,0,1\\n', '0,76,1,0,0,0,0,1,1,1,1,1,1,0,1,1\\n', '0,70,1,1,1,0,1,0,1,1,1,1,0,1,1,1\\n', '0,69,0,0,1,0,0,1,0,1,1,1,1,1,0,1\\n', '1,56,1,1,1,0,0,1,1,0,0,0,1,0,1,1\\n', '0,67,0,0,0,1,0,1,0,1,0,1,1,0,1,1\\n', '1,54,1,1,1,0,1,0,0,1,1,0,1,1,1,1\\n', '0,63,0,1,0,0,0,1,0,1,1,1,1,0,0,1\\n', '1,47,1,1,0,1,1,1,1,1,0,1,1,0,0,1\\n', '0,61,1,0,1,0,0,1,0,1,1,1,1,0,1,1\\n', '0,65,1,1,1,1,0,1,1,0,0,0,1,1,0,1\\n', '1,63,1,1,1,1,1,1,1,1,0,1,1,1,1,1\\n', '0,64,0,1,1,1,0,0,1,0,1,0,0,1,1,1\\n', '1,65,1,1,1,1,0,1,0,1,0,1,1,1,0,1\\n', '0,50,0,1,0,0,1,1,1,1,1,1,1,0,1,1\\n', '1,56,0,0,0,1,1,1,0,0,1,1,1,1,0,1\\n', '0,70,1,0,0,0,0,1,1,1,1,1,1,0,1,1\\n', '0,58,1,0,0,0,0,0,1,1,1,1,0,0,1,1\\n', '0,67,1,0,1,0,0,1,1,0,1,1,1,0,1,1\\n', '0,61,0,0,0,1,0,1,1,1,1,0,0,1,0,1\\n', '1,74,0,1,1,1,1,1,0,1,1,0,0,0,0,1\\n', '0,69,1,0,0,1,0,0,0,0,0,0,0,0,1,0\\n', '1,64,1,1,0,1,1,0,0,0,0,0,0,0,0,0\\n', '0,75,1,1,1,1,1,0,0,0,0,0,0,0,1,1\\n', '0,47,1,1,0,0,1,0,0,0,0,0,0,0,1,0\\n', '1,57,1,1,0,1,0,0,0,0,0,0,0,0,1,0\\n', '1,56,0,0,1,1,1,1,1,1,1,0,1,1,1,1\\n', '0,68,0,0,1,1,1,0,0,0,1,0,0,0,0,0\\n', '1,55,0,0,0,1,1,1,1,1,1,0,0,0,1,1\\n', '0,61,1,1,1,0,1,1,1,1,0,0,1,0,0,1\\n', '1,73,1,0,0,1,0,1,1,1,1,1,0,1,1,1\\n', '0,68,1,0,0,1,1,1,1,1,1,1,1,1,1,1\\n', '1,75,0,1,0,1,1,1,1,0,1,1,0,0,0,1\\n', '0,63,0,1,1,0,1,0,1,1,1,1,0,1,0,1\\n', '1,60,0,1,0,1,0,1,0,0,0,1,1,0,1,1\\n', '0,61,0,0,0,0,1,0,1,0,1,1,1,1,1,1\\n', '0,44,0,1,0,1,1,1,0,1,0,0,1,1,1,1\\n', '0,56,1,1,1,1,0,1,1,0,1,1,1,0,1,1\\n', '0,54,0,1,0,1,1,1,1,1,1,1,0,1,1,1\\n', '1,57,0,1,1,0,0,0,0,0,0,1,0,0,0,0\\n', '0,56,0,1,0,1,0,1,1,1,1,1,0,0,0,1\\n', '1,69,0,0,1,0,1,0,1,1,1,0,0,1,0,1\\n', '0,71,0,1,0,1,0,1,1,1,1,1,1,0,1,1\\n', '1,59,1,1,1,1,1,1,0,1,0,1,0,1,1,1\\n', '1,70,0,1,0,0,1,1,1,1,0,1,1,0,1,1\\n', '0,64,1,0,0,0,0,1,0,1,1,1,1,0,0,1\\n', '1,60,1,1,1,1,0,1,1,0,0,0,1,1,1,1\\n', '1,71,1,1,1,1,0,1,0,1,0,1,1,1,0,1\\n', '0,63,1,1,1,1,0,0,1,0,1,0,0,1,1,1\\n', '1,74,1,1,1,1,0,1,0,1,0,1,1,1,0,1\\n', '0,70,0,0,0,0,1,1,1,1,1,1,1,0,1,1\\n', '1,70,1,0,0,0,1,1,0,0,0,0,1,0,0,0\\n', '0,71,1,0,0,0,0,1,1,1,1,1,1,0,1,1\\n', '0,77,1,0,0,0,0,0,1,1,1,1,0,0,0,1\\n', '1,71,0,1,1,1,1,1,0,0,0,0,0,0,0,1\\n', '0,55,1,0,0,0,0,1,0,0,0,0,0,0,0,1\\n', '0,65,1,1,1,1,1,0,0,0,0,0,0,0,0,1\\n', '1,67,1,1,1,1,0,1,0,0,0,0,0,0,0,1\\n', '1,69,0,0,0,0,1,1,0,0,0,0,0,0,0,1\\n', '1,55,1,1,1,1,1,1,0,0,0,0,0,0,0,1\\n', '1,50,1,1,1,1,1,0,0,0,0,0,0,0,0,1\\n', '1,64,0,0,0,1,1,0,0,0,0,0,0,0,0,1\\n', '0,63,0,0,0,0,1,1,1,0,1,1,1,0,1,1\\n', '0,69,0,1,1,0,0,0,0,1,1,1,1,1,0,1\\n', '0,64,0,1,1,0,1,0,1,0,1,1,1,0,1,1\\n', '0,59,0,1,1,0,0,1,0,1,0,0,0,1,1,1\\n', '1,73,1,1,1,0,1,0,1,0,1,0,0,0,0,1\\n', '1,55,1,0,0,1,1,1,1,1,1,0,0,1,1,1\\n', '1,63,0,0,0,1,0,0,0,1,1,0,0,1,1,1\\n', '1,60,0,0,0,0,1,1,1,0,0,1,1,0,1,1\\n', '0,74,1,0,0,0,1,1,1,1,1,0,0,1,1,1\\n', '1,65,0,1,1,1,1,0,1,1,1,1,1,1,0,1\\n', '0,79,1,0,0,0,1,1,1,0,1,1,1,1,1,1\\n', '0,61,0,1,1,1,0,1,0,0,0,0,0,1,1,1\\n', '1,70,1,1,1,0,0,0,1,0,1,1,1,0,1,1\\n', '0,63,1,0,0,1,0,0,0,0,0,1,1,0,0,0\\n', '0,67,0,1,1,1,0,1,1,0,0,1,0,1,0,1\\n', '0,55,1,0,0,0,0,1,1,1,1,1,1,0,1,1\\n', '0,54,1,0,0,0,0,0,1,1,1,1,0,0,0,1\\n', '1,77,0,1,1,1,1,1,1,1,0,1,1,1,1,1\\n', '0,58,1,0,0,0,0,1,1,1,1,1,1,0,1,1\\n', '0,64,1,1,1,1,1,0,0,0,1,0,0,1,1,1\\n', '1,60,1,1,1,1,0,1,0,0,0,1,1,1,1,1\\n', '1,61,0,0,0,0,1,1,0,0,0,0,1,0,0,0\\n', '1,67,1,1,1,1,1,1,0,0,0,0,1,1,0,1\\n', '1,56,1,1,1,1,1,0,1,1,1,0,0,1,1,1\\n', '1,70,0,0,0,1,1,0,1,0,1,1,1,0,0,1\\n', '0,70,0,0,0,0,1,1,1,0,1,1,1,0,1,1\\n', '1,57,0,0,1,1,1,1,1,1,1,0,1,1,1,1\\n', '0,60,0,0,1,1,1,0,0,0,1,0,0,0,0,0\\n', '1,77,0,0,0,1,1,1,1,1,1,0,0,0,1,1\\n', '0,63,1,1,1,0,1,1,1,1,0,0,1,0,0,1\\n', '1,61,1,0,0,1,0,1,1,1,1,1,0,1,1,1\\n', '0,59,1,0,0,1,1,1,1,1,1,1,1,1,1,1\\n', '1,70,0,1,0,1,1,1,1,0,1,1,0,0,0,1\\n', '0,70,0,1,1,0,1,0,1,1,1,1,0,1,0,1\\n', '1,56,0,1,0,1,0,1,0,0,0,1,1,0,1,1\\n', '0,57,0,0,0,0,1,0,1,0,1,1,1,1,1,1\\n', '0,78,0,1,0,1,1,1,0,1,0,0,1,1,1,1\\n', '0,64,1,1,1,1,0,1,1,0,1,1,1,0,1,1\\n', '0,61,0,1,0,1,1,1,1,1,1,1,0,1,1,1\\n', '1,49,0,1,1,0,0,0,0,0,0,1,0,0,0,1\\n', '0,77,0,1,0,1,0,1,1,1,1,1,0,0,0,1\\n', '1,64,0,0,1,0,1,0,1,1,1,0,0,1,0,1\\n', '0,63,0,1,0,1,0,1,1,1,1,1,1,0,1,1\\n', '1,54,1,1,1,1,1,1,0,1,0,1,0,1,1,1\\n', '1,38,0,1,0,0,1,1,1,1,0,1,1,0,1,1\\n', '1,75,0,1,1,1,0,0,1,1,0,1,0,1,0,1\\n', '1,70,1,0,0,1,1,0,1,0,0,0,1,0,0,1\\n', '0,59,1,0,0,0,0,1,1,1,1,1,1,0,1,1\\n', '0,77,1,1,1,0,1,0,1,1,0,0,0,1,1,1\\n', '0,60,0,0,1,0,1,1,0,1,1,1,1,1,0,1\\n', '1,64,1,1,1,0,0,1,1,0,0,0,1,0,1,1\\n', '0,59,0,0,0,1,0,1,0,1,0,0,1,0,1,0\\n', '1,70,1,1,1,0,1,0,0,1,1,0,1,1,1,1\\n', '0,67,0,1,0,0,0,1,0,1,1,1,1,0,0,1\\n', '1,64,1,1,0,1,1,1,1,1,0,1,1,0,0,1\\n', '0,68,1,0,1,0,0,1,0,0,0,0,0,0,0,0\\n', '0,69,1,1,1,1,0,1,1,0,0,0,1,1,0,1\\n', '1,64,1,1,1,1,1,1,1,1,0,1,1,1,1,1\\n', '0,59,0,1,1,1,1,0,1,0,1,0,0,1,1,1\\n', '1,67,1,1,1,1,0,1,0,1,0,1,1,1,0,1\\n', '0,74,0,1,0,0,1,1,1,1,1,1,1,0,1,1\\n', '1,77,0,0,0,1,1,1,0,0,1,1,1,1,0,1\\n', '0,60,1,0,0,0,0,1,1,1,1,1,1,0,1,1\\n', '0,64,1,0,0,0,0,0,1,1,1,1,0,0,1,1\\n', '0,70,1,0,1,0,0,1,1,0,1,1,1,0,1,1\\n', '0,58,0,0,0,1,0,1,1,1,1,0,0,1,0,1\\n', '1,59,0,1,1,1,1,1,0,1,1,0,0,0,0,1\\n', '0,39,1,0,0,1,0,1,1,1,1,0,1,0,1,1\\n', '1,67,0,1,0,0,0,0,0,1,0,1,1,0,0,0\\n', '1,70,0,1,0,0,1,1,1,1,0,1,1,0,0,1\\n', '0,70,1,0,0,0,0,1,0,1,1,1,1,0,1,1\\n', '1,60,1,1,1,1,0,1,1,0,0,0,1,1,0,1\\n', '1,55,1,0,1,0,0,1,0,0,0,0,0,0,0,0\\n', '0,60,1,1,1,1,1,0,1,0,1,0,0,1,1,1\\n', '1,55,1,1,1,1,1,1,0,1,0,1,1,1,0,1\\n', '0,55,0,0,0,0,1,1,1,1,1,1,1,0,1,1\\n', '1,70,1,0,0,0,0,1,0,0,0,0,1,0,0,0\\n', '0,63,1,0,0,0,0,1,1,1,1,1,1,0,1,1\\n', '0,64,1,0,0,0,0,0,1,1,1,1,0,0,1,0\\n', '1,59,0,1,1,1,1,1,1,1,0,1,1,1,0,1\\n', '0,56,1,0,0,0,1,0,1,1,1,1,1,0,1,1\\n', '0,64,1,1,1,1,1,0,0,0,1,0,0,1,1,1\\n', '1,61,1,1,1,1,1,1,0,0,0,1,1,0,0,1\\n', '1,87,0,0,0,0,1,1,0,0,0,0,1,0,0,0\\n', '1,77,1,1,1,1,1,1,0,0,0,0,1,1,0,1\\n', '1,59,0,1,1,1,0,0,1,1,0,1,0,1,0,1\\n', '1,59,1,0,0,0,1,1,1,0,0,0,1,0,0,0\\n', '0,55,1,0,0,0,0,1,1,0,0,0,1,0,1,0\\n', '0,46,0,1,1,0,0,0,0,0,0,0,0,1,1,0\\n', '0,60,0,1,1,0,0,1,0,1,1,1,1,1,1,1\\n', '0,58,1,1,1,1,1,0,0,0,1,0,0,1,1,1\\n', '1,58,1,1,1,1,0,1,0,0,0,1,1,1,0,1\\n', '1,63,0,0,0,0,1,1,0,0,0,0,1,0,0,0\\n', '1,50,1,1,1,1,0,1,0,0,0,0,1,1,0,1\\n', '1,60,0,1,1,1,0,0,1,1,0,1,0,1,0,1\\n', '1,60,1,0,0,0,1,1,1,0,0,0,1,0,0,1\\n', '0,76,1,0,0,0,0,1,1,1,1,1,1,0,1,1\\n', '0,70,1,1,1,0,1,0,1,1,1,1,0,1,1,1\\n', '0,69,0,0,1,0,0,1,0,1,1,1,1,1,0,1\\n', '1,56,1,1,1,0,0,1,1,0,0,0,1,0,1,1\\n', '0,67,0,0,0,1,0,1,0,1,0,1,1,0,1,1\\n', '1,54,1,1,1,0,1,0,0,1,1,0,1,1,1,1\\n', '0,63,0,1,0,0,0,1,0,1,1,1,1,0,0,1\\n', '1,47,1,1,0,1,1,1,1,1,0,1,1,0,0,1\\n', '0,61,1,0,1,0,0,1,0,1,1,1,1,0,1,1\\n', '0,65,1,1,1,1,0,1,1,0,0,0,1,1,0,1\\n', '1,63,1,1,1,1,1,1,1,1,0,1,1,1,1,1\\n', '0,64,0,1,1,1,0,0,1,0,1,0,0,1,1,1\\n', '1,65,1,1,1,1,0,1,0,1,0,1,1,1,0,1\\n', '0,50,0,1,0,0,1,1,1,1,1,1,1,0,1,1\\n', '1,56,0,0,0,1,1,1,0,0,1,1,1,1,0,1\\n', '0,70,1,0,0,0,0,1,1,1,1,1,1,0,1,1\\n', '0,58,1,0,0,0,0,0,1,1,1,1,0,0,1,1\\n', '0,67,1,0,1,0,0,1,1,0,1,1,1,0,1,1\\n', '0,61,0,0,0,1,0,1,1,1,1,0,0,1,0,1\\n']\n"
     ]
    }
   ],
   "source": [
    "#load training data and convert into list\n",
    "training_file = open(\"/home/sarvesh/Downloads/survey lung cancer.csv\", 'r')\n",
    "training_list = training_file.readlines()\n",
    "training_file.close()\n",
    "for i in range(1, len(training_list)):\n",
    "    training_list[i] = training_list[i].replace(\"1\", \"0\")\n",
    "    training_list[i] = training_list[i].replace(\"2\", \"1\")\n",
    "    training_list[i] = training_list[i].replace(\"YES\", \"1\")\n",
    "    training_list[i] = training_list[i].replace(\"NO\", \"0\")\n",
    "    training_list[i] = training_list[i].replace(\"M\", \"0\")\n",
    "    training_list[i] = training_list[i].replace(\"F\", \"1\")\n",
    "print(training_list)"
   ]
  },
  {
   "cell_type": "code",
   "execution_count": 109,
   "id": "153dba39",
   "metadata": {},
   "outputs": [
    {
     "name": "stdout",
     "output_type": "stream",
     "text": [
      "[0.01 0.46 0.01 0.99 0.99 0.01 0.01 0.01 0.01 0.01 0.01 0.01 0.01 0.99\n",
      " 0.99]\n"
     ]
    }
   ],
   "source": [
    "epochs = 10\n",
    "\n",
    "for e in range(epochs):\n",
    "    \n",
    "    #go through training data\n",
    "    for iteration in training_list[1:284]:\n",
    "        all_values = iteration.split(',')\n",
    "\n",
    "        #since inputs are pixel values, they range from 0 to 255\n",
    "        #scale inputs by dividing by 255 and multiplying by 0.99  and adding 0.01\n",
    "        inputs = (np.asfarray(all_values[:15]) * 0.98) + 0.01\n",
    "        inputs[1] = ((inputs[1] - 0.01) / 0.98) / 100\n",
    "\n",
    "\n",
    "        #create target value by having all labels except desired one as 0.01. Desired label to be 0.99\n",
    "        targets = np.zeros(outputnodes) + 0.01\n",
    "\n",
    "        #all_values[0] is the first value of the training/testing set which is the final answer too\n",
    "        targets[int(all_values[-1])] = 0.99\n",
    "        n.train(inputs, targets)\n",
    "print(inputs)"
   ]
  },
  {
   "cell_type": "code",
   "execution_count": 110,
   "id": "816797ca",
   "metadata": {},
   "outputs": [
    {
     "name": "stdout",
     "output_type": "stream",
     "text": [
      "['0,60,0,1,1,0,0,1,0,1,1,1,1,1,1,1\\n', '0,58,1,1,1,1,1,0,0,0,1,0,0,1,1,1\\n', '1,58,1,1,1,1,0,1,0,0,0,1,1,1,0,1\\n', '1,63,0,0,0,0,1,1,0,0,0,0,1,0,0,0\\n', '1,50,1,1,1,1,0,1,0,0,0,0,1,1,0,1\\n', '1,60,0,1,1,1,0,0,1,1,0,1,0,1,0,1\\n', '1,60,1,0,0,0,1,1,1,0,0,0,1,0,0,1\\n', '0,76,1,0,0,0,0,1,1,1,1,1,1,0,1,1\\n', '0,70,1,1,1,0,1,0,1,1,1,1,0,1,1,1\\n', '0,69,0,0,1,0,0,1,0,1,1,1,1,1,0,1\\n', '1,56,1,1,1,0,0,1,1,0,0,0,1,0,1,1\\n', '0,67,0,0,0,1,0,1,0,1,0,1,1,0,1,1\\n', '1,54,1,1,1,0,1,0,0,1,1,0,1,1,1,1\\n', '0,63,0,1,0,0,0,1,0,1,1,1,1,0,0,1\\n', '1,47,1,1,0,1,1,1,1,1,0,1,1,0,0,1\\n', '0,61,1,0,1,0,0,1,0,1,1,1,1,0,1,1\\n', '0,65,1,1,1,1,0,1,1,0,0,0,1,1,0,1\\n', '1,63,1,1,1,1,1,1,1,1,0,1,1,1,1,1\\n', '0,64,0,1,1,1,0,0,1,0,1,0,0,1,1,1\\n', '1,65,1,1,1,1,0,1,0,1,0,1,1,1,0,1\\n', '0,50,0,1,0,0,1,1,1,1,1,1,1,0,1,1\\n', '1,56,0,0,0,1,1,1,0,0,1,1,1,1,0,1\\n', '0,70,1,0,0,0,0,1,1,1,1,1,1,0,1,1\\n', '0,58,1,0,0,0,0,0,1,1,1,1,0,0,1,1\\n', '0,67,1,0,1,0,0,1,1,0,1,1,1,0,1,1\\n', '0,61,0,0,0,1,0,1,1,1,1,0,0,1,0,1\\n']\n"
     ]
    }
   ],
   "source": [
    "#load testing data and convert into list\n",
    "testing_list = training_list[284:]"
   ]
  },
  {
   "cell_type": "code",
   "execution_count": 111,
   "id": "3fc148bd",
   "metadata": {},
   "outputs": [
    {
     "name": "stdout",
     "output_type": "stream",
     "text": [
      "[1, 1, 1, 0, 1, 1, 1, 1, 1, 1, 1, 1, 1, 1, 1, 1, 1, 1, 1, 1, 1, 1, 1, 1, 1, 1]\n"
     ]
    }
   ],
   "source": [
    "score = []\n",
    "\n",
    "#go through testing data\n",
    "for iteration in testing_list:\n",
    "    all_values = iteration.split(',')\n",
    "    correct_ans = int(all_values[-1])\n",
    "    \n",
    "    #print(\"Actual number is\", correct_ans)\n",
    "    \n",
    "    #since inputs are pixel values, they range from 0 to 255\n",
    "    #scale inputs by dividing by 255 and multiplying by 0.99  and adding 0.01\n",
    "    inputs = (np.asfarray(all_values[:-1]) * 0.98) + 0.01\n",
    "    inputs[1] = ((inputs[1] - 0.01) / 0.98) / 100\n",
    "    \n",
    "    #final output\n",
    "    outputs = n.query(inputs)\n",
    "    \n",
    "    #index of highest output is the answer\n",
    "    index = np.argmax(outputs)\n",
    "    \n",
    "    #print(\"Networks identified answer is \", index)\n",
    "    \n",
    "    if index == correct_ans:\n",
    "        score.append(1)\n",
    "    else:\n",
    "        score.append(0)\n",
    "print(score)"
   ]
  },
  {
   "cell_type": "code",
   "execution_count": 112,
   "id": "e1c7dee2",
   "metadata": {},
   "outputs": [
    {
     "name": "stdout",
     "output_type": "stream",
     "text": [
      "Accuracy is  96.15384615384616 %\n"
     ]
    }
   ],
   "source": [
    "#calculate accuracy\n",
    "score_Array = np.asarray(score)\n",
    "print(\"Accuracy is \", score_Array.sum() / score_Array.size * 100, \"%\")"
   ]
  },
  {
   "cell_type": "code",
   "execution_count": 114,
   "id": "e4d33bc1",
   "metadata": {},
   "outputs": [
    {
     "name": "stdout",
     "output_type": "stream",
     "text": [
      "Please answer the below questions with integers only. For yes/no questions, please answer 1 for Yes and 0 for No\n",
      "Please enter your gender. 0 for male and 1 for Female: 0\n",
      "Please enter your age: 65\n",
      "Please enter if you smoke: 0\n",
      "Please enter if you have yellow fingers: 0\n",
      "Please enter if you have anxiety issues: 0\n",
      "Please enter if you are under peer pressure: 0\n",
      "Please enter if you have a chronic disease: 0\n",
      "Please enter if you face fatigue: 0\n",
      "Please enter if you have any allergies: 0\n",
      "Please enter if you wheeze a lot: 0\n",
      "Please enter if you consume alcohol: 0\n",
      "Please enter if you cough too frequently: 0\n",
      "Please enter if you face shortness of breath: 0\n",
      "Please enter if you have difficulty swallowing: 0\n",
      "Please enter if you have chest pain: 0\n",
      "['0', '65', '0', '0', '0', '0', '0', '0', '0', '0', '0', '0', '0', '0', '0']\n"
     ]
    }
   ],
   "source": [
    "print(\"Please answer the below questions with integers only. For yes/no questions, please answer 1 for Yes and 0 for No\")\n",
    "user_data = []\n",
    "user_data.append(input(\"Please enter your gender. 0 for male and 1 for Female: \"))\n",
    "user_data.append(input(\"Please enter your age: \"))\n",
    "user_data.append(input(\"Please enter if you smoke: \"))\n",
    "user_data.append(input(\"Please enter if you have yellow fingers: \"))\n",
    "user_data.append(input(\"Please enter if you have anxiety issues: \"))\n",
    "user_data.append(input(\"Please enter if you are under peer pressure: \"))\n",
    "user_data.append(input(\"Please enter if you have a chronic disease: \"))\n",
    "user_data.append(input(\"Please enter if you face fatigue: \"))\n",
    "user_data.append(input(\"Please enter if you have any allergies: \"))\n",
    "user_data.append(input(\"Please enter if you wheeze a lot: \"))\n",
    "user_data.append(input(\"Please enter if you consume alcohol: \"))\n",
    "user_data.append(input(\"Please enter if you cough too frequently: \"))\n",
    "user_data.append(input(\"Please enter if you face shortness of breath: \"))\n",
    "user_data.append(input(\"Please enter if you have difficulty swallowing: \"))\n",
    "user_data.append(input(\"Please enter if you have chest pain: \"))\n",
    "print(user_data)"
   ]
  },
  {
   "cell_type": "code",
   "execution_count": 115,
   "id": "ea1d7437",
   "metadata": {},
   "outputs": [
    {
     "name": "stdout",
     "output_type": "stream",
     "text": [
      "[[0.12770567]\n",
      " [0.29326159]]\n"
     ]
    }
   ],
   "source": [
    "inputs = (np.asfarray(user_data))\n",
    "output = n.query(inputs)\n",
    "index = np.argmax(outputs)\n",
    "\n",
    "print(output)"
   ]
  }
 ],
 "metadata": {
  "kernelspec": {
   "display_name": "Python 3 (ipykernel)",
   "language": "python",
   "name": "python3"
  },
  "language_info": {
   "codemirror_mode": {
    "name": "ipython",
    "version": 3
   },
   "file_extension": ".py",
   "mimetype": "text/x-python",
   "name": "python",
   "nbconvert_exporter": "python",
   "pygments_lexer": "ipython3",
   "version": "3.9.7"
  }
 },
 "nbformat": 4,
 "nbformat_minor": 5
}
