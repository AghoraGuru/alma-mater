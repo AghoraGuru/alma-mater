{
 "cells": [
  {
   "cell_type": "code",
   "execution_count": 2,
   "metadata": {},
   "outputs": [
    {
     "name": "stdout",
     "output_type": "stream",
     "text": [
      "3\n"
     ]
    }
   ],
   "source": [
    "#Implementing manhatten distance problem using greedy approach\n",
    "import numpy as np\n",
    "downward_matrix = np.array([[1,4,4,5],[0,6,4,6],[2,5,5,8],[4,2,2,5],[3,1,1,3]])\n",
    "rightward_matrix = np.array([[3,2,4,0],[3,2,3,2],[0,7,3,3],[3,3,0,2],[1,3,2,2]])\n",
    "def manhatten_distance(downward_matrix,rightward_matrix):\n",
    "    return downward_matrix[3,3] - rightward_matrix[3,3]\n",
    "print(manhatten_distance(downward_matrix,rightward_matrix))"
   ]
  },
  {
   "cell_type": "code",
   "execution_count": 3,
   "metadata": {},
   "outputs": [
    {
     "name": "stdout",
     "output_type": "stream",
     "text": [
      "['down', 'down', 'right', 'down', 'down', 'right', 'right', 'right']\n"
     ]
    }
   ],
   "source": []
  },
  {
   "attachments": {},
   "cell_type": "markdown",
   "metadata": {},
   "source": [
    "Dynammic Approach"
   ]
  },
  {
   "cell_type": "code",
   "execution_count": 8,
   "metadata": {},
   "outputs": [],
   "source": [
    "def manhattan_path(grid, start, end):\n",
    "    rows, cols = len(grid), len(grid[0])\n",
    "\n",
    "    # Initialize downward and eastward matrices\n",
    "    downward = [[0] * cols for _ in range(rows)]\n",
    "    eastward = [[0] * cols for _ in range(rows)]\n",
    "\n",
    "    # Initialize first row and column of the matrices\n",
    "    downward[0][0] = grid[0][0]\n",
    "    eastward[0][0] = grid[0][0]\n",
    "    for i in range(1, rows):\n",
    "        downward[i][0] = downward[i-1][0] + grid[i][0]\n",
    "        eastward[i][0] = float('inf')\n",
    "    for j in range(1, cols):\n",
    "        downward[0][j] = float('inf')\n",
    "        eastward[0][j] = eastward[0][j-1] + grid[0][j]\n",
    "\n",
    "    # Calculate shortest path and update matrices for remaining cells\n",
    "    for i in range(1, rows):\n",
    "        for j in range(1, cols):\n",
    "            downward[i][j] = downward[i-1][j] + grid[i][j]\n",
    "            eastward[i][j] = eastward[i][j-1] + grid[i][j]\n",
    "            if downward[i][j] > downward[i][j-1] + grid[i][j]:\n",
    "                downward[i][j] = downward[i][j-1] + grid[i][j]\n",
    "            if eastward[i][j] > eastward[i-1][j] + grid[i][j]:\n",
    "                eastward[i][j] = eastward[i-1][j] + grid[i][j]\n",
    "\n",
    "    # Construct shortest path\n",
    "    shortest_path = [(rows-1, cols-1)]\n",
    "    i, j = rows-1, cols-1\n",
    "    while (i, j) != (0, 0):\n",
    "        if i == 0:\n",
    "            shortest_path.append((i, j-1))\n",
    "            j -= 1\n",
    "        elif j == 0:\n",
    "            shortest_path.append((i-1, j))\n",
    "            i -= 1\n",
    "        else:\n",
    "            if downward[i][j-1] + grid[i][j] <= eastward[i-1][j] + grid[i][j]:\n",
    "                shortest_path.append((i, j-1))\n",
    "                j -= 1\n",
    "            else:\n",
    "                shortest_path.append((i-1, j))\n",
    "                i -= 1\n",
    "\n",
    "    shortest_path.append((0, 0))\n",
    "    shortest_path.reverse()\n",
    "\n",
    "    return (downward, eastward, shortest_path)\n"
   ]
  },
  {
   "cell_type": "code",
   "execution_count": 13,
   "metadata": {},
   "outputs": [
    {
     "name": "stdout",
     "output_type": "stream",
     "text": [
      "\n",
      "Shortest Path:\n",
      "[(0, 0), (0, 0), (1, 0), (1, 1), (2, 1), (2, 2), (3, 2), (3, 3)]\n"
     ]
    }
   ],
   "source": [
    "grid = [[1, 3, 5, 9],\n",
    "        [2, 1, 3, 4],\n",
    "        [5, 2, 6, 7],\n",
    "        [6, 8, 4, 3]]\n",
    "\n",
    "start = (0, 0)\n",
    "end = (3, 3)\n",
    "\n",
    "downward, eastward, shortest_path = manhattan_path(grid, start, end)\n",
    "\n",
    "print(\"\\nShortest Path:\")\n",
    "print(shortest_path)\n"
   ]
  },
  {
   "cell_type": "code",
   "execution_count": null,
   "metadata": {},
   "outputs": [],
   "source": []
  }
 ],
 "metadata": {
  "kernelspec": {
   "display_name": "base",
   "language": "python",
   "name": "python3"
  },
  "language_info": {
   "codemirror_mode": {
    "name": "ipython",
    "version": 3
   },
   "file_extension": ".py",
   "mimetype": "text/x-python",
   "name": "python",
   "nbconvert_exporter": "python",
   "pygments_lexer": "ipython3",
   "version": "3.10.9"
  },
  "orig_nbformat": 4
 },
 "nbformat": 4,
 "nbformat_minor": 2
}
