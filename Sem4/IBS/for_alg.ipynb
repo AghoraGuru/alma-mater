{
 "cells": [
  {
   "cell_type": "code",
   "execution_count": 1,
   "metadata": {},
   "outputs": [],
   "source": [
    "def forward_algo(obs,states,start_prob,transi_prob,emission_prob):\n",
    "    T = len(obs)\n",
    "    N = len(states)\n",
    "\n",
    "    forward = [[0.0]* N for _ in range(T)]\n",
    "\n",
    "    #initialize the first colum nof forward probabilities\n",
    "    for i in range(N):\n",
    "        forward[0][i] = start_prob[i] * emission_prob[i][obs[0]]\n",
    "\n",
    "    #forward probabilities for each time step\n",
    "    for t in range(1,T):\n",
    "        for j in range(N):\n",
    "            forward[t][j] = sum(forward[t-1][i] * transi_prob[i][j] * emission_prob[j][obs[t]]\n",
    "                                for i in range(N))\n",
    "    \n",
    "    #total prob of the sequence\n",
    "    total_prib = sum(forward[T-1])\n",
    "\n",
    "    return forward,total_prib"
   ]
  },
  {
   "cell_type": "code",
   "execution_count": 3,
   "metadata": {},
   "outputs": [
    {
     "name": "stdout",
     "output_type": "stream",
     "text": [
      "Forward Probabilities\n",
      "P(sunny_1) = 0.160000\n",
      "P(rainy_1) = 0.120000\n",
      "P(sunny_2) = 0.128000\n",
      "P(rainy_2) = 0.048000\n",
      "P(sunny_3) = 0.021760\n",
      "P(rainy_3) = 0.040320\n",
      "Total probability: 0.062079999999999996\n"
     ]
    }
   ],
   "source": [
    "#HMM parameters\n",
    "obs = [0,1,0]\n",
    "states  = ['sunny','rainy']\n",
    "start_prob = [0.8,0.2]\n",
    "transistion_prob = [[0.7,0.3],[0.4,0.6]]\n",
    "emission_prob = [[0.2,0.8],[0.6,0.4]]\n",
    "\n",
    "forward_probs, total_probs = forward_algo(obs,states,start_prob,transistion_prob,emission_prob)\n",
    "\n",
    "print(\"Forward Probabilities\")\n",
    "for t in range(len(obs)):\n",
    "    for i in range(len(states)):\n",
    "        print(f\"P({states[i]}_{t+1}) = {forward_probs[t][i]:.6f}\")\n",
    "print(\"Total probability:\",total_probs)"
   ]
  },
  {
   "cell_type": "code",
   "execution_count": null,
   "metadata": {},
   "outputs": [],
   "source": []
  }
 ],
 "metadata": {
  "kernelspec": {
   "display_name": "base",
   "language": "python",
   "name": "python3"
  },
  "language_info": {
   "codemirror_mode": {
    "name": "ipython",
    "version": 3
   },
   "file_extension": ".py",
   "mimetype": "text/x-python",
   "name": "python",
   "nbconvert_exporter": "python",
   "pygments_lexer": "ipython3",
   "version": "3.10.10"
  },
  "orig_nbformat": 4
 },
 "nbformat": 4,
 "nbformat_minor": 2
}
