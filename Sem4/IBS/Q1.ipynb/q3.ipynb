{
 "cells": [
  {
   "cell_type": "markdown",
   "metadata": {},
   "source": [
    "### Needleman-Wunsch Algorithm for Global Sequence Alignment:\n",
    "The Needleman-Wunsch algorithm is a dynamic programming algorithm used to align two sequences globally. The algorithm constructs a matrix where each element (i, j) represents the optimal alignment score of the first i characters of sequence A and the first j characters of sequence B. We start with an empty alignment and build the optimal alignment recursively by comparing the scores of the adjacent cells in the matrix."
   ]
  },
  {
   "cell_type": "markdown",
   "metadata": {},
   "source": [
    "```python\n",
    "def find_optimal_alignment(sequence1, sequence2, match_score=1, mismatch_score=-1, gap_score=-1):\n",
    "  \"\"\"\n",
    "  Finds the optimal alignment of two sequences, using the Needleman-Wunsch algorithm.\n",
    "  Returns: A tuple of two strings, representing the optimal alignment of the two sequences.\n",
    "  \"\"\"\n",
    "  n = len(sequence1)\n",
    "  m = len(sequence2)\n",
    "  score_matrix = [[0 for j in range(m + 1)] for i in range(n + 1)]\n",
    "  for i in range(n + 1):\n",
    "    score_matrix[i][0] = i * gap_score\n",
    "  for j in range(m + 1):\n",
    "    score_matrix[0][j] = j * gap_score\n",
    "\n",
    "  for i in range(1, n + 1):\n",
    "    for j in range(1, m + 1):\n",
    "      match = score_matrix[i - 1][j - 1] + (match_score if sequence1[i - 1] == sequence2[j - 1] else mismatch_score)\n",
    "      delete = score_matrix[i - 1][j] + gap_score\n",
    "      insert = score_matrix[i][j - 1] + gap_score\n",
    "      score_matrix[i][j] = max(match, delete, insert)\n",
    "  alignment1 = \"\"\n",
    "  alignment2 = \"\"\n",
    "  i = n\n",
    "  j = m\n",
    "  while i > 0 or j > 0:\n",
    "    if i > 0 and j > 0 and score_matrix[i][j] == score_matrix[i - 1][j - 1] + (match_score if sequence1[i - 1] == sequence2[j - 1] else mismatch_score):\n",
    "      alignment1 += sequence1[i - 1]\n",
    "      alignment2 += sequence2[j - 1]\n",
    "      i -= 1\n",
    "      j -= 1\n",
    "    elif i > 0 and score_matrix[i][j] == score_matrix[i - 1][j] + gap_score:\n",
    "      alignment1 += sequence1[i - 1]\n",
    "      alignment2 += \"-\"\n",
    "      i -= 1\n",
    "    else:\n",
    "      alignment1 += \"-\"\n",
    "      alignment2 += sequence2[j - 1]\n",
    "      j -= 1\n",
    "  return alignment1, alignment2\n",
    " ```"
   ]
  },
  {
   "cell_type": "code",
   "execution_count": 2,
   "metadata": {},
   "outputs": [
    {
     "name": "stdout",
     "output_type": "stream",
     "text": [
      "('AGTACGCA', '--TATGC-')\n"
     ]
    }
   ],
   "source": [
    "seq1 = \"AGTACGCA\"\n",
    "seq2 = \"TATGC\"\n",
    "alignment = needleman_wunsch(seq1, seq2)\n",
    "print(alignment)\n"
   ]
  },
  {
   "cell_type": "markdown",
   "metadata": {},
   "source": [
    "### Local Alignment Algorithm for Local Sequence Alignment:\n",
    "The Smith-Waterman algorithm is also a dynamic programming algorithm used to align two sequences locally. The algorithm constructs a matrix where each element (i, j) represents the optimal alignment score of the subsequence ending at position i in sequence A and the subsequence ending at position j in sequence B. We start with an empty alignment and build the optimal alignment recursively by comparing the scores of the adjacent cells in the matrix."
   ]
  },
  {
   "cell_type": "code",
   "execution_count": 7,
   "metadata": {},
   "outputs": [
    {
     "name": "stdout",
     "output_type": "stream",
     "text": [
      "('TG', 'TG', 2)\n"
     ]
    }
   ],
   "source": [
    "s1 = 'TGTTACGG'\n",
    "s2 = 'GGTTGACTA'\n",
    "match_score = 1\n",
    "mismatch_score = -1\n",
    "gap_penalty = -2\n",
    "\n",
    "alignment = find_local_alignment(s1, s2, match_score, mismatch_score, gap_penalty)\n",
    "print(alignment)"
   ]
  }
 ],
 "metadata": {
  "kernelspec": {
   "display_name": "Python 3 (ipykernel)",
   "language": "python",
   "name": "python3"
  },
  "language_info": {
   "codemirror_mode": {
    "name": "ipython",
    "version": 3
   },
   "file_extension": ".py",
   "mimetype": "text/x-python",
   "name": "python",
   "nbconvert_exporter": "python",
   "pygments_lexer": "ipython3",
   "version": "3.10.9"
  }
 },
 "nbformat": 4,
 "nbformat_minor": 2
}
