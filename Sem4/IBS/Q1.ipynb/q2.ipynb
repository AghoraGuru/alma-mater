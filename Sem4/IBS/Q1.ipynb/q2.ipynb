{
 "cells": [
  {
   "attachments": {},
   "cell_type": "markdown",
   "metadata": {},
   "source": [
    "### The Manhattan City Grid Map Problem\n",
    "The Manhattan City Grid Map problem is a classic shortest path problem in computer science, where we have to find the shortest path between two points on a grid-like map where the movement is restricted to horizontal and vertical directions only.\n",
    "\n",
    "Here are the implementations of both the Greedy and Dynamic Programming approaches to solve the Manhattan City Grid Map problem in Python:\n",
    "\n",
    "#### 1.Greedy Approach:\n",
    "The Greedy approach is a simple and intuitive algorithm that chooses the locally optimal choice at each step without considering the global optimal solution. In this approach, we always move towards the target node, choosing the direction that minimizes the Euclidean distance between the current node and the target node.\n",
    "\n",
    "```python\n",
    "import math\n",
    "\n",
    "def calculate_manhattan_distance(node1, node2):\n",
    "  \"\"\"\n",
    "  Calculates the Manhattan distance between two nodes.\n",
    "  Returns: The Manhattan distance between the two nodes.\n",
    "  \"\"\"\n",
    "\n",
    "  return abs(node1[0] - node2[0]) + abs(node1[1] - node2[1])\n",
    "\n",
    "\n",
    "def find_greedy_manhattan_path(start, end, obstacles):\n",
    "  \"\"\"\n",
    "  Finds the greedy Manhattan path from the start node to the end node, avoiding obstacles.\n",
    "  Returns: A list of nodes, representing the path from the start node to the end node.\n",
    "  \"\"\"\n",
    "  current= start\n",
    "  path =[start]\n",
    "  while current != end:\n",
    "    neighbors= [(current[0] + 1, current[1]), (current[0], current[1] + 1), (current[0] - 1, current[1]), (current[0], current[1] - 1)]\n",
    "    neighbors =[n for n in neighbors if n not in obstacles]\n",
    "    nearest_neighbor= min(neighbors, key=lambda n: calculate_manhattan_distance(n, end))\n",
    "    path.append(nearest_neighbor)\n",
    "    current =nearest_neighbor\n",
    "  return path\n",
    "\n",
    "```"
   ]
  },
  {
   "cell_type": "code",
   "execution_count": 2,
   "metadata": {},
   "outputs": [
    {
     "name": "stdout",
     "output_type": "stream",
     "text": [
      "[(0, 0), (1, 0), (2, 0), (3, 0), (4, 0), (5, 0), (5, 1), (5, 2), (5, 3), (5, 4), (5, 5)]\n"
     ]
    }
   ],
   "source": [
    "start = (0, 0)\n",
    "end = (5, 5)\n",
    "obstacles = [(2, 1), (3, 1), (4, 1), (2, 3), (2, 4), (2, 5), (3, 5)]\n",
    "path = greedy_manhattan_grid_map(start, end, obstacles)\n",
    "print(path)\n"
   ]
  },
  {
   "attachments": {},
   "cell_type": "markdown",
   "metadata": {},
   "source": [
    "#### 2.Dynamic Programming Approach:\n",
    "The dynamic programming approach uses the principle of optimality and breaks down the problem into smaller subproblems, solving each subproblem only once and storing the results for future use. We start by filling out a table of shortest paths to all the nodes, then we can reconstruct the path from the start node to the end node.\n",
    "\n",
    "```py\n",
    "def find_shortest_path_length(grid):\n",
    "  \"\"\"\n",
    "  Finds the shortest path length on a Manhattan grid map from the top-left corner to the bottom-right corner.\n",
    "  Returns: The length of the shortest path.\n",
    "  \"\"\"\n",
    "  m =len(grid)\n",
    "  n= len(grid[0])\n",
    "  # Initialize the dynamic programming table.\n",
    "  shortest_path_lengths = [[float('inf')] * n for _ in range(m)]\n",
    "  for i in range(m):\n",
    "    shortest_path_lengths[i][0]= sum(grid[j][0] for j in range(i + 1))\n",
    "  for j in range(n):\n",
    "    shortest_path_lengths[0][j] =sum(grid[0][k] for k in range(j + 1))\n",
    "  for i in range(1, m):\n",
    "    for j in range(1, n):\n",
    "      shortest_path_lengths[i][j] =grid[i][j] +min(shortest_path_lengths[i- 1][j],shortest_path_lengths[i][j - 1])\n",
    "  return shortest_path_lengths[m - 1][n - 1]\n",
    "```"
   ]
  },
  {
   "cell_type": "code",
   "execution_count": 7,
   "metadata": {},
   "outputs": [
    {
     "name": "stdout",
     "output_type": "stream",
     "text": [
      "Shortest path length: 7\n"
     ]
    }
   ],
   "source": [
    "grid = [  [1, 3, 1],\n",
    "  [1, 5, 1],\n",
    "  [4, 2, 1]\n",
    "]\n",
    "shortest_path_length = find_shortest_path_length(grid)\n",
    "print(\"Shortest path length:\", shortest_path_length)"
   ]
  },
  {
   "cell_type": "code",
   "execution_count": null,
   "metadata": {},
   "outputs": [],
   "source": []
  }
 ],
 "metadata": {
  "kernelspec": {
   "display_name": "base",
   "language": "python",
   "name": "python3"
  },
  "language_info": {
   "codemirror_mode": {
    "name": "ipython",
    "version": 3
   },
   "file_extension": ".py",
   "mimetype": "text/x-python",
   "name": "python",
   "nbconvert_exporter": "python",
   "pygments_lexer": "ipython3",
   "version": "3.10.9"
  },
  "orig_nbformat": 4
 },
 "nbformat": 4,
 "nbformat_minor": 2
}
