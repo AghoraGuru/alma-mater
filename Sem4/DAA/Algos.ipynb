{
 "cells": [
  {
   "attachments": {},
   "cell_type": "markdown",
   "metadata": {},
   "source": [
    "Euclid's algorithm"
   ]
  },
  {
   "cell_type": "code",
   "execution_count": 2,
   "metadata": {},
   "outputs": [
    {
     "data": {
      "text/plain": [
       "2"
      ]
     },
     "execution_count": 2,
     "metadata": {},
     "output_type": "execute_result"
    }
   ],
   "source": [
    "def euc(m,n):\n",
    "    while n != 0:\n",
    "        r = m%n\n",
    "        m = n\n",
    "        n = r\n",
    "    return m\n",
    "\n",
    "a = 4\n",
    "b = 6\n",
    "euc(a,b)"
   ]
  },
  {
   "attachments": {},
   "cell_type": "markdown",
   "metadata": {},
   "source": [
    "Finding Prime Factors of a number"
   ]
  },
  {
   "cell_type": "code",
   "execution_count": 7,
   "metadata": {},
   "outputs": [
    {
     "data": {
      "text/plain": [
       "[2, 2]"
      ]
     },
     "execution_count": 7,
     "metadata": {},
     "output_type": "execute_result"
    }
   ],
   "source": [
    "#finding prime factors of given number\n",
    "def prime_factors(n):\n",
    "    factors = []\n",
    "    d = 2 \n",
    "    while n > 1:\n",
    "        while n % d == 0:\n",
    "            factors.append(d)\n",
    "            n /= d \n",
    "        d = d + 1\n",
    "    return factors\n",
    "\n",
    "prime_factors(a)"
   ]
  },
  {
   "attachments": {},
   "cell_type": "markdown",
   "metadata": {},
   "source": [
    "Sequential Search of a element in a array"
   ]
  },
  {
   "cell_type": "code",
   "execution_count": 23,
   "metadata": {},
   "outputs": [
    {
     "name": "stdout",
     "output_type": "stream",
     "text": [
      "Not found\n"
     ]
    }
   ],
   "source": [
    "#given an array search for a given number\n",
    "def search(arr, n):\n",
    "    i = len(arr) -1 \n",
    "    while i >= 0:\n",
    "        if arr[i] == n:\n",
    "            print(\"Found at index: \", i)\n",
    "            break\n",
    "        i -= 1\n",
    "    if i == -1:\n",
    "        print(\"Not found\")\n",
    "\n",
    "\n",
    "arr = [1,2,3,4,5,6,7,8,9,10]\n",
    "search(arr, 45)\n"
   ]
  },
  {
   "attachments": {},
   "cell_type": "markdown",
   "metadata": {},
   "source": [
    "Recurssive way of reversing strings"
   ]
  },
  {
   "cell_type": "code",
   "execution_count": 11,
   "metadata": {},
   "outputs": [
    {
     "name": "stdout",
     "output_type": "stream",
     "text": [
      "<class 'str'>\n"
     ]
    },
    {
     "data": {
      "text/plain": [
       "'olleH'"
      ]
     },
     "execution_count": 11,
     "metadata": {},
     "output_type": "execute_result"
    }
   ],
   "source": [
    "def recursive_string(input):\n",
    "    if len(input) == 0:\n",
    "        return input\n",
    "    else:\n",
    "        return recursive_string(input[1:]) + input[0]\n",
    "a = \"Hello\"\n",
    "print(type(a))\n",
    "rev_string(a)"
   ]
  },
  {
   "cell_type": "code",
   "execution_count": 20,
   "metadata": {},
   "outputs": [
    {
     "data": {
      "text/plain": [
       "6"
      ]
     },
     "execution_count": 20,
     "metadata": {},
     "output_type": "execute_result"
    }
   ],
   "source": [
    "count =0\n",
    "input = 123\n",
    "\n",
    "def fun(input):\n",
    "    global count\n",
    "    if input == 0:\n",
    "        return 0\n",
    "    else:\n",
    "        count += input%10\n",
    "        fun(input//10)\n",
    "    return count\n",
    "\n",
    "fun(input)"
   ]
  },
  {
   "attachments": {},
   "cell_type": "markdown",
   "metadata": {},
   "source": [
    "Sub Array Sum Problem "
   ]
  },
  {
   "cell_type": "code",
   "execution_count": 38,
   "metadata": {},
   "outputs": [
    {
     "data": {
      "text/plain": [
       "(1, 1)"
      ]
     },
     "execution_count": 38,
     "metadata": {},
     "output_type": "execute_result"
    }
   ],
   "source": [
    "target = 3\n",
    "array = [1,1,1]\n",
    "#going through the array ,if summing of array elements is equal to target then return true\n",
    "def sum_array(array, target):\n",
    "    #recurrsion\n",
    "    if len(array) == 0:\n",
    "        return False\n",
    "    else:\n",
    "        for i in range(len(array)):\n",
    "            if array[i] == target:\n",
    "                return array[i],target\n",
    "            else:\n",
    "                return sum_array(array[i+1:], target-array[i])\n",
    "            \n",
    "sum_array(array, target)\n"
   ]
  },
  {
   "cell_type": "code",
   "execution_count": 33,
   "metadata": {},
   "outputs": [
    {
     "name": "stdout",
     "output_type": "stream",
     "text": [
      "[0, 1]\n",
      "[1]\n",
      "[]\n"
     ]
    }
   ],
   "source": [
    "target = 3\n",
    "array = [1,0,1]\n",
    "for i in range(len(array)):\n",
    "    if array[i] == target:\n",
    "        print(\"True\")\n",
    "    else:\n",
    "        print(array[i+1:])"
   ]
  }
 ],
 "metadata": {
  "kernelspec": {
   "display_name": "Python 3",
   "language": "python",
   "name": "python3"
  },
  "language_info": {
   "codemirror_mode": {
    "name": "ipython",
    "version": 3
   },
   "file_extension": ".py",
   "mimetype": "text/x-python",
   "name": "python",
   "nbconvert_exporter": "python",
   "pygments_lexer": "ipython3",
   "version": "3.10.9"
  },
  "orig_nbformat": 4
 },
 "nbformat": 4,
 "nbformat_minor": 2
}
